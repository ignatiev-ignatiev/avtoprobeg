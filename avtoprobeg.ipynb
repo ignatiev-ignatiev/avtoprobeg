{
 "cells": [
  {
   "cell_type": "markdown",
   "metadata": {},
   "source": [
    "# Определение стоимости автомобилей"
   ]
  },
  {
   "cell_type": "markdown",
   "metadata": {},
   "source": [
    "Сервис по продаже автомобилей с пробегом «Не бит, не крашен» разрабатывает приложение для привлечения новых клиентов. В нём можно быстро узнать рыночную стоимость своего автомобиля. В вашем распоряжении исторические данные: технические характеристики, комплектации и цены автомобилей. Вам нужно построить модель для определения стоимости. \n",
    "\n",
    "Заказчику важны:\n",
    "\n",
    "- качество предсказания;\n",
    "- скорость предсказания;\n",
    "- время обучения."
   ]
  },
  {
   "cell_type": "markdown",
   "metadata": {},
   "source": [
    "Примечания:\n",
    "\n",
    "• Для оценки качества моделей применяйте метрику RMSE.\n",
    "\n",
    "• Значение метрики RMSE должно быть меньше 2500.\n",
    "\n",
    "• Самостоятельно освойте библиотеку LightGBM и её средствами постройте модели градиентного бустинга.\n",
    "\n",
    "• Время выполнения ячейки кода Jupyter Notebook можно получить специальной командой. Найдите её.\n",
    "\n",
    "• Модель градиентного бустинга может долго обучаться, поэтому измените у неё только два-три параметра.\n"
   ]
  },
  {
   "cell_type": "markdown",
   "metadata": {},
   "source": [
    "## Подготовка данных"
   ]
  },
  {
   "cell_type": "code",
   "execution_count": 1,
   "metadata": {},
   "outputs": [],
   "source": [
    "import pandas as pd\n",
    "import numpy as np\n",
    "from sklearn.preprocessing import OrdinalEncoder \n",
    "from sklearn.preprocessing import StandardScaler\n",
    "from sklearn.preprocessing import OneHotEncoder\n",
    "from sklearn.model_selection import cross_val_score, train_test_split, GridSearchCV\n",
    "from sklearn.linear_model import LinearRegression\n",
    "from sklearn.ensemble import RandomForestRegressor\n",
    "from catboost import CatBoostRegressor\n",
    "from lightgbm import LGBMRegressor\n",
    "from sklearn.metrics import mean_squared_error, mean_absolute_error\n",
    "import matplotlib.pyplot as plt\n",
    "import seaborn as sns\n",
    "import time\n",
    "import lightgbm\n",
    "!pip install -q category_encoders\n",
    "from category_encoders.m_estimate import MEstimateEncoder"
   ]
  },
  {
   "cell_type": "code",
   "execution_count": 2,
   "metadata": {},
   "outputs": [],
   "source": [
    "data = pd.read_csv('/datasets/autos.csv')"
   ]
  },
  {
   "cell_type": "code",
   "execution_count": 3,
   "metadata": {},
   "outputs": [
    {
     "data": {
      "text/html": [
       "<div>\n",
       "<style scoped>\n",
       "    .dataframe tbody tr th:only-of-type {\n",
       "        vertical-align: middle;\n",
       "    }\n",
       "\n",
       "    .dataframe tbody tr th {\n",
       "        vertical-align: top;\n",
       "    }\n",
       "\n",
       "    .dataframe thead th {\n",
       "        text-align: right;\n",
       "    }\n",
       "</style>\n",
       "<table border=\"1\" class=\"dataframe\">\n",
       "  <thead>\n",
       "    <tr style=\"text-align: right;\">\n",
       "      <th></th>\n",
       "      <th>DateCrawled</th>\n",
       "      <th>Price</th>\n",
       "      <th>VehicleType</th>\n",
       "      <th>RegistrationYear</th>\n",
       "      <th>Gearbox</th>\n",
       "      <th>Power</th>\n",
       "      <th>Model</th>\n",
       "      <th>Kilometer</th>\n",
       "      <th>RegistrationMonth</th>\n",
       "      <th>FuelType</th>\n",
       "      <th>Brand</th>\n",
       "      <th>Repaired</th>\n",
       "      <th>DateCreated</th>\n",
       "      <th>NumberOfPictures</th>\n",
       "      <th>PostalCode</th>\n",
       "      <th>LastSeen</th>\n",
       "    </tr>\n",
       "  </thead>\n",
       "  <tbody>\n",
       "    <tr>\n",
       "      <th>0</th>\n",
       "      <td>2016-03-24 11:52:17</td>\n",
       "      <td>480</td>\n",
       "      <td>NaN</td>\n",
       "      <td>1993</td>\n",
       "      <td>manual</td>\n",
       "      <td>0</td>\n",
       "      <td>golf</td>\n",
       "      <td>150000</td>\n",
       "      <td>0</td>\n",
       "      <td>petrol</td>\n",
       "      <td>volkswagen</td>\n",
       "      <td>NaN</td>\n",
       "      <td>2016-03-24 00:00:00</td>\n",
       "      <td>0</td>\n",
       "      <td>70435</td>\n",
       "      <td>2016-04-07 03:16:57</td>\n",
       "    </tr>\n",
       "    <tr>\n",
       "      <th>1</th>\n",
       "      <td>2016-03-24 10:58:45</td>\n",
       "      <td>18300</td>\n",
       "      <td>coupe</td>\n",
       "      <td>2011</td>\n",
       "      <td>manual</td>\n",
       "      <td>190</td>\n",
       "      <td>NaN</td>\n",
       "      <td>125000</td>\n",
       "      <td>5</td>\n",
       "      <td>gasoline</td>\n",
       "      <td>audi</td>\n",
       "      <td>yes</td>\n",
       "      <td>2016-03-24 00:00:00</td>\n",
       "      <td>0</td>\n",
       "      <td>66954</td>\n",
       "      <td>2016-04-07 01:46:50</td>\n",
       "    </tr>\n",
       "    <tr>\n",
       "      <th>2</th>\n",
       "      <td>2016-03-14 12:52:21</td>\n",
       "      <td>9800</td>\n",
       "      <td>suv</td>\n",
       "      <td>2004</td>\n",
       "      <td>auto</td>\n",
       "      <td>163</td>\n",
       "      <td>grand</td>\n",
       "      <td>125000</td>\n",
       "      <td>8</td>\n",
       "      <td>gasoline</td>\n",
       "      <td>jeep</td>\n",
       "      <td>NaN</td>\n",
       "      <td>2016-03-14 00:00:00</td>\n",
       "      <td>0</td>\n",
       "      <td>90480</td>\n",
       "      <td>2016-04-05 12:47:46</td>\n",
       "    </tr>\n",
       "    <tr>\n",
       "      <th>3</th>\n",
       "      <td>2016-03-17 16:54:04</td>\n",
       "      <td>1500</td>\n",
       "      <td>small</td>\n",
       "      <td>2001</td>\n",
       "      <td>manual</td>\n",
       "      <td>75</td>\n",
       "      <td>golf</td>\n",
       "      <td>150000</td>\n",
       "      <td>6</td>\n",
       "      <td>petrol</td>\n",
       "      <td>volkswagen</td>\n",
       "      <td>no</td>\n",
       "      <td>2016-03-17 00:00:00</td>\n",
       "      <td>0</td>\n",
       "      <td>91074</td>\n",
       "      <td>2016-03-17 17:40:17</td>\n",
       "    </tr>\n",
       "    <tr>\n",
       "      <th>4</th>\n",
       "      <td>2016-03-31 17:25:20</td>\n",
       "      <td>3600</td>\n",
       "      <td>small</td>\n",
       "      <td>2008</td>\n",
       "      <td>manual</td>\n",
       "      <td>69</td>\n",
       "      <td>fabia</td>\n",
       "      <td>90000</td>\n",
       "      <td>7</td>\n",
       "      <td>gasoline</td>\n",
       "      <td>skoda</td>\n",
       "      <td>no</td>\n",
       "      <td>2016-03-31 00:00:00</td>\n",
       "      <td>0</td>\n",
       "      <td>60437</td>\n",
       "      <td>2016-04-06 10:17:21</td>\n",
       "    </tr>\n",
       "  </tbody>\n",
       "</table>\n",
       "</div>"
      ],
      "text/plain": [
       "           DateCrawled  Price VehicleType  RegistrationYear Gearbox  Power  \\\n",
       "0  2016-03-24 11:52:17    480         NaN              1993  manual      0   \n",
       "1  2016-03-24 10:58:45  18300       coupe              2011  manual    190   \n",
       "2  2016-03-14 12:52:21   9800         suv              2004    auto    163   \n",
       "3  2016-03-17 16:54:04   1500       small              2001  manual     75   \n",
       "4  2016-03-31 17:25:20   3600       small              2008  manual     69   \n",
       "\n",
       "   Model  Kilometer  RegistrationMonth  FuelType       Brand Repaired  \\\n",
       "0   golf     150000                  0    petrol  volkswagen      NaN   \n",
       "1    NaN     125000                  5  gasoline        audi      yes   \n",
       "2  grand     125000                  8  gasoline        jeep      NaN   \n",
       "3   golf     150000                  6    petrol  volkswagen       no   \n",
       "4  fabia      90000                  7  gasoline       skoda       no   \n",
       "\n",
       "           DateCreated  NumberOfPictures  PostalCode             LastSeen  \n",
       "0  2016-03-24 00:00:00                 0       70435  2016-04-07 03:16:57  \n",
       "1  2016-03-24 00:00:00                 0       66954  2016-04-07 01:46:50  \n",
       "2  2016-03-14 00:00:00                 0       90480  2016-04-05 12:47:46  \n",
       "3  2016-03-17 00:00:00                 0       91074  2016-03-17 17:40:17  \n",
       "4  2016-03-31 00:00:00                 0       60437  2016-04-06 10:17:21  "
      ]
     },
     "metadata": {},
     "output_type": "display_data"
    }
   ],
   "source": [
    "display(data.head(5))"
   ]
  },
  {
   "cell_type": "code",
   "execution_count": 4,
   "metadata": {},
   "outputs": [
    {
     "name": "stdout",
     "output_type": "stream",
     "text": [
      "<class 'pandas.core.frame.DataFrame'>\n",
      "RangeIndex: 354369 entries, 0 to 354368\n",
      "Data columns (total 16 columns):\n",
      " #   Column             Non-Null Count   Dtype \n",
      "---  ------             --------------   ----- \n",
      " 0   DateCrawled        354369 non-null  object\n",
      " 1   Price              354369 non-null  int64 \n",
      " 2   VehicleType        316879 non-null  object\n",
      " 3   RegistrationYear   354369 non-null  int64 \n",
      " 4   Gearbox            334536 non-null  object\n",
      " 5   Power              354369 non-null  int64 \n",
      " 6   Model              334664 non-null  object\n",
      " 7   Kilometer          354369 non-null  int64 \n",
      " 8   RegistrationMonth  354369 non-null  int64 \n",
      " 9   FuelType           321474 non-null  object\n",
      " 10  Brand              354369 non-null  object\n",
      " 11  Repaired           283215 non-null  object\n",
      " 12  DateCreated        354369 non-null  object\n",
      " 13  NumberOfPictures   354369 non-null  int64 \n",
      " 14  PostalCode         354369 non-null  int64 \n",
      " 15  LastSeen           354369 non-null  object\n",
      "dtypes: int64(7), object(9)\n",
      "memory usage: 43.3+ MB\n"
     ]
    }
   ],
   "source": [
    "data.info()"
   ]
  },
  {
   "cell_type": "code",
   "execution_count": 5,
   "metadata": {},
   "outputs": [
    {
     "data": {
      "text/html": [
       "<div>\n",
       "<style scoped>\n",
       "    .dataframe tbody tr th:only-of-type {\n",
       "        vertical-align: middle;\n",
       "    }\n",
       "\n",
       "    .dataframe tbody tr th {\n",
       "        vertical-align: top;\n",
       "    }\n",
       "\n",
       "    .dataframe thead th {\n",
       "        text-align: right;\n",
       "    }\n",
       "</style>\n",
       "<table border=\"1\" class=\"dataframe\">\n",
       "  <thead>\n",
       "    <tr style=\"text-align: right;\">\n",
       "      <th></th>\n",
       "      <th>Price</th>\n",
       "      <th>RegistrationYear</th>\n",
       "      <th>Power</th>\n",
       "      <th>Kilometer</th>\n",
       "      <th>RegistrationMonth</th>\n",
       "      <th>NumberOfPictures</th>\n",
       "      <th>PostalCode</th>\n",
       "    </tr>\n",
       "  </thead>\n",
       "  <tbody>\n",
       "    <tr>\n",
       "      <th>count</th>\n",
       "      <td>354369.000000</td>\n",
       "      <td>354369.000000</td>\n",
       "      <td>354369.000000</td>\n",
       "      <td>354369.000000</td>\n",
       "      <td>354369.000000</td>\n",
       "      <td>354369.0</td>\n",
       "      <td>354369.000000</td>\n",
       "    </tr>\n",
       "    <tr>\n",
       "      <th>mean</th>\n",
       "      <td>4416.656776</td>\n",
       "      <td>2004.234448</td>\n",
       "      <td>110.094337</td>\n",
       "      <td>128211.172535</td>\n",
       "      <td>5.714645</td>\n",
       "      <td>0.0</td>\n",
       "      <td>50508.689087</td>\n",
       "    </tr>\n",
       "    <tr>\n",
       "      <th>std</th>\n",
       "      <td>4514.158514</td>\n",
       "      <td>90.227958</td>\n",
       "      <td>189.850405</td>\n",
       "      <td>37905.341530</td>\n",
       "      <td>3.726421</td>\n",
       "      <td>0.0</td>\n",
       "      <td>25783.096248</td>\n",
       "    </tr>\n",
       "    <tr>\n",
       "      <th>min</th>\n",
       "      <td>0.000000</td>\n",
       "      <td>1000.000000</td>\n",
       "      <td>0.000000</td>\n",
       "      <td>5000.000000</td>\n",
       "      <td>0.000000</td>\n",
       "      <td>0.0</td>\n",
       "      <td>1067.000000</td>\n",
       "    </tr>\n",
       "    <tr>\n",
       "      <th>25%</th>\n",
       "      <td>1050.000000</td>\n",
       "      <td>1999.000000</td>\n",
       "      <td>69.000000</td>\n",
       "      <td>125000.000000</td>\n",
       "      <td>3.000000</td>\n",
       "      <td>0.0</td>\n",
       "      <td>30165.000000</td>\n",
       "    </tr>\n",
       "    <tr>\n",
       "      <th>50%</th>\n",
       "      <td>2700.000000</td>\n",
       "      <td>2003.000000</td>\n",
       "      <td>105.000000</td>\n",
       "      <td>150000.000000</td>\n",
       "      <td>6.000000</td>\n",
       "      <td>0.0</td>\n",
       "      <td>49413.000000</td>\n",
       "    </tr>\n",
       "    <tr>\n",
       "      <th>75%</th>\n",
       "      <td>6400.000000</td>\n",
       "      <td>2008.000000</td>\n",
       "      <td>143.000000</td>\n",
       "      <td>150000.000000</td>\n",
       "      <td>9.000000</td>\n",
       "      <td>0.0</td>\n",
       "      <td>71083.000000</td>\n",
       "    </tr>\n",
       "    <tr>\n",
       "      <th>max</th>\n",
       "      <td>20000.000000</td>\n",
       "      <td>9999.000000</td>\n",
       "      <td>20000.000000</td>\n",
       "      <td>150000.000000</td>\n",
       "      <td>12.000000</td>\n",
       "      <td>0.0</td>\n",
       "      <td>99998.000000</td>\n",
       "    </tr>\n",
       "  </tbody>\n",
       "</table>\n",
       "</div>"
      ],
      "text/plain": [
       "               Price  RegistrationYear          Power      Kilometer  \\\n",
       "count  354369.000000     354369.000000  354369.000000  354369.000000   \n",
       "mean     4416.656776       2004.234448     110.094337  128211.172535   \n",
       "std      4514.158514         90.227958     189.850405   37905.341530   \n",
       "min         0.000000       1000.000000       0.000000    5000.000000   \n",
       "25%      1050.000000       1999.000000      69.000000  125000.000000   \n",
       "50%      2700.000000       2003.000000     105.000000  150000.000000   \n",
       "75%      6400.000000       2008.000000     143.000000  150000.000000   \n",
       "max     20000.000000       9999.000000   20000.000000  150000.000000   \n",
       "\n",
       "       RegistrationMonth  NumberOfPictures     PostalCode  \n",
       "count      354369.000000          354369.0  354369.000000  \n",
       "mean            5.714645               0.0   50508.689087  \n",
       "std             3.726421               0.0   25783.096248  \n",
       "min             0.000000               0.0    1067.000000  \n",
       "25%             3.000000               0.0   30165.000000  \n",
       "50%             6.000000               0.0   49413.000000  \n",
       "75%             9.000000               0.0   71083.000000  \n",
       "max            12.000000               0.0   99998.000000  "
      ]
     },
     "execution_count": 5,
     "metadata": {},
     "output_type": "execute_result"
    }
   ],
   "source": [
    "data.describe()"
   ]
  },
  {
   "cell_type": "code",
   "execution_count": 6,
   "metadata": {},
   "outputs": [
    {
     "data": {
      "text/plain": [
       "DateCrawled              0\n",
       "Price                    0\n",
       "VehicleType          37490\n",
       "RegistrationYear         0\n",
       "Gearbox              19833\n",
       "Power                    0\n",
       "Model                19705\n",
       "Kilometer                0\n",
       "RegistrationMonth        0\n",
       "FuelType             32895\n",
       "Brand                    0\n",
       "Repaired             71154\n",
       "DateCreated              0\n",
       "NumberOfPictures         0\n",
       "PostalCode               0\n",
       "LastSeen                 0\n",
       "dtype: int64"
      ]
     },
     "metadata": {},
     "output_type": "display_data"
    }
   ],
   "source": [
    "display(data.isna().sum())"
   ]
  },
  {
   "cell_type": "code",
   "execution_count": 7,
   "metadata": {},
   "outputs": [
    {
     "data": {
      "text/plain": [
       "4"
      ]
     },
     "metadata": {},
     "output_type": "display_data"
    }
   ],
   "source": [
    "display(data.duplicated().sum())"
   ]
  },
  {
   "cell_type": "markdown",
   "metadata": {},
   "source": [
    "Видим, что не все параметры будут нужны для нашей цели. DateCrawled, RegistrationMonth, DateCreated, NumberOfPictures, PostalCode и LastSeen - удаляем.\n",
    "\n",
    "Есть дубликаты, которые необходимо удалить.\n",
    "\n",
    "В признаках, влияющих на цену, есть пропуски."
   ]
  },
  {
   "cell_type": "code",
   "execution_count": 8,
   "metadata": {},
   "outputs": [],
   "source": [
    "data.drop_duplicates(inplace=True)"
   ]
  },
  {
   "cell_type": "code",
   "execution_count": 9,
   "metadata": {},
   "outputs": [],
   "source": [
    "del data['DateCrawled'], data['DateCreated'], data['NumberOfPictures'], data['PostalCode'], data['LastSeen'], data['RegistrationMonth']"
   ]
  },
  {
   "cell_type": "code",
   "execution_count": 10,
   "metadata": {},
   "outputs": [
    {
     "data": {
      "text/plain": [
       "2000    24490\n",
       "1999    22727\n",
       "2005    22109\n",
       "2001    20123\n",
       "2006    19900\n",
       "        ...  \n",
       "4100        1\n",
       "1200        1\n",
       "5300        1\n",
       "8888        1\n",
       "2290        1\n",
       "Name: RegistrationYear, Length: 151, dtype: int64"
      ]
     },
     "execution_count": 10,
     "metadata": {},
     "output_type": "execute_result"
    }
   ],
   "source": [
    "data['RegistrationYear'].value_counts()"
   ]
  },
  {
   "cell_type": "code",
   "execution_count": 11,
   "metadata": {},
   "outputs": [
    {
     "data": {
      "text/html": [
       "<div>\n",
       "<style scoped>\n",
       "    .dataframe tbody tr th:only-of-type {\n",
       "        vertical-align: middle;\n",
       "    }\n",
       "\n",
       "    .dataframe tbody tr th {\n",
       "        vertical-align: top;\n",
       "    }\n",
       "\n",
       "    .dataframe thead th {\n",
       "        text-align: right;\n",
       "    }\n",
       "</style>\n",
       "<table border=\"1\" class=\"dataframe\">\n",
       "  <thead>\n",
       "    <tr style=\"text-align: right;\">\n",
       "      <th></th>\n",
       "      <th>all</th>\n",
       "    </tr>\n",
       "    <tr>\n",
       "      <th>RegistrationYear</th>\n",
       "      <th></th>\n",
       "    </tr>\n",
       "  </thead>\n",
       "  <tbody>\n",
       "    <tr>\n",
       "      <th>1000</th>\n",
       "      <td>37</td>\n",
       "    </tr>\n",
       "    <tr>\n",
       "      <th>1001</th>\n",
       "      <td>1</td>\n",
       "    </tr>\n",
       "    <tr>\n",
       "      <th>1039</th>\n",
       "      <td>1</td>\n",
       "    </tr>\n",
       "    <tr>\n",
       "      <th>1111</th>\n",
       "      <td>3</td>\n",
       "    </tr>\n",
       "    <tr>\n",
       "      <th>1200</th>\n",
       "      <td>1</td>\n",
       "    </tr>\n",
       "    <tr>\n",
       "      <th>...</th>\n",
       "      <td>...</td>\n",
       "    </tr>\n",
       "    <tr>\n",
       "      <th>9000</th>\n",
       "      <td>3</td>\n",
       "    </tr>\n",
       "    <tr>\n",
       "      <th>9229</th>\n",
       "      <td>1</td>\n",
       "    </tr>\n",
       "    <tr>\n",
       "      <th>9450</th>\n",
       "      <td>1</td>\n",
       "    </tr>\n",
       "    <tr>\n",
       "      <th>9996</th>\n",
       "      <td>1</td>\n",
       "    </tr>\n",
       "    <tr>\n",
       "      <th>9999</th>\n",
       "      <td>26</td>\n",
       "    </tr>\n",
       "  </tbody>\n",
       "</table>\n",
       "<p>151 rows × 1 columns</p>\n",
       "</div>"
      ],
      "text/plain": [
       "                  all\n",
       "RegistrationYear     \n",
       "1000               37\n",
       "1001                1\n",
       "1039                1\n",
       "1111                3\n",
       "1200                1\n",
       "...               ...\n",
       "9000                3\n",
       "9229                1\n",
       "9450                1\n",
       "9996                1\n",
       "9999               26\n",
       "\n",
       "[151 rows x 1 columns]"
      ]
     },
     "execution_count": 11,
     "metadata": {},
     "output_type": "execute_result"
    }
   ],
   "source": [
    "year = data.pivot_table(index='RegistrationYear', values='Brand', aggfunc='count')\n",
    "year.columns = ['all']\n",
    "year"
   ]
  },
  {
   "cell_type": "code",
   "execution_count": 12,
   "metadata": {},
   "outputs": [],
   "source": [
    "# Сделаем выборку согласно графику, видим что всплеск начинается в 1980 и заканчивается в 2016\n",
    "data = data.query('1980 < RegistrationYear <= 2016')"
   ]
  },
  {
   "cell_type": "code",
   "execution_count": 13,
   "metadata": {},
   "outputs": [
    {
     "data": {
      "image/png": "[encoded data removed]",
      "text/plain": [
       "<Figure size 432x288 with 1 Axes>"
      ]
     },
     "metadata": {
      "needs_background": "light"
     },
     "output_type": "display_data"
    }
   ],
   "source": [
    "filtered_data = data.loc[(data['RegistrationYear'] > 1980) & (data['RegistrationYear'] <= 2016)]\n",
    "year = data.pivot_table(index='RegistrationYear', values='Brand', aggfunc='count')\n",
    "year.columns = ['all']\n",
    "plt.plot(year.index, year['all'])\n",
    "plt.xlabel('Registration Year')\n",
    "plt.ylabel('Кол-во')\n",
    "plt.title('Годы регистрации')\n",
    "plt.show()"
   ]
  },
  {
   "cell_type": "code",
   "execution_count": 15,
   "metadata": {},
   "outputs": [
    {
     "data": {
      "text/plain": [
       "0        35059\n",
       "75       22716\n",
       "60       15043\n",
       "150      14106\n",
       "101      12710\n",
       "         ...  \n",
       "15001        1\n",
       "1597         1\n",
       "1436         1\n",
       "2461         1\n",
       "6006         1\n",
       "Name: Power, Length: 694, dtype: int64"
      ]
     },
     "execution_count": 15,
     "metadata": {},
     "output_type": "execute_result"
    }
   ],
   "source": [
    "data.Power.value_counts()"
   ]
  },
  {
   "cell_type": "code",
   "execution_count": 16,
   "metadata": {},
   "outputs": [
    {
     "data": {
      "text/plain": [
       "count    335795.000000\n",
       "mean        111.475954\n",
       "std         185.634965\n",
       "min           0.000000\n",
       "25%          70.000000\n",
       "50%         105.000000\n",
       "75%         143.000000\n",
       "max       20000.000000\n",
       "Name: Power, dtype: float64"
      ]
     },
     "execution_count": 16,
     "metadata": {},
     "output_type": "execute_result"
    }
   ],
   "source": [
    "data.Power.describe()"
   ]
  },
  {
   "cell_type": "code",
   "execution_count": 17,
   "metadata": {},
   "outputs": [],
   "source": [
    "# исходя из анализа мы знаем что минимальное кол-во лошадей 10, а максимальное 1600, сделаем нужную для нас выборку\n",
    "data = data.query('10 <= Power <= 1600')"
   ]
  },
  {
   "cell_type": "code",
   "execution_count": 18,
   "metadata": {},
   "outputs": [
    {
     "data": {
      "image/png": "[encoded data removed]",
      "text/plain": [
       "<Figure size 864x360 with 1 Axes>"
      ]
     },
     "metadata": {
      "needs_background": "light"
     },
     "output_type": "display_data"
    }
   ],
   "source": [
    "data.Price.hist(bins=50,figsize=(12,5))\n",
    "plt.title('График распределения стоимости автомобилей')\n",
    "plt.xlabel('Стоимость,Евро')\n",
    "plt.ylabel('Количество')\n",
    "plt.show()"
   ]
  },
  {
   "cell_type": "code",
   "execution_count": 19,
   "metadata": {},
   "outputs": [
    {
     "data": {
      "text/plain": [
       "6962"
      ]
     },
     "execution_count": 19,
     "metadata": {},
     "output_type": "execute_result"
    }
   ],
   "source": [
    "data[data['Price'] < 10]['Price'].count()"
   ]
  },
  {
   "cell_type": "code",
   "execution_count": 20,
   "metadata": {},
   "outputs": [],
   "source": [
    "# Удалим данные стоимости автомобилей ниже 10€, т.к. такие значения нам не интересны.\n",
    "data = data.query('Price> 10')"
   ]
  },
  {
   "cell_type": "code",
   "execution_count": 21,
   "metadata": {},
   "outputs": [
    {
     "data": {
      "text/plain": [
       "0"
      ]
     },
     "execution_count": 21,
     "metadata": {},
     "output_type": "execute_result"
    }
   ],
   "source": [
    "data.loc[data['Price'] < 10]['Price'].count()"
   ]
  },
  {
   "cell_type": "code",
   "execution_count": 22,
   "metadata": {},
   "outputs": [
    {
     "data": {
      "text/plain": [
       "sedan          82105\n",
       "small          69685\n",
       "wagon          59086\n",
       "bus            26083\n",
       "convertible    18391\n",
       "coupe          14093\n",
       "suv            10803\n",
       "other           2341\n",
       "Name: VehicleType, dtype: int64"
      ]
     },
     "execution_count": 22,
     "metadata": {},
     "output_type": "execute_result"
    }
   ],
   "source": [
    "data['VehicleType'].value_counts()"
   ]
  },
  {
   "cell_type": "code",
   "execution_count": 23,
   "metadata": {},
   "outputs": [],
   "source": [
    "data['VehicleType'] = data['VehicleType'].fillna('undefined')"
   ]
  },
  {
   "cell_type": "code",
   "execution_count": 24,
   "metadata": {},
   "outputs": [
    {
     "data": {
      "text/plain": [
       "sedan          82105\n",
       "small          69685\n",
       "wagon          59086\n",
       "bus            26083\n",
       "convertible    18391\n",
       "coupe          14093\n",
       "suv            10803\n",
       "undefined      10795\n",
       "other           2341\n",
       "Name: VehicleType, dtype: int64"
      ]
     },
     "execution_count": 24,
     "metadata": {},
     "output_type": "execute_result"
    }
   ],
   "source": [
    "data['VehicleType'].value_counts()"
   ]
  },
  {
   "cell_type": "code",
   "execution_count": 25,
   "metadata": {},
   "outputs": [
    {
     "data": {
      "text/html": [
       "<div>\n",
       "<style scoped>\n",
       "    .dataframe tbody tr th:only-of-type {\n",
       "        vertical-align: middle;\n",
       "    }\n",
       "\n",
       "    .dataframe tbody tr th {\n",
       "        vertical-align: top;\n",
       "    }\n",
       "\n",
       "    .dataframe thead th {\n",
       "        text-align: right;\n",
       "    }\n",
       "</style>\n",
       "<table border=\"1\" class=\"dataframe\">\n",
       "  <thead>\n",
       "    <tr style=\"text-align: right;\">\n",
       "      <th></th>\n",
       "      <th>Price</th>\n",
       "      <th>VehicleType</th>\n",
       "      <th>RegistrationYear</th>\n",
       "      <th>Gearbox</th>\n",
       "      <th>Power</th>\n",
       "      <th>Model</th>\n",
       "      <th>Kilometer</th>\n",
       "      <th>FuelType</th>\n",
       "      <th>Brand</th>\n",
       "      <th>Repaired</th>\n",
       "    </tr>\n",
       "  </thead>\n",
       "  <tbody>\n",
       "    <tr>\n",
       "      <th>1</th>\n",
       "      <td>18300</td>\n",
       "      <td>coupe</td>\n",
       "      <td>2011</td>\n",
       "      <td>manual</td>\n",
       "      <td>190</td>\n",
       "      <td>NaN</td>\n",
       "      <td>125000</td>\n",
       "      <td>gasoline</td>\n",
       "      <td>audi</td>\n",
       "      <td>yes</td>\n",
       "    </tr>\n",
       "    <tr>\n",
       "      <th>81</th>\n",
       "      <td>350</td>\n",
       "      <td>small</td>\n",
       "      <td>1997</td>\n",
       "      <td>manual</td>\n",
       "      <td>54</td>\n",
       "      <td>NaN</td>\n",
       "      <td>150000</td>\n",
       "      <td>NaN</td>\n",
       "      <td>fiat</td>\n",
       "      <td>yes</td>\n",
       "    </tr>\n",
       "    <tr>\n",
       "      <th>135</th>\n",
       "      <td>1450</td>\n",
       "      <td>sedan</td>\n",
       "      <td>1992</td>\n",
       "      <td>manual</td>\n",
       "      <td>136</td>\n",
       "      <td>NaN</td>\n",
       "      <td>150000</td>\n",
       "      <td>NaN</td>\n",
       "      <td>audi</td>\n",
       "      <td>no</td>\n",
       "    </tr>\n",
       "    <tr>\n",
       "      <th>151</th>\n",
       "      <td>6799</td>\n",
       "      <td>small</td>\n",
       "      <td>2009</td>\n",
       "      <td>NaN</td>\n",
       "      <td>60</td>\n",
       "      <td>NaN</td>\n",
       "      <td>20000</td>\n",
       "      <td>petrol</td>\n",
       "      <td>volkswagen</td>\n",
       "      <td>no</td>\n",
       "    </tr>\n",
       "    <tr>\n",
       "      <th>161</th>\n",
       "      <td>1495</td>\n",
       "      <td>wagon</td>\n",
       "      <td>2001</td>\n",
       "      <td>NaN</td>\n",
       "      <td>64</td>\n",
       "      <td>NaN</td>\n",
       "      <td>150000</td>\n",
       "      <td>gasoline</td>\n",
       "      <td>volkswagen</td>\n",
       "      <td>NaN</td>\n",
       "    </tr>\n",
       "    <tr>\n",
       "      <th>...</th>\n",
       "      <td>...</td>\n",
       "      <td>...</td>\n",
       "      <td>...</td>\n",
       "      <td>...</td>\n",
       "      <td>...</td>\n",
       "      <td>...</td>\n",
       "      <td>...</td>\n",
       "      <td>...</td>\n",
       "      <td>...</td>\n",
       "      <td>...</td>\n",
       "    </tr>\n",
       "    <tr>\n",
       "      <th>354077</th>\n",
       "      <td>200</td>\n",
       "      <td>small</td>\n",
       "      <td>1998</td>\n",
       "      <td>manual</td>\n",
       "      <td>37</td>\n",
       "      <td>NaN</td>\n",
       "      <td>150000</td>\n",
       "      <td>petrol</td>\n",
       "      <td>volkswagen</td>\n",
       "      <td>yes</td>\n",
       "    </tr>\n",
       "    <tr>\n",
       "      <th>354234</th>\n",
       "      <td>5000</td>\n",
       "      <td>sedan</td>\n",
       "      <td>2002</td>\n",
       "      <td>auto</td>\n",
       "      <td>170</td>\n",
       "      <td>NaN</td>\n",
       "      <td>150000</td>\n",
       "      <td>petrol</td>\n",
       "      <td>audi</td>\n",
       "      <td>no</td>\n",
       "    </tr>\n",
       "    <tr>\n",
       "      <th>354245</th>\n",
       "      <td>560</td>\n",
       "      <td>small</td>\n",
       "      <td>2001</td>\n",
       "      <td>auto</td>\n",
       "      <td>170</td>\n",
       "      <td>NaN</td>\n",
       "      <td>90000</td>\n",
       "      <td>petrol</td>\n",
       "      <td>fiat</td>\n",
       "      <td>yes</td>\n",
       "    </tr>\n",
       "    <tr>\n",
       "      <th>354321</th>\n",
       "      <td>9400</td>\n",
       "      <td>wagon</td>\n",
       "      <td>2007</td>\n",
       "      <td>manual</td>\n",
       "      <td>200</td>\n",
       "      <td>NaN</td>\n",
       "      <td>150000</td>\n",
       "      <td>gasoline</td>\n",
       "      <td>sonstige_autos</td>\n",
       "      <td>yes</td>\n",
       "    </tr>\n",
       "    <tr>\n",
       "      <th>354351</th>\n",
       "      <td>1900</td>\n",
       "      <td>undefined</td>\n",
       "      <td>2000</td>\n",
       "      <td>manual</td>\n",
       "      <td>110</td>\n",
       "      <td>NaN</td>\n",
       "      <td>150000</td>\n",
       "      <td>NaN</td>\n",
       "      <td>volkswagen</td>\n",
       "      <td>no</td>\n",
       "    </tr>\n",
       "  </tbody>\n",
       "</table>\n",
       "<p>10502 rows × 10 columns</p>\n",
       "</div>"
      ],
      "text/plain": [
       "        Price VehicleType  RegistrationYear Gearbox  Power Model  Kilometer  \\\n",
       "1       18300       coupe              2011  manual    190   NaN     125000   \n",
       "81        350       small              1997  manual     54   NaN     150000   \n",
       "135      1450       sedan              1992  manual    136   NaN     150000   \n",
       "151      6799       small              2009     NaN     60   NaN      20000   \n",
       "161      1495       wagon              2001     NaN     64   NaN     150000   \n",
       "...       ...         ...               ...     ...    ...   ...        ...   \n",
       "354077    200       small              1998  manual     37   NaN     150000   \n",
       "354234   5000       sedan              2002    auto    170   NaN     150000   \n",
       "354245    560       small              2001    auto    170   NaN      90000   \n",
       "354321   9400       wagon              2007  manual    200   NaN     150000   \n",
       "354351   1900   undefined              2000  manual    110   NaN     150000   \n",
       "\n",
       "        FuelType           Brand Repaired  \n",
       "1       gasoline            audi      yes  \n",
       "81           NaN            fiat      yes  \n",
       "135          NaN            audi       no  \n",
       "151       petrol      volkswagen       no  \n",
       "161     gasoline      volkswagen      NaN  \n",
       "...          ...             ...      ...  \n",
       "354077    petrol      volkswagen      yes  \n",
       "354234    petrol            audi       no  \n",
       "354245    petrol            fiat      yes  \n",
       "354321  gasoline  sonstige_autos      yes  \n",
       "354351       NaN      volkswagen       no  \n",
       "\n",
       "[10502 rows x 10 columns]"
      ]
     },
     "execution_count": 25,
     "metadata": {},
     "output_type": "execute_result"
    }
   ],
   "source": [
    "data.query('Model.isna()')"
   ]
  },
  {
   "cell_type": "code",
   "execution_count": 26,
   "metadata": {},
   "outputs": [],
   "source": [
    "# Модель- основной фактор, который на прямую влияет на цены и заменить его на что-либо мы не можем\n",
    "data.dropna(subset=['Model'], inplace=True)"
   ]
  },
  {
   "cell_type": "code",
   "execution_count": 27,
   "metadata": {},
   "outputs": [
    {
     "data": {
      "text/plain": [
       "count    282880.000000\n",
       "mean     128508.289734\n",
       "std       36413.249319\n",
       "min        5000.000000\n",
       "25%      125000.000000\n",
       "50%      150000.000000\n",
       "75%      150000.000000\n",
       "max      150000.000000\n",
       "Name: Kilometer, dtype: float64"
      ]
     },
     "execution_count": 27,
     "metadata": {},
     "output_type": "execute_result"
    }
   ],
   "source": [
    "# тут данные не требуют изменений\n",
    "data.Kilometer.describe()"
   ]
  },
  {
   "cell_type": "code",
   "execution_count": 28,
   "metadata": {},
   "outputs": [
    {
     "data": {
      "text/html": [
       "<div>\n",
       "<style scoped>\n",
       "    .dataframe tbody tr th:only-of-type {\n",
       "        vertical-align: middle;\n",
       "    }\n",
       "\n",
       "    .dataframe tbody tr th {\n",
       "        vertical-align: top;\n",
       "    }\n",
       "\n",
       "    .dataframe thead th {\n",
       "        text-align: right;\n",
       "    }\n",
       "</style>\n",
       "<table border=\"1\" class=\"dataframe\">\n",
       "  <thead>\n",
       "    <tr style=\"text-align: right;\">\n",
       "      <th></th>\n",
       "      <th>Price</th>\n",
       "      <th>VehicleType</th>\n",
       "      <th>RegistrationYear</th>\n",
       "      <th>Gearbox</th>\n",
       "      <th>Power</th>\n",
       "      <th>Model</th>\n",
       "      <th>Kilometer</th>\n",
       "      <th>FuelType</th>\n",
       "      <th>Brand</th>\n",
       "      <th>Repaired</th>\n",
       "    </tr>\n",
       "  </thead>\n",
       "  <tbody>\n",
       "    <tr>\n",
       "      <th>16</th>\n",
       "      <td>300</td>\n",
       "      <td>undefined</td>\n",
       "      <td>2016</td>\n",
       "      <td>NaN</td>\n",
       "      <td>60</td>\n",
       "      <td>polo</td>\n",
       "      <td>150000</td>\n",
       "      <td>petrol</td>\n",
       "      <td>volkswagen</td>\n",
       "      <td>NaN</td>\n",
       "    </tr>\n",
       "    <tr>\n",
       "      <th>92</th>\n",
       "      <td>250</td>\n",
       "      <td>undefined</td>\n",
       "      <td>2000</td>\n",
       "      <td>NaN</td>\n",
       "      <td>60</td>\n",
       "      <td>ka</td>\n",
       "      <td>150000</td>\n",
       "      <td>NaN</td>\n",
       "      <td>ford</td>\n",
       "      <td>NaN</td>\n",
       "    </tr>\n",
       "    <tr>\n",
       "      <th>208</th>\n",
       "      <td>2250</td>\n",
       "      <td>small</td>\n",
       "      <td>2001</td>\n",
       "      <td>NaN</td>\n",
       "      <td>41</td>\n",
       "      <td>fortwo</td>\n",
       "      <td>150000</td>\n",
       "      <td>gasoline</td>\n",
       "      <td>smart</td>\n",
       "      <td>no</td>\n",
       "    </tr>\n",
       "    <tr>\n",
       "      <th>233</th>\n",
       "      <td>3750</td>\n",
       "      <td>undefined</td>\n",
       "      <td>2005</td>\n",
       "      <td>NaN</td>\n",
       "      <td>75</td>\n",
       "      <td>golf</td>\n",
       "      <td>150000</td>\n",
       "      <td>NaN</td>\n",
       "      <td>volkswagen</td>\n",
       "      <td>NaN</td>\n",
       "    </tr>\n",
       "    <tr>\n",
       "      <th>276</th>\n",
       "      <td>2400</td>\n",
       "      <td>convertible</td>\n",
       "      <td>2001</td>\n",
       "      <td>NaN</td>\n",
       "      <td>115</td>\n",
       "      <td>golf</td>\n",
       "      <td>150000</td>\n",
       "      <td>petrol</td>\n",
       "      <td>volkswagen</td>\n",
       "      <td>no</td>\n",
       "    </tr>\n",
       "    <tr>\n",
       "      <th>...</th>\n",
       "      <td>...</td>\n",
       "      <td>...</td>\n",
       "      <td>...</td>\n",
       "      <td>...</td>\n",
       "      <td>...</td>\n",
       "      <td>...</td>\n",
       "      <td>...</td>\n",
       "      <td>...</td>\n",
       "      <td>...</td>\n",
       "      <td>...</td>\n",
       "    </tr>\n",
       "    <tr>\n",
       "      <th>354005</th>\n",
       "      <td>210</td>\n",
       "      <td>small</td>\n",
       "      <td>1997</td>\n",
       "      <td>NaN</td>\n",
       "      <td>60</td>\n",
       "      <td>polo</td>\n",
       "      <td>150000</td>\n",
       "      <td>NaN</td>\n",
       "      <td>volkswagen</td>\n",
       "      <td>NaN</td>\n",
       "    </tr>\n",
       "    <tr>\n",
       "      <th>354133</th>\n",
       "      <td>250</td>\n",
       "      <td>small</td>\n",
       "      <td>1994</td>\n",
       "      <td>NaN</td>\n",
       "      <td>75</td>\n",
       "      <td>golf</td>\n",
       "      <td>150000</td>\n",
       "      <td>petrol</td>\n",
       "      <td>volkswagen</td>\n",
       "      <td>no</td>\n",
       "    </tr>\n",
       "    <tr>\n",
       "      <th>354260</th>\n",
       "      <td>399</td>\n",
       "      <td>other</td>\n",
       "      <td>1994</td>\n",
       "      <td>NaN</td>\n",
       "      <td>1103</td>\n",
       "      <td>3er</td>\n",
       "      <td>150000</td>\n",
       "      <td>NaN</td>\n",
       "      <td>bmw</td>\n",
       "      <td>NaN</td>\n",
       "    </tr>\n",
       "    <tr>\n",
       "      <th>354285</th>\n",
       "      <td>3500</td>\n",
       "      <td>small</td>\n",
       "      <td>2001</td>\n",
       "      <td>NaN</td>\n",
       "      <td>75</td>\n",
       "      <td>corsa</td>\n",
       "      <td>90000</td>\n",
       "      <td>petrol</td>\n",
       "      <td>opel</td>\n",
       "      <td>no</td>\n",
       "    </tr>\n",
       "    <tr>\n",
       "      <th>354329</th>\n",
       "      <td>350</td>\n",
       "      <td>small</td>\n",
       "      <td>1996</td>\n",
       "      <td>NaN</td>\n",
       "      <td>65</td>\n",
       "      <td>punto</td>\n",
       "      <td>150000</td>\n",
       "      <td>NaN</td>\n",
       "      <td>fiat</td>\n",
       "      <td>NaN</td>\n",
       "    </tr>\n",
       "  </tbody>\n",
       "</table>\n",
       "<p>4571 rows × 10 columns</p>\n",
       "</div>"
      ],
      "text/plain": [
       "        Price  VehicleType  RegistrationYear Gearbox  Power   Model  \\\n",
       "16        300    undefined              2016     NaN     60    polo   \n",
       "92        250    undefined              2000     NaN     60      ka   \n",
       "208      2250        small              2001     NaN     41  fortwo   \n",
       "233      3750    undefined              2005     NaN     75    golf   \n",
       "276      2400  convertible              2001     NaN    115    golf   \n",
       "...       ...          ...               ...     ...    ...     ...   \n",
       "354005    210        small              1997     NaN     60    polo   \n",
       "354133    250        small              1994     NaN     75    golf   \n",
       "354260    399        other              1994     NaN   1103     3er   \n",
       "354285   3500        small              2001     NaN     75   corsa   \n",
       "354329    350        small              1996     NaN     65   punto   \n",
       "\n",
       "        Kilometer  FuelType       Brand Repaired  \n",
       "16         150000    petrol  volkswagen      NaN  \n",
       "92         150000       NaN        ford      NaN  \n",
       "208        150000  gasoline       smart       no  \n",
       "233        150000       NaN  volkswagen      NaN  \n",
       "276        150000    petrol  volkswagen       no  \n",
       "...           ...       ...         ...      ...  \n",
       "354005     150000       NaN  volkswagen      NaN  \n",
       "354133     150000    petrol  volkswagen       no  \n",
       "354260     150000       NaN         bmw      NaN  \n",
       "354285      90000    petrol        opel       no  \n",
       "354329     150000       NaN        fiat      NaN  \n",
       "\n",
       "[4571 rows x 10 columns]"
      ]
     },
     "execution_count": 28,
     "metadata": {},
     "output_type": "execute_result"
    }
   ],
   "source": [
    "data.query('Gearbox.isna()')"
   ]
  },
  {
   "cell_type": "code",
   "execution_count": 29,
   "metadata": {},
   "outputs": [],
   "source": [
    "# так как коробка передач важное значение, а чем-то конкретным пропущенное мы заменить не можем, то просто удвляем данные.\n",
    "data.dropna(subset=['Gearbox'], inplace=True)"
   ]
  },
  {
   "cell_type": "code",
   "execution_count": 30,
   "metadata": {},
   "outputs": [
    {
     "data": {
      "text/plain": [
       "petrol      176616\n",
       "gasoline     84810\n",
       "lpg           4344\n",
       "cng            459\n",
       "hybrid         178\n",
       "other           62\n",
       "electric        52\n",
       "Name: FuelType, dtype: int64"
      ]
     },
     "execution_count": 30,
     "metadata": {},
     "output_type": "execute_result"
    }
   ],
   "source": [
    "data.FuelType.value_counts()"
   ]
  },
  {
   "cell_type": "code",
   "execution_count": 31,
   "metadata": {},
   "outputs": [
    {
     "data": {
      "text/plain": [
       "11788"
      ]
     },
     "execution_count": 31,
     "metadata": {},
     "output_type": "execute_result"
    }
   ],
   "source": [
    "data.FuelType.isna().sum()"
   ]
  },
  {
   "cell_type": "code",
   "execution_count": 32,
   "metadata": {},
   "outputs": [],
   "source": [
    "data['FuelType']=data['FuelType'].fillna('other')"
   ]
  },
  {
   "cell_type": "code",
   "execution_count": 33,
   "metadata": {},
   "outputs": [
    {
     "data": {
      "text/plain": [
       "array(['jeep', 'volkswagen', 'skoda', 'bmw', 'peugeot', 'ford', 'mazda',\n",
       "       'nissan', 'renault', 'mercedes_benz', 'seat', 'honda', 'fiat',\n",
       "       'opel', 'mini', 'smart', 'hyundai', 'audi', 'alfa_romeo', 'subaru',\n",
       "       'volvo', 'mitsubishi', 'kia', 'suzuki', 'lancia', 'citroen',\n",
       "       'toyota', 'chevrolet', 'dacia', 'daihatsu', 'chrysler', 'jaguar',\n",
       "       'daewoo', 'rover', 'porsche', 'saab', 'land_rover', 'trabant',\n",
       "       'lada'], dtype=object)"
      ]
     },
     "execution_count": 33,
     "metadata": {},
     "output_type": "execute_result"
    }
   ],
   "source": [
    "data.Brand.unique()"
   ]
  },
  {
   "cell_type": "code",
   "execution_count": 34,
   "metadata": {},
   "outputs": [
    {
     "data": {
      "text/plain": [
       "array([nan, 'no', 'yes'], dtype=object)"
      ]
     },
     "execution_count": 34,
     "metadata": {},
     "output_type": "execute_result"
    }
   ],
   "source": [
    "data.Repaired.unique()"
   ]
  },
  {
   "cell_type": "code",
   "execution_count": 35,
   "metadata": {},
   "outputs": [
    {
     "data": {
      "text/plain": [
       "36733"
      ]
     },
     "execution_count": 35,
     "metadata": {},
     "output_type": "execute_result"
    }
   ],
   "source": [
    "data.Repaired.isna().sum()"
   ]
  },
  {
   "cell_type": "code",
   "execution_count": 36,
   "metadata": {},
   "outputs": [],
   "source": [
    "data['Repaired']=data['Repaired'].fillna('undefined')"
   ]
  },
  {
   "cell_type": "code",
   "execution_count": 37,
   "metadata": {},
   "outputs": [
    {
     "name": "stdout",
     "output_type": "stream",
     "text": [
      "<class 'pandas.core.frame.DataFrame'>\n",
      "Int64Index: 278309 entries, 2 to 354368\n",
      "Data columns (total 10 columns):\n",
      " #   Column            Non-Null Count   Dtype \n",
      "---  ------            --------------   ----- \n",
      " 0   Price             278309 non-null  int64 \n",
      " 1   VehicleType       278309 non-null  object\n",
      " 2   RegistrationYear  278309 non-null  int64 \n",
      " 3   Gearbox           278309 non-null  object\n",
      " 4   Power             278309 non-null  int64 \n",
      " 5   Model             278309 non-null  object\n",
      " 6   Kilometer         278309 non-null  int64 \n",
      " 7   FuelType          278309 non-null  object\n",
      " 8   Brand             278309 non-null  object\n",
      " 9   Repaired          278309 non-null  object\n",
      "dtypes: int64(4), object(6)\n",
      "memory usage: 23.4+ MB\n"
     ]
    }
   ],
   "source": [
    "data.info()"
   ]
  },
  {
   "cell_type": "markdown",
   "metadata": {},
   "source": [
    "<font color='4682B4'>От первоначальных данных мы потеряли 16% ин-ции </font>"
   ]
  },
  {
   "cell_type": "markdown",
   "metadata": {},
   "source": [
    "Промежуточный вывод.\n",
    "\n",
    "Мы рассмотрели каждый столбец - признак, по которым в дальнейшем будет анализ. В них мы либо заменили лио удалили значения, либо добавили отсутствующие "
   ]
  },
  {
   "cell_type": "markdown",
   "metadata": {},
   "source": [
    "<font color='4682B4'>принято</font>"
   ]
  },
  {
   "cell_type": "markdown",
   "metadata": {},
   "source": [
    "## Обучение моделей"
   ]
  },
  {
   "cell_type": "code",
   "execution_count": 38,
   "metadata": {},
   "outputs": [],
   "source": [
    "features = data.drop('Price', axis=1)\n",
    "target = data.Price"
   ]
  },
  {
   "cell_type": "code",
   "execution_count": 39,
   "metadata": {},
   "outputs": [],
   "source": [
    "#через признаки через OHE:\n",
    "features = pd.get_dummies(features, columns=['Gearbox','FuelType','Repaired','VehicleType'], drop_first=True)"
   ]
  },
  {
   "cell_type": "code",
   "execution_count": 40,
   "metadata": {},
   "outputs": [],
   "source": [
    "features_train, features_test_1, target_train, target_test_1 = train_test_split(features, target, test_size=0.4, random_state=12345)\n",
    "features_valid, features_test, target_valid, target_test = train_test_split(features_test_1, target_test_1, test_size=0.5, random_state=12345)"
   ]
  },
  {
   "cell_type": "code",
   "execution_count": 41,
   "metadata": {},
   "outputs": [
    {
     "name": "stdout",
     "output_type": "stream",
     "text": [
      "(166985, 22)\n",
      "(55662, 22)\n",
      "(55662, 22)\n",
      "(55662,)\n",
      "(166985,)\n",
      "(55662,)\n"
     ]
    }
   ],
   "source": [
    "for i in [features_train,features_valid, features_test, target_valid, target_train, target_test]:\n",
    "    print(i.shape)"
   ]
  },
  {
   "cell_type": "code",
   "execution_count": 42,
   "metadata": {},
   "outputs": [
    {
     "name": "stderr",
     "output_type": "stream",
     "text": [
      "/opt/conda/lib/python3.9/site-packages/pandas/core/frame.py:3191: SettingWithCopyWarning: \n",
      "A value is trying to be set on a copy of a slice from a DataFrame.\n",
      "Try using .loc[row_indexer,col_indexer] = value instead\n",
      "\n",
      "See the caveats in the documentation: https://pandas.pydata.org/pandas-docs/stable/user_guide/indexing.html#returning-a-view-versus-a-copy\n",
      "  self[k1] = value[k2]\n"
     ]
    }
   ],
   "source": [
    "# MEstimateEncode\n",
    "category_features = ['Brand', 'Model']\n",
    "\n",
    "encoder = MEstimateEncoder(cols=category_features, m=5.0)\n",
    "encoder.fit(features_train[category_features], target_train)\n",
    "\n",
    "features_train[category_features] = encoder.transform(features_train[category_features])\n",
    "features_test[category_features] = encoder.transform(features_test[category_features])\n",
    "features_valid[category_features] = encoder.transform(features_valid[category_features])\n"
   ]
  },
  {
   "cell_type": "code",
   "execution_count": 43,
   "metadata": {},
   "outputs": [
    {
     "data": {
      "text/plain": [
       "(166985, 22)"
      ]
     },
     "execution_count": 43,
     "metadata": {},
     "output_type": "execute_result"
    }
   ],
   "source": [
    "features_train.shape"
   ]
  },
  {
   "cell_type": "code",
   "execution_count": 44,
   "metadata": {},
   "outputs": [
    {
     "data": {
      "text/html": [
       "<div>\n",
       "<style scoped>\n",
       "    .dataframe tbody tr th:only-of-type {\n",
       "        vertical-align: middle;\n",
       "    }\n",
       "\n",
       "    .dataframe tbody tr th {\n",
       "        vertical-align: top;\n",
       "    }\n",
       "\n",
       "    .dataframe thead th {\n",
       "        text-align: right;\n",
       "    }\n",
       "</style>\n",
       "<table border=\"1\" class=\"dataframe\">\n",
       "  <thead>\n",
       "    <tr style=\"text-align: right;\">\n",
       "      <th></th>\n",
       "      <th>RegistrationYear</th>\n",
       "      <th>Power</th>\n",
       "      <th>Model</th>\n",
       "      <th>Kilometer</th>\n",
       "      <th>Brand</th>\n",
       "      <th>Gearbox_manual</th>\n",
       "      <th>FuelType_electric</th>\n",
       "      <th>FuelType_gasoline</th>\n",
       "      <th>FuelType_hybrid</th>\n",
       "      <th>FuelType_lpg</th>\n",
       "      <th>...</th>\n",
       "      <th>Repaired_undefined</th>\n",
       "      <th>Repaired_yes</th>\n",
       "      <th>VehicleType_convertible</th>\n",
       "      <th>VehicleType_coupe</th>\n",
       "      <th>VehicleType_other</th>\n",
       "      <th>VehicleType_sedan</th>\n",
       "      <th>VehicleType_small</th>\n",
       "      <th>VehicleType_suv</th>\n",
       "      <th>VehicleType_undefined</th>\n",
       "      <th>VehicleType_wagon</th>\n",
       "    </tr>\n",
       "  </thead>\n",
       "  <tbody>\n",
       "    <tr>\n",
       "      <th>130686</th>\n",
       "      <td>2005</td>\n",
       "      <td>200</td>\n",
       "      <td>6213.518071</td>\n",
       "      <td>150000</td>\n",
       "      <td>6818.144486</td>\n",
       "      <td>1</td>\n",
       "      <td>0</td>\n",
       "      <td>0</td>\n",
       "      <td>0</td>\n",
       "      <td>0</td>\n",
       "      <td>...</td>\n",
       "      <td>0</td>\n",
       "      <td>0</td>\n",
       "      <td>0</td>\n",
       "      <td>0</td>\n",
       "      <td>0</td>\n",
       "      <td>0</td>\n",
       "      <td>0</td>\n",
       "      <td>0</td>\n",
       "      <td>0</td>\n",
       "      <td>1</td>\n",
       "    </tr>\n",
       "    <tr>\n",
       "      <th>283028</th>\n",
       "      <td>1997</td>\n",
       "      <td>130</td>\n",
       "      <td>1579.430662</td>\n",
       "      <td>150000</td>\n",
       "      <td>4683.587790</td>\n",
       "      <td>1</td>\n",
       "      <td>0</td>\n",
       "      <td>0</td>\n",
       "      <td>0</td>\n",
       "      <td>0</td>\n",
       "      <td>...</td>\n",
       "      <td>0</td>\n",
       "      <td>0</td>\n",
       "      <td>0</td>\n",
       "      <td>0</td>\n",
       "      <td>0</td>\n",
       "      <td>1</td>\n",
       "      <td>0</td>\n",
       "      <td>0</td>\n",
       "      <td>0</td>\n",
       "      <td>0</td>\n",
       "    </tr>\n",
       "    <tr>\n",
       "      <th>268620</th>\n",
       "      <td>2002</td>\n",
       "      <td>163</td>\n",
       "      <td>6560.866114</td>\n",
       "      <td>150000</td>\n",
       "      <td>6324.531372</td>\n",
       "      <td>0</td>\n",
       "      <td>0</td>\n",
       "      <td>0</td>\n",
       "      <td>0</td>\n",
       "      <td>0</td>\n",
       "      <td>...</td>\n",
       "      <td>0</td>\n",
       "      <td>0</td>\n",
       "      <td>1</td>\n",
       "      <td>0</td>\n",
       "      <td>0</td>\n",
       "      <td>0</td>\n",
       "      <td>0</td>\n",
       "      <td>0</td>\n",
       "      <td>0</td>\n",
       "      <td>0</td>\n",
       "    </tr>\n",
       "    <tr>\n",
       "      <th>251612</th>\n",
       "      <td>2001</td>\n",
       "      <td>75</td>\n",
       "      <td>2382.211653</td>\n",
       "      <td>150000</td>\n",
       "      <td>2618.059631</td>\n",
       "      <td>1</td>\n",
       "      <td>0</td>\n",
       "      <td>0</td>\n",
       "      <td>0</td>\n",
       "      <td>0</td>\n",
       "      <td>...</td>\n",
       "      <td>0</td>\n",
       "      <td>0</td>\n",
       "      <td>0</td>\n",
       "      <td>0</td>\n",
       "      <td>0</td>\n",
       "      <td>0</td>\n",
       "      <td>1</td>\n",
       "      <td>0</td>\n",
       "      <td>0</td>\n",
       "      <td>0</td>\n",
       "    </tr>\n",
       "    <tr>\n",
       "      <th>109860</th>\n",
       "      <td>2010</td>\n",
       "      <td>60</td>\n",
       "      <td>3822.421675</td>\n",
       "      <td>80000</td>\n",
       "      <td>4450.471576</td>\n",
       "      <td>1</td>\n",
       "      <td>0</td>\n",
       "      <td>0</td>\n",
       "      <td>0</td>\n",
       "      <td>0</td>\n",
       "      <td>...</td>\n",
       "      <td>1</td>\n",
       "      <td>0</td>\n",
       "      <td>0</td>\n",
       "      <td>0</td>\n",
       "      <td>0</td>\n",
       "      <td>0</td>\n",
       "      <td>1</td>\n",
       "      <td>0</td>\n",
       "      <td>0</td>\n",
       "      <td>0</td>\n",
       "    </tr>\n",
       "  </tbody>\n",
       "</table>\n",
       "<p>5 rows × 22 columns</p>\n",
       "</div>"
      ],
      "text/plain": [
       "        RegistrationYear  Power        Model  Kilometer        Brand  \\\n",
       "130686              2005    200  6213.518071     150000  6818.144486   \n",
       "283028              1997    130  1579.430662     150000  4683.587790   \n",
       "268620              2002    163  6560.866114     150000  6324.531372   \n",
       "251612              2001     75  2382.211653     150000  2618.059631   \n",
       "109860              2010     60  3822.421675      80000  4450.471576   \n",
       "\n",
       "        Gearbox_manual  FuelType_electric  FuelType_gasoline  FuelType_hybrid  \\\n",
       "130686               1                  0                  0                0   \n",
       "283028               1                  0                  0                0   \n",
       "268620               0                  0                  0                0   \n",
       "251612               1                  0                  0                0   \n",
       "109860               1                  0                  0                0   \n",
       "\n",
       "        FuelType_lpg  ...  Repaired_undefined  Repaired_yes  \\\n",
       "130686             0  ...                   0             0   \n",
       "283028             0  ...                   0             0   \n",
       "268620             0  ...                   0             0   \n",
       "251612             0  ...                   0             0   \n",
       "109860             0  ...                   1             0   \n",
       "\n",
       "        VehicleType_convertible  VehicleType_coupe  VehicleType_other  \\\n",
       "130686                        0                  0                  0   \n",
       "283028                        0                  0                  0   \n",
       "268620                        1                  0                  0   \n",
       "251612                        0                  0                  0   \n",
       "109860                        0                  0                  0   \n",
       "\n",
       "        VehicleType_sedan  VehicleType_small  VehicleType_suv  \\\n",
       "130686                  0                  0                0   \n",
       "283028                  1                  0                0   \n",
       "268620                  0                  0                0   \n",
       "251612                  0                  1                0   \n",
       "109860                  0                  1                0   \n",
       "\n",
       "        VehicleType_undefined  VehicleType_wagon  \n",
       "130686                      0                  1  \n",
       "283028                      0                  0  \n",
       "268620                      0                  0  \n",
       "251612                      0                  0  \n",
       "109860                      0                  0  \n",
       "\n",
       "[5 rows x 22 columns]"
      ]
     },
     "execution_count": 44,
     "metadata": {},
     "output_type": "execute_result"
    }
   ],
   "source": [
    "features_train.head()"
   ]
  },
  {
   "cell_type": "code",
   "execution_count": 45,
   "metadata": {},
   "outputs": [
    {
     "name": "stderr",
     "output_type": "stream",
     "text": [
      "/tmp/ipykernel_48/4206938775.py:6: SettingWithCopyWarning: \n",
      "A value is trying to be set on a copy of a slice from a DataFrame.\n",
      "Try using .loc[row_indexer,col_indexer] = value instead\n",
      "\n",
      "See the caveats in the documentation: https://pandas.pydata.org/pandas-docs/stable/user_guide/indexing.html#returning-a-view-versus-a-copy\n",
      "  features_train[numeric_columns] = scaler.transform(features_train[numeric_columns])\n",
      "/opt/conda/lib/python3.9/site-packages/pandas/core/indexing.py:1738: SettingWithCopyWarning: \n",
      "A value is trying to be set on a copy of a slice from a DataFrame.\n",
      "Try using .loc[row_indexer,col_indexer] = value instead\n",
      "\n",
      "See the caveats in the documentation: https://pandas.pydata.org/pandas-docs/stable/user_guide/indexing.html#returning-a-view-versus-a-copy\n",
      "  self._setitem_single_column(loc, value[:, i].tolist(), pi)\n",
      "/tmp/ipykernel_48/4206938775.py:7: SettingWithCopyWarning: \n",
      "A value is trying to be set on a copy of a slice from a DataFrame.\n",
      "Try using .loc[row_indexer,col_indexer] = value instead\n",
      "\n",
      "See the caveats in the documentation: https://pandas.pydata.org/pandas-docs/stable/user_guide/indexing.html#returning-a-view-versus-a-copy\n",
      "  features_test[numeric_columns] = scaler.transform(features_test[numeric_columns])\n",
      "/opt/conda/lib/python3.9/site-packages/pandas/core/indexing.py:1738: SettingWithCopyWarning: \n",
      "A value is trying to be set on a copy of a slice from a DataFrame.\n",
      "Try using .loc[row_indexer,col_indexer] = value instead\n",
      "\n",
      "See the caveats in the documentation: https://pandas.pydata.org/pandas-docs/stable/user_guide/indexing.html#returning-a-view-versus-a-copy\n",
      "  self._setitem_single_column(loc, value[:, i].tolist(), pi)\n",
      "/tmp/ipykernel_48/4206938775.py:8: SettingWithCopyWarning: \n",
      "A value is trying to be set on a copy of a slice from a DataFrame.\n",
      "Try using .loc[row_indexer,col_indexer] = value instead\n",
      "\n",
      "See the caveats in the documentation: https://pandas.pydata.org/pandas-docs/stable/user_guide/indexing.html#returning-a-view-versus-a-copy\n",
      "  features_valid[numeric_columns] = scaler.transform(features_valid[numeric_columns])\n",
      "/opt/conda/lib/python3.9/site-packages/pandas/core/indexing.py:1738: SettingWithCopyWarning: \n",
      "A value is trying to be set on a copy of a slice from a DataFrame.\n",
      "Try using .loc[row_indexer,col_indexer] = value instead\n",
      "\n",
      "See the caveats in the documentation: https://pandas.pydata.org/pandas-docs/stable/user_guide/indexing.html#returning-a-view-versus-a-copy\n",
      "  self._setitem_single_column(loc, value[:, i].tolist(), pi)\n"
     ]
    }
   ],
   "source": [
    "# масштибируем признаки\n",
    "numeric_columns = ['RegistrationYear', 'Power', 'Kilometer','Brand', 'Model']\n",
    "scaler = StandardScaler()\n",
    "scaler.fit(features_train[numeric_columns])\n",
    "\n",
    "features_train[numeric_columns] = scaler.transform(features_train[numeric_columns])\n",
    "features_test[numeric_columns] = scaler.transform(features_test[numeric_columns])\n",
    "features_valid[numeric_columns] = scaler.transform(features_valid[numeric_columns])"
   ]
  },
  {
   "cell_type": "code",
   "execution_count": null,
   "metadata": {},
   "outputs": [],
   "source": []
  },
  {
   "cell_type": "code",
   "execution_count": 46,
   "metadata": {},
   "outputs": [
    {
     "data": {
      "text/html": [
       "<div>\n",
       "<style scoped>\n",
       "    .dataframe tbody tr th:only-of-type {\n",
       "        vertical-align: middle;\n",
       "    }\n",
       "\n",
       "    .dataframe tbody tr th {\n",
       "        vertical-align: top;\n",
       "    }\n",
       "\n",
       "    .dataframe thead th {\n",
       "        text-align: right;\n",
       "    }\n",
       "</style>\n",
       "<table border=\"1\" class=\"dataframe\">\n",
       "  <thead>\n",
       "    <tr style=\"text-align: right;\">\n",
       "      <th></th>\n",
       "      <th>RegistrationYear</th>\n",
       "      <th>Power</th>\n",
       "      <th>Model</th>\n",
       "      <th>Kilometer</th>\n",
       "      <th>Brand</th>\n",
       "      <th>Gearbox_manual</th>\n",
       "      <th>FuelType_electric</th>\n",
       "      <th>FuelType_gasoline</th>\n",
       "      <th>FuelType_hybrid</th>\n",
       "      <th>FuelType_lpg</th>\n",
       "      <th>...</th>\n",
       "      <th>Repaired_undefined</th>\n",
       "      <th>Repaired_yes</th>\n",
       "      <th>VehicleType_convertible</th>\n",
       "      <th>VehicleType_coupe</th>\n",
       "      <th>VehicleType_other</th>\n",
       "      <th>VehicleType_sedan</th>\n",
       "      <th>VehicleType_small</th>\n",
       "      <th>VehicleType_suv</th>\n",
       "      <th>VehicleType_undefined</th>\n",
       "      <th>VehicleType_wagon</th>\n",
       "    </tr>\n",
       "  </thead>\n",
       "  <tbody>\n",
       "    <tr>\n",
       "      <th>130686</th>\n",
       "      <td>0.321673</td>\n",
       "      <td>1.342396</td>\n",
       "      <td>0.538070</td>\n",
       "      <td>0.589695</td>\n",
       "      <td>1.253925</td>\n",
       "      <td>1</td>\n",
       "      <td>0</td>\n",
       "      <td>0</td>\n",
       "      <td>0</td>\n",
       "      <td>0</td>\n",
       "      <td>...</td>\n",
       "      <td>0</td>\n",
       "      <td>0</td>\n",
       "      <td>0</td>\n",
       "      <td>0</td>\n",
       "      <td>0</td>\n",
       "      <td>0</td>\n",
       "      <td>0</td>\n",
       "      <td>0</td>\n",
       "      <td>0</td>\n",
       "      <td>1</td>\n",
       "    </tr>\n",
       "    <tr>\n",
       "      <th>283028</th>\n",
       "      <td>-1.054011</td>\n",
       "      <td>0.142914</td>\n",
       "      <td>-1.358653</td>\n",
       "      <td>0.589695</td>\n",
       "      <td>-0.146521</td>\n",
       "      <td>1</td>\n",
       "      <td>0</td>\n",
       "      <td>0</td>\n",
       "      <td>0</td>\n",
       "      <td>0</td>\n",
       "      <td>...</td>\n",
       "      <td>0</td>\n",
       "      <td>0</td>\n",
       "      <td>0</td>\n",
       "      <td>0</td>\n",
       "      <td>0</td>\n",
       "      <td>1</td>\n",
       "      <td>0</td>\n",
       "      <td>0</td>\n",
       "      <td>0</td>\n",
       "      <td>0</td>\n",
       "    </tr>\n",
       "    <tr>\n",
       "      <th>268620</th>\n",
       "      <td>-0.194208</td>\n",
       "      <td>0.708384</td>\n",
       "      <td>0.680239</td>\n",
       "      <td>0.589695</td>\n",
       "      <td>0.930074</td>\n",
       "      <td>0</td>\n",
       "      <td>0</td>\n",
       "      <td>0</td>\n",
       "      <td>0</td>\n",
       "      <td>0</td>\n",
       "      <td>...</td>\n",
       "      <td>0</td>\n",
       "      <td>0</td>\n",
       "      <td>1</td>\n",
       "      <td>0</td>\n",
       "      <td>0</td>\n",
       "      <td>0</td>\n",
       "      <td>0</td>\n",
       "      <td>0</td>\n",
       "      <td>0</td>\n",
       "      <td>0</td>\n",
       "    </tr>\n",
       "    <tr>\n",
       "      <th>251612</th>\n",
       "      <td>-0.366169</td>\n",
       "      <td>-0.799537</td>\n",
       "      <td>-1.030077</td>\n",
       "      <td>0.589695</td>\n",
       "      <td>-1.501678</td>\n",
       "      <td>1</td>\n",
       "      <td>0</td>\n",
       "      <td>0</td>\n",
       "      <td>0</td>\n",
       "      <td>0</td>\n",
       "      <td>...</td>\n",
       "      <td>0</td>\n",
       "      <td>0</td>\n",
       "      <td>0</td>\n",
       "      <td>0</td>\n",
       "      <td>0</td>\n",
       "      <td>0</td>\n",
       "      <td>1</td>\n",
       "      <td>0</td>\n",
       "      <td>0</td>\n",
       "      <td>0</td>\n",
       "    </tr>\n",
       "    <tr>\n",
       "      <th>109860</th>\n",
       "      <td>1.181476</td>\n",
       "      <td>-1.056569</td>\n",
       "      <td>-0.440601</td>\n",
       "      <td>-1.333845</td>\n",
       "      <td>-0.299464</td>\n",
       "      <td>1</td>\n",
       "      <td>0</td>\n",
       "      <td>0</td>\n",
       "      <td>0</td>\n",
       "      <td>0</td>\n",
       "      <td>...</td>\n",
       "      <td>1</td>\n",
       "      <td>0</td>\n",
       "      <td>0</td>\n",
       "      <td>0</td>\n",
       "      <td>0</td>\n",
       "      <td>0</td>\n",
       "      <td>1</td>\n",
       "      <td>0</td>\n",
       "      <td>0</td>\n",
       "      <td>0</td>\n",
       "    </tr>\n",
       "  </tbody>\n",
       "</table>\n",
       "<p>5 rows × 22 columns</p>\n",
       "</div>"
      ],
      "text/plain": [
       "        RegistrationYear     Power     Model  Kilometer     Brand  \\\n",
       "130686          0.321673  1.342396  0.538070   0.589695  1.253925   \n",
       "283028         -1.054011  0.142914 -1.358653   0.589695 -0.146521   \n",
       "268620         -0.194208  0.708384  0.680239   0.589695  0.930074   \n",
       "251612         -0.366169 -0.799537 -1.030077   0.589695 -1.501678   \n",
       "109860          1.181476 -1.056569 -0.440601  -1.333845 -0.299464   \n",
       "\n",
       "        Gearbox_manual  FuelType_electric  FuelType_gasoline  FuelType_hybrid  \\\n",
       "130686               1                  0                  0                0   \n",
       "283028               1                  0                  0                0   \n",
       "268620               0                  0                  0                0   \n",
       "251612               1                  0                  0                0   \n",
       "109860               1                  0                  0                0   \n",
       "\n",
       "        FuelType_lpg  ...  Repaired_undefined  Repaired_yes  \\\n",
       "130686             0  ...                   0             0   \n",
       "283028             0  ...                   0             0   \n",
       "268620             0  ...                   0             0   \n",
       "251612             0  ...                   0             0   \n",
       "109860             0  ...                   1             0   \n",
       "\n",
       "        VehicleType_convertible  VehicleType_coupe  VehicleType_other  \\\n",
       "130686                        0                  0                  0   \n",
       "283028                        0                  0                  0   \n",
       "268620                        1                  0                  0   \n",
       "251612                        0                  0                  0   \n",
       "109860                        0                  0                  0   \n",
       "\n",
       "        VehicleType_sedan  VehicleType_small  VehicleType_suv  \\\n",
       "130686                  0                  0                0   \n",
       "283028                  1                  0                0   \n",
       "268620                  0                  0                0   \n",
       "251612                  0                  1                0   \n",
       "109860                  0                  1                0   \n",
       "\n",
       "        VehicleType_undefined  VehicleType_wagon  \n",
       "130686                      0                  1  \n",
       "283028                      0                  0  \n",
       "268620                      0                  0  \n",
       "251612                      0                  0  \n",
       "109860                      0                  0  \n",
       "\n",
       "[5 rows x 22 columns]"
      ]
     },
     "execution_count": 46,
     "metadata": {},
     "output_type": "execute_result"
    }
   ],
   "source": [
    "features_train.head()"
   ]
  },
  {
   "cell_type": "code",
   "execution_count": 47,
   "metadata": {},
   "outputs": [
    {
     "data": {
      "text/plain": [
       "(55662, 22)"
      ]
     },
     "execution_count": 47,
     "metadata": {},
     "output_type": "execute_result"
    }
   ],
   "source": [
    "features_test.shape"
   ]
  },
  {
   "cell_type": "markdown",
   "metadata": {},
   "source": [
    "**Модель LinearRegression**"
   ]
  },
  {
   "cell_type": "code",
   "execution_count": 48,
   "metadata": {},
   "outputs": [],
   "source": [
    "#напишем функцию\n",
    "def rmse(test,predict):\n",
    "    return ((mean_squared_error(test,predict))**0.5).round(2)"
   ]
  },
  {
   "cell_type": "code",
   "execution_count": 49,
   "metadata": {},
   "outputs": [
    {
     "name": "stdout",
     "output_type": "stream",
     "text": [
      "CPU times: user 291 ms, sys: 126 ms, total: 417 ms\n",
      "Wall time: 386 ms\n"
     ]
    }
   ],
   "source": [
    "%%time\n",
    "start = time.time()\n",
    "model_lr=LinearRegression(normalize=True)\n",
    "model_lr.fit(features_train,target_train)\n",
    "end = time.time()\n",
    "t_lr=round(end-start,2)"
   ]
  },
  {
   "cell_type": "code",
   "execution_count": 50,
   "metadata": {},
   "outputs": [
    {
     "name": "stdout",
     "output_type": "stream",
     "text": [
      "CPU times: user 15.5 ms, sys: 4.6 ms, total: 20.1 ms\n",
      "Wall time: 86.3 ms\n"
     ]
    }
   ],
   "source": [
    "%%time\n",
    "start = time.time()\n",
    "predict_lr=model_lr.predict(features_test)\n",
    "end = time.time()\n",
    "t_lr_p=round(end-start,2)"
   ]
  },
  {
   "cell_type": "code",
   "execution_count": 51,
   "metadata": {},
   "outputs": [
    {
     "name": "stdout",
     "output_type": "stream",
     "text": [
      "CPU times: user 9.03 ms, sys: 6.61 ms, total: 15.6 ms\n",
      "Wall time: 7.5 ms\n"
     ]
    }
   ],
   "source": [
    "%%time\n",
    "valid_predict_lr = model_lr.predict(features_valid)"
   ]
  },
  {
   "cell_type": "code",
   "execution_count": 52,
   "metadata": {},
   "outputs": [],
   "source": [
    "#%%time\n",
    "\n",
    "#model_lr = LinearRegression()\n",
    "\n",
    "#cvs_rmse_lr = (cross_val_score(model_lr, features_train, target_train, cv=5, scoring='neg_mean_squared_error')).mean() ** .5\n",
    "#cvs_rmse_lr"
   ]
  },
  {
   "cell_type": "code",
   "execution_count": 53,
   "metadata": {},
   "outputs": [
    {
     "name": "stdout",
     "output_type": "stream",
     "text": [
      "MAE модели Линейная Регрессия равна: 1851.37\n",
      "RMSE модели Линейная Регрессия равна: 2562.71\n"
     ]
    }
   ],
   "source": [
    "mae_lr = mean_absolute_error(target_test , predict_lr)\n",
    "print('MAE модели Линейная Регрессия равна:',mae_lr.round(2))\n",
    "rmse_lr = rmse(target_test , predict_lr)\n",
    "print('RMSE модели Линейная Регрессия равна:', rmse_lr)"
   ]
  },
  {
   "cell_type": "markdown",
   "metadata": {},
   "source": [
    "**Модель RandomForestRegressor**"
   ]
  },
  {
   "cell_type": "code",
   "execution_count": 54,
   "metadata": {},
   "outputs": [
    {
     "name": "stdout",
     "output_type": "stream",
     "text": [
      "CPU times: user 1min 4s, sys: 783 ms, total: 1min 5s\n",
      "Wall time: 1min 5s\n"
     ]
    }
   ],
   "source": [
    "%%time\n",
    "start = time.time()\n",
    "model_rf = RandomForestRegressor(random_state=12345, criterion='mse',warm_start=False, n_estimators=100)\n",
    "model_rf.fit(features_train, target_train)\n",
    "end = time.time()\n",
    "t_rf=round(end-start,2)"
   ]
  },
  {
   "cell_type": "code",
   "execution_count": 55,
   "metadata": {},
   "outputs": [
    {
     "name": "stdout",
     "output_type": "stream",
     "text": [
      "CPU times: user 2.52 s, sys: 0 ns, total: 2.52 s\n",
      "Wall time: 2.53 s\n"
     ]
    }
   ],
   "source": [
    "%%time\n",
    "start = time.time()\n",
    "pred_rf=model_rf.predict(features_test)\n",
    "end = time.time()\n",
    "t_rf_p=round(end-start,2)"
   ]
  },
  {
   "cell_type": "code",
   "execution_count": 56,
   "metadata": {},
   "outputs": [
    {
     "name": "stdout",
     "output_type": "stream",
     "text": [
      "CPU times: user 2.52 s, sys: 0 ns, total: 2.52 s\n",
      "Wall time: 2.53 s\n"
     ]
    }
   ],
   "source": [
    "%%time\n",
    "valid_predict_rf = model_rf.predict(features_valid)"
   ]
  },
  {
   "cell_type": "code",
   "execution_count": 57,
   "metadata": {},
   "outputs": [],
   "source": [
    "#%%time\n",
    "#model_rf = RandomForestRegressor(random_state=12345, criterion='mse',warm_start=False, n_estimators=100)\n",
    "#cvs_rmse_rf = (cross_val_score(model_rf, features_train, target_train, cv=5, scoring='neg_mean_squared_error')).mean() ** .5\n",
    "#cvs_rmse_rf"
   ]
  },
  {
   "cell_type": "code",
   "execution_count": 58,
   "metadata": {},
   "outputs": [
    {
     "name": "stdout",
     "output_type": "stream",
     "text": [
      "MAE модели Случайный лес равна: 1851.37\n",
      "RMSE модели Случайный лес равна: 1502.8\n"
     ]
    }
   ],
   "source": [
    "mae_random_forest = mean_absolute_error(target_test , pred_rf)\n",
    "print('MAE модели Случайный лес равна:',mae_lr.round(2))\n",
    "random_forest_rmse = rmse(target_test, pred_rf)\n",
    "print('RMSE модели Случайный лес равна:', random_forest_rmse)"
   ]
  },
  {
   "cell_type": "markdown",
   "metadata": {},
   "source": [
    "**LightGBM**"
   ]
  },
  {
   "cell_type": "code",
   "execution_count": 59,
   "metadata": {},
   "outputs": [
    {
     "name": "stderr",
     "output_type": "stream",
     "text": [
      "ERROR:root:Internal Python error in the inspect module.\n",
      "Below is the traceback from this internal error.\n",
      "\n"
     ]
    },
    {
     "name": "stdout",
     "output_type": "stream",
     "text": [
      "Traceback (most recent call last):\n",
      "  File \"/opt/conda/lib/python3.9/site-packages/IPython/core/magics/execution.py\", line 1321, in time\n",
      "    exec(code, glob, local_ns)\n",
      "  File \"<timed exec>\", line 6, in <module>\n",
      "  File \"/opt/conda/lib/python3.9/site-packages/sklearn/utils/validation.py\", line 63, in inner_f\n",
      "    return f(*args, **kwargs)\n",
      "  File \"/opt/conda/lib/python3.9/site-packages/sklearn/model_selection/_search.py\", line 841, in fit\n",
      "    self._run_search(evaluate_candidates)\n",
      "  File \"/opt/conda/lib/python3.9/site-packages/sklearn/model_selection/_search.py\", line 1288, in _run_search\n",
      "    evaluate_candidates(ParameterGrid(self.param_grid))\n",
      "  File \"/opt/conda/lib/python3.9/site-packages/sklearn/model_selection/_search.py\", line 795, in evaluate_candidates\n",
      "    out = parallel(delayed(_fit_and_score)(clone(base_estimator),\n",
      "  File \"/opt/conda/lib/python3.9/site-packages/joblib/parallel.py\", line 1046, in __call__\n",
      "    while self.dispatch_one_batch(iterator):\n",
      "  File \"/opt/conda/lib/python3.9/site-packages/joblib/parallel.py\", line 861, in dispatch_one_batch\n",
      "    self._dispatch(tasks)\n",
      "  File \"/opt/conda/lib/python3.9/site-packages/joblib/parallel.py\", line 779, in _dispatch\n",
      "    job = self._backend.apply_async(batch, callback=cb)\n",
      "  File \"/opt/conda/lib/python3.9/site-packages/joblib/_parallel_backends.py\", line 208, in apply_async\n",
      "    result = ImmediateResult(func)\n",
      "  File \"/opt/conda/lib/python3.9/site-packages/joblib/_parallel_backends.py\", line 572, in __init__\n",
      "    self.results = batch()\n",
      "  File \"/opt/conda/lib/python3.9/site-packages/joblib/parallel.py\", line 262, in __call__\n",
      "    return [func(*args, **kwargs)\n",
      "  File \"/opt/conda/lib/python3.9/site-packages/joblib/parallel.py\", line 262, in <listcomp>\n",
      "    return [func(*args, **kwargs)\n",
      "  File \"/opt/conda/lib/python3.9/site-packages/sklearn/utils/fixes.py\", line 222, in __call__\n",
      "    return self.function(*args, **kwargs)\n",
      "  File \"/opt/conda/lib/python3.9/site-packages/sklearn/model_selection/_validation.py\", line 593, in _fit_and_score\n",
      "    estimator.fit(X_train, y_train, **fit_params)\n",
      "  File \"/opt/conda/lib/python3.9/site-packages/lightgbm/sklearn.py\", line 895, in fit\n",
      "    super().fit(X, y, sample_weight=sample_weight, init_score=init_score,\n",
      "  File \"/opt/conda/lib/python3.9/site-packages/lightgbm/sklearn.py\", line 748, in fit\n",
      "    self._Booster = train(\n",
      "  File \"/opt/conda/lib/python3.9/site-packages/lightgbm/engine.py\", line 292, in train\n",
      "    booster.update(fobj=fobj)\n",
      "  File \"/opt/conda/lib/python3.9/site-packages/lightgbm/basic.py\", line 3021, in update\n",
      "    _safe_call(_LIB.LGBM_BoosterUpdateOneIter(\n",
      "KeyboardInterrupt\n",
      "\n",
      "During handling of the above exception, another exception occurred:\n",
      "\n",
      "Traceback (most recent call last):\n",
      "  File \"/opt/conda/lib/python3.9/site-packages/IPython/core/interactiveshell.py\", line 2061, in showtraceback\n",
      "    stb = value._render_traceback_()\n",
      "AttributeError: 'KeyboardInterrupt' object has no attribute '_render_traceback_'\n",
      "\n",
      "During handling of the above exception, another exception occurred:\n",
      "\n",
      "Traceback (most recent call last):\n",
      "  File \"/opt/conda/lib/python3.9/site-packages/IPython/core/ultratb.py\", line 1101, in get_records\n",
      "    return _fixed_getinnerframes(etb, number_of_lines_of_context, tb_offset)\n",
      "  File \"/opt/conda/lib/python3.9/site-packages/IPython/core/ultratb.py\", line 248, in wrapped\n",
      "    return f(*args, **kwargs)\n",
      "  File \"/opt/conda/lib/python3.9/site-packages/IPython/core/ultratb.py\", line 281, in _fixed_getinnerframes\n",
      "    records = fix_frame_records_filenames(inspect.getinnerframes(etb, context))\n",
      "  File \"/opt/conda/lib/python3.9/inspect.py\", line 1541, in getinnerframes\n",
      "    frameinfo = (tb.tb_frame,) + getframeinfo(tb, context)\n",
      "  File \"/opt/conda/lib/python3.9/inspect.py\", line 1499, in getframeinfo\n",
      "    filename = getsourcefile(frame) or getfile(frame)\n",
      "  File \"/opt/conda/lib/python3.9/inspect.py\", line 709, in getsourcefile\n",
      "    if getattr(getmodule(object, filename), '__loader__', None) is not None:\n",
      "  File \"/opt/conda/lib/python3.9/inspect.py\", line 755, in getmodule\n",
      "    os.path.realpath(f)] = module.__name__\n",
      "  File \"/opt/conda/lib/python3.9/posixpath.py\", line 391, in realpath\n",
      "    path, ok = _joinrealpath(filename[:0], filename, {})\n",
      "  File \"/opt/conda/lib/python3.9/posixpath.py\", line 425, in _joinrealpath\n",
      "    if not islink(newpath):\n",
      "  File \"/opt/conda/lib/python3.9/posixpath.py\", line 167, in islink\n",
      "    st = os.lstat(path)\n",
      "KeyboardInterrupt\n"
     ]
    },
    {
     "ename": "TypeError",
     "evalue": "object of type 'NoneType' has no len()",
     "output_type": "error",
     "traceback": [
      "\u001b[0;31m---------------------------------------------------------------------------\u001b[0m",
      "\u001b[0;31mKeyboardInterrupt\u001b[0m                         Traceback (most recent call last)",
      "\u001b[0;32m/opt/conda/lib/python3.9/site-packages/IPython/core/magics/execution.py\u001b[0m in \u001b[0;36mtime\u001b[0;34m(self, line, cell, local_ns)\u001b[0m\n\u001b[1;32m   1320\u001b[0m             \u001b[0;32mtry\u001b[0m\u001b[0;34m:\u001b[0m\u001b[0;34m\u001b[0m\u001b[0;34m\u001b[0m\u001b[0m\n\u001b[0;32m-> 1321\u001b[0;31m                 \u001b[0mexec\u001b[0m\u001b[0;34m(\u001b[0m\u001b[0mcode\u001b[0m\u001b[0;34m,\u001b[0m \u001b[0mglob\u001b[0m\u001b[0;34m,\u001b[0m \u001b[0mlocal_ns\u001b[0m\u001b[0;34m)\u001b[0m\u001b[0;34m\u001b[0m\u001b[0;34m\u001b[0m\u001b[0m\n\u001b[0m\u001b[1;32m   1322\u001b[0m                 \u001b[0mout\u001b[0m\u001b[0;34m=\u001b[0m\u001b[0;32mNone\u001b[0m\u001b[0;34m\u001b[0m\u001b[0;34m\u001b[0m\u001b[0m\n",
      "\u001b[0;32m<timed exec>\u001b[0m in \u001b[0;36m<module>\u001b[0;34m\u001b[0m\n",
      "\u001b[0;32m/opt/conda/lib/python3.9/site-packages/sklearn/utils/validation.py\u001b[0m in \u001b[0;36minner_f\u001b[0;34m(*args, **kwargs)\u001b[0m\n\u001b[1;32m     62\u001b[0m             \u001b[0;32mif\u001b[0m \u001b[0mextra_args\u001b[0m \u001b[0;34m<=\u001b[0m \u001b[0;36m0\u001b[0m\u001b[0;34m:\u001b[0m\u001b[0;34m\u001b[0m\u001b[0;34m\u001b[0m\u001b[0m\n\u001b[0;32m---> 63\u001b[0;31m                 \u001b[0;32mreturn\u001b[0m \u001b[0mf\u001b[0m\u001b[0;34m(\u001b[0m\u001b[0;34m*\u001b[0m\u001b[0margs\u001b[0m\u001b[0;34m,\u001b[0m \u001b[0;34m**\u001b[0m\u001b[0mkwargs\u001b[0m\u001b[0;34m)\u001b[0m\u001b[0;34m\u001b[0m\u001b[0;34m\u001b[0m\u001b[0m\n\u001b[0m\u001b[1;32m     64\u001b[0m \u001b[0;34m\u001b[0m\u001b[0m\n",
      "\u001b[0;32m/opt/conda/lib/python3.9/site-packages/sklearn/model_selection/_search.py\u001b[0m in \u001b[0;36mfit\u001b[0;34m(self, X, y, groups, **fit_params)\u001b[0m\n\u001b[1;32m    840\u001b[0m \u001b[0;34m\u001b[0m\u001b[0m\n\u001b[0;32m--> 841\u001b[0;31m             \u001b[0mself\u001b[0m\u001b[0;34m.\u001b[0m\u001b[0m_run_search\u001b[0m\u001b[0;34m(\u001b[0m\u001b[0mevaluate_candidates\u001b[0m\u001b[0;34m)\u001b[0m\u001b[0;34m\u001b[0m\u001b[0;34m\u001b[0m\u001b[0m\n\u001b[0m\u001b[1;32m    842\u001b[0m \u001b[0;34m\u001b[0m\u001b[0m\n",
      "\u001b[0;32m/opt/conda/lib/python3.9/site-packages/sklearn/model_selection/_search.py\u001b[0m in \u001b[0;36m_run_search\u001b[0;34m(self, evaluate_candidates)\u001b[0m\n\u001b[1;32m   1287\u001b[0m         \u001b[0;34m\"\"\"Search all candidates in param_grid\"\"\"\u001b[0m\u001b[0;34m\u001b[0m\u001b[0;34m\u001b[0m\u001b[0m\n\u001b[0;32m-> 1288\u001b[0;31m         \u001b[0mevaluate_candidates\u001b[0m\u001b[0;34m(\u001b[0m\u001b[0mParameterGrid\u001b[0m\u001b[0;34m(\u001b[0m\u001b[0mself\u001b[0m\u001b[0;34m.\u001b[0m\u001b[0mparam_grid\u001b[0m\u001b[0;34m)\u001b[0m\u001b[0;34m)\u001b[0m\u001b[0;34m\u001b[0m\u001b[0;34m\u001b[0m\u001b[0m\n\u001b[0m\u001b[1;32m   1289\u001b[0m \u001b[0;34m\u001b[0m\u001b[0m\n",
      "\u001b[0;32m/opt/conda/lib/python3.9/site-packages/sklearn/model_selection/_search.py\u001b[0m in \u001b[0;36mevaluate_candidates\u001b[0;34m(candidate_params, cv, more_results)\u001b[0m\n\u001b[1;32m    794\u001b[0m \u001b[0;34m\u001b[0m\u001b[0m\n\u001b[0;32m--> 795\u001b[0;31m                 out = parallel(delayed(_fit_and_score)(clone(base_estimator),\n\u001b[0m\u001b[1;32m    796\u001b[0m                                                        \u001b[0mX\u001b[0m\u001b[0;34m,\u001b[0m \u001b[0my\u001b[0m\u001b[0;34m,\u001b[0m\u001b[0;34m\u001b[0m\u001b[0;34m\u001b[0m\u001b[0m\n",
      "\u001b[0;32m/opt/conda/lib/python3.9/site-packages/joblib/parallel.py\u001b[0m in \u001b[0;36m__call__\u001b[0;34m(self, iterable)\u001b[0m\n\u001b[1;32m   1045\u001b[0m \u001b[0;34m\u001b[0m\u001b[0m\n\u001b[0;32m-> 1046\u001b[0;31m             \u001b[0;32mwhile\u001b[0m \u001b[0mself\u001b[0m\u001b[0;34m.\u001b[0m\u001b[0mdispatch_one_batch\u001b[0m\u001b[0;34m(\u001b[0m\u001b[0miterator\u001b[0m\u001b[0;34m)\u001b[0m\u001b[0;34m:\u001b[0m\u001b[0;34m\u001b[0m\u001b[0;34m\u001b[0m\u001b[0m\n\u001b[0m\u001b[1;32m   1047\u001b[0m                 \u001b[0;32mpass\u001b[0m\u001b[0;34m\u001b[0m\u001b[0;34m\u001b[0m\u001b[0m\n",
      "\u001b[0;32m/opt/conda/lib/python3.9/site-packages/joblib/parallel.py\u001b[0m in \u001b[0;36mdispatch_one_batch\u001b[0;34m(self, iterator)\u001b[0m\n\u001b[1;32m    860\u001b[0m             \u001b[0;32melse\u001b[0m\u001b[0;34m:\u001b[0m\u001b[0;34m\u001b[0m\u001b[0;34m\u001b[0m\u001b[0m\n\u001b[0;32m--> 861\u001b[0;31m                 \u001b[0mself\u001b[0m\u001b[0;34m.\u001b[0m\u001b[0m_dispatch\u001b[0m\u001b[0;34m(\u001b[0m\u001b[0mtasks\u001b[0m\u001b[0;34m)\u001b[0m\u001b[0;34m\u001b[0m\u001b[0;34m\u001b[0m\u001b[0m\n\u001b[0m\u001b[1;32m    862\u001b[0m                 \u001b[0;32mreturn\u001b[0m \u001b[0;32mTrue\u001b[0m\u001b[0;34m\u001b[0m\u001b[0;34m\u001b[0m\u001b[0m\n",
      "\u001b[0;32m/opt/conda/lib/python3.9/site-packages/joblib/parallel.py\u001b[0m in \u001b[0;36m_dispatch\u001b[0;34m(self, batch)\u001b[0m\n\u001b[1;32m    778\u001b[0m             \u001b[0mjob_idx\u001b[0m \u001b[0;34m=\u001b[0m \u001b[0mlen\u001b[0m\u001b[0;34m(\u001b[0m\u001b[0mself\u001b[0m\u001b[0;34m.\u001b[0m\u001b[0m_jobs\u001b[0m\u001b[0;34m)\u001b[0m\u001b[0;34m\u001b[0m\u001b[0;34m\u001b[0m\u001b[0m\n\u001b[0;32m--> 779\u001b[0;31m             \u001b[0mjob\u001b[0m \u001b[0;34m=\u001b[0m \u001b[0mself\u001b[0m\u001b[0;34m.\u001b[0m\u001b[0m_backend\u001b[0m\u001b[0;34m.\u001b[0m\u001b[0mapply_async\u001b[0m\u001b[0;34m(\u001b[0m\u001b[0mbatch\u001b[0m\u001b[0;34m,\u001b[0m \u001b[0mcallback\u001b[0m\u001b[0;34m=\u001b[0m\u001b[0mcb\u001b[0m\u001b[0;34m)\u001b[0m\u001b[0;34m\u001b[0m\u001b[0;34m\u001b[0m\u001b[0m\n\u001b[0m\u001b[1;32m    780\u001b[0m             \u001b[0;31m# A job can complete so quickly than its callback is\u001b[0m\u001b[0;34m\u001b[0m\u001b[0;34m\u001b[0m\u001b[0;34m\u001b[0m\u001b[0m\n",
      "\u001b[0;32m/opt/conda/lib/python3.9/site-packages/joblib/_parallel_backends.py\u001b[0m in \u001b[0;36mapply_async\u001b[0;34m(self, func, callback)\u001b[0m\n\u001b[1;32m    207\u001b[0m         \u001b[0;34m\"\"\"Schedule a func to be run\"\"\"\u001b[0m\u001b[0;34m\u001b[0m\u001b[0;34m\u001b[0m\u001b[0m\n\u001b[0;32m--> 208\u001b[0;31m         \u001b[0mresult\u001b[0m \u001b[0;34m=\u001b[0m \u001b[0mImmediateResult\u001b[0m\u001b[0;34m(\u001b[0m\u001b[0mfunc\u001b[0m\u001b[0;34m)\u001b[0m\u001b[0;34m\u001b[0m\u001b[0;34m\u001b[0m\u001b[0m\n\u001b[0m\u001b[1;32m    209\u001b[0m         \u001b[0;32mif\u001b[0m \u001b[0mcallback\u001b[0m\u001b[0;34m:\u001b[0m\u001b[0;34m\u001b[0m\u001b[0;34m\u001b[0m\u001b[0m\n",
      "\u001b[0;32m/opt/conda/lib/python3.9/site-packages/joblib/_parallel_backends.py\u001b[0m in \u001b[0;36m__init__\u001b[0;34m(self, batch)\u001b[0m\n\u001b[1;32m    571\u001b[0m         \u001b[0;31m# arguments in memory\u001b[0m\u001b[0;34m\u001b[0m\u001b[0;34m\u001b[0m\u001b[0;34m\u001b[0m\u001b[0m\n\u001b[0;32m--> 572\u001b[0;31m         \u001b[0mself\u001b[0m\u001b[0;34m.\u001b[0m\u001b[0mresults\u001b[0m \u001b[0;34m=\u001b[0m \u001b[0mbatch\u001b[0m\u001b[0;34m(\u001b[0m\u001b[0;34m)\u001b[0m\u001b[0;34m\u001b[0m\u001b[0;34m\u001b[0m\u001b[0m\n\u001b[0m\u001b[1;32m    573\u001b[0m \u001b[0;34m\u001b[0m\u001b[0m\n",
      "\u001b[0;32m/opt/conda/lib/python3.9/site-packages/joblib/parallel.py\u001b[0m in \u001b[0;36m__call__\u001b[0;34m(self)\u001b[0m\n\u001b[1;32m    261\u001b[0m         \u001b[0;32mwith\u001b[0m \u001b[0mparallel_backend\u001b[0m\u001b[0;34m(\u001b[0m\u001b[0mself\u001b[0m\u001b[0;34m.\u001b[0m\u001b[0m_backend\u001b[0m\u001b[0;34m,\u001b[0m \u001b[0mn_jobs\u001b[0m\u001b[0;34m=\u001b[0m\u001b[0mself\u001b[0m\u001b[0;34m.\u001b[0m\u001b[0m_n_jobs\u001b[0m\u001b[0;34m)\u001b[0m\u001b[0;34m:\u001b[0m\u001b[0;34m\u001b[0m\u001b[0;34m\u001b[0m\u001b[0m\n\u001b[0;32m--> 262\u001b[0;31m             return [func(*args, **kwargs)\n\u001b[0m\u001b[1;32m    263\u001b[0m                     for func, args, kwargs in self.items]\n",
      "\u001b[0;32m/opt/conda/lib/python3.9/site-packages/joblib/parallel.py\u001b[0m in \u001b[0;36m<listcomp>\u001b[0;34m(.0)\u001b[0m\n\u001b[1;32m    261\u001b[0m         \u001b[0;32mwith\u001b[0m \u001b[0mparallel_backend\u001b[0m\u001b[0;34m(\u001b[0m\u001b[0mself\u001b[0m\u001b[0;34m.\u001b[0m\u001b[0m_backend\u001b[0m\u001b[0;34m,\u001b[0m \u001b[0mn_jobs\u001b[0m\u001b[0;34m=\u001b[0m\u001b[0mself\u001b[0m\u001b[0;34m.\u001b[0m\u001b[0m_n_jobs\u001b[0m\u001b[0;34m)\u001b[0m\u001b[0;34m:\u001b[0m\u001b[0;34m\u001b[0m\u001b[0;34m\u001b[0m\u001b[0m\n\u001b[0;32m--> 262\u001b[0;31m             return [func(*args, **kwargs)\n\u001b[0m\u001b[1;32m    263\u001b[0m                     for func, args, kwargs in self.items]\n",
      "\u001b[0;32m/opt/conda/lib/python3.9/site-packages/sklearn/utils/fixes.py\u001b[0m in \u001b[0;36m__call__\u001b[0;34m(self, *args, **kwargs)\u001b[0m\n\u001b[1;32m    221\u001b[0m         \u001b[0;32mwith\u001b[0m \u001b[0mconfig_context\u001b[0m\u001b[0;34m(\u001b[0m\u001b[0;34m**\u001b[0m\u001b[0mself\u001b[0m\u001b[0;34m.\u001b[0m\u001b[0mconfig\u001b[0m\u001b[0;34m)\u001b[0m\u001b[0;34m:\u001b[0m\u001b[0;34m\u001b[0m\u001b[0;34m\u001b[0m\u001b[0m\n\u001b[0;32m--> 222\u001b[0;31m             \u001b[0;32mreturn\u001b[0m \u001b[0mself\u001b[0m\u001b[0;34m.\u001b[0m\u001b[0mfunction\u001b[0m\u001b[0;34m(\u001b[0m\u001b[0;34m*\u001b[0m\u001b[0margs\u001b[0m\u001b[0;34m,\u001b[0m \u001b[0;34m**\u001b[0m\u001b[0mkwargs\u001b[0m\u001b[0;34m)\u001b[0m\u001b[0;34m\u001b[0m\u001b[0;34m\u001b[0m\u001b[0m\n\u001b[0m",
      "\u001b[0;32m/opt/conda/lib/python3.9/site-packages/sklearn/model_selection/_validation.py\u001b[0m in \u001b[0;36m_fit_and_score\u001b[0;34m(estimator, X, y, scorer, train, test, verbose, parameters, fit_params, return_train_score, return_parameters, return_n_test_samples, return_times, return_estimator, split_progress, candidate_progress, error_score)\u001b[0m\n\u001b[1;32m    592\u001b[0m         \u001b[0;32melse\u001b[0m\u001b[0;34m:\u001b[0m\u001b[0;34m\u001b[0m\u001b[0;34m\u001b[0m\u001b[0m\n\u001b[0;32m--> 593\u001b[0;31m             \u001b[0mestimator\u001b[0m\u001b[0;34m.\u001b[0m\u001b[0mfit\u001b[0m\u001b[0;34m(\u001b[0m\u001b[0mX_train\u001b[0m\u001b[0;34m,\u001b[0m \u001b[0my_train\u001b[0m\u001b[0;34m,\u001b[0m \u001b[0;34m**\u001b[0m\u001b[0mfit_params\u001b[0m\u001b[0;34m)\u001b[0m\u001b[0;34m\u001b[0m\u001b[0;34m\u001b[0m\u001b[0m\n\u001b[0m\u001b[1;32m    594\u001b[0m \u001b[0;34m\u001b[0m\u001b[0m\n",
      "\u001b[0;32m/opt/conda/lib/python3.9/site-packages/lightgbm/sklearn.py\u001b[0m in \u001b[0;36mfit\u001b[0;34m(self, X, y, sample_weight, init_score, eval_set, eval_names, eval_sample_weight, eval_init_score, eval_metric, early_stopping_rounds, verbose, feature_name, categorical_feature, callbacks, init_model)\u001b[0m\n\u001b[1;32m    894\u001b[0m         \u001b[0;34m\"\"\"Docstring is inherited from the LGBMModel.\"\"\"\u001b[0m\u001b[0;34m\u001b[0m\u001b[0;34m\u001b[0m\u001b[0m\n\u001b[0;32m--> 895\u001b[0;31m         super().fit(X, y, sample_weight=sample_weight, init_score=init_score,\n\u001b[0m\u001b[1;32m    896\u001b[0m                     \u001b[0meval_set\u001b[0m\u001b[0;34m=\u001b[0m\u001b[0meval_set\u001b[0m\u001b[0;34m,\u001b[0m \u001b[0meval_names\u001b[0m\u001b[0;34m=\u001b[0m\u001b[0meval_names\u001b[0m\u001b[0;34m,\u001b[0m \u001b[0meval_sample_weight\u001b[0m\u001b[0;34m=\u001b[0m\u001b[0meval_sample_weight\u001b[0m\u001b[0;34m,\u001b[0m\u001b[0;34m\u001b[0m\u001b[0;34m\u001b[0m\u001b[0m\n",
      "\u001b[0;32m/opt/conda/lib/python3.9/site-packages/lightgbm/sklearn.py\u001b[0m in \u001b[0;36mfit\u001b[0;34m(self, X, y, sample_weight, init_score, group, eval_set, eval_names, eval_sample_weight, eval_class_weight, eval_init_score, eval_group, eval_metric, early_stopping_rounds, verbose, feature_name, categorical_feature, callbacks, init_model)\u001b[0m\n\u001b[1;32m    747\u001b[0m \u001b[0;34m\u001b[0m\u001b[0m\n\u001b[0;32m--> 748\u001b[0;31m         self._Booster = train(\n\u001b[0m\u001b[1;32m    749\u001b[0m             \u001b[0mparams\u001b[0m\u001b[0;34m=\u001b[0m\u001b[0mparams\u001b[0m\u001b[0;34m,\u001b[0m\u001b[0;34m\u001b[0m\u001b[0;34m\u001b[0m\u001b[0m\n",
      "\u001b[0;32m/opt/conda/lib/python3.9/site-packages/lightgbm/engine.py\u001b[0m in \u001b[0;36mtrain\u001b[0;34m(params, train_set, num_boost_round, valid_sets, valid_names, fobj, feval, init_model, feature_name, categorical_feature, early_stopping_rounds, evals_result, verbose_eval, learning_rates, keep_training_booster, callbacks)\u001b[0m\n\u001b[1;32m    291\u001b[0m \u001b[0;34m\u001b[0m\u001b[0m\n\u001b[0;32m--> 292\u001b[0;31m         \u001b[0mbooster\u001b[0m\u001b[0;34m.\u001b[0m\u001b[0mupdate\u001b[0m\u001b[0;34m(\u001b[0m\u001b[0mfobj\u001b[0m\u001b[0;34m=\u001b[0m\u001b[0mfobj\u001b[0m\u001b[0;34m)\u001b[0m\u001b[0;34m\u001b[0m\u001b[0;34m\u001b[0m\u001b[0m\n\u001b[0m\u001b[1;32m    293\u001b[0m \u001b[0;34m\u001b[0m\u001b[0m\n",
      "\u001b[0;32m/opt/conda/lib/python3.9/site-packages/lightgbm/basic.py\u001b[0m in \u001b[0;36mupdate\u001b[0;34m(self, train_set, fobj)\u001b[0m\n\u001b[1;32m   3020\u001b[0m                 \u001b[0;32mraise\u001b[0m \u001b[0mLightGBMError\u001b[0m\u001b[0;34m(\u001b[0m\u001b[0;34m'Cannot update due to null objective function.'\u001b[0m\u001b[0;34m)\u001b[0m\u001b[0;34m\u001b[0m\u001b[0;34m\u001b[0m\u001b[0m\n\u001b[0;32m-> 3021\u001b[0;31m             _safe_call(_LIB.LGBM_BoosterUpdateOneIter(\n\u001b[0m\u001b[1;32m   3022\u001b[0m                 \u001b[0mself\u001b[0m\u001b[0;34m.\u001b[0m\u001b[0mhandle\u001b[0m\u001b[0;34m,\u001b[0m\u001b[0;34m\u001b[0m\u001b[0;34m\u001b[0m\u001b[0m\n",
      "\u001b[0;31mKeyboardInterrupt\u001b[0m: ",
      "\nDuring handling of the above exception, another exception occurred:\n",
      "\u001b[0;31mAttributeError\u001b[0m                            Traceback (most recent call last)",
      "\u001b[0;32m/opt/conda/lib/python3.9/site-packages/IPython/core/interactiveshell.py\u001b[0m in \u001b[0;36mshowtraceback\u001b[0;34m(self, exc_tuple, filename, tb_offset, exception_only, running_compiled_code)\u001b[0m\n\u001b[1;32m   2060\u001b[0m                         \u001b[0;31m# in the engines. This should return a list of strings.\u001b[0m\u001b[0;34m\u001b[0m\u001b[0;34m\u001b[0m\u001b[0;34m\u001b[0m\u001b[0m\n\u001b[0;32m-> 2061\u001b[0;31m                         \u001b[0mstb\u001b[0m \u001b[0;34m=\u001b[0m \u001b[0mvalue\u001b[0m\u001b[0;34m.\u001b[0m\u001b[0m_render_traceback_\u001b[0m\u001b[0;34m(\u001b[0m\u001b[0;34m)\u001b[0m\u001b[0;34m\u001b[0m\u001b[0;34m\u001b[0m\u001b[0m\n\u001b[0m\u001b[1;32m   2062\u001b[0m                     \u001b[0;32mexcept\u001b[0m \u001b[0mException\u001b[0m\u001b[0;34m:\u001b[0m\u001b[0;34m\u001b[0m\u001b[0;34m\u001b[0m\u001b[0m\n",
      "\u001b[0;31mAttributeError\u001b[0m: 'KeyboardInterrupt' object has no attribute '_render_traceback_'",
      "\nDuring handling of the above exception, another exception occurred:\n",
      "\u001b[0;31mTypeError\u001b[0m                                 Traceback (most recent call last)",
      "\u001b[0;32m/tmp/ipykernel_48/4113471158.py\u001b[0m in \u001b[0;36m<module>\u001b[0;34m\u001b[0m\n\u001b[0;32m----> 1\u001b[0;31m \u001b[0mget_ipython\u001b[0m\u001b[0;34m(\u001b[0m\u001b[0;34m)\u001b[0m\u001b[0;34m.\u001b[0m\u001b[0mrun_cell_magic\u001b[0m\u001b[0;34m(\u001b[0m\u001b[0;34m'time'\u001b[0m\u001b[0;34m,\u001b[0m \u001b[0;34m''\u001b[0m\u001b[0;34m,\u001b[0m \u001b[0;34m\"start = time.time()\\nmodel_lgbmr = LGBMRegressor() \\nparameters = [{'num_leaves':[25, 50, 100, 200], 'learning_rate':[.1, .3, .5], 'random_state':[12345]}]\\n\\nlgbmr = GridSearchCV(model_lgbmr, parameters, scoring='neg_mean_squared_error')\\nlgbmr.fit(features_train, target_train)\\n\\nprint(lgbmr.best_params_)\\nprint()\\n\\nmts = lgbmr.cv_results_['mean_test_score']\\n\\nrsme_lgbmr = (max(mts) * -1) ** .5\\nrsme_lgbmr\\nend = time.time()\\nt_lgb=round(end-start,2)\\n\"\u001b[0m\u001b[0;34m)\u001b[0m\u001b[0;34m\u001b[0m\u001b[0;34m\u001b[0m\u001b[0m\n\u001b[0m",
      "\u001b[0;32m/opt/conda/lib/python3.9/site-packages/IPython/core/interactiveshell.py\u001b[0m in \u001b[0;36mrun_cell_magic\u001b[0;34m(self, magic_name, line, cell)\u001b[0m\n\u001b[1;32m   2401\u001b[0m             \u001b[0;32mwith\u001b[0m \u001b[0mself\u001b[0m\u001b[0;34m.\u001b[0m\u001b[0mbuiltin_trap\u001b[0m\u001b[0;34m:\u001b[0m\u001b[0;34m\u001b[0m\u001b[0;34m\u001b[0m\u001b[0m\n\u001b[1;32m   2402\u001b[0m                 \u001b[0margs\u001b[0m \u001b[0;34m=\u001b[0m \u001b[0;34m(\u001b[0m\u001b[0mmagic_arg_s\u001b[0m\u001b[0;34m,\u001b[0m \u001b[0mcell\u001b[0m\u001b[0;34m)\u001b[0m\u001b[0;34m\u001b[0m\u001b[0;34m\u001b[0m\u001b[0m\n\u001b[0;32m-> 2403\u001b[0;31m                 \u001b[0mresult\u001b[0m \u001b[0;34m=\u001b[0m \u001b[0mfn\u001b[0m\u001b[0;34m(\u001b[0m\u001b[0;34m*\u001b[0m\u001b[0margs\u001b[0m\u001b[0;34m,\u001b[0m \u001b[0;34m**\u001b[0m\u001b[0mkwargs\u001b[0m\u001b[0;34m)\u001b[0m\u001b[0;34m\u001b[0m\u001b[0;34m\u001b[0m\u001b[0m\n\u001b[0m\u001b[1;32m   2404\u001b[0m             \u001b[0;32mreturn\u001b[0m \u001b[0mresult\u001b[0m\u001b[0;34m\u001b[0m\u001b[0;34m\u001b[0m\u001b[0m\n\u001b[1;32m   2405\u001b[0m \u001b[0;34m\u001b[0m\u001b[0m\n",
      "\u001b[0;32m/opt/conda/lib/python3.9/site-packages/decorator.py\u001b[0m in \u001b[0;36mfun\u001b[0;34m(*args, **kw)\u001b[0m\n\u001b[1;32m    230\u001b[0m             \u001b[0;32mif\u001b[0m \u001b[0;32mnot\u001b[0m \u001b[0mkwsyntax\u001b[0m\u001b[0;34m:\u001b[0m\u001b[0;34m\u001b[0m\u001b[0;34m\u001b[0m\u001b[0m\n\u001b[1;32m    231\u001b[0m                 \u001b[0margs\u001b[0m\u001b[0;34m,\u001b[0m \u001b[0mkw\u001b[0m \u001b[0;34m=\u001b[0m \u001b[0mfix\u001b[0m\u001b[0;34m(\u001b[0m\u001b[0margs\u001b[0m\u001b[0;34m,\u001b[0m \u001b[0mkw\u001b[0m\u001b[0;34m,\u001b[0m \u001b[0msig\u001b[0m\u001b[0;34m)\u001b[0m\u001b[0;34m\u001b[0m\u001b[0;34m\u001b[0m\u001b[0m\n\u001b[0;32m--> 232\u001b[0;31m             \u001b[0;32mreturn\u001b[0m \u001b[0mcaller\u001b[0m\u001b[0;34m(\u001b[0m\u001b[0mfunc\u001b[0m\u001b[0;34m,\u001b[0m \u001b[0;34m*\u001b[0m\u001b[0;34m(\u001b[0m\u001b[0mextras\u001b[0m \u001b[0;34m+\u001b[0m \u001b[0margs\u001b[0m\u001b[0;34m)\u001b[0m\u001b[0;34m,\u001b[0m \u001b[0;34m**\u001b[0m\u001b[0mkw\u001b[0m\u001b[0;34m)\u001b[0m\u001b[0;34m\u001b[0m\u001b[0;34m\u001b[0m\u001b[0m\n\u001b[0m\u001b[1;32m    233\u001b[0m     \u001b[0mfun\u001b[0m\u001b[0;34m.\u001b[0m\u001b[0m__name__\u001b[0m \u001b[0;34m=\u001b[0m \u001b[0mfunc\u001b[0m\u001b[0;34m.\u001b[0m\u001b[0m__name__\u001b[0m\u001b[0;34m\u001b[0m\u001b[0;34m\u001b[0m\u001b[0m\n\u001b[1;32m    234\u001b[0m     \u001b[0mfun\u001b[0m\u001b[0;34m.\u001b[0m\u001b[0m__doc__\u001b[0m \u001b[0;34m=\u001b[0m \u001b[0mfunc\u001b[0m\u001b[0;34m.\u001b[0m\u001b[0m__doc__\u001b[0m\u001b[0;34m\u001b[0m\u001b[0;34m\u001b[0m\u001b[0m\n",
      "\u001b[0;32m/opt/conda/lib/python3.9/site-packages/IPython/core/magic.py\u001b[0m in \u001b[0;36m<lambda>\u001b[0;34m(f, *a, **k)\u001b[0m\n\u001b[1;32m    185\u001b[0m     \u001b[0;31m# but it's overkill for just that one bit of state.\u001b[0m\u001b[0;34m\u001b[0m\u001b[0;34m\u001b[0m\u001b[0;34m\u001b[0m\u001b[0m\n\u001b[1;32m    186\u001b[0m     \u001b[0;32mdef\u001b[0m \u001b[0mmagic_deco\u001b[0m\u001b[0;34m(\u001b[0m\u001b[0marg\u001b[0m\u001b[0;34m)\u001b[0m\u001b[0;34m:\u001b[0m\u001b[0;34m\u001b[0m\u001b[0;34m\u001b[0m\u001b[0m\n\u001b[0;32m--> 187\u001b[0;31m         \u001b[0mcall\u001b[0m \u001b[0;34m=\u001b[0m \u001b[0;32mlambda\u001b[0m \u001b[0mf\u001b[0m\u001b[0;34m,\u001b[0m \u001b[0;34m*\u001b[0m\u001b[0ma\u001b[0m\u001b[0;34m,\u001b[0m \u001b[0;34m**\u001b[0m\u001b[0mk\u001b[0m\u001b[0;34m:\u001b[0m \u001b[0mf\u001b[0m\u001b[0;34m(\u001b[0m\u001b[0;34m*\u001b[0m\u001b[0ma\u001b[0m\u001b[0;34m,\u001b[0m \u001b[0;34m**\u001b[0m\u001b[0mk\u001b[0m\u001b[0;34m)\u001b[0m\u001b[0;34m\u001b[0m\u001b[0;34m\u001b[0m\u001b[0m\n\u001b[0m\u001b[1;32m    188\u001b[0m \u001b[0;34m\u001b[0m\u001b[0m\n\u001b[1;32m    189\u001b[0m         \u001b[0;32mif\u001b[0m \u001b[0mcallable\u001b[0m\u001b[0;34m(\u001b[0m\u001b[0marg\u001b[0m\u001b[0;34m)\u001b[0m\u001b[0;34m:\u001b[0m\u001b[0;34m\u001b[0m\u001b[0;34m\u001b[0m\u001b[0m\n",
      "\u001b[0;32m/opt/conda/lib/python3.9/site-packages/IPython/core/magics/execution.py\u001b[0m in \u001b[0;36mtime\u001b[0;34m(self, line, cell, local_ns)\u001b[0m\n\u001b[1;32m   1326\u001b[0m                     \u001b[0mout\u001b[0m \u001b[0;34m=\u001b[0m \u001b[0meval\u001b[0m\u001b[0;34m(\u001b[0m\u001b[0mcode_2\u001b[0m\u001b[0;34m,\u001b[0m \u001b[0mglob\u001b[0m\u001b[0;34m,\u001b[0m \u001b[0mlocal_ns\u001b[0m\u001b[0;34m)\u001b[0m\u001b[0;34m\u001b[0m\u001b[0;34m\u001b[0m\u001b[0m\n\u001b[1;32m   1327\u001b[0m             \u001b[0;32mexcept\u001b[0m\u001b[0;34m:\u001b[0m\u001b[0;34m\u001b[0m\u001b[0;34m\u001b[0m\u001b[0m\n\u001b[0;32m-> 1328\u001b[0;31m                 \u001b[0mself\u001b[0m\u001b[0;34m.\u001b[0m\u001b[0mshell\u001b[0m\u001b[0;34m.\u001b[0m\u001b[0mshowtraceback\u001b[0m\u001b[0;34m(\u001b[0m\u001b[0;34m)\u001b[0m\u001b[0;34m\u001b[0m\u001b[0;34m\u001b[0m\u001b[0m\n\u001b[0m\u001b[1;32m   1329\u001b[0m                 \u001b[0;32mreturn\u001b[0m\u001b[0;34m\u001b[0m\u001b[0;34m\u001b[0m\u001b[0m\n\u001b[1;32m   1330\u001b[0m             \u001b[0mend\u001b[0m \u001b[0;34m=\u001b[0m \u001b[0mclock2\u001b[0m\u001b[0;34m(\u001b[0m\u001b[0;34m)\u001b[0m\u001b[0;34m\u001b[0m\u001b[0;34m\u001b[0m\u001b[0m\n",
      "\u001b[0;32m/opt/conda/lib/python3.9/site-packages/IPython/core/interactiveshell.py\u001b[0m in \u001b[0;36mshowtraceback\u001b[0;34m(self, exc_tuple, filename, tb_offset, exception_only, running_compiled_code)\u001b[0m\n\u001b[1;32m   2061\u001b[0m                         \u001b[0mstb\u001b[0m \u001b[0;34m=\u001b[0m \u001b[0mvalue\u001b[0m\u001b[0;34m.\u001b[0m\u001b[0m_render_traceback_\u001b[0m\u001b[0;34m(\u001b[0m\u001b[0;34m)\u001b[0m\u001b[0;34m\u001b[0m\u001b[0;34m\u001b[0m\u001b[0m\n\u001b[1;32m   2062\u001b[0m                     \u001b[0;32mexcept\u001b[0m \u001b[0mException\u001b[0m\u001b[0;34m:\u001b[0m\u001b[0;34m\u001b[0m\u001b[0;34m\u001b[0m\u001b[0m\n\u001b[0;32m-> 2063\u001b[0;31m                         stb = self.InteractiveTB.structured_traceback(etype,\n\u001b[0m\u001b[1;32m   2064\u001b[0m                                             value, tb, tb_offset=tb_offset)\n\u001b[1;32m   2065\u001b[0m \u001b[0;34m\u001b[0m\u001b[0m\n",
      "\u001b[0;32m/opt/conda/lib/python3.9/site-packages/IPython/core/ultratb.py\u001b[0m in \u001b[0;36mstructured_traceback\u001b[0;34m(self, etype, value, tb, tb_offset, number_of_lines_of_context)\u001b[0m\n\u001b[1;32m   1365\u001b[0m         \u001b[0;32melse\u001b[0m\u001b[0;34m:\u001b[0m\u001b[0;34m\u001b[0m\u001b[0;34m\u001b[0m\u001b[0m\n\u001b[1;32m   1366\u001b[0m             \u001b[0mself\u001b[0m\u001b[0;34m.\u001b[0m\u001b[0mtb\u001b[0m \u001b[0;34m=\u001b[0m \u001b[0mtb\u001b[0m\u001b[0;34m\u001b[0m\u001b[0;34m\u001b[0m\u001b[0m\n\u001b[0;32m-> 1367\u001b[0;31m         return FormattedTB.structured_traceback(\n\u001b[0m\u001b[1;32m   1368\u001b[0m             self, etype, value, tb, tb_offset, number_of_lines_of_context)\n\u001b[1;32m   1369\u001b[0m \u001b[0;34m\u001b[0m\u001b[0m\n",
      "\u001b[0;32m/opt/conda/lib/python3.9/site-packages/IPython/core/ultratb.py\u001b[0m in \u001b[0;36mstructured_traceback\u001b[0;34m(self, etype, value, tb, tb_offset, number_of_lines_of_context)\u001b[0m\n\u001b[1;32m   1265\u001b[0m         \u001b[0;32mif\u001b[0m \u001b[0mmode\u001b[0m \u001b[0;32min\u001b[0m \u001b[0mself\u001b[0m\u001b[0;34m.\u001b[0m\u001b[0mverbose_modes\u001b[0m\u001b[0;34m:\u001b[0m\u001b[0;34m\u001b[0m\u001b[0;34m\u001b[0m\u001b[0m\n\u001b[1;32m   1266\u001b[0m             \u001b[0;31m# Verbose modes need a full traceback\u001b[0m\u001b[0;34m\u001b[0m\u001b[0;34m\u001b[0m\u001b[0;34m\u001b[0m\u001b[0m\n\u001b[0;32m-> 1267\u001b[0;31m             return VerboseTB.structured_traceback(\n\u001b[0m\u001b[1;32m   1268\u001b[0m                 \u001b[0mself\u001b[0m\u001b[0;34m,\u001b[0m \u001b[0metype\u001b[0m\u001b[0;34m,\u001b[0m \u001b[0mvalue\u001b[0m\u001b[0;34m,\u001b[0m \u001b[0mtb\u001b[0m\u001b[0;34m,\u001b[0m \u001b[0mtb_offset\u001b[0m\u001b[0;34m,\u001b[0m \u001b[0mnumber_of_lines_of_context\u001b[0m\u001b[0;34m\u001b[0m\u001b[0;34m\u001b[0m\u001b[0m\n\u001b[1;32m   1269\u001b[0m             )\n",
      "\u001b[0;32m/opt/conda/lib/python3.9/site-packages/IPython/core/ultratb.py\u001b[0m in \u001b[0;36mstructured_traceback\u001b[0;34m(self, etype, evalue, etb, tb_offset, number_of_lines_of_context)\u001b[0m\n\u001b[1;32m   1122\u001b[0m         \u001b[0;34m\"\"\"Return a nice text document describing the traceback.\"\"\"\u001b[0m\u001b[0;34m\u001b[0m\u001b[0;34m\u001b[0m\u001b[0m\n\u001b[1;32m   1123\u001b[0m \u001b[0;34m\u001b[0m\u001b[0m\n\u001b[0;32m-> 1124\u001b[0;31m         formatted_exception = self.format_exception_as_a_whole(etype, evalue, etb, number_of_lines_of_context,\n\u001b[0m\u001b[1;32m   1125\u001b[0m                                                                tb_offset)\n\u001b[1;32m   1126\u001b[0m \u001b[0;34m\u001b[0m\u001b[0m\n",
      "\u001b[0;32m/opt/conda/lib/python3.9/site-packages/IPython/core/ultratb.py\u001b[0m in \u001b[0;36mformat_exception_as_a_whole\u001b[0;34m(self, etype, evalue, etb, number_of_lines_of_context, tb_offset)\u001b[0m\n\u001b[1;32m   1080\u001b[0m \u001b[0;34m\u001b[0m\u001b[0m\n\u001b[1;32m   1081\u001b[0m \u001b[0;34m\u001b[0m\u001b[0m\n\u001b[0;32m-> 1082\u001b[0;31m         \u001b[0mlast_unique\u001b[0m\u001b[0;34m,\u001b[0m \u001b[0mrecursion_repeat\u001b[0m \u001b[0;34m=\u001b[0m \u001b[0mfind_recursion\u001b[0m\u001b[0;34m(\u001b[0m\u001b[0morig_etype\u001b[0m\u001b[0;34m,\u001b[0m \u001b[0mevalue\u001b[0m\u001b[0;34m,\u001b[0m \u001b[0mrecords\u001b[0m\u001b[0;34m)\u001b[0m\u001b[0;34m\u001b[0m\u001b[0;34m\u001b[0m\u001b[0m\n\u001b[0m\u001b[1;32m   1083\u001b[0m \u001b[0;34m\u001b[0m\u001b[0m\n\u001b[1;32m   1084\u001b[0m         \u001b[0mframes\u001b[0m \u001b[0;34m=\u001b[0m \u001b[0mself\u001b[0m\u001b[0;34m.\u001b[0m\u001b[0mformat_records\u001b[0m\u001b[0;34m(\u001b[0m\u001b[0mrecords\u001b[0m\u001b[0;34m,\u001b[0m \u001b[0mlast_unique\u001b[0m\u001b[0;34m,\u001b[0m \u001b[0mrecursion_repeat\u001b[0m\u001b[0;34m)\u001b[0m\u001b[0;34m\u001b[0m\u001b[0;34m\u001b[0m\u001b[0m\n",
      "\u001b[0;32m/opt/conda/lib/python3.9/site-packages/IPython/core/ultratb.py\u001b[0m in \u001b[0;36mfind_recursion\u001b[0;34m(etype, value, records)\u001b[0m\n\u001b[1;32m    380\u001b[0m     \u001b[0;31m# first frame (from in to out) that looks different.\u001b[0m\u001b[0;34m\u001b[0m\u001b[0;34m\u001b[0m\u001b[0;34m\u001b[0m\u001b[0m\n\u001b[1;32m    381\u001b[0m     \u001b[0;32mif\u001b[0m \u001b[0;32mnot\u001b[0m \u001b[0mis_recursion_error\u001b[0m\u001b[0;34m(\u001b[0m\u001b[0metype\u001b[0m\u001b[0;34m,\u001b[0m \u001b[0mvalue\u001b[0m\u001b[0;34m,\u001b[0m \u001b[0mrecords\u001b[0m\u001b[0;34m)\u001b[0m\u001b[0;34m:\u001b[0m\u001b[0;34m\u001b[0m\u001b[0;34m\u001b[0m\u001b[0m\n\u001b[0;32m--> 382\u001b[0;31m         \u001b[0;32mreturn\u001b[0m \u001b[0mlen\u001b[0m\u001b[0;34m(\u001b[0m\u001b[0mrecords\u001b[0m\u001b[0;34m)\u001b[0m\u001b[0;34m,\u001b[0m \u001b[0;36m0\u001b[0m\u001b[0;34m\u001b[0m\u001b[0;34m\u001b[0m\u001b[0m\n\u001b[0m\u001b[1;32m    383\u001b[0m \u001b[0;34m\u001b[0m\u001b[0m\n\u001b[1;32m    384\u001b[0m     \u001b[0;31m# Select filename, lineno, func_name to track frames with\u001b[0m\u001b[0;34m\u001b[0m\u001b[0;34m\u001b[0m\u001b[0;34m\u001b[0m\u001b[0m\n",
      "\u001b[0;31mTypeError\u001b[0m: object of type 'NoneType' has no len()"
     ]
    }
   ],
   "source": [
    "%%time\n",
    "start = time.time()\n",
    "model_lgbmr = LGBMRegressor() \n",
    "parameters = [{'num_leaves':[25, 50, 100, 200], 'learning_rate':[.1, .3, .5], 'random_state':[12345]}]\n",
    "\n",
    "lgbmr = GridSearchCV(model_lgbmr, parameters, scoring='neg_mean_squared_error')\n",
    "lgbmr.fit(features_train, target_train)\n",
    "\n",
    "print(lgbmr.best_params_)\n",
    "print()\n",
    "\n",
    "mts = lgbmr.cv_results_['mean_test_score']\n",
    "\n",
    "rsme_lgbmr = (max(mts) * -1) ** .5\n",
    "rsme_lgbmr\n",
    "end = time.time()\n",
    "t_lgb=round(end-start,2)"
   ]
  },
  {
   "cell_type": "code",
   "execution_count": null,
   "metadata": {},
   "outputs": [],
   "source": []
  },
  {
   "cell_type": "code",
   "execution_count": null,
   "metadata": {},
   "outputs": [],
   "source": [
    "%%time\n",
    "start = time.time()\n",
    "model_gbmr = LGBMRegressor(learning_rate=.3, num_leaves=200, random_state=12345)\n",
    "model_gbmr.fit(features_train, target_train)\n",
    "end = time.time()\n",
    "t_lgb_p=round(end-start,2)"
   ]
  },
  {
   "cell_type": "code",
   "execution_count": null,
   "metadata": {},
   "outputs": [],
   "source": [
    "%%time\n",
    "\n",
    "valid_predict_lgbmr = model_gbmr.predict(features_valid)"
   ]
  },
  {
   "cell_type": "code",
   "execution_count": null,
   "metadata": {},
   "outputs": [],
   "source": [
    "lgbm_predictions = lgbmr.predict(features_test)\n",
    "mae_lgbmr = mean_absolute_error(target_test , lgbm_predictions)\n",
    "print('MAE модели LightGBM равна:',mae_lgbmr.round(2))\n",
    "random_lgbmr_rmse = rmse(target_test, lgbm_predictions)\n",
    "print('RMSE модели LightGBM равна:', random_lgbmr_rmse)"
   ]
  },
  {
   "cell_type": "markdown",
   "metadata": {},
   "source": [
    "**CatBoostRegressor**"
   ]
  },
  {
   "cell_type": "code",
   "execution_count": null,
   "metadata": {},
   "outputs": [],
   "source": [
    "%%time\n",
    "\n",
    "model_cbr = CatBoostRegressor() \n",
    "parameter = [{'learning_rate':[.1, .5, .8], 'random_state':[12345], 'verbose':[False]}]\n",
    "\n",
    "gscv = GridSearchCV(model_cbr, parameter, scoring='neg_mean_squared_error')\n",
    "gscv.fit(features_train, target_train)\n",
    "\n",
    "print(gscv.best_params_)\n",
    "\n",
    "mts = gscv.cv_results_['mean_test_score']\n",
    "    \n",
    "gscv_rsme_cbr = (max(mts) * -1) ** .5\n",
    "gscv_rsme_cbr\n",
    "end = time.time()\n",
    "t_cat=round(end-start,2)"
   ]
  },
  {
   "cell_type": "code",
   "execution_count": null,
   "metadata": {},
   "outputs": [],
   "source": [
    "%%time\n",
    "start = time.time()\n",
    "predict_cat = gscv.best_estimator_.predict(features_valid)\n",
    "end = time.time()\n",
    "t_cat_p = round(end - start, 2)"
   ]
  },
  {
   "cell_type": "code",
   "execution_count": null,
   "metadata": {},
   "outputs": [],
   "source": [
    "mae_cbr = mean_absolute_error(target_test , predict_cat)\n",
    "print('MAE модели CatBoostRegressor равна:',mae_lr.round(2))\n",
    "cbr_rmse = rmse(target_test, predict_cat)\n",
    "print('RMSE модели CatBoostRegressor равна :', cbr_rmse)"
   ]
  },
  {
   "cell_type": "markdown",
   "metadata": {},
   "source": [
    "## Анализ моделей"
   ]
  },
  {
   "cell_type": "code",
   "execution_count": null,
   "metadata": {},
   "outputs": [],
   "source": [
    "\n",
    "tablе = pd.DataFrame(index=['RMSE модели', 'MAE модели', 'Скорость обучения, s', 'Скорость предсказания, s'], columns=['LinearRegression', 'RandomForestRegressor', 'CatBoostRegressor', 'LightGBM'])\n",
    "tablе['LinearRegression'] = rmse_lr, mae_lr, t_lr, t_lr_p\n",
    "tablе['RandomForestRegressor'] = random_forest_rmse, mae_random_forest, t_rf, t_rf_p\n",
    "tablе['CatBoostRegressor'] = cbr_rmse,mae_cbr, t_cat, t_cat_p\n",
    "tablе['LightGBM'] = random_lgbmr_rmse,mae_lgbmr,t_lgb,t_lgb_p\n",
    "tablе\n"
   ]
  },
  {
   "cell_type": "markdown",
   "metadata": {},
   "source": [
    "Исходя из сводных данных, видим что лучшая модель RandomForest"
   ]
  },
  {
   "cell_type": "code",
   "execution_count": null,
   "metadata": {},
   "outputs": [],
   "source": [
    "%%time\n",
    "model_t_rf = RandomForestRegressor(random_state=12345, criterion='mse',warm_start=False, n_estimators=100)\n",
    "model_t_rf.fit(features_valid, target_valid)\n",
    "predictions_test_rf = model_t_rf.predict(features_test)\n",
    "print(rmse(target_test, predictions_test_rf) ** .5)\n"
   ]
  },
  {
   "cell_type": "markdown",
   "metadata": {},
   "source": [
    "Видим, что наша  модель показала лучшие результаты "
   ]
  },
  {
   "cell_type": "markdown",
   "metadata": {},
   "source": [
    "Проанализированы время обучения, время предсказания и качество моделей.\n",
    "\n",
    "Выбрана лучшая модель, и проверено её качество на тестовой выборке."
   ]
  },
  {
   "cell_type": "markdown",
   "metadata": {},
   "source": [
    "## Чек-лист проверки"
   ]
  },
  {
   "cell_type": "markdown",
   "metadata": {},
   "source": [
    "Поставьте 'x' в выполненных пунктах. Далее нажмите Shift+Enter."
   ]
  },
  {
   "cell_type": "markdown",
   "metadata": {},
   "source": [
    "\n",
    "- [x]  Весь код выполняется без ошибок\n",
    "- [x]  Ячейки с кодом расположены в порядке исполнения\n",
    "- [x]  Выполнена загрузка и подготовка данных\n",
    "- [x]  Выполнено обучение моделей\n",
    "- [x]  Есть анализ скорости работы и качества моделей"
   ]
  },
  {
   "cell_type": "code",
   "execution_count": null,
   "metadata": {},
   "outputs": [],
   "source": []
  }
 ],
 "metadata": {
  "ExecuteTimeLog": [
   {
    "duration": 1368,
    "start_time": "2023-08-03T16:40:59.450Z"
   },
   {
    "duration": 1236,
    "start_time": "2023-08-03T16:41:21.999Z"
   },
   {
    "duration": 22,
    "start_time": "2023-08-03T16:41:44.372Z"
   },
   {
    "duration": 209,
    "start_time": "2023-08-03T16:42:09.418Z"
   },
   {
    "duration": 114,
    "start_time": "2023-08-03T16:42:24.378Z"
   },
   {
    "duration": 99,
    "start_time": "2023-08-03T16:42:35.574Z"
   },
   {
    "duration": 104,
    "start_time": "2023-08-03T16:43:02.833Z"
   },
   {
    "duration": 505,
    "start_time": "2023-08-03T16:43:41.055Z"
   },
   {
    "duration": 515,
    "start_time": "2023-08-03T16:53:28.170Z"
   },
   {
    "duration": 121,
    "start_time": "2023-08-03T16:53:58.210Z"
   },
   {
    "duration": 7,
    "start_time": "2023-08-03T16:58:26.130Z"
   },
   {
    "duration": 10,
    "start_time": "2023-08-03T17:00:49.720Z"
   },
   {
    "duration": 109,
    "start_time": "2023-08-03T17:07:48.355Z"
   },
   {
    "duration": 18,
    "start_time": "2023-08-03T17:08:06.173Z"
   },
   {
    "duration": 35,
    "start_time": "2023-08-03T17:08:39.452Z"
   },
   {
    "duration": 33,
    "start_time": "2023-08-03T17:09:30.125Z"
   },
   {
    "duration": 2522,
    "start_time": "2023-08-03T17:14:00.115Z"
   },
   {
    "duration": 1874,
    "start_time": "2023-08-03T17:14:13.680Z"
   },
   {
    "duration": 31,
    "start_time": "2023-08-03T17:14:39.857Z"
   },
   {
    "duration": 1966,
    "start_time": "2023-08-03T17:14:45.471Z"
   },
   {
    "duration": 44,
    "start_time": "2023-08-03T17:17:50.423Z"
   },
   {
    "duration": 9,
    "start_time": "2023-08-03T17:29:28.235Z"
   },
   {
    "duration": 20,
    "start_time": "2023-08-03T17:29:52.774Z"
   },
   {
    "duration": 30,
    "start_time": "2023-08-03T17:35:56.933Z"
   },
   {
    "duration": 222,
    "start_time": "2023-08-03T17:39:54.458Z"
   },
   {
    "duration": 9,
    "start_time": "2023-08-03T17:40:15.107Z"
   },
   {
    "duration": 26,
    "start_time": "2023-08-03T17:40:57.639Z"
   },
   {
    "duration": 392,
    "start_time": "2023-08-03T17:41:54.562Z"
   },
   {
    "duration": 27,
    "start_time": "2023-08-03T17:42:14.835Z"
   },
   {
    "duration": 17,
    "start_time": "2023-08-03T17:43:09.654Z"
   },
   {
    "duration": 37,
    "start_time": "2023-08-03T17:43:13.870Z"
   },
   {
    "duration": 35,
    "start_time": "2023-08-03T17:50:16.123Z"
   },
   {
    "duration": 39,
    "start_time": "2023-08-03T17:50:50.036Z"
   },
   {
    "duration": 45,
    "start_time": "2023-08-03T17:52:11.840Z"
   },
   {
    "duration": 16,
    "start_time": "2023-08-03T17:52:57.154Z"
   },
   {
    "duration": 15,
    "start_time": "2023-08-03T17:55:49.171Z"
   },
   {
    "duration": 17,
    "start_time": "2023-08-03T17:56:08.963Z"
   },
   {
    "duration": 9,
    "start_time": "2023-08-03T17:56:19.199Z"
   },
   {
    "duration": 49,
    "start_time": "2023-08-03T18:03:31.212Z"
   },
   {
    "duration": 45,
    "start_time": "2023-08-03T18:05:33.598Z"
   },
   {
    "duration": 20,
    "start_time": "2023-08-03T18:06:47.651Z"
   },
   {
    "duration": 6,
    "start_time": "2023-08-03T18:07:13.054Z"
   },
   {
    "duration": 107,
    "start_time": "2023-08-03T18:07:55.043Z"
   },
   {
    "duration": 10,
    "start_time": "2023-08-03T18:08:05.375Z"
   },
   {
    "duration": 6,
    "start_time": "2023-08-03T18:08:17.549Z"
   },
   {
    "duration": 8,
    "start_time": "2023-08-03T18:10:40.621Z"
   },
   {
    "duration": 33,
    "start_time": "2023-08-03T18:13:14.532Z"
   },
   {
    "duration": 12,
    "start_time": "2023-08-03T18:13:24.350Z"
   },
   {
    "duration": 24,
    "start_time": "2023-08-03T18:13:34.532Z"
   },
   {
    "duration": 19,
    "start_time": "2023-08-03T18:13:47.848Z"
   },
   {
    "duration": 12,
    "start_time": "2023-08-03T18:14:12.634Z"
   },
   {
    "duration": 13,
    "start_time": "2023-08-03T18:14:58.436Z"
   },
   {
    "duration": 64,
    "start_time": "2023-08-03T18:15:11.527Z"
   },
   {
    "duration": 16,
    "start_time": "2023-08-03T18:16:18.735Z"
   },
   {
    "duration": 14,
    "start_time": "2023-08-03T18:16:42.649Z"
   },
   {
    "duration": 2531,
    "start_time": "2023-08-03T18:17:16.401Z"
   },
   {
    "duration": 24,
    "start_time": "2023-08-03T18:17:27.409Z"
   },
   {
    "duration": 1817,
    "start_time": "2023-08-03T18:19:13.940Z"
   },
   {
    "duration": 21,
    "start_time": "2023-08-03T18:19:48.626Z"
   },
   {
    "duration": 25,
    "start_time": "2023-08-03T18:19:59.552Z"
   },
   {
    "duration": 17,
    "start_time": "2023-08-03T18:20:05.935Z"
   },
   {
    "duration": 66,
    "start_time": "2023-08-03T18:23:46.425Z"
   },
   {
    "duration": 1322,
    "start_time": "2023-08-03T20:38:53.343Z"
   },
   {
    "duration": 1541,
    "start_time": "2023-08-03T20:39:08.113Z"
   },
   {
    "duration": 1112,
    "start_time": "2023-08-03T20:39:09.656Z"
   },
   {
    "duration": 17,
    "start_time": "2023-08-03T20:39:10.770Z"
   },
   {
    "duration": 124,
    "start_time": "2023-08-03T20:39:10.788Z"
   },
   {
    "duration": 137,
    "start_time": "2023-08-03T20:39:10.914Z"
   },
   {
    "duration": 108,
    "start_time": "2023-08-03T20:39:11.053Z"
   },
   {
    "duration": 512,
    "start_time": "2023-08-03T20:39:11.162Z"
   },
   {
    "duration": 500,
    "start_time": "2023-08-03T20:39:11.676Z"
   },
   {
    "duration": 124,
    "start_time": "2023-08-03T20:39:12.177Z"
   },
   {
    "duration": 11,
    "start_time": "2023-08-03T20:39:12.303Z"
   },
   {
    "duration": 29,
    "start_time": "2023-08-03T20:39:12.315Z"
   },
   {
    "duration": 1912,
    "start_time": "2023-08-03T20:39:12.346Z"
   },
   {
    "duration": 28,
    "start_time": "2023-08-03T20:39:14.260Z"
   },
   {
    "duration": 24,
    "start_time": "2023-08-03T20:39:14.291Z"
   },
   {
    "duration": 52,
    "start_time": "2023-08-03T20:39:14.317Z"
   },
   {
    "duration": 25,
    "start_time": "2023-08-03T20:39:14.370Z"
   },
   {
    "duration": 199,
    "start_time": "2023-08-03T20:39:14.397Z"
   },
   {
    "duration": 13,
    "start_time": "2023-08-03T20:39:14.597Z"
   },
   {
    "duration": 26,
    "start_time": "2023-08-03T20:39:14.611Z"
   },
   {
    "duration": 28,
    "start_time": "2023-08-03T20:39:14.639Z"
   },
   {
    "duration": 18,
    "start_time": "2023-08-03T20:39:14.668Z"
   },
   {
    "duration": 28,
    "start_time": "2023-08-03T20:39:14.708Z"
   },
   {
    "duration": 60,
    "start_time": "2023-08-03T20:39:14.738Z"
   },
   {
    "duration": 33,
    "start_time": "2023-08-03T20:39:14.800Z"
   },
   {
    "duration": 14,
    "start_time": "2023-08-03T20:39:14.835Z"
   },
   {
    "duration": 29,
    "start_time": "2023-08-03T20:39:14.851Z"
   },
   {
    "duration": 54,
    "start_time": "2023-08-03T20:39:14.882Z"
   },
   {
    "duration": 24,
    "start_time": "2023-08-03T20:39:14.938Z"
   },
   {
    "duration": 16,
    "start_time": "2023-08-03T20:39:14.964Z"
   },
   {
    "duration": 33,
    "start_time": "2023-08-03T20:39:14.981Z"
   },
   {
    "duration": 63,
    "start_time": "2023-08-03T20:39:15.016Z"
   },
   {
    "duration": 43,
    "start_time": "2023-08-03T20:39:15.081Z"
   },
   {
    "duration": 38,
    "start_time": "2023-08-03T20:39:15.125Z"
   },
   {
    "duration": 39,
    "start_time": "2023-08-03T20:39:15.164Z"
   },
   {
    "duration": 101,
    "start_time": "2023-08-03T20:39:15.205Z"
   },
   {
    "duration": 67,
    "start_time": "2023-08-06T17:36:45.924Z"
   },
   {
    "duration": 1800,
    "start_time": "2023-08-06T17:36:53.391Z"
   },
   {
    "duration": 1556,
    "start_time": "2023-08-06T17:36:55.194Z"
   },
   {
    "duration": 16,
    "start_time": "2023-08-06T17:36:56.752Z"
   },
   {
    "duration": 147,
    "start_time": "2023-08-06T17:36:56.770Z"
   },
   {
    "duration": 115,
    "start_time": "2023-08-06T17:36:56.918Z"
   },
   {
    "duration": 210,
    "start_time": "2023-08-06T17:36:57.035Z"
   },
   {
    "duration": 443,
    "start_time": "2023-08-06T17:36:57.249Z"
   },
   {
    "duration": 467,
    "start_time": "2023-08-06T17:36:57.694Z"
   },
   {
    "duration": 119,
    "start_time": "2023-08-06T17:36:58.163Z"
   },
   {
    "duration": 7,
    "start_time": "2023-08-06T17:36:58.285Z"
   },
   {
    "duration": 76,
    "start_time": "2023-08-06T17:36:58.294Z"
   },
   {
    "duration": 1787,
    "start_time": "2023-08-06T17:36:58.372Z"
   },
   {
    "duration": 28,
    "start_time": "2023-08-06T17:37:00.161Z"
   },
   {
    "duration": 19,
    "start_time": "2023-08-06T17:37:00.203Z"
   },
   {
    "duration": 51,
    "start_time": "2023-08-06T17:37:00.223Z"
   },
   {
    "duration": 23,
    "start_time": "2023-08-06T17:37:00.277Z"
   },
   {
    "duration": 223,
    "start_time": "2023-08-06T17:37:00.302Z"
   },
   {
    "duration": 7,
    "start_time": "2023-08-06T17:37:00.527Z"
   },
   {
    "duration": 61,
    "start_time": "2023-08-06T17:37:00.536Z"
   },
   {
    "duration": 74,
    "start_time": "2023-08-06T17:37:00.609Z"
   },
   {
    "duration": 37,
    "start_time": "2023-08-06T17:37:00.685Z"
   },
   {
    "duration": 73,
    "start_time": "2023-08-06T17:37:00.724Z"
   },
   {
    "duration": 78,
    "start_time": "2023-08-06T17:37:00.805Z"
   },
   {
    "duration": 54,
    "start_time": "2023-08-06T17:37:00.885Z"
   },
   {
    "duration": 23,
    "start_time": "2023-08-06T17:37:00.941Z"
   },
   {
    "duration": 66,
    "start_time": "2023-08-06T17:37:00.966Z"
   },
   {
    "duration": 39,
    "start_time": "2023-08-06T17:37:01.033Z"
   },
   {
    "duration": 79,
    "start_time": "2023-08-06T17:37:01.075Z"
   },
   {
    "duration": 33,
    "start_time": "2023-08-06T17:37:01.155Z"
   },
   {
    "duration": 68,
    "start_time": "2023-08-06T17:37:01.190Z"
   },
   {
    "duration": 85,
    "start_time": "2023-08-06T17:37:01.259Z"
   },
   {
    "duration": 21,
    "start_time": "2023-08-06T17:37:01.346Z"
   },
   {
    "duration": 48,
    "start_time": "2023-08-06T17:37:01.369Z"
   },
   {
    "duration": 31,
    "start_time": "2023-08-06T17:37:01.421Z"
   },
   {
    "duration": 124,
    "start_time": "2023-08-06T17:37:01.456Z"
   },
   {
    "duration": 145,
    "start_time": "2023-08-06T17:37:01.582Z"
   },
   {
    "duration": 14,
    "start_time": "2023-08-06T17:37:32.859Z"
   },
   {
    "duration": 46,
    "start_time": "2023-08-06T17:38:22.920Z"
   },
   {
    "duration": 12,
    "start_time": "2023-08-06T17:41:12.571Z"
   },
   {
    "duration": 750,
    "start_time": "2023-08-06T17:41:36.086Z"
   },
   {
    "duration": 480,
    "start_time": "2023-08-06T17:52:02.614Z"
   },
   {
    "duration": 16621,
    "start_time": "2023-08-06T17:53:04.889Z"
   },
   {
    "duration": 54092,
    "start_time": "2023-08-06T17:54:40.115Z"
   },
   {
    "duration": 465,
    "start_time": "2023-08-06T17:55:37.438Z"
   },
   {
    "duration": 5,
    "start_time": "2023-08-06T17:56:03.667Z"
   },
   {
    "duration": 86,
    "start_time": "2023-08-06T17:56:16.534Z"
   },
   {
    "duration": 70,
    "start_time": "2023-08-06T17:58:00.296Z"
   },
   {
    "duration": 94,
    "start_time": "2023-08-06T17:58:36.663Z"
   },
   {
    "duration": 7,
    "start_time": "2023-08-06T17:58:41.863Z"
   },
   {
    "duration": 6,
    "start_time": "2023-08-06T17:59:14.764Z"
   },
   {
    "duration": 0,
    "start_time": "2023-08-06T18:10:39.426Z"
   },
   {
    "duration": 0,
    "start_time": "2023-08-06T18:13:25.132Z"
   },
   {
    "duration": 908,
    "start_time": "2023-08-06T18:14:37.452Z"
   },
   {
    "duration": 53939,
    "start_time": "2023-08-06T18:14:40.828Z"
   },
   {
    "duration": 959,
    "start_time": "2023-08-06T18:15:34.770Z"
   },
   {
    "duration": 1368,
    "start_time": "2023-08-06T18:17:56.499Z"
   },
   {
    "duration": 757,
    "start_time": "2023-08-06T18:17:57.869Z"
   },
   {
    "duration": 14,
    "start_time": "2023-08-06T18:17:58.628Z"
   },
   {
    "duration": 121,
    "start_time": "2023-08-06T18:17:58.643Z"
   },
   {
    "duration": 95,
    "start_time": "2023-08-06T18:17:58.765Z"
   },
   {
    "duration": 105,
    "start_time": "2023-08-06T18:17:58.862Z"
   },
   {
    "duration": 391,
    "start_time": "2023-08-06T18:17:58.968Z"
   },
   {
    "duration": 453,
    "start_time": "2023-08-06T18:17:59.360Z"
   },
   {
    "duration": 110,
    "start_time": "2023-08-06T18:17:59.814Z"
   },
   {
    "duration": 7,
    "start_time": "2023-08-06T18:17:59.926Z"
   },
   {
    "duration": 31,
    "start_time": "2023-08-06T18:17:59.934Z"
   },
   {
    "duration": 1749,
    "start_time": "2023-08-06T18:17:59.967Z"
   },
   {
    "duration": 27,
    "start_time": "2023-08-06T18:18:01.717Z"
   },
   {
    "duration": 23,
    "start_time": "2023-08-06T18:18:01.746Z"
   },
   {
    "duration": 26,
    "start_time": "2023-08-06T18:18:01.770Z"
   },
   {
    "duration": 55,
    "start_time": "2023-08-06T18:18:01.798Z"
   },
   {
    "duration": 239,
    "start_time": "2023-08-06T18:18:01.855Z"
   },
   {
    "duration": 22,
    "start_time": "2023-08-06T18:18:02.096Z"
   },
   {
    "duration": 48,
    "start_time": "2023-08-06T18:18:02.120Z"
   },
   {
    "duration": 37,
    "start_time": "2023-08-06T18:18:02.169Z"
   },
   {
    "duration": 76,
    "start_time": "2023-08-06T18:18:02.207Z"
   },
   {
    "duration": 74,
    "start_time": "2023-08-06T18:18:02.284Z"
   },
   {
    "duration": 58,
    "start_time": "2023-08-06T18:18:02.359Z"
   },
   {
    "duration": 55,
    "start_time": "2023-08-06T18:18:02.419Z"
   },
   {
    "duration": 38,
    "start_time": "2023-08-06T18:18:02.476Z"
   },
   {
    "duration": 41,
    "start_time": "2023-08-06T18:18:02.517Z"
   },
   {
    "duration": 36,
    "start_time": "2023-08-06T18:18:02.560Z"
   },
   {
    "duration": 37,
    "start_time": "2023-08-06T18:18:02.599Z"
   },
   {
    "duration": 51,
    "start_time": "2023-08-06T18:18:02.637Z"
   },
   {
    "duration": 30,
    "start_time": "2023-08-06T18:18:02.689Z"
   },
   {
    "duration": 41,
    "start_time": "2023-08-06T18:18:02.721Z"
   },
   {
    "duration": 47,
    "start_time": "2023-08-06T18:18:02.764Z"
   },
   {
    "duration": 21,
    "start_time": "2023-08-06T18:18:02.812Z"
   },
   {
    "duration": 48,
    "start_time": "2023-08-06T18:18:02.834Z"
   },
   {
    "duration": 79,
    "start_time": "2023-08-06T18:18:02.884Z"
   },
   {
    "duration": 18,
    "start_time": "2023-08-06T18:18:02.965Z"
   },
   {
    "duration": 48,
    "start_time": "2023-08-06T18:18:02.984Z"
   },
   {
    "duration": 661,
    "start_time": "2023-08-06T18:18:03.034Z"
   },
   {
    "duration": 510,
    "start_time": "2023-08-06T18:18:03.696Z"
   },
   {
    "duration": 53008,
    "start_time": "2023-08-06T18:18:04.207Z"
   },
   {
    "duration": 504,
    "start_time": "2023-08-06T18:18:57.217Z"
   },
   {
    "duration": 81,
    "start_time": "2023-08-06T18:18:57.724Z"
   },
   {
    "duration": 119,
    "start_time": "2023-08-06T18:18:57.806Z"
   },
   {
    "duration": 9,
    "start_time": "2023-08-06T18:18:57.927Z"
   },
   {
    "duration": 186,
    "start_time": "2023-08-06T18:18:57.938Z"
   },
   {
    "duration": 200477,
    "start_time": "2023-08-06T18:18:58.125Z"
   },
   {
    "duration": 1098,
    "start_time": "2023-08-06T18:22:18.604Z"
   },
   {
    "duration": 52238,
    "start_time": "2023-08-06T18:42:47.689Z"
   },
   {
    "duration": 144366,
    "start_time": "2023-08-06T18:50:25.904Z"
   },
   {
    "duration": 198990,
    "start_time": "2023-08-06T18:59:21.220Z"
   },
   {
    "duration": 30532,
    "start_time": "2023-08-06T19:02:40.211Z"
   },
   {
    "duration": 93,
    "start_time": "2023-08-06T19:03:10.744Z"
   },
   {
    "duration": 4,
    "start_time": "2023-08-06T19:03:10.839Z"
   },
   {
    "duration": 173207,
    "start_time": "2023-08-06T19:04:55.315Z"
   },
   {
    "duration": 29053,
    "start_time": "2023-08-06T19:07:48.523Z"
   },
   {
    "duration": 2,
    "start_time": "2023-08-06T19:08:17.579Z"
   },
   {
    "duration": 119,
    "start_time": "2023-08-06T19:09:57.342Z"
   },
   {
    "duration": 294696,
    "start_time": "2023-08-06T19:14:27.443Z"
   },
   {
    "duration": 31625,
    "start_time": "2023-08-06T19:19:22.141Z"
   },
   {
    "duration": 128,
    "start_time": "2023-08-06T19:19:53.769Z"
   },
   {
    "duration": 112,
    "start_time": "2023-08-06T19:20:52.740Z"
   },
   {
    "duration": 116,
    "start_time": "2023-08-06T19:20:57.775Z"
   },
   {
    "duration": 120,
    "start_time": "2023-08-06T19:24:25.144Z"
   },
   {
    "duration": 165,
    "start_time": "2023-08-06T19:25:39.771Z"
   },
   {
    "duration": 90,
    "start_time": "2023-08-06T19:26:47.463Z"
   },
   {
    "duration": 68,
    "start_time": "2023-08-06T19:28:13.285Z"
   },
   {
    "duration": 120,
    "start_time": "2023-08-06T19:28:38.569Z"
   },
   {
    "duration": 111709,
    "start_time": "2023-08-06T19:31:35.329Z"
   },
   {
    "duration": 10,
    "start_time": "2023-08-06T19:37:34.180Z"
   },
   {
    "duration": 0,
    "start_time": "2023-08-06T19:37:34.193Z"
   },
   {
    "duration": 121,
    "start_time": "2023-08-06T19:37:44.459Z"
   },
   {
    "duration": 3,
    "start_time": "2023-08-06T19:40:06.771Z"
   },
   {
    "duration": 129,
    "start_time": "2023-08-06T19:40:16.992Z"
   },
   {
    "duration": 112,
    "start_time": "2023-08-06T19:40:51.562Z"
   },
   {
    "duration": 33277,
    "start_time": "2023-08-06T19:43:06.346Z"
   },
   {
    "duration": 2,
    "start_time": "2023-08-06T19:46:06.972Z"
   },
   {
    "duration": 35457,
    "start_time": "2023-08-06T19:46:30.372Z"
   },
   {
    "duration": 35997,
    "start_time": "2023-08-06T19:47:13.975Z"
   },
   {
    "duration": 36987,
    "start_time": "2023-08-06T19:48:00.269Z"
   },
   {
    "duration": 21737,
    "start_time": "2023-08-06T19:52:52.151Z"
   },
   {
    "duration": 101,
    "start_time": "2023-08-06T19:53:59.672Z"
   },
   {
    "duration": 95,
    "start_time": "2023-08-06T19:54:26.122Z"
   },
   {
    "duration": 169,
    "start_time": "2023-08-06T19:54:56.629Z"
   },
   {
    "duration": 99,
    "start_time": "2023-08-06T19:55:48.760Z"
   },
   {
    "duration": 12,
    "start_time": "2023-08-06T19:58:42.271Z"
   },
   {
    "duration": 139,
    "start_time": "2023-08-06T20:06:15.077Z"
   },
   {
    "duration": 92,
    "start_time": "2023-08-06T20:06:25.303Z"
   },
   {
    "duration": 97223,
    "start_time": "2023-08-06T20:17:10.364Z"
   },
   {
    "duration": 180,
    "start_time": "2023-08-06T20:18:59.050Z"
   },
   {
    "duration": 1527,
    "start_time": "2023-08-08T15:22:06.440Z"
   },
   {
    "duration": 989,
    "start_time": "2023-08-08T15:22:07.969Z"
   },
   {
    "duration": 15,
    "start_time": "2023-08-08T15:22:08.960Z"
   },
   {
    "duration": 120,
    "start_time": "2023-08-08T15:22:08.977Z"
   },
   {
    "duration": 98,
    "start_time": "2023-08-08T15:22:09.099Z"
   },
   {
    "duration": 142,
    "start_time": "2023-08-08T15:22:09.199Z"
   },
   {
    "duration": 463,
    "start_time": "2023-08-08T15:22:09.343Z"
   },
   {
    "duration": 468,
    "start_time": "2023-08-08T15:22:09.807Z"
   },
   {
    "duration": 111,
    "start_time": "2023-08-08T15:22:10.277Z"
   },
   {
    "duration": 8,
    "start_time": "2023-08-08T15:22:10.391Z"
   },
   {
    "duration": 44,
    "start_time": "2023-08-08T15:22:10.401Z"
   },
   {
    "duration": 2118,
    "start_time": "2023-08-08T15:22:10.447Z"
   },
   {
    "duration": 30,
    "start_time": "2023-08-08T15:22:12.566Z"
   },
   {
    "duration": 8,
    "start_time": "2023-08-08T15:22:12.598Z"
   },
   {
    "duration": 37,
    "start_time": "2023-08-08T15:22:12.608Z"
   },
   {
    "duration": 24,
    "start_time": "2023-08-08T15:22:12.646Z"
   },
   {
    "duration": 236,
    "start_time": "2023-08-08T15:22:12.672Z"
   },
   {
    "duration": 8,
    "start_time": "2023-08-08T15:22:12.910Z"
   },
   {
    "duration": 22,
    "start_time": "2023-08-08T15:22:12.931Z"
   },
   {
    "duration": 30,
    "start_time": "2023-08-08T15:22:12.955Z"
   },
   {
    "duration": 23,
    "start_time": "2023-08-08T15:22:12.986Z"
   },
   {
    "duration": 46,
    "start_time": "2023-08-08T15:22:13.011Z"
   },
   {
    "duration": 45,
    "start_time": "2023-08-08T15:22:13.059Z"
   },
   {
    "duration": 33,
    "start_time": "2023-08-08T15:22:13.105Z"
   },
   {
    "duration": 12,
    "start_time": "2023-08-08T15:22:13.140Z"
   },
   {
    "duration": 30,
    "start_time": "2023-08-08T15:22:13.154Z"
   },
   {
    "duration": 54,
    "start_time": "2023-08-08T15:22:13.185Z"
   },
   {
    "duration": 29,
    "start_time": "2023-08-08T15:22:13.242Z"
   },
   {
    "duration": 25,
    "start_time": "2023-08-08T15:22:13.273Z"
   },
   {
    "duration": 32,
    "start_time": "2023-08-08T15:22:13.300Z"
   },
   {
    "duration": 22,
    "start_time": "2023-08-08T15:22:13.333Z"
   },
   {
    "duration": 44,
    "start_time": "2023-08-08T15:22:13.357Z"
   },
   {
    "duration": 36,
    "start_time": "2023-08-08T15:22:13.403Z"
   },
   {
    "duration": 28,
    "start_time": "2023-08-08T15:22:13.441Z"
   },
   {
    "duration": 72,
    "start_time": "2023-08-08T15:22:13.471Z"
   },
   {
    "duration": 18,
    "start_time": "2023-08-08T15:22:13.545Z"
   },
   {
    "duration": 53,
    "start_time": "2023-08-08T15:22:13.565Z"
   },
   {
    "duration": 851,
    "start_time": "2023-08-08T15:22:13.620Z"
   },
   {
    "duration": 563,
    "start_time": "2023-08-08T15:22:14.473Z"
   },
   {
    "duration": 16601,
    "start_time": "2023-08-08T15:22:15.038Z"
   },
   {
    "duration": 600,
    "start_time": "2023-08-08T15:22:31.640Z"
   },
   {
    "duration": 6,
    "start_time": "2023-08-08T15:22:32.332Z"
   },
   {
    "duration": 257,
    "start_time": "2023-08-08T15:22:32.339Z"
   },
   {
    "duration": 41,
    "start_time": "2023-08-08T15:22:32.598Z"
   },
   {
    "duration": 113,
    "start_time": "2023-08-08T15:22:32.641Z"
   },
   {
    "duration": 69779,
    "start_time": "2023-08-08T15:22:32.756Z"
   },
   {
    "duration": 994,
    "start_time": "2023-08-08T15:23:42.537Z"
   },
   {
    "duration": 30052,
    "start_time": "2023-08-08T15:23:43.533Z"
   },
   {
    "duration": 369314,
    "start_time": "2023-08-08T15:24:13.586Z"
   },
   {
    "duration": 28675,
    "start_time": "2023-08-08T15:30:22.902Z"
   },
   {
    "duration": 70,
    "start_time": "2023-08-08T15:30:51.579Z"
   },
   {
    "duration": 5,
    "start_time": "2023-08-08T15:30:51.651Z"
   },
   {
    "duration": 2,
    "start_time": "2023-08-08T15:36:12.625Z"
   },
   {
    "duration": 369446,
    "start_time": "2023-08-08T15:39:45.016Z"
   },
   {
    "duration": 375366,
    "start_time": "2023-08-08T15:46:21.528Z"
   },
   {
    "duration": 29033,
    "start_time": "2023-08-08T16:13:17.197Z"
   },
   {
    "duration": 140,
    "start_time": "2023-08-08T16:13:46.245Z"
   },
   {
    "duration": 111,
    "start_time": "2023-08-08T16:14:46.899Z"
   },
   {
    "duration": 5,
    "start_time": "2023-08-08T16:14:53.505Z"
   },
   {
    "duration": 24578,
    "start_time": "2023-08-08T16:36:10.805Z"
   },
   {
    "duration": 1434005,
    "start_time": "2023-08-08T16:36:38.213Z"
   },
   {
    "duration": 348941,
    "start_time": "2023-08-08T17:00:35.044Z"
   },
   {
    "duration": 8760,
    "start_time": "2023-08-08T17:06:23.986Z"
   },
   {
    "duration": 684,
    "start_time": "2023-08-08T17:06:32.748Z"
   },
   {
    "duration": 5,
    "start_time": "2023-08-08T17:06:33.434Z"
   },
   {
    "duration": 350557,
    "start_time": "2023-08-08T17:07:20.846Z"
   },
   {
    "duration": 8438,
    "start_time": "2023-08-08T17:13:11.405Z"
   },
   {
    "duration": 900,
    "start_time": "2023-08-08T17:13:19.844Z"
   },
   {
    "duration": 4,
    "start_time": "2023-08-08T17:13:20.746Z"
   },
   {
    "duration": 79,
    "start_time": "2023-08-08T17:22:57.406Z"
   },
   {
    "duration": 10,
    "start_time": "2023-08-08T17:23:33.051Z"
   },
   {
    "duration": 4,
    "start_time": "2023-08-08T17:25:12.931Z"
   },
   {
    "duration": 432454,
    "start_time": "2023-08-08T17:25:42.276Z"
   },
   {
    "duration": 4,
    "start_time": "2023-08-08T17:32:54.732Z"
   },
   {
    "duration": 17,
    "start_time": "2023-08-08T17:32:54.737Z"
   },
   {
    "duration": 355752,
    "start_time": "2023-08-08T17:34:56.688Z"
   },
   {
    "duration": 10,
    "start_time": "2023-08-08T17:40:52.442Z"
   },
   {
    "duration": 496504,
    "start_time": "2023-08-08T17:41:02.433Z"
   },
   {
    "duration": 13,
    "start_time": "2023-08-08T17:50:15.511Z"
   },
   {
    "duration": 10,
    "start_time": "2023-08-08T17:51:06.428Z"
   },
   {
    "duration": 20,
    "start_time": "2023-08-08T17:51:27.001Z"
   },
   {
    "duration": 15,
    "start_time": "2023-08-08T17:52:03.109Z"
   },
   {
    "duration": 13,
    "start_time": "2023-08-08T17:52:28.669Z"
   },
   {
    "duration": 13,
    "start_time": "2023-08-08T17:53:29.013Z"
   },
   {
    "duration": 13,
    "start_time": "2023-08-08T17:55:11.496Z"
   },
   {
    "duration": 22,
    "start_time": "2023-08-08T17:55:50.829Z"
   },
   {
    "duration": 40,
    "start_time": "2023-08-08T18:05:59.928Z"
   },
   {
    "duration": 32,
    "start_time": "2023-08-08T18:07:04.132Z"
   },
   {
    "duration": 2,
    "start_time": "2023-08-08T18:08:58.026Z"
   },
   {
    "duration": 3,
    "start_time": "2023-08-08T18:09:17.156Z"
   },
   {
    "duration": 9,
    "start_time": "2023-08-08T18:10:17.493Z"
   },
   {
    "duration": 4,
    "start_time": "2023-08-08T18:10:32.342Z"
   },
   {
    "duration": 358743,
    "start_time": "2023-08-08T18:10:56.899Z"
   },
   {
    "duration": 17,
    "start_time": "2023-08-08T18:16:55.649Z"
   },
   {
    "duration": 5,
    "start_time": "2023-08-08T18:17:26.442Z"
   },
   {
    "duration": 5,
    "start_time": "2023-08-08T18:25:16.994Z"
   },
   {
    "duration": 4,
    "start_time": "2023-08-08T18:25:26.453Z"
   },
   {
    "duration": 4,
    "start_time": "2023-08-08T18:41:31.655Z"
   },
   {
    "duration": 5,
    "start_time": "2023-08-08T18:55:12.652Z"
   },
   {
    "duration": 9,
    "start_time": "2023-08-08T18:59:15.141Z"
   },
   {
    "duration": 325,
    "start_time": "2023-08-08T19:00:42.101Z"
   },
   {
    "duration": 10731,
    "start_time": "2023-08-08T19:04:51.117Z"
   },
   {
    "duration": 97,
    "start_time": "2023-08-08T19:06:12.227Z"
   },
   {
    "duration": 810,
    "start_time": "2023-08-08T19:06:24.022Z"
   },
   {
    "duration": 4,
    "start_time": "2023-08-08T19:07:20.896Z"
   },
   {
    "duration": 327,
    "start_time": "2023-08-08T19:16:17.812Z"
   },
   {
    "duration": 10961,
    "start_time": "2023-08-08T19:16:26.175Z"
   },
   {
    "duration": 798,
    "start_time": "2023-08-08T19:16:48.536Z"
   },
   {
    "duration": 9,
    "start_time": "2023-08-08T19:16:57.502Z"
   },
   {
    "duration": 5,
    "start_time": "2023-08-08T19:17:06.724Z"
   },
   {
    "duration": 4,
    "start_time": "2023-08-08T19:17:21.090Z"
   },
   {
    "duration": 4,
    "start_time": "2023-08-08T19:17:27.781Z"
   },
   {
    "duration": 4,
    "start_time": "2023-08-08T19:17:40.932Z"
   },
   {
    "duration": 3,
    "start_time": "2023-08-08T19:18:02.460Z"
   },
   {
    "duration": 11715,
    "start_time": "2023-08-08T19:21:36.022Z"
   },
   {
    "duration": 4,
    "start_time": "2023-08-08T19:21:53.929Z"
   },
   {
    "duration": 4,
    "start_time": "2023-08-08T19:22:06.249Z"
   },
   {
    "duration": 4,
    "start_time": "2023-08-08T19:22:08.973Z"
   },
   {
    "duration": 10710,
    "start_time": "2023-08-08T19:22:21.438Z"
   },
   {
    "duration": 804,
    "start_time": "2023-08-08T19:23:49.440Z"
   },
   {
    "duration": 9,
    "start_time": "2023-08-08T19:29:53.267Z"
   },
   {
    "duration": 8,
    "start_time": "2023-08-08T19:30:06.987Z"
   },
   {
    "duration": 4,
    "start_time": "2023-08-08T19:30:19.397Z"
   },
   {
    "duration": 717,
    "start_time": "2023-08-08T19:30:50.132Z"
   },
   {
    "duration": 5,
    "start_time": "2023-08-08T19:30:54.787Z"
   },
   {
    "duration": 3,
    "start_time": "2023-08-08T19:32:46.459Z"
   },
   {
    "duration": 3,
    "start_time": "2023-08-08T19:32:49.486Z"
   },
   {
    "duration": 831,
    "start_time": "2023-08-08T19:32:52.601Z"
   },
   {
    "duration": 5,
    "start_time": "2023-08-08T19:32:56.354Z"
   },
   {
    "duration": 3,
    "start_time": "2023-08-08T19:33:19.865Z"
   },
   {
    "duration": 10892,
    "start_time": "2023-08-08T19:33:25.046Z"
   },
   {
    "duration": 7440,
    "start_time": "2023-08-08T19:33:44.614Z"
   },
   {
    "duration": 7335,
    "start_time": "2023-08-08T19:33:59.414Z"
   },
   {
    "duration": 47,
    "start_time": "2023-08-09T15:58:14.356Z"
   },
   {
    "duration": 7,
    "start_time": "2023-08-09T15:58:18.285Z"
   },
   {
    "duration": 1697,
    "start_time": "2023-08-09T15:58:27.514Z"
   },
   {
    "duration": 3395,
    "start_time": "2023-08-09T15:58:29.214Z"
   },
   {
    "duration": 19,
    "start_time": "2023-08-09T15:58:32.611Z"
   },
   {
    "duration": 117,
    "start_time": "2023-08-09T15:58:32.632Z"
   },
   {
    "duration": 109,
    "start_time": "2023-08-09T15:58:32.756Z"
   },
   {
    "duration": 105,
    "start_time": "2023-08-09T15:58:32.867Z"
   },
   {
    "duration": 491,
    "start_time": "2023-08-09T15:58:32.973Z"
   },
   {
    "duration": 486,
    "start_time": "2023-08-09T15:58:33.465Z"
   },
   {
    "duration": 111,
    "start_time": "2023-08-09T15:58:33.952Z"
   },
   {
    "duration": 9,
    "start_time": "2023-08-09T15:58:34.065Z"
   },
   {
    "duration": 33,
    "start_time": "2023-08-09T15:58:34.076Z"
   },
   {
    "duration": 52,
    "start_time": "2023-08-09T15:58:34.111Z"
   },
   {
    "duration": 2106,
    "start_time": "2023-08-09T15:58:34.165Z"
   },
   {
    "duration": 28,
    "start_time": "2023-08-09T15:58:36.274Z"
   },
   {
    "duration": 9,
    "start_time": "2023-08-09T15:58:36.303Z"
   },
   {
    "duration": 16,
    "start_time": "2023-08-09T15:58:36.314Z"
   },
   {
    "duration": 26,
    "start_time": "2023-08-09T15:58:36.356Z"
   },
   {
    "duration": 233,
    "start_time": "2023-08-09T15:58:36.384Z"
   },
   {
    "duration": 9,
    "start_time": "2023-08-09T15:58:36.619Z"
   },
   {
    "duration": 40,
    "start_time": "2023-08-09T15:58:36.630Z"
   },
   {
    "duration": 25,
    "start_time": "2023-08-09T15:58:36.672Z"
   },
   {
    "duration": 18,
    "start_time": "2023-08-09T15:58:36.699Z"
   },
   {
    "duration": 39,
    "start_time": "2023-08-09T15:58:36.720Z"
   },
   {
    "duration": 32,
    "start_time": "2023-08-09T15:58:36.761Z"
   },
   {
    "duration": 32,
    "start_time": "2023-08-09T15:58:36.794Z"
   },
   {
    "duration": 39,
    "start_time": "2023-08-09T15:58:36.828Z"
   },
   {
    "duration": 28,
    "start_time": "2023-08-09T15:58:36.869Z"
   },
   {
    "duration": 31,
    "start_time": "2023-08-09T15:58:36.899Z"
   },
   {
    "duration": 46,
    "start_time": "2023-08-09T15:58:36.931Z"
   },
   {
    "duration": 28,
    "start_time": "2023-08-09T15:58:36.979Z"
   },
   {
    "duration": 14,
    "start_time": "2023-08-09T15:58:37.009Z"
   },
   {
    "duration": 18,
    "start_time": "2023-08-09T15:58:37.025Z"
   },
   {
    "duration": 16,
    "start_time": "2023-08-09T15:58:37.055Z"
   },
   {
    "duration": 18,
    "start_time": "2023-08-09T15:58:37.072Z"
   },
   {
    "duration": 20,
    "start_time": "2023-08-09T15:58:37.091Z"
   },
   {
    "duration": 68,
    "start_time": "2023-08-09T15:58:37.113Z"
   },
   {
    "duration": 62,
    "start_time": "2023-08-09T15:58:37.183Z"
   },
   {
    "duration": 62,
    "start_time": "2023-08-09T15:58:37.247Z"
   },
   {
    "duration": 1000,
    "start_time": "2023-08-09T15:58:37.311Z"
   },
   {
    "duration": 478,
    "start_time": "2023-08-09T15:58:38.314Z"
   },
   {
    "duration": 20665,
    "start_time": "2023-08-09T15:58:38.797Z"
   },
   {
    "duration": 894,
    "start_time": "2023-08-09T15:58:59.464Z"
   },
   {
    "duration": 97,
    "start_time": "2023-08-09T15:59:00.360Z"
   },
   {
    "duration": 100,
    "start_time": "2023-08-09T15:59:00.458Z"
   },
   {
    "duration": 10,
    "start_time": "2023-08-09T15:59:00.560Z"
   },
   {
    "duration": 90,
    "start_time": "2023-08-09T15:59:00.572Z"
   },
   {
    "duration": 90800,
    "start_time": "2023-08-09T15:59:00.664Z"
   },
   {
    "duration": 1028,
    "start_time": "2023-08-09T16:00:31.465Z"
   },
   {
    "duration": 63,
    "start_time": "2023-08-09T16:00:32.495Z"
   },
   {
    "duration": 266,
    "start_time": "2023-08-09T16:00:32.560Z"
   },
   {
    "duration": 30096,
    "start_time": "2023-08-09T16:00:32.827Z"
   },
   {
    "duration": 82,
    "start_time": "2023-08-09T16:01:02.925Z"
   },
   {
    "duration": 5,
    "start_time": "2023-08-09T16:01:03.009Z"
   },
   {
    "duration": 121,
    "start_time": "2023-08-09T16:01:03.016Z"
   },
   {
    "duration": 29225,
    "start_time": "2023-08-09T16:01:03.139Z"
   },
   {
    "duration": 179,
    "start_time": "2023-08-09T16:01:32.366Z"
   },
   {
    "duration": 14,
    "start_time": "2023-08-09T16:01:32.547Z"
   },
   {
    "duration": 410003,
    "start_time": "2023-08-09T16:01:32.562Z"
   },
   {
    "duration": 10004,
    "start_time": "2023-08-09T16:08:22.566Z"
   },
   {
    "duration": 701,
    "start_time": "2023-08-09T16:08:32.573Z"
   },
   {
    "duration": 5,
    "start_time": "2023-08-09T16:08:33.276Z"
   },
   {
    "duration": 542480,
    "start_time": "2023-08-09T16:08:33.282Z"
   },
   {
    "duration": 8894,
    "start_time": "2023-08-09T16:17:35.764Z"
   },
   {
    "duration": 909,
    "start_time": "2023-08-09T16:17:44.660Z"
   },
   {
    "duration": 5,
    "start_time": "2023-08-09T16:17:45.570Z"
   },
   {
    "duration": 81,
    "start_time": "2023-08-09T16:17:45.577Z"
   },
   {
    "duration": 358,
    "start_time": "2023-08-09T16:17:45.660Z"
   },
   {
    "duration": 11344,
    "start_time": "2023-08-09T16:17:46.020Z"
   },
   {
    "duration": 895,
    "start_time": "2023-08-09T16:17:57.365Z"
   },
   {
    "duration": 6,
    "start_time": "2023-08-09T16:17:58.261Z"
   },
   {
    "duration": 8395,
    "start_time": "2023-08-09T16:17:58.269Z"
   },
   {
    "duration": 1004,
    "start_time": "2023-08-09T16:18:06.665Z"
   },
   {
    "duration": 4,
    "start_time": "2023-08-09T16:18:07.671Z"
   },
   {
    "duration": 23,
    "start_time": "2023-08-09T16:24:31.815Z"
   },
   {
    "duration": 2068,
    "start_time": "2023-08-09T16:24:33.709Z"
   },
   {
    "duration": 25,
    "start_time": "2023-08-09T16:24:46.602Z"
   },
   {
    "duration": 2129,
    "start_time": "2023-08-09T16:24:49.765Z"
   },
   {
    "duration": 26,
    "start_time": "2023-08-09T16:26:22.215Z"
   },
   {
    "duration": 2040,
    "start_time": "2023-08-09T16:26:24.026Z"
   },
   {
    "duration": 22,
    "start_time": "2023-08-09T16:27:11.807Z"
   },
   {
    "duration": 2245,
    "start_time": "2023-08-09T16:27:24.949Z"
   },
   {
    "duration": 11,
    "start_time": "2023-08-09T16:27:38.176Z"
   },
   {
    "duration": 11,
    "start_time": "2023-08-09T16:28:05.431Z"
   },
   {
    "duration": 1992,
    "start_time": "2023-08-09T16:28:36.282Z"
   },
   {
    "duration": 1101,
    "start_time": "2023-08-09T16:32:10.906Z"
   },
   {
    "duration": 1149,
    "start_time": "2023-08-09T16:33:08.178Z"
   },
   {
    "duration": 40,
    "start_time": "2023-08-09T16:33:53.575Z"
   },
   {
    "duration": 193,
    "start_time": "2023-08-09T16:36:00.769Z"
   },
   {
    "duration": 172,
    "start_time": "2023-08-09T16:36:27.656Z"
   },
   {
    "duration": 155,
    "start_time": "2023-08-09T16:36:43.768Z"
   },
   {
    "duration": 3,
    "start_time": "2023-08-09T16:36:55.215Z"
   },
   {
    "duration": 154,
    "start_time": "2023-08-09T16:37:06.910Z"
   },
   {
    "duration": 22,
    "start_time": "2023-08-09T16:37:16.997Z"
   },
   {
    "duration": 159,
    "start_time": "2023-08-09T16:37:19.465Z"
   },
   {
    "duration": 293,
    "start_time": "2023-08-09T16:38:09.099Z"
   },
   {
    "duration": 9,
    "start_time": "2023-08-09T16:43:49.098Z"
   },
   {
    "duration": 6,
    "start_time": "2023-08-09T16:43:52.198Z"
   },
   {
    "duration": 23,
    "start_time": "2023-08-09T16:44:04.960Z"
   },
   {
    "duration": 6,
    "start_time": "2023-08-09T16:44:10.121Z"
   },
   {
    "duration": 9,
    "start_time": "2023-08-09T16:44:21.899Z"
   },
   {
    "duration": 16,
    "start_time": "2023-08-09T16:44:25.743Z"
   },
   {
    "duration": 11,
    "start_time": "2023-08-09T16:44:41.452Z"
   },
   {
    "duration": 1090,
    "start_time": "2023-08-09T16:44:52.032Z"
   },
   {
    "duration": 1035,
    "start_time": "2023-08-09T16:45:15.455Z"
   },
   {
    "duration": 4,
    "start_time": "2023-08-09T16:45:27.695Z"
   },
   {
    "duration": 765,
    "start_time": "2023-08-09T16:45:29.739Z"
   },
   {
    "duration": 16,
    "start_time": "2023-08-09T16:45:31.889Z"
   },
   {
    "duration": 111,
    "start_time": "2023-08-09T16:45:36.874Z"
   },
   {
    "duration": 110,
    "start_time": "2023-08-09T16:45:43.184Z"
   },
   {
    "duration": 114,
    "start_time": "2023-08-09T16:45:46.483Z"
   },
   {
    "duration": 105,
    "start_time": "2023-08-09T16:45:58.726Z"
   },
   {
    "duration": 437,
    "start_time": "2023-08-09T16:46:01.282Z"
   },
   {
    "duration": 456,
    "start_time": "2023-08-09T16:46:05.794Z"
   },
   {
    "duration": 107,
    "start_time": "2023-08-09T16:47:12.263Z"
   },
   {
    "duration": 964,
    "start_time": "2023-08-09T16:47:22.220Z"
   },
   {
    "duration": 989,
    "start_time": "2023-08-09T16:49:18.725Z"
   },
   {
    "duration": 9,
    "start_time": "2023-08-09T16:49:45.569Z"
   },
   {
    "duration": 9,
    "start_time": "2023-08-09T16:49:54.887Z"
   },
   {
    "duration": 32,
    "start_time": "2023-08-09T16:49:59.484Z"
   },
   {
    "duration": 26,
    "start_time": "2023-08-09T16:50:03.220Z"
   },
   {
    "duration": 150,
    "start_time": "2023-08-09T16:50:05.893Z"
   },
   {
    "duration": 149,
    "start_time": "2023-08-09T16:50:20.705Z"
   },
   {
    "duration": 1468,
    "start_time": "2023-08-09T16:50:59.096Z"
   },
   {
    "duration": 891,
    "start_time": "2023-08-09T16:51:00.566Z"
   },
   {
    "duration": 19,
    "start_time": "2023-08-09T16:51:01.459Z"
   },
   {
    "duration": 140,
    "start_time": "2023-08-09T16:51:01.481Z"
   },
   {
    "duration": 169,
    "start_time": "2023-08-09T16:51:01.623Z"
   },
   {
    "duration": 110,
    "start_time": "2023-08-09T16:51:01.794Z"
   },
   {
    "duration": 542,
    "start_time": "2023-08-09T16:51:01.905Z"
   },
   {
    "duration": 589,
    "start_time": "2023-08-09T16:51:02.449Z"
   },
   {
    "duration": 145,
    "start_time": "2023-08-09T16:51:03.039Z"
   },
   {
    "duration": 8,
    "start_time": "2023-08-09T16:51:03.186Z"
   },
   {
    "duration": 53,
    "start_time": "2023-08-09T16:51:03.195Z"
   },
   {
    "duration": 32,
    "start_time": "2023-08-09T16:51:03.250Z"
   },
   {
    "duration": 160,
    "start_time": "2023-08-09T16:51:03.283Z"
   },
   {
    "duration": 11,
    "start_time": "2023-08-09T16:51:03.445Z"
   },
   {
    "duration": 27,
    "start_time": "2023-08-09T16:51:03.458Z"
   },
   {
    "duration": 28,
    "start_time": "2023-08-09T16:51:03.487Z"
   },
   {
    "duration": 31,
    "start_time": "2023-08-09T16:51:03.517Z"
   },
   {
    "duration": 220,
    "start_time": "2023-08-09T16:51:03.550Z"
   },
   {
    "duration": 10,
    "start_time": "2023-08-09T16:51:03.772Z"
   },
   {
    "duration": 29,
    "start_time": "2023-08-09T16:51:03.783Z"
   },
   {
    "duration": 43,
    "start_time": "2023-08-09T16:51:03.814Z"
   },
   {
    "duration": 14,
    "start_time": "2023-08-09T16:51:03.859Z"
   },
   {
    "duration": 26,
    "start_time": "2023-08-09T16:51:03.875Z"
   },
   {
    "duration": 56,
    "start_time": "2023-08-09T16:51:03.902Z"
   },
   {
    "duration": 38,
    "start_time": "2023-08-09T16:51:03.960Z"
   },
   {
    "duration": 15,
    "start_time": "2023-08-09T16:51:04.000Z"
   },
   {
    "duration": 149,
    "start_time": "2023-08-09T16:51:04.017Z"
   },
   {
    "duration": 32,
    "start_time": "2023-08-09T16:51:04.171Z"
   },
   {
    "duration": 25,
    "start_time": "2023-08-09T16:51:04.205Z"
   },
   {
    "duration": 34,
    "start_time": "2023-08-09T16:51:04.231Z"
   },
   {
    "duration": 16,
    "start_time": "2023-08-09T16:51:04.266Z"
   },
   {
    "duration": 20,
    "start_time": "2023-08-09T16:51:04.284Z"
   },
   {
    "duration": 37,
    "start_time": "2023-08-09T16:51:04.305Z"
   },
   {
    "duration": 31,
    "start_time": "2023-08-09T16:51:04.344Z"
   },
   {
    "duration": 18,
    "start_time": "2023-08-09T16:51:04.377Z"
   },
   {
    "duration": 61,
    "start_time": "2023-08-09T16:51:04.397Z"
   },
   {
    "duration": 14,
    "start_time": "2023-08-09T16:51:04.460Z"
   },
   {
    "duration": 88,
    "start_time": "2023-08-09T16:51:04.476Z"
   },
   {
    "duration": 1078,
    "start_time": "2023-08-09T16:51:04.566Z"
   },
   {
    "duration": 472,
    "start_time": "2023-08-09T16:51:05.646Z"
   },
   {
    "duration": 22546,
    "start_time": "2023-08-09T16:51:06.119Z"
   },
   {
    "duration": 991,
    "start_time": "2023-08-09T16:51:28.667Z"
   },
   {
    "duration": 7,
    "start_time": "2023-08-09T16:51:29.660Z"
   },
   {
    "duration": 147,
    "start_time": "2023-08-09T16:51:29.669Z"
   },
   {
    "duration": 43,
    "start_time": "2023-08-09T16:51:29.817Z"
   },
   {
    "duration": 101,
    "start_time": "2023-08-09T16:51:29.862Z"
   },
   {
    "duration": 123697,
    "start_time": "2023-08-09T16:51:30.056Z"
   },
   {
    "duration": 1112,
    "start_time": "2023-08-09T16:53:33.756Z"
   },
   {
    "duration": 88,
    "start_time": "2023-08-09T16:53:34.870Z"
   },
   {
    "duration": 85,
    "start_time": "2023-08-09T16:53:34.960Z"
   },
   {
    "duration": 10954,
    "start_time": "2023-08-09T16:53:35.046Z"
   },
   {
    "duration": 63,
    "start_time": "2023-08-09T16:53:46.002Z"
   },
   {
    "duration": 14,
    "start_time": "2023-08-09T16:53:46.066Z"
   },
   {
    "duration": 0,
    "start_time": "2023-08-09T16:53:46.082Z"
   },
   {
    "duration": 0,
    "start_time": "2023-08-09T16:53:46.083Z"
   },
   {
    "duration": 0,
    "start_time": "2023-08-09T16:53:46.085Z"
   },
   {
    "duration": 0,
    "start_time": "2023-08-09T16:53:46.086Z"
   },
   {
    "duration": 0,
    "start_time": "2023-08-09T16:53:46.087Z"
   },
   {
    "duration": 0,
    "start_time": "2023-08-09T16:53:46.088Z"
   },
   {
    "duration": 0,
    "start_time": "2023-08-09T16:53:46.089Z"
   },
   {
    "duration": 0,
    "start_time": "2023-08-09T16:53:46.089Z"
   },
   {
    "duration": 0,
    "start_time": "2023-08-09T16:53:46.090Z"
   },
   {
    "duration": 0,
    "start_time": "2023-08-09T16:53:46.091Z"
   },
   {
    "duration": 0,
    "start_time": "2023-08-09T16:53:46.092Z"
   },
   {
    "duration": 0,
    "start_time": "2023-08-09T16:53:46.093Z"
   },
   {
    "duration": 0,
    "start_time": "2023-08-09T16:53:46.094Z"
   },
   {
    "duration": 0,
    "start_time": "2023-08-09T16:53:46.096Z"
   },
   {
    "duration": 0,
    "start_time": "2023-08-09T16:53:46.097Z"
   },
   {
    "duration": 0,
    "start_time": "2023-08-09T16:53:46.099Z"
   },
   {
    "duration": 0,
    "start_time": "2023-08-09T16:53:46.101Z"
   },
   {
    "duration": 0,
    "start_time": "2023-08-09T16:53:46.102Z"
   },
   {
    "duration": 0,
    "start_time": "2023-08-09T16:53:46.103Z"
   },
   {
    "duration": 0,
    "start_time": "2023-08-09T16:53:46.105Z"
   },
   {
    "duration": 0,
    "start_time": "2023-08-09T16:53:46.106Z"
   },
   {
    "duration": 1165,
    "start_time": "2023-08-09T16:53:57.627Z"
   },
   {
    "duration": 145,
    "start_time": "2023-08-09T16:54:03.069Z"
   },
   {
    "duration": 138,
    "start_time": "2023-08-09T16:54:06.537Z"
   },
   {
    "duration": 1215,
    "start_time": "2023-08-09T16:54:12.325Z"
   },
   {
    "duration": 120,
    "start_time": "2023-08-09T16:55:40.279Z"
   },
   {
    "duration": 112,
    "start_time": "2023-08-09T16:55:46.309Z"
   },
   {
    "duration": 47,
    "start_time": "2023-08-09T16:55:50.157Z"
   },
   {
    "duration": 50,
    "start_time": "2023-08-09T16:55:53.345Z"
   },
   {
    "duration": 104,
    "start_time": "2023-08-09T16:55:56.206Z"
   },
   {
    "duration": 12,
    "start_time": "2023-08-09T16:56:02.153Z"
   },
   {
    "duration": 56,
    "start_time": "2023-08-09T16:56:07.788Z"
   },
   {
    "duration": 4,
    "start_time": "2023-08-09T16:56:20.976Z"
   },
   {
    "duration": 841,
    "start_time": "2023-08-09T16:56:23.594Z"
   },
   {
    "duration": 13,
    "start_time": "2023-08-09T16:56:26.643Z"
   },
   {
    "duration": 113,
    "start_time": "2023-08-09T16:56:33.494Z"
   },
   {
    "duration": 107,
    "start_time": "2023-08-09T16:56:38.311Z"
   },
   {
    "duration": 103,
    "start_time": "2023-08-09T16:56:40.901Z"
   },
   {
    "duration": 460,
    "start_time": "2023-08-09T16:56:43.709Z"
   },
   {
    "duration": 558,
    "start_time": "2023-08-09T16:56:46.944Z"
   },
   {
    "duration": 111,
    "start_time": "2023-08-09T16:56:52.532Z"
   },
   {
    "duration": 9,
    "start_time": "2023-08-09T16:57:03.331Z"
   },
   {
    "duration": 46,
    "start_time": "2023-08-09T16:57:07.253Z"
   },
   {
    "duration": 29,
    "start_time": "2023-08-09T16:57:10.927Z"
   },
   {
    "duration": 146,
    "start_time": "2023-08-09T16:57:13.363Z"
   },
   {
    "duration": 168,
    "start_time": "2023-08-09T16:58:07.462Z"
   },
   {
    "duration": 177,
    "start_time": "2023-08-09T16:58:13.813Z"
   },
   {
    "duration": 10,
    "start_time": "2023-08-09T16:58:20.565Z"
   },
   {
    "duration": 19,
    "start_time": "2023-08-09T16:58:24.861Z"
   },
   {
    "duration": 237,
    "start_time": "2023-08-09T16:58:28.206Z"
   },
   {
    "duration": 12,
    "start_time": "2023-08-09T16:58:31.794Z"
   },
   {
    "duration": 29,
    "start_time": "2023-08-09T16:58:36.210Z"
   },
   {
    "duration": 7,
    "start_time": "2023-08-09T16:59:15.020Z"
   },
   {
    "duration": 7,
    "start_time": "2023-08-09T16:59:23.406Z"
   },
   {
    "duration": 6,
    "start_time": "2023-08-09T16:59:29.307Z"
   },
   {
    "duration": 30,
    "start_time": "2023-08-09T17:00:27.554Z"
   },
   {
    "duration": 17,
    "start_time": "2023-08-09T17:00:31.113Z"
   },
   {
    "duration": 30,
    "start_time": "2023-08-09T17:00:32.833Z"
   },
   {
    "duration": 34,
    "start_time": "2023-08-09T17:00:35.481Z"
   },
   {
    "duration": 36,
    "start_time": "2023-08-09T17:00:49.590Z"
   },
   {
    "duration": 17,
    "start_time": "2023-08-09T17:00:52.402Z"
   },
   {
    "duration": 34,
    "start_time": "2023-08-09T17:01:10.098Z"
   },
   {
    "duration": 38,
    "start_time": "2023-08-09T17:01:42.156Z"
   },
   {
    "duration": 27,
    "start_time": "2023-08-09T17:01:45.705Z"
   },
   {
    "duration": 15,
    "start_time": "2023-08-09T17:01:48.736Z"
   },
   {
    "duration": 21,
    "start_time": "2023-08-09T17:01:51.038Z"
   },
   {
    "duration": 62,
    "start_time": "2023-08-09T17:02:06.974Z"
   },
   {
    "duration": 16,
    "start_time": "2023-08-09T17:02:25.416Z"
   },
   {
    "duration": 18,
    "start_time": "2023-08-09T17:02:28.626Z"
   },
   {
    "duration": 14,
    "start_time": "2023-08-09T17:02:33.036Z"
   },
   {
    "duration": 17,
    "start_time": "2023-08-09T17:02:35.278Z"
   },
   {
    "duration": 66,
    "start_time": "2023-08-09T17:02:40.437Z"
   },
   {
    "duration": 27,
    "start_time": "2023-08-09T17:02:52.138Z"
   },
   {
    "duration": 14,
    "start_time": "2023-08-09T17:02:55.040Z"
   },
   {
    "duration": 17,
    "start_time": "2023-08-09T17:02:57.672Z"
   },
   {
    "duration": 77,
    "start_time": "2023-08-09T17:03:02.290Z"
   },
   {
    "duration": 66,
    "start_time": "2023-08-09T17:09:02.487Z"
   },
   {
    "duration": 70,
    "start_time": "2023-08-09T17:14:32.273Z"
   },
   {
    "duration": 3,
    "start_time": "2023-08-09T17:26:36.209Z"
   },
   {
    "duration": 4,
    "start_time": "2023-08-09T17:51:59.616Z"
   },
   {
    "duration": 241,
    "start_time": "2023-08-09T17:55:11.158Z"
   },
   {
    "duration": 19,
    "start_time": "2023-08-09T18:44:33.709Z"
   },
   {
    "duration": 17,
    "start_time": "2023-08-09T18:45:08.398Z"
   },
   {
    "duration": 14,
    "start_time": "2023-08-09T18:46:52.242Z"
   },
   {
    "duration": 59,
    "start_time": "2023-08-09T18:47:28.165Z"
   },
   {
    "duration": 56,
    "start_time": "2023-08-09T18:47:31.186Z"
   },
   {
    "duration": 26569,
    "start_time": "2023-08-09T18:50:13.798Z"
   },
   {
    "duration": 13,
    "start_time": "2023-08-09T19:08:16.511Z"
   },
   {
    "duration": 14,
    "start_time": "2023-08-09T19:15:40.337Z"
   },
   {
    "duration": 11,
    "start_time": "2023-08-09T19:21:38.610Z"
   },
   {
    "duration": 60,
    "start_time": "2023-08-09T19:21:44.754Z"
   },
   {
    "duration": 67,
    "start_time": "2023-08-09T19:22:15.498Z"
   },
   {
    "duration": 3,
    "start_time": "2023-08-09T19:23:05.420Z"
   },
   {
    "duration": 260,
    "start_time": "2023-08-09T19:23:08.387Z"
   },
   {
    "duration": 12,
    "start_time": "2023-08-09T19:23:18.243Z"
   },
   {
    "duration": 14,
    "start_time": "2023-08-09T19:23:21.701Z"
   },
   {
    "duration": 2,
    "start_time": "2023-08-09T19:23:35.396Z"
   },
   {
    "duration": 14,
    "start_time": "2023-08-09T19:23:37.936Z"
   },
   {
    "duration": 3,
    "start_time": "2023-08-09T19:25:18.509Z"
   },
   {
    "duration": 4,
    "start_time": "2023-08-15T17:52:30.858Z"
   },
   {
    "duration": 8,
    "start_time": "2023-08-15T17:53:03.637Z"
   },
   {
    "duration": 46,
    "start_time": "2023-08-15T17:53:10.994Z"
   },
   {
    "duration": 7,
    "start_time": "2023-08-15T17:53:14.789Z"
   },
   {
    "duration": 4,
    "start_time": "2023-08-15T17:54:07.166Z"
   },
   {
    "duration": 3,
    "start_time": "2023-08-15T17:54:10.480Z"
   },
   {
    "duration": 2,
    "start_time": "2023-08-15T17:54:15.330Z"
   },
   {
    "duration": 3,
    "start_time": "2023-08-15T17:54:17.786Z"
   },
   {
    "duration": 3,
    "start_time": "2023-08-15T17:54:19.906Z"
   },
   {
    "duration": 2,
    "start_time": "2023-08-15T17:55:01.970Z"
   },
   {
    "duration": 1827,
    "start_time": "2023-08-15T17:59:44.152Z"
   },
   {
    "duration": 2868,
    "start_time": "2023-08-15T17:59:45.981Z"
   },
   {
    "duration": 19,
    "start_time": "2023-08-15T17:59:48.851Z"
   },
   {
    "duration": 126,
    "start_time": "2023-08-15T17:59:48.872Z"
   },
   {
    "duration": 116,
    "start_time": "2023-08-15T17:59:49.000Z"
   },
   {
    "duration": 119,
    "start_time": "2023-08-15T17:59:49.117Z"
   },
   {
    "duration": 482,
    "start_time": "2023-08-15T17:59:49.238Z"
   },
   {
    "duration": 513,
    "start_time": "2023-08-15T17:59:49.722Z"
   },
   {
    "duration": 111,
    "start_time": "2023-08-15T17:59:50.237Z"
   },
   {
    "duration": 16,
    "start_time": "2023-08-15T17:59:50.351Z"
   },
   {
    "duration": 50,
    "start_time": "2023-08-15T17:59:50.369Z"
   },
   {
    "duration": 28,
    "start_time": "2023-08-15T17:59:50.421Z"
   },
   {
    "duration": 185,
    "start_time": "2023-08-15T17:59:50.451Z"
   },
   {
    "duration": 2,
    "start_time": "2023-08-15T17:59:50.638Z"
   },
   {
    "duration": 48,
    "start_time": "2023-08-15T17:59:50.642Z"
   },
   {
    "duration": 41,
    "start_time": "2023-08-15T17:59:50.692Z"
   },
   {
    "duration": 32,
    "start_time": "2023-08-15T17:59:50.734Z"
   },
   {
    "duration": 334,
    "start_time": "2023-08-15T17:59:50.768Z"
   },
   {
    "duration": 10,
    "start_time": "2023-08-15T17:59:51.103Z"
   },
   {
    "duration": 39,
    "start_time": "2023-08-15T17:59:51.115Z"
   },
   {
    "duration": 14,
    "start_time": "2023-08-15T17:59:51.156Z"
   },
   {
    "duration": 33,
    "start_time": "2023-08-15T17:59:51.171Z"
   },
   {
    "duration": 17,
    "start_time": "2023-08-15T17:59:51.206Z"
   },
   {
    "duration": 42,
    "start_time": "2023-08-15T17:59:51.225Z"
   },
   {
    "duration": 40,
    "start_time": "2023-08-15T17:59:51.269Z"
   },
   {
    "duration": 57,
    "start_time": "2023-08-15T17:59:51.311Z"
   },
   {
    "duration": 15,
    "start_time": "2023-08-15T17:59:51.369Z"
   },
   {
    "duration": 31,
    "start_time": "2023-08-15T17:59:51.388Z"
   },
   {
    "duration": 51,
    "start_time": "2023-08-15T17:59:51.421Z"
   },
   {
    "duration": 27,
    "start_time": "2023-08-15T17:59:51.474Z"
   },
   {
    "duration": 25,
    "start_time": "2023-08-15T17:59:51.502Z"
   },
   {
    "duration": 16,
    "start_time": "2023-08-15T17:59:51.529Z"
   },
   {
    "duration": 43,
    "start_time": "2023-08-15T17:59:51.547Z"
   },
   {
    "duration": 20,
    "start_time": "2023-08-15T17:59:51.592Z"
   },
   {
    "duration": 17,
    "start_time": "2023-08-15T17:59:51.614Z"
   },
   {
    "duration": 19,
    "start_time": "2023-08-15T17:59:51.633Z"
   },
   {
    "duration": 67,
    "start_time": "2023-08-15T17:59:51.653Z"
   },
   {
    "duration": 14,
    "start_time": "2023-08-15T17:59:51.722Z"
   },
   {
    "duration": 72,
    "start_time": "2023-08-15T17:59:51.737Z"
   },
   {
    "duration": 4,
    "start_time": "2023-08-15T17:59:51.810Z"
   },
   {
    "duration": 1016,
    "start_time": "2023-08-15T17:59:51.816Z"
   },
   {
    "duration": 4,
    "start_time": "2023-08-15T17:59:52.834Z"
   },
   {
    "duration": 9,
    "start_time": "2023-08-15T17:59:52.839Z"
   },
   {
    "duration": 17,
    "start_time": "2023-08-15T17:59:52.850Z"
   },
   {
    "duration": 12,
    "start_time": "2023-08-15T17:59:52.869Z"
   },
   {
    "duration": 120,
    "start_time": "2023-08-15T17:59:52.884Z"
   },
   {
    "duration": 0,
    "start_time": "2023-08-15T17:59:53.006Z"
   },
   {
    "duration": 0,
    "start_time": "2023-08-15T17:59:53.007Z"
   },
   {
    "duration": 0,
    "start_time": "2023-08-15T17:59:53.009Z"
   },
   {
    "duration": 0,
    "start_time": "2023-08-15T17:59:53.010Z"
   },
   {
    "duration": 0,
    "start_time": "2023-08-15T17:59:53.011Z"
   },
   {
    "duration": 0,
    "start_time": "2023-08-15T17:59:53.012Z"
   },
   {
    "duration": 0,
    "start_time": "2023-08-15T17:59:53.014Z"
   },
   {
    "duration": 0,
    "start_time": "2023-08-15T17:59:53.015Z"
   },
   {
    "duration": 0,
    "start_time": "2023-08-15T17:59:53.016Z"
   },
   {
    "duration": 0,
    "start_time": "2023-08-15T17:59:53.017Z"
   },
   {
    "duration": 0,
    "start_time": "2023-08-15T17:59:53.019Z"
   },
   {
    "duration": 0,
    "start_time": "2023-08-15T17:59:53.020Z"
   },
   {
    "duration": 0,
    "start_time": "2023-08-15T17:59:53.021Z"
   },
   {
    "duration": 0,
    "start_time": "2023-08-15T17:59:53.022Z"
   },
   {
    "duration": 0,
    "start_time": "2023-08-15T17:59:53.023Z"
   },
   {
    "duration": 0,
    "start_time": "2023-08-15T17:59:53.024Z"
   },
   {
    "duration": 0,
    "start_time": "2023-08-15T17:59:53.025Z"
   },
   {
    "duration": 0,
    "start_time": "2023-08-15T17:59:53.027Z"
   },
   {
    "duration": 0,
    "start_time": "2023-08-15T17:59:53.027Z"
   },
   {
    "duration": 0,
    "start_time": "2023-08-15T17:59:53.067Z"
   },
   {
    "duration": 0,
    "start_time": "2023-08-15T17:59:53.069Z"
   },
   {
    "duration": 0,
    "start_time": "2023-08-15T17:59:53.071Z"
   },
   {
    "duration": 0,
    "start_time": "2023-08-15T17:59:53.072Z"
   },
   {
    "duration": 0,
    "start_time": "2023-08-15T17:59:53.073Z"
   },
   {
    "duration": 0,
    "start_time": "2023-08-15T17:59:53.074Z"
   },
   {
    "duration": 0,
    "start_time": "2023-08-15T17:59:53.075Z"
   },
   {
    "duration": 0,
    "start_time": "2023-08-15T17:59:53.077Z"
   },
   {
    "duration": 0,
    "start_time": "2023-08-15T17:59:53.078Z"
   },
   {
    "duration": 0,
    "start_time": "2023-08-15T17:59:53.079Z"
   },
   {
    "duration": 0,
    "start_time": "2023-08-15T17:59:53.080Z"
   },
   {
    "duration": 0,
    "start_time": "2023-08-15T17:59:53.081Z"
   },
   {
    "duration": 0,
    "start_time": "2023-08-15T17:59:53.083Z"
   },
   {
    "duration": 0,
    "start_time": "2023-08-15T17:59:53.084Z"
   },
   {
    "duration": 3,
    "start_time": "2023-08-15T18:18:30.129Z"
   },
   {
    "duration": 4,
    "start_time": "2023-08-15T18:18:32.429Z"
   },
   {
    "duration": 10,
    "start_time": "2023-08-15T18:18:36.325Z"
   },
   {
    "duration": 77,
    "start_time": "2023-08-15T18:20:57.777Z"
   },
   {
    "duration": 68,
    "start_time": "2023-08-15T18:21:07.353Z"
   },
   {
    "duration": 68,
    "start_time": "2023-08-15T18:24:11.418Z"
   },
   {
    "duration": 68,
    "start_time": "2023-08-15T18:30:32.517Z"
   },
   {
    "duration": 15,
    "start_time": "2023-08-15T18:34:15.110Z"
   },
   {
    "duration": 17,
    "start_time": "2023-08-15T18:34:23.207Z"
   },
   {
    "duration": 13,
    "start_time": "2023-08-15T18:34:32.019Z"
   },
   {
    "duration": 3,
    "start_time": "2023-08-15T18:53:50.054Z"
   },
   {
    "duration": 15,
    "start_time": "2023-08-15T18:53:54.301Z"
   },
   {
    "duration": 19,
    "start_time": "2023-08-15T18:54:43.979Z"
   },
   {
    "duration": 1534,
    "start_time": "2023-08-15T18:54:57.217Z"
   },
   {
    "duration": 901,
    "start_time": "2023-08-15T18:54:58.753Z"
   },
   {
    "duration": 21,
    "start_time": "2023-08-15T18:54:59.655Z"
   },
   {
    "duration": 130,
    "start_time": "2023-08-15T18:54:59.677Z"
   },
   {
    "duration": 125,
    "start_time": "2023-08-15T18:54:59.809Z"
   },
   {
    "duration": 117,
    "start_time": "2023-08-15T18:54:59.936Z"
   },
   {
    "duration": 564,
    "start_time": "2023-08-15T18:55:00.066Z"
   },
   {
    "duration": 610,
    "start_time": "2023-08-15T18:55:00.632Z"
   },
   {
    "duration": 133,
    "start_time": "2023-08-15T18:55:01.244Z"
   },
   {
    "duration": 8,
    "start_time": "2023-08-15T18:55:01.380Z"
   },
   {
    "duration": 94,
    "start_time": "2023-08-15T18:55:01.390Z"
   },
   {
    "duration": 142,
    "start_time": "2023-08-15T18:55:01.486Z"
   },
   {
    "duration": 229,
    "start_time": "2023-08-15T18:55:01.630Z"
   },
   {
    "duration": 3,
    "start_time": "2023-08-15T18:55:01.866Z"
   },
   {
    "duration": 86,
    "start_time": "2023-08-15T18:55:01.870Z"
   },
   {
    "duration": 82,
    "start_time": "2023-08-15T18:55:01.958Z"
   },
   {
    "duration": 75,
    "start_time": "2023-08-15T18:55:02.041Z"
   },
   {
    "duration": 389,
    "start_time": "2023-08-15T18:55:02.118Z"
   },
   {
    "duration": 15,
    "start_time": "2023-08-15T18:55:02.509Z"
   },
   {
    "duration": 43,
    "start_time": "2023-08-15T18:55:02.526Z"
   },
   {
    "duration": 6,
    "start_time": "2023-08-15T18:55:02.571Z"
   },
   {
    "duration": 64,
    "start_time": "2023-08-15T18:55:02.579Z"
   },
   {
    "duration": 35,
    "start_time": "2023-08-15T18:55:02.646Z"
   },
   {
    "duration": 50,
    "start_time": "2023-08-15T18:55:02.683Z"
   },
   {
    "duration": 41,
    "start_time": "2023-08-15T18:55:02.735Z"
   },
   {
    "duration": 35,
    "start_time": "2023-08-15T18:55:02.778Z"
   },
   {
    "duration": 16,
    "start_time": "2023-08-15T18:55:02.814Z"
   },
   {
    "duration": 153,
    "start_time": "2023-08-15T18:55:02.833Z"
   },
   {
    "duration": 41,
    "start_time": "2023-08-15T18:55:02.988Z"
   },
   {
    "duration": 46,
    "start_time": "2023-08-15T18:55:03.030Z"
   },
   {
    "duration": 16,
    "start_time": "2023-08-15T18:55:03.079Z"
   },
   {
    "duration": 25,
    "start_time": "2023-08-15T18:55:03.098Z"
   },
   {
    "duration": 39,
    "start_time": "2023-08-15T18:55:03.125Z"
   },
   {
    "duration": 31,
    "start_time": "2023-08-15T18:55:03.166Z"
   },
   {
    "duration": 41,
    "start_time": "2023-08-15T18:55:03.198Z"
   },
   {
    "duration": 31,
    "start_time": "2023-08-15T18:55:03.241Z"
   },
   {
    "duration": 85,
    "start_time": "2023-08-15T18:55:03.274Z"
   },
   {
    "duration": 48,
    "start_time": "2023-08-15T18:55:03.362Z"
   },
   {
    "duration": 68,
    "start_time": "2023-08-15T18:55:03.412Z"
   },
   {
    "duration": 11,
    "start_time": "2023-08-15T18:55:03.482Z"
   },
   {
    "duration": 1211,
    "start_time": "2023-08-15T18:55:03.499Z"
   },
   {
    "duration": 4,
    "start_time": "2023-08-15T18:55:04.712Z"
   },
   {
    "duration": 25,
    "start_time": "2023-08-15T18:55:04.719Z"
   },
   {
    "duration": 5,
    "start_time": "2023-08-15T18:55:04.746Z"
   },
   {
    "duration": 14,
    "start_time": "2023-08-15T18:55:04.753Z"
   },
   {
    "duration": 135,
    "start_time": "2023-08-15T18:55:04.769Z"
   },
   {
    "duration": 0,
    "start_time": "2023-08-15T18:55:04.906Z"
   },
   {
    "duration": 0,
    "start_time": "2023-08-15T18:55:04.907Z"
   },
   {
    "duration": 0,
    "start_time": "2023-08-15T18:55:04.909Z"
   },
   {
    "duration": 0,
    "start_time": "2023-08-15T18:55:04.911Z"
   },
   {
    "duration": 0,
    "start_time": "2023-08-15T18:55:04.911Z"
   },
   {
    "duration": 0,
    "start_time": "2023-08-15T18:55:04.913Z"
   },
   {
    "duration": 0,
    "start_time": "2023-08-15T18:55:04.914Z"
   },
   {
    "duration": 0,
    "start_time": "2023-08-15T18:55:04.915Z"
   },
   {
    "duration": 0,
    "start_time": "2023-08-15T18:55:04.916Z"
   },
   {
    "duration": 0,
    "start_time": "2023-08-15T18:55:04.917Z"
   },
   {
    "duration": 0,
    "start_time": "2023-08-15T18:55:04.918Z"
   },
   {
    "duration": 0,
    "start_time": "2023-08-15T18:55:04.919Z"
   },
   {
    "duration": 0,
    "start_time": "2023-08-15T18:55:04.920Z"
   },
   {
    "duration": 0,
    "start_time": "2023-08-15T18:55:04.921Z"
   },
   {
    "duration": 0,
    "start_time": "2023-08-15T18:55:04.922Z"
   },
   {
    "duration": 0,
    "start_time": "2023-08-15T18:55:04.924Z"
   },
   {
    "duration": 0,
    "start_time": "2023-08-15T18:55:04.925Z"
   },
   {
    "duration": 0,
    "start_time": "2023-08-15T18:55:04.926Z"
   },
   {
    "duration": 0,
    "start_time": "2023-08-15T18:55:04.927Z"
   },
   {
    "duration": 0,
    "start_time": "2023-08-15T18:55:04.928Z"
   },
   {
    "duration": 0,
    "start_time": "2023-08-15T18:55:04.967Z"
   },
   {
    "duration": 0,
    "start_time": "2023-08-15T18:55:04.968Z"
   },
   {
    "duration": 0,
    "start_time": "2023-08-15T18:55:04.970Z"
   },
   {
    "duration": 0,
    "start_time": "2023-08-15T18:55:04.971Z"
   },
   {
    "duration": 0,
    "start_time": "2023-08-15T18:55:04.972Z"
   },
   {
    "duration": 0,
    "start_time": "2023-08-15T18:55:04.973Z"
   },
   {
    "duration": 0,
    "start_time": "2023-08-15T18:55:04.974Z"
   },
   {
    "duration": 0,
    "start_time": "2023-08-15T18:55:04.975Z"
   },
   {
    "duration": 0,
    "start_time": "2023-08-15T18:55:04.977Z"
   },
   {
    "duration": 0,
    "start_time": "2023-08-15T18:55:04.978Z"
   },
   {
    "duration": 0,
    "start_time": "2023-08-15T18:55:04.979Z"
   },
   {
    "duration": 0,
    "start_time": "2023-08-15T18:55:04.980Z"
   },
   {
    "duration": 0,
    "start_time": "2023-08-15T18:55:04.981Z"
   },
   {
    "duration": 24039,
    "start_time": "2023-08-15T18:56:47.839Z"
   },
   {
    "duration": 69,
    "start_time": "2023-08-15T18:59:59.876Z"
   },
   {
    "duration": 943,
    "start_time": "2023-08-15T19:03:25.612Z"
   },
   {
    "duration": 58,
    "start_time": "2023-08-15T19:03:30.815Z"
   },
   {
    "duration": 2,
    "start_time": "2023-08-15T19:03:54.905Z"
   },
   {
    "duration": 978,
    "start_time": "2023-08-15T19:04:02.834Z"
   },
   {
    "duration": 3,
    "start_time": "2023-08-15T19:04:04.873Z"
   },
   {
    "duration": 3,
    "start_time": "2023-08-15T19:04:34.081Z"
   },
   {
    "duration": 54,
    "start_time": "2023-08-15T19:04:37.649Z"
   },
   {
    "duration": 64,
    "start_time": "2023-08-15T19:21:29.097Z"
   },
   {
    "duration": 3156,
    "start_time": "2023-08-16T05:06:42.733Z"
   },
   {
    "duration": 1356,
    "start_time": "2023-08-16T05:06:45.891Z"
   },
   {
    "duration": 19,
    "start_time": "2023-08-16T05:06:47.250Z"
   },
   {
    "duration": 155,
    "start_time": "2023-08-16T05:06:47.270Z"
   },
   {
    "duration": 119,
    "start_time": "2023-08-16T05:06:47.428Z"
   },
   {
    "duration": 150,
    "start_time": "2023-08-16T05:06:47.549Z"
   },
   {
    "duration": 519,
    "start_time": "2023-08-16T05:06:47.701Z"
   },
   {
    "duration": 545,
    "start_time": "2023-08-16T05:06:48.222Z"
   },
   {
    "duration": 131,
    "start_time": "2023-08-16T05:06:48.768Z"
   },
   {
    "duration": 12,
    "start_time": "2023-08-16T05:06:48.901Z"
   },
   {
    "duration": 52,
    "start_time": "2023-08-16T05:06:48.915Z"
   },
   {
    "duration": 33,
    "start_time": "2023-08-16T05:06:48.968Z"
   },
   {
    "duration": 200,
    "start_time": "2023-08-16T05:06:49.003Z"
   },
   {
    "duration": 2,
    "start_time": "2023-08-16T05:06:49.206Z"
   },
   {
    "duration": 15,
    "start_time": "2023-08-16T05:06:49.210Z"
   },
   {
    "duration": 16,
    "start_time": "2023-08-16T05:06:49.227Z"
   },
   {
    "duration": 53,
    "start_time": "2023-08-16T05:06:49.244Z"
   },
   {
    "duration": 224,
    "start_time": "2023-08-16T05:06:49.299Z"
   },
   {
    "duration": 9,
    "start_time": "2023-08-16T05:06:49.525Z"
   },
   {
    "duration": 34,
    "start_time": "2023-08-16T05:06:49.535Z"
   },
   {
    "duration": 26,
    "start_time": "2023-08-16T05:06:49.571Z"
   },
   {
    "duration": 36,
    "start_time": "2023-08-16T05:06:49.599Z"
   },
   {
    "duration": 27,
    "start_time": "2023-08-16T05:06:49.636Z"
   },
   {
    "duration": 35,
    "start_time": "2023-08-16T05:06:49.665Z"
   },
   {
    "duration": 41,
    "start_time": "2023-08-16T05:06:49.702Z"
   },
   {
    "duration": 50,
    "start_time": "2023-08-16T05:06:49.745Z"
   },
   {
    "duration": 14,
    "start_time": "2023-08-16T05:06:49.797Z"
   },
   {
    "duration": 125,
    "start_time": "2023-08-16T05:06:49.812Z"
   },
   {
    "duration": 37,
    "start_time": "2023-08-16T05:06:49.939Z"
   },
   {
    "duration": 44,
    "start_time": "2023-08-16T05:06:49.978Z"
   },
   {
    "duration": 26,
    "start_time": "2023-08-16T05:06:50.024Z"
   },
   {
    "duration": 44,
    "start_time": "2023-08-16T05:06:50.052Z"
   },
   {
    "duration": 35,
    "start_time": "2023-08-16T05:06:50.098Z"
   },
   {
    "duration": 23,
    "start_time": "2023-08-16T05:06:50.135Z"
   },
   {
    "duration": 44,
    "start_time": "2023-08-16T05:06:50.160Z"
   },
   {
    "duration": 43,
    "start_time": "2023-08-16T05:06:50.206Z"
   },
   {
    "duration": 93,
    "start_time": "2023-08-16T05:06:50.250Z"
   },
   {
    "duration": 21,
    "start_time": "2023-08-16T05:06:50.344Z"
   },
   {
    "duration": 67,
    "start_time": "2023-08-16T05:06:50.366Z"
   },
   {
    "duration": 4,
    "start_time": "2023-08-16T05:06:50.435Z"
   },
   {
    "duration": 992,
    "start_time": "2023-08-16T05:06:50.447Z"
   },
   {
    "duration": 4,
    "start_time": "2023-08-16T05:06:51.441Z"
   },
   {
    "duration": 6,
    "start_time": "2023-08-16T05:06:51.447Z"
   },
   {
    "duration": 26,
    "start_time": "2023-08-16T05:06:51.455Z"
   },
   {
    "duration": 10,
    "start_time": "2023-08-16T05:06:51.483Z"
   },
   {
    "duration": 193,
    "start_time": "2023-08-16T05:06:51.495Z"
   },
   {
    "duration": 0,
    "start_time": "2023-08-16T05:06:51.694Z"
   },
   {
    "duration": 0,
    "start_time": "2023-08-16T05:06:51.696Z"
   },
   {
    "duration": 0,
    "start_time": "2023-08-16T05:06:51.697Z"
   },
   {
    "duration": 0,
    "start_time": "2023-08-16T05:06:51.698Z"
   },
   {
    "duration": 0,
    "start_time": "2023-08-16T05:06:51.699Z"
   },
   {
    "duration": 0,
    "start_time": "2023-08-16T05:06:51.700Z"
   },
   {
    "duration": 1,
    "start_time": "2023-08-16T05:06:51.701Z"
   },
   {
    "duration": 0,
    "start_time": "2023-08-16T05:06:51.703Z"
   },
   {
    "duration": 0,
    "start_time": "2023-08-16T05:06:51.704Z"
   },
   {
    "duration": 1,
    "start_time": "2023-08-16T05:06:51.705Z"
   },
   {
    "duration": 0,
    "start_time": "2023-08-16T05:06:51.707Z"
   },
   {
    "duration": 0,
    "start_time": "2023-08-16T05:06:51.708Z"
   },
   {
    "duration": 0,
    "start_time": "2023-08-16T05:06:51.709Z"
   },
   {
    "duration": 0,
    "start_time": "2023-08-16T05:06:51.710Z"
   },
   {
    "duration": 0,
    "start_time": "2023-08-16T05:06:51.712Z"
   },
   {
    "duration": 0,
    "start_time": "2023-08-16T05:06:51.713Z"
   },
   {
    "duration": 0,
    "start_time": "2023-08-16T05:06:51.714Z"
   },
   {
    "duration": 0,
    "start_time": "2023-08-16T05:06:51.716Z"
   },
   {
    "duration": 0,
    "start_time": "2023-08-16T05:06:51.717Z"
   },
   {
    "duration": 0,
    "start_time": "2023-08-16T05:06:51.718Z"
   },
   {
    "duration": 0,
    "start_time": "2023-08-16T05:06:51.719Z"
   },
   {
    "duration": 0,
    "start_time": "2023-08-16T05:06:51.721Z"
   },
   {
    "duration": 0,
    "start_time": "2023-08-16T05:06:51.722Z"
   },
   {
    "duration": 0,
    "start_time": "2023-08-16T05:06:51.723Z"
   },
   {
    "duration": 0,
    "start_time": "2023-08-16T05:06:51.724Z"
   },
   {
    "duration": 0,
    "start_time": "2023-08-16T05:06:51.725Z"
   },
   {
    "duration": 0,
    "start_time": "2023-08-16T05:06:51.728Z"
   },
   {
    "duration": 0,
    "start_time": "2023-08-16T05:06:51.728Z"
   },
   {
    "duration": 0,
    "start_time": "2023-08-16T05:06:51.730Z"
   },
   {
    "duration": 0,
    "start_time": "2023-08-16T05:06:51.731Z"
   },
   {
    "duration": 0,
    "start_time": "2023-08-16T05:06:51.733Z"
   },
   {
    "duration": 0,
    "start_time": "2023-08-16T05:06:51.796Z"
   },
   {
    "duration": 0,
    "start_time": "2023-08-16T05:06:51.798Z"
   },
   {
    "duration": 66,
    "start_time": "2023-08-18T17:08:22.293Z"
   },
   {
    "duration": 8,
    "start_time": "2023-08-18T17:08:26.586Z"
   },
   {
    "duration": 1792,
    "start_time": "2023-08-18T17:08:33.870Z"
   },
   {
    "duration": 1457,
    "start_time": "2023-08-18T17:08:35.664Z"
   },
   {
    "duration": 38,
    "start_time": "2023-08-18T17:08:37.122Z"
   },
   {
    "duration": 145,
    "start_time": "2023-08-18T17:08:37.163Z"
   },
   {
    "duration": 156,
    "start_time": "2023-08-18T17:08:37.309Z"
   },
   {
    "duration": 140,
    "start_time": "2023-08-18T17:08:37.467Z"
   },
   {
    "duration": 550,
    "start_time": "2023-08-18T17:08:37.608Z"
   },
   {
    "duration": 579,
    "start_time": "2023-08-18T17:08:38.160Z"
   },
   {
    "duration": 132,
    "start_time": "2023-08-18T17:08:38.741Z"
   },
   {
    "duration": 9,
    "start_time": "2023-08-18T17:08:38.875Z"
   },
   {
    "duration": 57,
    "start_time": "2023-08-18T17:08:38.886Z"
   },
   {
    "duration": 35,
    "start_time": "2023-08-18T17:08:38.947Z"
   },
   {
    "duration": 207,
    "start_time": "2023-08-18T17:08:38.984Z"
   },
   {
    "duration": 2,
    "start_time": "2023-08-18T17:08:39.193Z"
   },
   {
    "duration": 10,
    "start_time": "2023-08-18T17:08:39.197Z"
   },
   {
    "duration": 35,
    "start_time": "2023-08-18T17:08:39.209Z"
   },
   {
    "duration": 33,
    "start_time": "2023-08-18T17:08:39.247Z"
   },
   {
    "duration": 332,
    "start_time": "2023-08-18T17:08:39.281Z"
   },
   {
    "duration": 24,
    "start_time": "2023-08-18T17:08:39.614Z"
   },
   {
    "duration": 28,
    "start_time": "2023-08-18T17:08:39.639Z"
   },
   {
    "duration": 7,
    "start_time": "2023-08-18T17:08:39.669Z"
   },
   {
    "duration": 31,
    "start_time": "2023-08-18T17:08:39.678Z"
   },
   {
    "duration": 53,
    "start_time": "2023-08-18T17:08:39.711Z"
   },
   {
    "duration": 33,
    "start_time": "2023-08-18T17:08:39.766Z"
   },
   {
    "duration": 47,
    "start_time": "2023-08-18T17:08:39.801Z"
   },
   {
    "duration": 38,
    "start_time": "2023-08-18T17:08:39.850Z"
   },
   {
    "duration": 13,
    "start_time": "2023-08-18T17:08:39.890Z"
   },
   {
    "duration": 58,
    "start_time": "2023-08-18T17:08:39.907Z"
   },
   {
    "duration": 37,
    "start_time": "2023-08-18T17:08:39.967Z"
   },
   {
    "duration": 58,
    "start_time": "2023-08-18T17:08:40.006Z"
   },
   {
    "duration": 14,
    "start_time": "2023-08-18T17:08:40.066Z"
   },
   {
    "duration": 19,
    "start_time": "2023-08-18T17:08:40.082Z"
   },
   {
    "duration": 57,
    "start_time": "2023-08-18T17:08:40.102Z"
   },
   {
    "duration": 17,
    "start_time": "2023-08-18T17:08:40.161Z"
   },
   {
    "duration": 16,
    "start_time": "2023-08-18T17:08:40.179Z"
   },
   {
    "duration": 40,
    "start_time": "2023-08-18T17:08:40.197Z"
   },
   {
    "duration": 88,
    "start_time": "2023-08-18T17:08:40.245Z"
   },
   {
    "duration": 21,
    "start_time": "2023-08-18T17:08:40.337Z"
   },
   {
    "duration": 68,
    "start_time": "2023-08-18T17:08:40.361Z"
   },
   {
    "duration": 8,
    "start_time": "2023-08-18T17:08:40.440Z"
   },
   {
    "duration": 941,
    "start_time": "2023-08-18T17:08:40.454Z"
   },
   {
    "duration": 3,
    "start_time": "2023-08-18T17:08:41.397Z"
   },
   {
    "duration": 4,
    "start_time": "2023-08-18T17:08:41.402Z"
   },
   {
    "duration": 32,
    "start_time": "2023-08-18T17:08:41.407Z"
   },
   {
    "duration": 9,
    "start_time": "2023-08-18T17:08:41.441Z"
   },
   {
    "duration": 188,
    "start_time": "2023-08-18T17:08:41.453Z"
   },
   {
    "duration": 0,
    "start_time": "2023-08-18T17:08:41.643Z"
   },
   {
    "duration": 0,
    "start_time": "2023-08-18T17:08:41.644Z"
   },
   {
    "duration": 0,
    "start_time": "2023-08-18T17:08:41.645Z"
   },
   {
    "duration": 0,
    "start_time": "2023-08-18T17:08:41.646Z"
   },
   {
    "duration": 0,
    "start_time": "2023-08-18T17:08:41.647Z"
   },
   {
    "duration": 0,
    "start_time": "2023-08-18T17:08:41.648Z"
   },
   {
    "duration": 0,
    "start_time": "2023-08-18T17:08:41.648Z"
   },
   {
    "duration": 0,
    "start_time": "2023-08-18T17:08:41.649Z"
   },
   {
    "duration": 0,
    "start_time": "2023-08-18T17:08:41.650Z"
   },
   {
    "duration": 0,
    "start_time": "2023-08-18T17:08:41.651Z"
   },
   {
    "duration": 0,
    "start_time": "2023-08-18T17:08:41.656Z"
   },
   {
    "duration": 0,
    "start_time": "2023-08-18T17:08:41.657Z"
   },
   {
    "duration": 1,
    "start_time": "2023-08-18T17:08:41.657Z"
   },
   {
    "duration": 0,
    "start_time": "2023-08-18T17:08:41.659Z"
   },
   {
    "duration": 0,
    "start_time": "2023-08-18T17:08:41.660Z"
   },
   {
    "duration": 1,
    "start_time": "2023-08-18T17:08:41.661Z"
   },
   {
    "duration": 0,
    "start_time": "2023-08-18T17:08:41.664Z"
   },
   {
    "duration": 0,
    "start_time": "2023-08-18T17:08:41.665Z"
   },
   {
    "duration": 0,
    "start_time": "2023-08-18T17:08:41.667Z"
   },
   {
    "duration": 0,
    "start_time": "2023-08-18T17:08:41.668Z"
   },
   {
    "duration": 0,
    "start_time": "2023-08-18T17:08:41.669Z"
   },
   {
    "duration": 0,
    "start_time": "2023-08-18T17:08:41.671Z"
   },
   {
    "duration": 0,
    "start_time": "2023-08-18T17:08:41.673Z"
   },
   {
    "duration": 0,
    "start_time": "2023-08-18T17:08:41.674Z"
   },
   {
    "duration": 0,
    "start_time": "2023-08-18T17:08:41.675Z"
   },
   {
    "duration": 0,
    "start_time": "2023-08-18T17:08:41.676Z"
   },
   {
    "duration": 0,
    "start_time": "2023-08-18T17:08:41.678Z"
   },
   {
    "duration": 0,
    "start_time": "2023-08-18T17:08:41.679Z"
   },
   {
    "duration": 0,
    "start_time": "2023-08-18T17:08:41.681Z"
   },
   {
    "duration": 0,
    "start_time": "2023-08-18T17:08:41.724Z"
   },
   {
    "duration": 0,
    "start_time": "2023-08-18T17:08:41.725Z"
   },
   {
    "duration": 0,
    "start_time": "2023-08-18T17:08:41.726Z"
   },
   {
    "duration": 0,
    "start_time": "2023-08-18T17:08:41.735Z"
   },
   {
    "duration": 964,
    "start_time": "2023-08-18T17:09:01.852Z"
   },
   {
    "duration": 10,
    "start_time": "2023-08-18T17:09:04.021Z"
   },
   {
    "duration": 931,
    "start_time": "2023-08-18T17:09:18.847Z"
   },
   {
    "duration": 4,
    "start_time": "2023-08-18T17:09:21.088Z"
   },
   {
    "duration": 833,
    "start_time": "2023-08-18T17:13:53.674Z"
   },
   {
    "duration": 6,
    "start_time": "2023-08-18T17:13:55.947Z"
   },
   {
    "duration": 4,
    "start_time": "2023-08-18T17:13:59.450Z"
   },
   {
    "duration": 858,
    "start_time": "2023-08-18T17:14:12.552Z"
   },
   {
    "duration": 4,
    "start_time": "2023-08-18T17:14:15.599Z"
   },
   {
    "duration": 25,
    "start_time": "2023-08-18T17:17:00.909Z"
   },
   {
    "duration": 66,
    "start_time": "2023-08-18T17:17:02.650Z"
   },
   {
    "duration": 6,
    "start_time": "2023-08-18T17:17:04.587Z"
   },
   {
    "duration": 599,
    "start_time": "2023-08-18T17:17:14.309Z"
   },
   {
    "duration": 5,
    "start_time": "2023-08-18T17:17:16.638Z"
   },
   {
    "duration": 590,
    "start_time": "2023-08-18T17:17:49.707Z"
   },
   {
    "duration": 4,
    "start_time": "2023-08-18T17:17:51.899Z"
   },
   {
    "duration": 4,
    "start_time": "2023-08-18T17:17:55.394Z"
   },
   {
    "duration": 944,
    "start_time": "2023-08-18T17:18:05.583Z"
   },
   {
    "duration": 6,
    "start_time": "2023-08-18T17:18:07.695Z"
   },
   {
    "duration": 22,
    "start_time": "2023-08-18T17:32:42.104Z"
   },
   {
    "duration": 849,
    "start_time": "2023-08-18T17:32:56.914Z"
   },
   {
    "duration": 5,
    "start_time": "2023-08-18T17:33:00.553Z"
   },
   {
    "duration": 4,
    "start_time": "2023-08-18T17:33:08.144Z"
   },
   {
    "duration": 4,
    "start_time": "2023-08-18T17:33:28.290Z"
   },
   {
    "duration": 662,
    "start_time": "2023-08-18T17:34:36.106Z"
   },
   {
    "duration": 4,
    "start_time": "2023-08-18T17:34:38.292Z"
   },
   {
    "duration": 731,
    "start_time": "2023-08-18T17:36:06.510Z"
   },
   {
    "duration": 4,
    "start_time": "2023-08-18T17:36:09.792Z"
   },
   {
    "duration": 3,
    "start_time": "2023-08-18T17:36:12.101Z"
   },
   {
    "duration": 0,
    "start_time": "2023-08-18T17:37:36.434Z"
   },
   {
    "duration": 0,
    "start_time": "2023-08-18T17:37:36.435Z"
   },
   {
    "duration": 0,
    "start_time": "2023-08-18T17:37:36.435Z"
   },
   {
    "duration": 0,
    "start_time": "2023-08-18T17:37:36.436Z"
   },
   {
    "duration": 0,
    "start_time": "2023-08-18T17:37:36.437Z"
   },
   {
    "duration": 0,
    "start_time": "2023-08-18T17:37:36.438Z"
   },
   {
    "duration": 0,
    "start_time": "2023-08-18T17:37:36.438Z"
   },
   {
    "duration": 0,
    "start_time": "2023-08-18T17:37:36.439Z"
   },
   {
    "duration": 0,
    "start_time": "2023-08-18T17:37:36.440Z"
   },
   {
    "duration": 0,
    "start_time": "2023-08-18T17:37:36.443Z"
   },
   {
    "duration": 0,
    "start_time": "2023-08-18T17:37:36.444Z"
   },
   {
    "duration": 0,
    "start_time": "2023-08-18T17:37:36.447Z"
   },
   {
    "duration": 0,
    "start_time": "2023-08-18T17:37:36.448Z"
   },
   {
    "duration": 0,
    "start_time": "2023-08-18T17:37:36.449Z"
   },
   {
    "duration": 0,
    "start_time": "2023-08-18T17:37:36.449Z"
   },
   {
    "duration": 0,
    "start_time": "2023-08-18T17:37:36.452Z"
   },
   {
    "duration": 1,
    "start_time": "2023-08-18T17:37:36.453Z"
   },
   {
    "duration": 0,
    "start_time": "2023-08-18T17:37:36.454Z"
   },
   {
    "duration": 0,
    "start_time": "2023-08-18T17:37:36.455Z"
   },
   {
    "duration": 0,
    "start_time": "2023-08-18T17:37:36.456Z"
   },
   {
    "duration": 0,
    "start_time": "2023-08-18T17:37:36.457Z"
   },
   {
    "duration": 0,
    "start_time": "2023-08-18T17:37:36.459Z"
   },
   {
    "duration": 0,
    "start_time": "2023-08-18T17:37:36.462Z"
   },
   {
    "duration": 0,
    "start_time": "2023-08-18T17:37:36.463Z"
   },
   {
    "duration": 0,
    "start_time": "2023-08-18T17:37:36.464Z"
   },
   {
    "duration": 0,
    "start_time": "2023-08-18T17:37:36.465Z"
   },
   {
    "duration": 0,
    "start_time": "2023-08-18T17:37:36.468Z"
   },
   {
    "duration": 0,
    "start_time": "2023-08-18T17:37:36.469Z"
   },
   {
    "duration": 0,
    "start_time": "2023-08-18T17:37:36.470Z"
   },
   {
    "duration": 0,
    "start_time": "2023-08-18T17:37:36.471Z"
   },
   {
    "duration": 0,
    "start_time": "2023-08-18T17:37:36.472Z"
   },
   {
    "duration": 0,
    "start_time": "2023-08-18T17:37:36.523Z"
   },
   {
    "duration": 0,
    "start_time": "2023-08-18T17:37:36.525Z"
   },
   {
    "duration": 0,
    "start_time": "2023-08-18T17:37:36.526Z"
   },
   {
    "duration": 0,
    "start_time": "2023-08-18T17:37:36.527Z"
   },
   {
    "duration": 0,
    "start_time": "2023-08-18T17:37:36.528Z"
   },
   {
    "duration": 0,
    "start_time": "2023-08-18T17:37:36.529Z"
   },
   {
    "duration": 0,
    "start_time": "2023-08-18T17:37:36.530Z"
   },
   {
    "duration": 0,
    "start_time": "2023-08-18T17:37:36.533Z"
   },
   {
    "duration": 0,
    "start_time": "2023-08-18T17:37:36.534Z"
   },
   {
    "duration": 0,
    "start_time": "2023-08-18T17:37:36.537Z"
   },
   {
    "duration": 0,
    "start_time": "2023-08-18T17:37:36.538Z"
   },
   {
    "duration": 0,
    "start_time": "2023-08-18T17:37:36.539Z"
   },
   {
    "duration": 0,
    "start_time": "2023-08-18T17:37:36.541Z"
   },
   {
    "duration": 0,
    "start_time": "2023-08-18T17:37:36.542Z"
   },
   {
    "duration": 0,
    "start_time": "2023-08-18T17:37:36.544Z"
   },
   {
    "duration": 0,
    "start_time": "2023-08-18T17:37:36.545Z"
   },
   {
    "duration": 0,
    "start_time": "2023-08-18T17:37:36.546Z"
   },
   {
    "duration": 0,
    "start_time": "2023-08-18T17:37:36.547Z"
   },
   {
    "duration": 0,
    "start_time": "2023-08-18T17:37:36.548Z"
   },
   {
    "duration": 0,
    "start_time": "2023-08-18T17:37:36.549Z"
   },
   {
    "duration": 0,
    "start_time": "2023-08-18T17:37:36.550Z"
   },
   {
    "duration": 0,
    "start_time": "2023-08-18T17:37:36.551Z"
   },
   {
    "duration": 0,
    "start_time": "2023-08-18T17:37:36.551Z"
   },
   {
    "duration": 0,
    "start_time": "2023-08-18T17:37:36.553Z"
   },
   {
    "duration": 0,
    "start_time": "2023-08-18T17:37:36.554Z"
   },
   {
    "duration": 0,
    "start_time": "2023-08-18T17:37:36.555Z"
   },
   {
    "duration": 0,
    "start_time": "2023-08-18T17:37:36.557Z"
   },
   {
    "duration": 0,
    "start_time": "2023-08-18T17:37:36.559Z"
   },
   {
    "duration": 0,
    "start_time": "2023-08-18T17:37:36.560Z"
   },
   {
    "duration": 0,
    "start_time": "2023-08-18T17:37:36.561Z"
   },
   {
    "duration": 0,
    "start_time": "2023-08-18T17:37:36.562Z"
   },
   {
    "duration": 0,
    "start_time": "2023-08-18T17:37:36.563Z"
   },
   {
    "duration": 0,
    "start_time": "2023-08-18T17:37:36.564Z"
   },
   {
    "duration": 0,
    "start_time": "2023-08-18T17:37:36.565Z"
   },
   {
    "duration": 0,
    "start_time": "2023-08-18T17:37:36.567Z"
   },
   {
    "duration": 0,
    "start_time": "2023-08-18T17:37:36.568Z"
   },
   {
    "duration": 0,
    "start_time": "2023-08-18T17:37:36.625Z"
   },
   {
    "duration": 0,
    "start_time": "2023-08-18T17:37:36.626Z"
   },
   {
    "duration": 0,
    "start_time": "2023-08-18T17:37:36.627Z"
   },
   {
    "duration": 0,
    "start_time": "2023-08-18T17:37:36.628Z"
   },
   {
    "duration": 0,
    "start_time": "2023-08-18T17:37:36.632Z"
   },
   {
    "duration": 0,
    "start_time": "2023-08-18T17:37:36.633Z"
   },
   {
    "duration": 0,
    "start_time": "2023-08-18T17:37:36.634Z"
   },
   {
    "duration": 0,
    "start_time": "2023-08-18T17:37:36.635Z"
   },
   {
    "duration": 0,
    "start_time": "2023-08-18T17:37:36.636Z"
   },
   {
    "duration": 0,
    "start_time": "2023-08-18T17:37:36.637Z"
   },
   {
    "duration": 0,
    "start_time": "2023-08-18T17:37:36.638Z"
   },
   {
    "duration": 0,
    "start_time": "2023-08-18T17:37:36.639Z"
   },
   {
    "duration": 0,
    "start_time": "2023-08-18T17:37:36.640Z"
   },
   {
    "duration": 509,
    "start_time": "2023-08-18T17:37:54.302Z"
   },
   {
    "duration": 566,
    "start_time": "2023-08-18T17:38:01.788Z"
   },
   {
    "duration": 4,
    "start_time": "2023-08-18T17:38:12.242Z"
   },
   {
    "duration": 15,
    "start_time": "2023-08-18T17:38:17.062Z"
   },
   {
    "duration": 65,
    "start_time": "2023-08-18T17:38:17.804Z"
   },
   {
    "duration": 8,
    "start_time": "2023-08-18T17:38:19.231Z"
   },
   {
    "duration": 491,
    "start_time": "2023-08-18T17:38:24.194Z"
   },
   {
    "duration": 8,
    "start_time": "2023-08-18T17:38:26.136Z"
   },
   {
    "duration": 6,
    "start_time": "2023-08-18T17:38:31.847Z"
   },
   {
    "duration": 528,
    "start_time": "2023-08-18T17:39:26.121Z"
   },
   {
    "duration": 4,
    "start_time": "2023-08-18T17:39:31.117Z"
   },
   {
    "duration": 8,
    "start_time": "2023-08-18T17:39:34.579Z"
   },
   {
    "duration": 4,
    "start_time": "2023-08-18T17:39:40.937Z"
   },
   {
    "duration": 4,
    "start_time": "2023-08-18T17:39:51.373Z"
   },
   {
    "duration": 8,
    "start_time": "2023-08-18T17:40:07.433Z"
   },
   {
    "duration": 4,
    "start_time": "2023-08-18T17:40:21.097Z"
   },
   {
    "duration": 4,
    "start_time": "2023-08-18T17:40:23.847Z"
   },
   {
    "duration": 4,
    "start_time": "2023-08-18T17:40:35.159Z"
   },
   {
    "duration": 6,
    "start_time": "2023-08-18T17:55:23.279Z"
   },
   {
    "duration": 13,
    "start_time": "2023-08-18T17:56:51.322Z"
   },
   {
    "duration": 1381,
    "start_time": "2023-08-18T17:58:00.513Z"
   },
   {
    "duration": 1267,
    "start_time": "2023-08-18T17:58:47.615Z"
   },
   {
    "duration": 4508,
    "start_time": "2023-08-18T18:00:02.721Z"
   },
   {
    "duration": 5,
    "start_time": "2023-08-18T18:00:15.626Z"
   },
   {
    "duration": 7,
    "start_time": "2023-08-18T18:00:18.045Z"
   },
   {
    "duration": 4,
    "start_time": "2023-08-18T18:00:20.316Z"
   },
   {
    "duration": 6308,
    "start_time": "2023-08-18T18:00:25.673Z"
   },
   {
    "duration": 5,
    "start_time": "2023-08-18T18:00:31.986Z"
   },
   {
    "duration": 2201,
    "start_time": "2023-08-18T18:00:46.719Z"
   },
   {
    "duration": 1121,
    "start_time": "2023-08-18T18:00:48.928Z"
   },
   {
    "duration": 28,
    "start_time": "2023-08-18T18:00:50.051Z"
   },
   {
    "duration": 232,
    "start_time": "2023-08-18T18:00:50.081Z"
   },
   {
    "duration": 138,
    "start_time": "2023-08-18T18:00:50.316Z"
   },
   {
    "duration": 246,
    "start_time": "2023-08-18T18:00:50.461Z"
   },
   {
    "duration": 805,
    "start_time": "2023-08-18T18:00:50.709Z"
   },
   {
    "duration": 703,
    "start_time": "2023-08-18T18:00:51.516Z"
   },
   {
    "duration": 149,
    "start_time": "2023-08-18T18:00:52.221Z"
   },
   {
    "duration": 11,
    "start_time": "2023-08-18T18:00:52.375Z"
   },
   {
    "duration": 49,
    "start_time": "2023-08-18T18:00:52.388Z"
   },
   {
    "duration": 34,
    "start_time": "2023-08-18T18:00:52.439Z"
   },
   {
    "duration": 275,
    "start_time": "2023-08-18T18:00:52.475Z"
   },
   {
    "duration": 3,
    "start_time": "2023-08-18T18:00:52.755Z"
   },
   {
    "duration": 14,
    "start_time": "2023-08-18T18:00:52.760Z"
   },
   {
    "duration": 20,
    "start_time": "2023-08-18T18:00:52.778Z"
   },
   {
    "duration": 75,
    "start_time": "2023-08-18T18:00:52.800Z"
   },
   {
    "duration": 304,
    "start_time": "2023-08-18T18:00:52.881Z"
   },
   {
    "duration": 9,
    "start_time": "2023-08-18T18:00:53.187Z"
   },
   {
    "duration": 52,
    "start_time": "2023-08-18T18:00:53.198Z"
   },
   {
    "duration": 8,
    "start_time": "2023-08-18T18:00:53.252Z"
   },
   {
    "duration": 66,
    "start_time": "2023-08-18T18:00:53.262Z"
   },
   {
    "duration": 44,
    "start_time": "2023-08-18T18:00:53.329Z"
   },
   {
    "duration": 35,
    "start_time": "2023-08-18T18:00:53.375Z"
   },
   {
    "duration": 69,
    "start_time": "2023-08-18T18:00:53.412Z"
   },
   {
    "duration": 35,
    "start_time": "2023-08-18T18:00:53.484Z"
   },
   {
    "duration": 20,
    "start_time": "2023-08-18T18:00:53.521Z"
   },
   {
    "duration": 151,
    "start_time": "2023-08-18T18:00:53.543Z"
   },
   {
    "duration": 46,
    "start_time": "2023-08-18T18:00:53.696Z"
   },
   {
    "duration": 52,
    "start_time": "2023-08-18T18:00:53.744Z"
   },
   {
    "duration": 23,
    "start_time": "2023-08-18T18:00:53.798Z"
   },
   {
    "duration": 47,
    "start_time": "2023-08-18T18:00:53.826Z"
   },
   {
    "duration": 21,
    "start_time": "2023-08-18T18:00:53.877Z"
   },
   {
    "duration": 23,
    "start_time": "2023-08-18T18:00:53.899Z"
   },
   {
    "duration": 54,
    "start_time": "2023-08-18T18:00:53.924Z"
   },
   {
    "duration": 57,
    "start_time": "2023-08-18T18:00:53.982Z"
   },
   {
    "duration": 135,
    "start_time": "2023-08-18T18:00:54.042Z"
   },
   {
    "duration": 15,
    "start_time": "2023-08-18T18:00:54.183Z"
   },
   {
    "duration": 89,
    "start_time": "2023-08-18T18:00:54.199Z"
   },
   {
    "duration": 4,
    "start_time": "2023-08-18T18:00:54.290Z"
   },
   {
    "duration": 4654,
    "start_time": "2023-08-18T18:00:54.300Z"
   },
   {
    "duration": 4,
    "start_time": "2023-08-18T18:00:58.956Z"
   },
   {
    "duration": 20,
    "start_time": "2023-08-18T18:00:58.962Z"
   },
   {
    "duration": 6,
    "start_time": "2023-08-18T18:00:58.984Z"
   },
   {
    "duration": 187,
    "start_time": "2023-08-18T18:00:58.992Z"
   },
   {
    "duration": 0,
    "start_time": "2023-08-18T18:00:59.181Z"
   },
   {
    "duration": 0,
    "start_time": "2023-08-18T18:00:59.182Z"
   },
   {
    "duration": 0,
    "start_time": "2023-08-18T18:00:59.184Z"
   },
   {
    "duration": 0,
    "start_time": "2023-08-18T18:00:59.185Z"
   },
   {
    "duration": 0,
    "start_time": "2023-08-18T18:00:59.186Z"
   },
   {
    "duration": 0,
    "start_time": "2023-08-18T18:00:59.187Z"
   },
   {
    "duration": 0,
    "start_time": "2023-08-18T18:00:59.189Z"
   },
   {
    "duration": 0,
    "start_time": "2023-08-18T18:00:59.190Z"
   },
   {
    "duration": 0,
    "start_time": "2023-08-18T18:00:59.191Z"
   },
   {
    "duration": 0,
    "start_time": "2023-08-18T18:00:59.193Z"
   },
   {
    "duration": 0,
    "start_time": "2023-08-18T18:00:59.195Z"
   },
   {
    "duration": 0,
    "start_time": "2023-08-18T18:00:59.196Z"
   },
   {
    "duration": 0,
    "start_time": "2023-08-18T18:00:59.239Z"
   },
   {
    "duration": 0,
    "start_time": "2023-08-18T18:00:59.241Z"
   },
   {
    "duration": 0,
    "start_time": "2023-08-18T18:00:59.241Z"
   },
   {
    "duration": 0,
    "start_time": "2023-08-18T18:00:59.242Z"
   },
   {
    "duration": 0,
    "start_time": "2023-08-18T18:00:59.243Z"
   },
   {
    "duration": 0,
    "start_time": "2023-08-18T18:00:59.244Z"
   },
   {
    "duration": 0,
    "start_time": "2023-08-18T18:00:59.246Z"
   },
   {
    "duration": 0,
    "start_time": "2023-08-18T18:00:59.247Z"
   },
   {
    "duration": 0,
    "start_time": "2023-08-18T18:00:59.249Z"
   },
   {
    "duration": 0,
    "start_time": "2023-08-18T18:00:59.250Z"
   },
   {
    "duration": 0,
    "start_time": "2023-08-18T18:00:59.251Z"
   },
   {
    "duration": 0,
    "start_time": "2023-08-18T18:00:59.252Z"
   },
   {
    "duration": 0,
    "start_time": "2023-08-18T18:00:59.254Z"
   },
   {
    "duration": 0,
    "start_time": "2023-08-18T18:00:59.256Z"
   },
   {
    "duration": 0,
    "start_time": "2023-08-18T18:00:59.260Z"
   },
   {
    "duration": 0,
    "start_time": "2023-08-18T18:00:59.261Z"
   },
   {
    "duration": 0,
    "start_time": "2023-08-18T18:00:59.262Z"
   },
   {
    "duration": 0,
    "start_time": "2023-08-18T18:00:59.264Z"
   },
   {
    "duration": 0,
    "start_time": "2023-08-18T18:00:59.268Z"
   },
   {
    "duration": 0,
    "start_time": "2023-08-18T18:00:59.269Z"
   },
   {
    "duration": 0,
    "start_time": "2023-08-18T18:00:59.270Z"
   },
   {
    "duration": 0,
    "start_time": "2023-08-18T18:00:59.272Z"
   },
   {
    "duration": 0,
    "start_time": "2023-08-18T18:00:59.274Z"
   },
   {
    "duration": 0,
    "start_time": "2023-08-18T18:00:59.275Z"
   },
   {
    "duration": 0,
    "start_time": "2023-08-18T18:00:59.277Z"
   },
   {
    "duration": 4566,
    "start_time": "2023-08-18T18:01:43.382Z"
   },
   {
    "duration": 4,
    "start_time": "2023-08-18T18:01:48.983Z"
   },
   {
    "duration": 10,
    "start_time": "2023-08-18T18:01:52.354Z"
   },
   {
    "duration": 5,
    "start_time": "2023-08-18T18:02:23.483Z"
   },
   {
    "duration": 7,
    "start_time": "2023-08-18T18:02:33.449Z"
   },
   {
    "duration": 41,
    "start_time": "2023-08-18T18:08:06.673Z"
   },
   {
    "duration": 41,
    "start_time": "2023-08-18T18:08:15.259Z"
   },
   {
    "duration": 38,
    "start_time": "2023-08-18T18:08:22.853Z"
   },
   {
    "duration": 633,
    "start_time": "2023-08-18T18:09:19.881Z"
   },
   {
    "duration": 689,
    "start_time": "2023-08-18T18:09:53.625Z"
   },
   {
    "duration": 76,
    "start_time": "2023-08-18T18:09:56.651Z"
   },
   {
    "duration": 4,
    "start_time": "2023-08-18T18:09:58.800Z"
   },
   {
    "duration": 4246,
    "start_time": "2023-08-18T18:10:14.523Z"
   },
   {
    "duration": 4,
    "start_time": "2023-08-18T18:10:22.202Z"
   },
   {
    "duration": 6,
    "start_time": "2023-08-18T18:10:25.819Z"
   },
   {
    "duration": 5,
    "start_time": "2023-08-18T18:10:27.874Z"
   },
   {
    "duration": 9,
    "start_time": "2023-08-18T18:12:23.039Z"
   },
   {
    "duration": 6,
    "start_time": "2023-08-18T18:12:25.397Z"
   },
   {
    "duration": 4254,
    "start_time": "2023-08-18T18:12:30.197Z"
   },
   {
    "duration": 691,
    "start_time": "2023-08-18T18:13:05.700Z"
   },
   {
    "duration": 81,
    "start_time": "2023-08-18T18:13:08.703Z"
   },
   {
    "duration": 3,
    "start_time": "2023-08-18T18:13:12.313Z"
   },
   {
    "duration": 1533,
    "start_time": "2023-08-18T18:14:03.189Z"
   },
   {
    "duration": 925,
    "start_time": "2023-08-18T18:14:04.724Z"
   },
   {
    "duration": 16,
    "start_time": "2023-08-18T18:14:05.653Z"
   },
   {
    "duration": 401,
    "start_time": "2023-08-18T18:14:05.670Z"
   },
   {
    "duration": 111,
    "start_time": "2023-08-18T18:14:06.073Z"
   },
   {
    "duration": 148,
    "start_time": "2023-08-18T18:14:06.186Z"
   },
   {
    "duration": 479,
    "start_time": "2023-08-18T18:14:06.341Z"
   },
   {
    "duration": 528,
    "start_time": "2023-08-18T18:14:06.822Z"
   },
   {
    "duration": 118,
    "start_time": "2023-08-18T18:14:07.352Z"
   },
   {
    "duration": 8,
    "start_time": "2023-08-18T18:14:07.471Z"
   },
   {
    "duration": 82,
    "start_time": "2023-08-18T18:14:07.480Z"
   },
   {
    "duration": 81,
    "start_time": "2023-08-18T18:14:07.564Z"
   },
   {
    "duration": 220,
    "start_time": "2023-08-18T18:14:07.647Z"
   },
   {
    "duration": 2,
    "start_time": "2023-08-18T18:14:07.869Z"
   },
   {
    "duration": 30,
    "start_time": "2023-08-18T18:14:07.872Z"
   },
   {
    "duration": 31,
    "start_time": "2023-08-18T18:14:07.904Z"
   },
   {
    "duration": 33,
    "start_time": "2023-08-18T18:14:07.940Z"
   },
   {
    "duration": 233,
    "start_time": "2023-08-18T18:14:07.975Z"
   },
   {
    "duration": 16,
    "start_time": "2023-08-18T18:14:08.210Z"
   },
   {
    "duration": 39,
    "start_time": "2023-08-18T18:14:08.227Z"
   },
   {
    "duration": 18,
    "start_time": "2023-08-18T18:14:08.268Z"
   },
   {
    "duration": 68,
    "start_time": "2023-08-18T18:14:08.288Z"
   },
   {
    "duration": 61,
    "start_time": "2023-08-18T18:14:08.358Z"
   },
   {
    "duration": 124,
    "start_time": "2023-08-18T18:14:08.420Z"
   },
   {
    "duration": 119,
    "start_time": "2023-08-18T18:14:08.546Z"
   },
   {
    "duration": 196,
    "start_time": "2023-08-18T18:14:08.666Z"
   },
   {
    "duration": 14,
    "start_time": "2023-08-18T18:14:08.953Z"
   },
   {
    "duration": 73,
    "start_time": "2023-08-18T18:14:08.969Z"
   },
   {
    "duration": 33,
    "start_time": "2023-08-18T18:14:09.044Z"
   },
   {
    "duration": 82,
    "start_time": "2023-08-18T18:14:09.079Z"
   },
   {
    "duration": 44,
    "start_time": "2023-08-18T18:14:09.163Z"
   },
   {
    "duration": 37,
    "start_time": "2023-08-18T18:14:09.210Z"
   },
   {
    "duration": 61,
    "start_time": "2023-08-18T18:14:09.249Z"
   },
   {
    "duration": 54,
    "start_time": "2023-08-18T18:14:09.312Z"
   },
   {
    "duration": 40,
    "start_time": "2023-08-18T18:14:09.367Z"
   },
   {
    "duration": 56,
    "start_time": "2023-08-18T18:14:09.408Z"
   },
   {
    "duration": 90,
    "start_time": "2023-08-18T18:14:09.466Z"
   },
   {
    "duration": 92,
    "start_time": "2023-08-18T18:14:09.558Z"
   },
   {
    "duration": 619,
    "start_time": "2023-08-18T18:14:09.652Z"
   },
   {
    "duration": 4,
    "start_time": "2023-08-18T18:14:10.273Z"
   },
   {
    "duration": 195,
    "start_time": "2023-08-18T18:14:10.279Z"
   },
   {
    "duration": 8,
    "start_time": "2023-08-18T18:14:10.475Z"
   },
   {
    "duration": 4095,
    "start_time": "2023-08-18T18:14:10.485Z"
   },
   {
    "duration": 3,
    "start_time": "2023-08-18T18:14:14.582Z"
   },
   {
    "duration": 11,
    "start_time": "2023-08-18T18:14:14.586Z"
   },
   {
    "duration": 16,
    "start_time": "2023-08-18T18:14:14.598Z"
   },
   {
    "duration": 123,
    "start_time": "2023-08-18T18:14:14.616Z"
   },
   {
    "duration": 0,
    "start_time": "2023-08-18T18:14:14.741Z"
   },
   {
    "duration": 0,
    "start_time": "2023-08-18T18:14:14.743Z"
   },
   {
    "duration": 0,
    "start_time": "2023-08-18T18:14:14.744Z"
   },
   {
    "duration": 0,
    "start_time": "2023-08-18T18:14:14.746Z"
   },
   {
    "duration": 0,
    "start_time": "2023-08-18T18:14:14.747Z"
   },
   {
    "duration": 0,
    "start_time": "2023-08-18T18:14:14.749Z"
   },
   {
    "duration": 0,
    "start_time": "2023-08-18T18:14:14.750Z"
   },
   {
    "duration": 0,
    "start_time": "2023-08-18T18:14:14.751Z"
   },
   {
    "duration": 0,
    "start_time": "2023-08-18T18:14:14.753Z"
   },
   {
    "duration": 0,
    "start_time": "2023-08-18T18:14:14.754Z"
   },
   {
    "duration": 0,
    "start_time": "2023-08-18T18:14:14.755Z"
   },
   {
    "duration": 0,
    "start_time": "2023-08-18T18:14:14.756Z"
   },
   {
    "duration": 0,
    "start_time": "2023-08-18T18:14:14.757Z"
   },
   {
    "duration": 0,
    "start_time": "2023-08-18T18:14:14.758Z"
   },
   {
    "duration": 0,
    "start_time": "2023-08-18T18:14:14.760Z"
   },
   {
    "duration": 0,
    "start_time": "2023-08-18T18:14:14.761Z"
   },
   {
    "duration": 0,
    "start_time": "2023-08-18T18:14:14.762Z"
   },
   {
    "duration": 0,
    "start_time": "2023-08-18T18:14:14.763Z"
   },
   {
    "duration": 0,
    "start_time": "2023-08-18T18:14:14.764Z"
   },
   {
    "duration": 0,
    "start_time": "2023-08-18T18:14:14.765Z"
   },
   {
    "duration": 0,
    "start_time": "2023-08-18T18:14:14.766Z"
   },
   {
    "duration": 0,
    "start_time": "2023-08-18T18:14:14.767Z"
   },
   {
    "duration": 0,
    "start_time": "2023-08-18T18:14:14.768Z"
   },
   {
    "duration": 0,
    "start_time": "2023-08-18T18:14:14.769Z"
   },
   {
    "duration": 0,
    "start_time": "2023-08-18T18:14:14.770Z"
   },
   {
    "duration": 0,
    "start_time": "2023-08-18T18:14:14.772Z"
   },
   {
    "duration": 0,
    "start_time": "2023-08-18T18:14:14.773Z"
   },
   {
    "duration": 0,
    "start_time": "2023-08-18T18:14:14.775Z"
   },
   {
    "duration": 0,
    "start_time": "2023-08-18T18:14:14.776Z"
   },
   {
    "duration": 0,
    "start_time": "2023-08-18T18:14:14.827Z"
   },
   {
    "duration": 0,
    "start_time": "2023-08-18T18:14:14.828Z"
   },
   {
    "duration": 0,
    "start_time": "2023-08-18T18:14:14.829Z"
   },
   {
    "duration": 0,
    "start_time": "2023-08-18T18:14:14.829Z"
   },
   {
    "duration": 0,
    "start_time": "2023-08-18T18:14:14.831Z"
   },
   {
    "duration": 0,
    "start_time": "2023-08-18T18:14:14.834Z"
   },
   {
    "duration": 0,
    "start_time": "2023-08-18T18:14:14.839Z"
   },
   {
    "duration": 0,
    "start_time": "2023-08-18T18:14:14.842Z"
   },
   {
    "duration": 19,
    "start_time": "2023-08-18T19:00:46.158Z"
   },
   {
    "duration": 55,
    "start_time": "2023-08-18T19:00:51.727Z"
   },
   {
    "duration": 4,
    "start_time": "2023-08-18T19:00:53.274Z"
   },
   {
    "duration": 48,
    "start_time": "2023-08-20T20:03:15.546Z"
   },
   {
    "duration": 1641,
    "start_time": "2023-08-20T20:03:27.112Z"
   },
   {
    "duration": 3079,
    "start_time": "2023-08-20T20:03:28.758Z"
   },
   {
    "duration": 18,
    "start_time": "2023-08-20T20:03:31.839Z"
   },
   {
    "duration": 132,
    "start_time": "2023-08-20T20:03:31.859Z"
   },
   {
    "duration": 112,
    "start_time": "2023-08-20T20:03:31.993Z"
   },
   {
    "duration": 113,
    "start_time": "2023-08-20T20:03:32.107Z"
   },
   {
    "duration": 542,
    "start_time": "2023-08-20T20:03:32.222Z"
   },
   {
    "duration": 530,
    "start_time": "2023-08-20T20:03:32.766Z"
   },
   {
    "duration": 134,
    "start_time": "2023-08-20T20:03:33.298Z"
   },
   {
    "duration": 9,
    "start_time": "2023-08-20T20:03:33.436Z"
   },
   {
    "duration": 34,
    "start_time": "2023-08-20T20:03:33.455Z"
   },
   {
    "duration": 31,
    "start_time": "2023-08-20T20:03:33.491Z"
   },
   {
    "duration": 201,
    "start_time": "2023-08-20T20:03:33.524Z"
   },
   {
    "duration": 3,
    "start_time": "2023-08-20T20:03:33.726Z"
   },
   {
    "duration": 20,
    "start_time": "2023-08-20T20:03:33.730Z"
   },
   {
    "duration": 21,
    "start_time": "2023-08-20T20:03:33.757Z"
   },
   {
    "duration": 36,
    "start_time": "2023-08-20T20:03:33.780Z"
   },
   {
    "duration": 359,
    "start_time": "2023-08-20T20:03:33.818Z"
   },
   {
    "duration": 11,
    "start_time": "2023-08-20T20:03:34.178Z"
   },
   {
    "duration": 31,
    "start_time": "2023-08-20T20:03:34.190Z"
   },
   {
    "duration": 7,
    "start_time": "2023-08-20T20:03:34.222Z"
   },
   {
    "duration": 53,
    "start_time": "2023-08-20T20:03:34.231Z"
   },
   {
    "duration": 31,
    "start_time": "2023-08-20T20:03:34.286Z"
   },
   {
    "duration": 27,
    "start_time": "2023-08-20T20:03:34.319Z"
   },
   {
    "duration": 34,
    "start_time": "2023-08-20T20:03:34.356Z"
   },
   {
    "duration": 35,
    "start_time": "2023-08-20T20:03:34.392Z"
   },
   {
    "duration": 36,
    "start_time": "2023-08-20T20:03:34.429Z"
   },
   {
    "duration": 30,
    "start_time": "2023-08-20T20:03:34.469Z"
   },
   {
    "duration": 58,
    "start_time": "2023-08-20T20:03:34.501Z"
   },
   {
    "duration": 24,
    "start_time": "2023-08-20T20:03:34.561Z"
   },
   {
    "duration": 18,
    "start_time": "2023-08-20T20:03:34.586Z"
   },
   {
    "duration": 18,
    "start_time": "2023-08-20T20:03:34.605Z"
   },
   {
    "duration": 35,
    "start_time": "2023-08-20T20:03:34.624Z"
   },
   {
    "duration": 16,
    "start_time": "2023-08-20T20:03:34.661Z"
   },
   {
    "duration": 14,
    "start_time": "2023-08-20T20:03:34.679Z"
   },
   {
    "duration": 18,
    "start_time": "2023-08-20T20:03:34.695Z"
   },
   {
    "duration": 88,
    "start_time": "2023-08-20T20:03:34.715Z"
   },
   {
    "duration": 18,
    "start_time": "2023-08-20T20:03:34.806Z"
   },
   {
    "duration": 88,
    "start_time": "2023-08-20T20:03:34.826Z"
   },
   {
    "duration": 5,
    "start_time": "2023-08-20T20:03:34.916Z"
   },
   {
    "duration": 4720,
    "start_time": "2023-08-20T20:03:34.922Z"
   },
   {
    "duration": 4,
    "start_time": "2023-08-20T20:03:39.643Z"
   },
   {
    "duration": 5,
    "start_time": "2023-08-20T20:03:39.656Z"
   },
   {
    "duration": 5,
    "start_time": "2023-08-20T20:03:39.663Z"
   },
   {
    "duration": 121,
    "start_time": "2023-08-20T20:03:39.669Z"
   },
   {
    "duration": 0,
    "start_time": "2023-08-20T20:03:39.792Z"
   },
   {
    "duration": 0,
    "start_time": "2023-08-20T20:03:39.793Z"
   },
   {
    "duration": 0,
    "start_time": "2023-08-20T20:03:39.795Z"
   },
   {
    "duration": 0,
    "start_time": "2023-08-20T20:03:39.796Z"
   },
   {
    "duration": 0,
    "start_time": "2023-08-20T20:03:39.797Z"
   },
   {
    "duration": 0,
    "start_time": "2023-08-20T20:03:39.799Z"
   },
   {
    "duration": 0,
    "start_time": "2023-08-20T20:03:39.800Z"
   },
   {
    "duration": 0,
    "start_time": "2023-08-20T20:03:39.800Z"
   },
   {
    "duration": 0,
    "start_time": "2023-08-20T20:03:39.801Z"
   },
   {
    "duration": 0,
    "start_time": "2023-08-20T20:03:39.803Z"
   },
   {
    "duration": 0,
    "start_time": "2023-08-20T20:03:39.804Z"
   },
   {
    "duration": 0,
    "start_time": "2023-08-20T20:03:39.805Z"
   },
   {
    "duration": 0,
    "start_time": "2023-08-20T20:03:39.807Z"
   },
   {
    "duration": 0,
    "start_time": "2023-08-20T20:03:39.808Z"
   },
   {
    "duration": 0,
    "start_time": "2023-08-20T20:03:39.810Z"
   },
   {
    "duration": 0,
    "start_time": "2023-08-20T20:03:39.812Z"
   },
   {
    "duration": 0,
    "start_time": "2023-08-20T20:03:39.813Z"
   },
   {
    "duration": 0,
    "start_time": "2023-08-20T20:03:39.816Z"
   },
   {
    "duration": 0,
    "start_time": "2023-08-20T20:03:39.857Z"
   },
   {
    "duration": 0,
    "start_time": "2023-08-20T20:03:39.858Z"
   },
   {
    "duration": 0,
    "start_time": "2023-08-20T20:03:39.859Z"
   },
   {
    "duration": 0,
    "start_time": "2023-08-20T20:03:39.861Z"
   },
   {
    "duration": 0,
    "start_time": "2023-08-20T20:03:39.862Z"
   },
   {
    "duration": 0,
    "start_time": "2023-08-20T20:03:39.864Z"
   },
   {
    "duration": 0,
    "start_time": "2023-08-20T20:03:39.866Z"
   },
   {
    "duration": 0,
    "start_time": "2023-08-20T20:03:39.866Z"
   },
   {
    "duration": 0,
    "start_time": "2023-08-20T20:03:39.868Z"
   },
   {
    "duration": 0,
    "start_time": "2023-08-20T20:03:39.869Z"
   },
   {
    "duration": 0,
    "start_time": "2023-08-20T20:03:39.870Z"
   },
   {
    "duration": 0,
    "start_time": "2023-08-20T20:03:39.872Z"
   },
   {
    "duration": 0,
    "start_time": "2023-08-20T20:03:39.873Z"
   },
   {
    "duration": 0,
    "start_time": "2023-08-20T20:03:39.874Z"
   },
   {
    "duration": 0,
    "start_time": "2023-08-20T20:03:39.875Z"
   },
   {
    "duration": 0,
    "start_time": "2023-08-20T20:03:39.876Z"
   },
   {
    "duration": 0,
    "start_time": "2023-08-20T20:03:39.877Z"
   },
   {
    "duration": 0,
    "start_time": "2023-08-20T20:03:39.878Z"
   },
   {
    "duration": 0,
    "start_time": "2023-08-20T20:03:39.879Z"
   },
   {
    "duration": 77,
    "start_time": "2023-08-20T20:05:56.898Z"
   },
   {
    "duration": 6,
    "start_time": "2023-08-20T20:05:58.879Z"
   },
   {
    "duration": 5,
    "start_time": "2023-08-20T20:06:02.999Z"
   },
   {
    "duration": 970,
    "start_time": "2023-08-20T20:10:39.469Z"
   },
   {
    "duration": 651,
    "start_time": "2023-08-20T20:10:41.987Z"
   },
   {
    "duration": 4,
    "start_time": "2023-08-20T20:10:44.725Z"
   },
   {
    "duration": 16,
    "start_time": "2023-08-20T20:12:51.571Z"
   },
   {
    "duration": 19,
    "start_time": "2023-08-20T20:13:23.436Z"
   },
   {
    "duration": 102,
    "start_time": "2023-08-20T20:13:26.786Z"
   },
   {
    "duration": 66,
    "start_time": "2023-08-20T20:13:31.524Z"
   },
   {
    "duration": 5,
    "start_time": "2023-08-20T20:13:33.878Z"
   },
   {
    "duration": 14,
    "start_time": "2023-08-20T20:30:13.266Z"
   },
   {
    "duration": 15,
    "start_time": "2023-08-20T20:30:19.561Z"
   },
   {
    "duration": 16,
    "start_time": "2023-08-20T20:30:24.408Z"
   },
   {
    "duration": 14,
    "start_time": "2023-08-20T20:31:27.937Z"
   },
   {
    "duration": 14,
    "start_time": "2023-08-20T20:39:08.861Z"
   },
   {
    "duration": 12,
    "start_time": "2023-08-20T20:39:27.483Z"
   },
   {
    "duration": 10,
    "start_time": "2023-08-20T20:39:44.547Z"
   },
   {
    "duration": 12,
    "start_time": "2023-08-20T20:39:49.482Z"
   },
   {
    "duration": 71,
    "start_time": "2023-08-20T20:39:59.291Z"
   },
   {
    "duration": 71,
    "start_time": "2023-08-20T20:40:03.398Z"
   },
   {
    "duration": 11,
    "start_time": "2023-08-20T20:40:20.676Z"
   },
   {
    "duration": 10,
    "start_time": "2023-08-20T20:40:24.195Z"
   },
   {
    "duration": 1765,
    "start_time": "2023-08-20T20:40:33.593Z"
   },
   {
    "duration": 0,
    "start_time": "2023-08-20T20:40:35.363Z"
   },
   {
    "duration": 0,
    "start_time": "2023-08-20T20:40:35.364Z"
   },
   {
    "duration": 0,
    "start_time": "2023-08-20T20:40:35.365Z"
   },
   {
    "duration": 0,
    "start_time": "2023-08-20T20:40:35.366Z"
   },
   {
    "duration": 0,
    "start_time": "2023-08-20T20:40:35.367Z"
   },
   {
    "duration": 0,
    "start_time": "2023-08-20T20:40:35.368Z"
   },
   {
    "duration": 0,
    "start_time": "2023-08-20T20:40:35.369Z"
   },
   {
    "duration": 0,
    "start_time": "2023-08-20T20:40:35.370Z"
   },
   {
    "duration": 0,
    "start_time": "2023-08-20T20:40:35.371Z"
   },
   {
    "duration": 0,
    "start_time": "2023-08-20T20:40:35.372Z"
   },
   {
    "duration": 0,
    "start_time": "2023-08-20T20:40:35.373Z"
   },
   {
    "duration": 1,
    "start_time": "2023-08-20T20:40:35.374Z"
   },
   {
    "duration": 0,
    "start_time": "2023-08-20T20:40:35.375Z"
   },
   {
    "duration": 0,
    "start_time": "2023-08-20T20:40:35.376Z"
   },
   {
    "duration": 0,
    "start_time": "2023-08-20T20:40:35.377Z"
   },
   {
    "duration": 0,
    "start_time": "2023-08-20T20:40:35.378Z"
   },
   {
    "duration": 0,
    "start_time": "2023-08-20T20:40:35.379Z"
   },
   {
    "duration": 0,
    "start_time": "2023-08-20T20:40:35.380Z"
   },
   {
    "duration": 0,
    "start_time": "2023-08-20T20:40:35.381Z"
   },
   {
    "duration": 0,
    "start_time": "2023-08-20T20:40:35.382Z"
   },
   {
    "duration": 0,
    "start_time": "2023-08-20T20:40:35.383Z"
   },
   {
    "duration": 0,
    "start_time": "2023-08-20T20:40:35.383Z"
   },
   {
    "duration": 0,
    "start_time": "2023-08-20T20:40:35.384Z"
   },
   {
    "duration": 0,
    "start_time": "2023-08-20T20:40:35.385Z"
   },
   {
    "duration": 0,
    "start_time": "2023-08-20T20:40:35.386Z"
   },
   {
    "duration": 0,
    "start_time": "2023-08-20T20:40:35.387Z"
   },
   {
    "duration": 0,
    "start_time": "2023-08-20T20:40:35.388Z"
   },
   {
    "duration": 0,
    "start_time": "2023-08-20T20:40:35.389Z"
   },
   {
    "duration": 0,
    "start_time": "2023-08-20T20:40:35.390Z"
   },
   {
    "duration": 0,
    "start_time": "2023-08-20T20:40:35.391Z"
   },
   {
    "duration": 0,
    "start_time": "2023-08-20T20:40:35.392Z"
   },
   {
    "duration": 0,
    "start_time": "2023-08-20T20:40:35.393Z"
   },
   {
    "duration": 0,
    "start_time": "2023-08-20T20:40:35.394Z"
   },
   {
    "duration": 0,
    "start_time": "2023-08-20T20:40:35.395Z"
   },
   {
    "duration": 0,
    "start_time": "2023-08-20T20:40:35.396Z"
   },
   {
    "duration": 0,
    "start_time": "2023-08-20T20:40:35.397Z"
   },
   {
    "duration": 0,
    "start_time": "2023-08-20T20:40:35.397Z"
   },
   {
    "duration": 0,
    "start_time": "2023-08-20T20:40:35.398Z"
   },
   {
    "duration": 0,
    "start_time": "2023-08-20T20:40:35.399Z"
   },
   {
    "duration": 0,
    "start_time": "2023-08-20T20:40:35.457Z"
   },
   {
    "duration": 0,
    "start_time": "2023-08-20T20:40:35.459Z"
   },
   {
    "duration": 0,
    "start_time": "2023-08-20T20:40:35.460Z"
   },
   {
    "duration": 0,
    "start_time": "2023-08-20T20:40:35.461Z"
   },
   {
    "duration": 0,
    "start_time": "2023-08-20T20:40:35.463Z"
   },
   {
    "duration": 0,
    "start_time": "2023-08-20T20:40:35.464Z"
   },
   {
    "duration": 0,
    "start_time": "2023-08-20T20:40:35.465Z"
   },
   {
    "duration": 0,
    "start_time": "2023-08-20T20:40:35.466Z"
   },
   {
    "duration": 0,
    "start_time": "2023-08-20T20:40:35.468Z"
   },
   {
    "duration": 0,
    "start_time": "2023-08-20T20:40:35.469Z"
   },
   {
    "duration": 0,
    "start_time": "2023-08-20T20:40:35.470Z"
   },
   {
    "duration": 0,
    "start_time": "2023-08-20T20:40:35.472Z"
   },
   {
    "duration": 0,
    "start_time": "2023-08-20T20:40:35.473Z"
   },
   {
    "duration": 0,
    "start_time": "2023-08-20T20:40:35.474Z"
   },
   {
    "duration": 0,
    "start_time": "2023-08-20T20:40:35.475Z"
   },
   {
    "duration": 0,
    "start_time": "2023-08-20T20:40:35.476Z"
   },
   {
    "duration": 0,
    "start_time": "2023-08-20T20:40:35.478Z"
   },
   {
    "duration": 0,
    "start_time": "2023-08-20T20:40:35.479Z"
   },
   {
    "duration": 0,
    "start_time": "2023-08-20T20:40:35.480Z"
   },
   {
    "duration": 0,
    "start_time": "2023-08-20T20:40:35.482Z"
   },
   {
    "duration": 0,
    "start_time": "2023-08-20T20:40:35.483Z"
   },
   {
    "duration": 0,
    "start_time": "2023-08-20T20:40:35.484Z"
   },
   {
    "duration": 0,
    "start_time": "2023-08-20T20:40:35.485Z"
   },
   {
    "duration": 0,
    "start_time": "2023-08-20T20:40:35.487Z"
   },
   {
    "duration": 0,
    "start_time": "2023-08-20T20:40:35.488Z"
   },
   {
    "duration": 0,
    "start_time": "2023-08-20T20:40:35.489Z"
   },
   {
    "duration": 0,
    "start_time": "2023-08-20T20:40:35.490Z"
   },
   {
    "duration": 0,
    "start_time": "2023-08-20T20:40:35.491Z"
   },
   {
    "duration": 0,
    "start_time": "2023-08-20T20:40:35.492Z"
   },
   {
    "duration": 0,
    "start_time": "2023-08-20T20:40:35.493Z"
   },
   {
    "duration": 0,
    "start_time": "2023-08-20T20:40:35.494Z"
   },
   {
    "duration": 0,
    "start_time": "2023-08-20T20:40:35.495Z"
   },
   {
    "duration": 0,
    "start_time": "2023-08-20T20:40:35.496Z"
   },
   {
    "duration": 0,
    "start_time": "2023-08-20T20:40:35.557Z"
   },
   {
    "duration": 0,
    "start_time": "2023-08-20T20:40:35.558Z"
   },
   {
    "duration": 0,
    "start_time": "2023-08-20T20:40:35.560Z"
   },
   {
    "duration": 0,
    "start_time": "2023-08-20T20:40:35.562Z"
   },
   {
    "duration": 0,
    "start_time": "2023-08-20T20:40:35.564Z"
   },
   {
    "duration": 0,
    "start_time": "2023-08-20T20:40:35.565Z"
   },
   {
    "duration": 0,
    "start_time": "2023-08-20T20:40:35.567Z"
   },
   {
    "duration": 0,
    "start_time": "2023-08-20T20:40:35.568Z"
   },
   {
    "duration": 27,
    "start_time": "2023-08-20T20:43:20.199Z"
   },
   {
    "duration": 11,
    "start_time": "2023-08-20T20:44:57.955Z"
   },
   {
    "duration": 11,
    "start_time": "2023-08-20T20:45:07.714Z"
   },
   {
    "duration": 17,
    "start_time": "2023-08-20T20:52:45.019Z"
   },
   {
    "duration": 12,
    "start_time": "2023-08-20T20:54:20.798Z"
   },
   {
    "duration": 10,
    "start_time": "2023-08-20T20:56:59.649Z"
   },
   {
    "duration": 12,
    "start_time": "2023-08-20T20:57:07.453Z"
   },
   {
    "duration": 1569,
    "start_time": "2023-08-20T20:57:32.847Z"
   },
   {
    "duration": 0,
    "start_time": "2023-08-20T20:57:34.421Z"
   },
   {
    "duration": 0,
    "start_time": "2023-08-20T20:57:34.422Z"
   },
   {
    "duration": 0,
    "start_time": "2023-08-20T20:57:34.423Z"
   },
   {
    "duration": 0,
    "start_time": "2023-08-20T20:57:34.424Z"
   },
   {
    "duration": 0,
    "start_time": "2023-08-20T20:57:34.425Z"
   },
   {
    "duration": 0,
    "start_time": "2023-08-20T20:57:34.426Z"
   },
   {
    "duration": 0,
    "start_time": "2023-08-20T20:57:34.427Z"
   },
   {
    "duration": 0,
    "start_time": "2023-08-20T20:57:34.428Z"
   },
   {
    "duration": 0,
    "start_time": "2023-08-20T20:57:34.430Z"
   },
   {
    "duration": 0,
    "start_time": "2023-08-20T20:57:34.431Z"
   },
   {
    "duration": 0,
    "start_time": "2023-08-20T20:57:34.432Z"
   },
   {
    "duration": 0,
    "start_time": "2023-08-20T20:57:34.433Z"
   },
   {
    "duration": 0,
    "start_time": "2023-08-20T20:57:34.434Z"
   },
   {
    "duration": 0,
    "start_time": "2023-08-20T20:57:34.457Z"
   },
   {
    "duration": 0,
    "start_time": "2023-08-20T20:57:34.458Z"
   },
   {
    "duration": 0,
    "start_time": "2023-08-20T20:57:34.460Z"
   },
   {
    "duration": 0,
    "start_time": "2023-08-20T20:57:34.461Z"
   },
   {
    "duration": 0,
    "start_time": "2023-08-20T20:57:34.461Z"
   },
   {
    "duration": 0,
    "start_time": "2023-08-20T20:57:34.462Z"
   },
   {
    "duration": 0,
    "start_time": "2023-08-20T20:57:34.464Z"
   },
   {
    "duration": 0,
    "start_time": "2023-08-20T20:57:34.464Z"
   },
   {
    "duration": 0,
    "start_time": "2023-08-20T20:57:34.465Z"
   },
   {
    "duration": 0,
    "start_time": "2023-08-20T20:57:34.466Z"
   },
   {
    "duration": 0,
    "start_time": "2023-08-20T20:57:34.467Z"
   },
   {
    "duration": 0,
    "start_time": "2023-08-20T20:57:34.468Z"
   },
   {
    "duration": 0,
    "start_time": "2023-08-20T20:57:34.469Z"
   },
   {
    "duration": 0,
    "start_time": "2023-08-20T20:57:34.470Z"
   },
   {
    "duration": 0,
    "start_time": "2023-08-20T20:57:34.471Z"
   },
   {
    "duration": 0,
    "start_time": "2023-08-20T20:57:34.472Z"
   },
   {
    "duration": 0,
    "start_time": "2023-08-20T20:57:34.473Z"
   },
   {
    "duration": 0,
    "start_time": "2023-08-20T20:57:34.473Z"
   },
   {
    "duration": 0,
    "start_time": "2023-08-20T20:57:34.474Z"
   },
   {
    "duration": 0,
    "start_time": "2023-08-20T20:57:34.475Z"
   },
   {
    "duration": 0,
    "start_time": "2023-08-20T20:57:34.476Z"
   },
   {
    "duration": 0,
    "start_time": "2023-08-20T20:57:34.477Z"
   },
   {
    "duration": 0,
    "start_time": "2023-08-20T20:57:34.478Z"
   },
   {
    "duration": 0,
    "start_time": "2023-08-20T20:57:34.479Z"
   },
   {
    "duration": 0,
    "start_time": "2023-08-20T20:57:34.480Z"
   },
   {
    "duration": 0,
    "start_time": "2023-08-20T20:57:34.481Z"
   },
   {
    "duration": 0,
    "start_time": "2023-08-20T20:57:34.482Z"
   },
   {
    "duration": 0,
    "start_time": "2023-08-20T20:57:34.483Z"
   },
   {
    "duration": 0,
    "start_time": "2023-08-20T20:57:34.484Z"
   },
   {
    "duration": 0,
    "start_time": "2023-08-20T20:57:34.485Z"
   },
   {
    "duration": 0,
    "start_time": "2023-08-20T20:57:34.486Z"
   },
   {
    "duration": 0,
    "start_time": "2023-08-20T20:57:34.487Z"
   },
   {
    "duration": 0,
    "start_time": "2023-08-20T20:57:34.488Z"
   },
   {
    "duration": 0,
    "start_time": "2023-08-20T20:57:34.489Z"
   },
   {
    "duration": 0,
    "start_time": "2023-08-20T20:57:34.490Z"
   },
   {
    "duration": 0,
    "start_time": "2023-08-20T20:57:34.491Z"
   },
   {
    "duration": 0,
    "start_time": "2023-08-20T20:57:34.493Z"
   },
   {
    "duration": 0,
    "start_time": "2023-08-20T20:57:34.493Z"
   },
   {
    "duration": 0,
    "start_time": "2023-08-20T20:57:34.494Z"
   },
   {
    "duration": 0,
    "start_time": "2023-08-20T20:57:34.494Z"
   },
   {
    "duration": 0,
    "start_time": "2023-08-20T20:57:34.495Z"
   },
   {
    "duration": 0,
    "start_time": "2023-08-20T20:57:34.495Z"
   },
   {
    "duration": 0,
    "start_time": "2023-08-20T20:57:34.557Z"
   },
   {
    "duration": 0,
    "start_time": "2023-08-20T20:57:34.558Z"
   },
   {
    "duration": 0,
    "start_time": "2023-08-20T20:57:34.560Z"
   },
   {
    "duration": 0,
    "start_time": "2023-08-20T20:57:34.561Z"
   },
   {
    "duration": 0,
    "start_time": "2023-08-20T20:57:34.562Z"
   },
   {
    "duration": 0,
    "start_time": "2023-08-20T20:57:34.563Z"
   },
   {
    "duration": 0,
    "start_time": "2023-08-20T20:57:34.564Z"
   },
   {
    "duration": 0,
    "start_time": "2023-08-20T20:57:34.565Z"
   },
   {
    "duration": 0,
    "start_time": "2023-08-20T20:57:34.565Z"
   },
   {
    "duration": 0,
    "start_time": "2023-08-20T20:57:34.566Z"
   },
   {
    "duration": 0,
    "start_time": "2023-08-20T20:57:34.568Z"
   },
   {
    "duration": 0,
    "start_time": "2023-08-20T20:57:34.569Z"
   },
   {
    "duration": 0,
    "start_time": "2023-08-20T20:57:34.569Z"
   },
   {
    "duration": 0,
    "start_time": "2023-08-20T20:57:34.570Z"
   },
   {
    "duration": 0,
    "start_time": "2023-08-20T20:57:34.571Z"
   },
   {
    "duration": 0,
    "start_time": "2023-08-20T20:57:34.572Z"
   },
   {
    "duration": 0,
    "start_time": "2023-08-20T20:57:34.573Z"
   },
   {
    "duration": 0,
    "start_time": "2023-08-20T20:57:34.574Z"
   },
   {
    "duration": 0,
    "start_time": "2023-08-20T20:57:34.575Z"
   },
   {
    "duration": 0,
    "start_time": "2023-08-20T20:57:34.575Z"
   },
   {
    "duration": 0,
    "start_time": "2023-08-20T20:57:34.577Z"
   },
   {
    "duration": 0,
    "start_time": "2023-08-20T20:57:34.578Z"
   },
   {
    "duration": 0,
    "start_time": "2023-08-20T20:57:34.579Z"
   },
   {
    "duration": 0,
    "start_time": "2023-08-20T20:57:34.580Z"
   },
   {
    "duration": 0,
    "start_time": "2023-08-20T20:57:34.580Z"
   },
   {
    "duration": 11,
    "start_time": "2023-08-20T20:58:06.558Z"
   },
   {
    "duration": 12,
    "start_time": "2023-08-20T20:59:42.080Z"
   },
   {
    "duration": 12,
    "start_time": "2023-08-20T20:59:46.421Z"
   },
   {
    "duration": 12,
    "start_time": "2023-08-20T21:01:05.537Z"
   },
   {
    "duration": 92,
    "start_time": "2023-08-20T21:03:09.426Z"
   },
   {
    "duration": 12,
    "start_time": "2023-08-20T21:04:30.175Z"
   },
   {
    "duration": 69,
    "start_time": "2023-08-20T21:07:46.783Z"
   },
   {
    "duration": 72,
    "start_time": "2023-08-20T21:07:59.686Z"
   },
   {
    "duration": 63,
    "start_time": "2023-08-20T21:08:13.491Z"
   },
   {
    "duration": 72,
    "start_time": "2023-08-20T21:08:23.396Z"
   },
   {
    "duration": 58,
    "start_time": "2023-08-20T21:08:33.685Z"
   },
   {
    "duration": 81,
    "start_time": "2023-08-20T21:23:20.664Z"
   },
   {
    "duration": 79,
    "start_time": "2023-08-20T21:23:36.170Z"
   },
   {
    "duration": 75,
    "start_time": "2023-08-20T21:23:50.307Z"
   },
   {
    "duration": 63,
    "start_time": "2023-08-20T21:23:56.931Z"
   },
   {
    "duration": 68,
    "start_time": "2023-08-20T21:31:41.425Z"
   },
   {
    "duration": 66,
    "start_time": "2023-08-20T21:32:03.482Z"
   },
   {
    "duration": 83,
    "start_time": "2023-08-21T13:38:29.008Z"
   },
   {
    "duration": 79,
    "start_time": "2023-08-21T13:38:36.877Z"
   },
   {
    "duration": 79,
    "start_time": "2023-08-21T13:39:38.043Z"
   },
   {
    "duration": 0,
    "start_time": "2023-08-21T13:39:38.124Z"
   },
   {
    "duration": 0,
    "start_time": "2023-08-21T13:39:38.127Z"
   },
   {
    "duration": 0,
    "start_time": "2023-08-21T13:39:38.128Z"
   },
   {
    "duration": 0,
    "start_time": "2023-08-21T13:39:38.129Z"
   },
   {
    "duration": 0,
    "start_time": "2023-08-21T13:39:38.130Z"
   },
   {
    "duration": 0,
    "start_time": "2023-08-21T13:39:38.131Z"
   },
   {
    "duration": 0,
    "start_time": "2023-08-21T13:39:38.132Z"
   },
   {
    "duration": 0,
    "start_time": "2023-08-21T13:39:38.133Z"
   },
   {
    "duration": 0,
    "start_time": "2023-08-21T13:39:38.134Z"
   },
   {
    "duration": 0,
    "start_time": "2023-08-21T13:39:38.135Z"
   },
   {
    "duration": 0,
    "start_time": "2023-08-21T13:39:38.136Z"
   },
   {
    "duration": 0,
    "start_time": "2023-08-21T13:39:38.136Z"
   },
   {
    "duration": 0,
    "start_time": "2023-08-21T13:39:38.137Z"
   },
   {
    "duration": 0,
    "start_time": "2023-08-21T13:39:38.138Z"
   },
   {
    "duration": 0,
    "start_time": "2023-08-21T13:39:38.139Z"
   },
   {
    "duration": 0,
    "start_time": "2023-08-21T13:39:38.140Z"
   },
   {
    "duration": 0,
    "start_time": "2023-08-21T13:39:38.141Z"
   },
   {
    "duration": 0,
    "start_time": "2023-08-21T13:39:38.142Z"
   },
   {
    "duration": 0,
    "start_time": "2023-08-21T13:39:38.143Z"
   },
   {
    "duration": 0,
    "start_time": "2023-08-21T13:39:38.144Z"
   },
   {
    "duration": 0,
    "start_time": "2023-08-21T13:39:38.145Z"
   },
   {
    "duration": 0,
    "start_time": "2023-08-21T13:39:38.146Z"
   },
   {
    "duration": 0,
    "start_time": "2023-08-21T13:39:38.147Z"
   },
   {
    "duration": 0,
    "start_time": "2023-08-21T13:39:38.148Z"
   },
   {
    "duration": 0,
    "start_time": "2023-08-21T13:39:38.149Z"
   },
   {
    "duration": 0,
    "start_time": "2023-08-21T13:39:38.150Z"
   },
   {
    "duration": 0,
    "start_time": "2023-08-21T13:39:38.151Z"
   },
   {
    "duration": 0,
    "start_time": "2023-08-21T13:39:38.152Z"
   },
   {
    "duration": 0,
    "start_time": "2023-08-21T13:39:38.153Z"
   },
   {
    "duration": 0,
    "start_time": "2023-08-21T13:39:38.154Z"
   },
   {
    "duration": 0,
    "start_time": "2023-08-21T13:39:38.155Z"
   },
   {
    "duration": 0,
    "start_time": "2023-08-21T13:39:38.156Z"
   },
   {
    "duration": 0,
    "start_time": "2023-08-21T13:39:38.157Z"
   },
   {
    "duration": 0,
    "start_time": "2023-08-21T13:39:38.209Z"
   },
   {
    "duration": 102,
    "start_time": "2023-08-21T13:39:38.212Z"
   },
   {
    "duration": 0,
    "start_time": "2023-08-21T13:39:38.316Z"
   },
   {
    "duration": 0,
    "start_time": "2023-08-21T13:39:38.317Z"
   },
   {
    "duration": 0,
    "start_time": "2023-08-21T13:39:38.318Z"
   },
   {
    "duration": 0,
    "start_time": "2023-08-21T13:39:38.319Z"
   },
   {
    "duration": 0,
    "start_time": "2023-08-21T13:39:38.320Z"
   },
   {
    "duration": 0,
    "start_time": "2023-08-21T13:39:38.321Z"
   },
   {
    "duration": 0,
    "start_time": "2023-08-21T13:39:38.322Z"
   },
   {
    "duration": 0,
    "start_time": "2023-08-21T13:39:38.323Z"
   },
   {
    "duration": 0,
    "start_time": "2023-08-21T13:39:38.324Z"
   },
   {
    "duration": 0,
    "start_time": "2023-08-21T13:39:38.326Z"
   },
   {
    "duration": 0,
    "start_time": "2023-08-21T13:39:38.326Z"
   },
   {
    "duration": 0,
    "start_time": "2023-08-21T13:39:38.327Z"
   },
   {
    "duration": 0,
    "start_time": "2023-08-21T13:39:38.328Z"
   },
   {
    "duration": 0,
    "start_time": "2023-08-21T13:39:38.330Z"
   },
   {
    "duration": 0,
    "start_time": "2023-08-21T13:39:38.331Z"
   },
   {
    "duration": 0,
    "start_time": "2023-08-21T13:39:38.332Z"
   },
   {
    "duration": 0,
    "start_time": "2023-08-21T13:39:38.333Z"
   },
   {
    "duration": 0,
    "start_time": "2023-08-21T13:39:38.334Z"
   },
   {
    "duration": 0,
    "start_time": "2023-08-21T13:39:38.335Z"
   },
   {
    "duration": 0,
    "start_time": "2023-08-21T13:39:38.336Z"
   },
   {
    "duration": 0,
    "start_time": "2023-08-21T13:39:38.337Z"
   },
   {
    "duration": 0,
    "start_time": "2023-08-21T13:39:38.338Z"
   },
   {
    "duration": 0,
    "start_time": "2023-08-21T13:39:38.339Z"
   },
   {
    "duration": 0,
    "start_time": "2023-08-21T13:39:38.339Z"
   },
   {
    "duration": 0,
    "start_time": "2023-08-21T13:39:38.340Z"
   },
   {
    "duration": 0,
    "start_time": "2023-08-21T13:39:38.342Z"
   },
   {
    "duration": 0,
    "start_time": "2023-08-21T13:39:38.342Z"
   },
   {
    "duration": 0,
    "start_time": "2023-08-21T13:39:38.343Z"
   },
   {
    "duration": 0,
    "start_time": "2023-08-21T13:39:38.344Z"
   },
   {
    "duration": 0,
    "start_time": "2023-08-21T13:39:38.345Z"
   },
   {
    "duration": 0,
    "start_time": "2023-08-21T13:39:38.346Z"
   },
   {
    "duration": 0,
    "start_time": "2023-08-21T13:39:38.348Z"
   },
   {
    "duration": 0,
    "start_time": "2023-08-21T13:39:38.349Z"
   },
   {
    "duration": 1,
    "start_time": "2023-08-21T13:39:38.349Z"
   },
   {
    "duration": 0,
    "start_time": "2023-08-21T13:39:38.410Z"
   },
   {
    "duration": 0,
    "start_time": "2023-08-21T13:39:38.411Z"
   },
   {
    "duration": 0,
    "start_time": "2023-08-21T13:39:38.412Z"
   },
   {
    "duration": 0,
    "start_time": "2023-08-21T13:39:38.413Z"
   },
   {
    "duration": 0,
    "start_time": "2023-08-21T13:39:38.414Z"
   },
   {
    "duration": 0,
    "start_time": "2023-08-21T13:39:38.415Z"
   },
   {
    "duration": 0,
    "start_time": "2023-08-21T13:39:38.416Z"
   },
   {
    "duration": 0,
    "start_time": "2023-08-21T13:39:38.417Z"
   },
   {
    "duration": 0,
    "start_time": "2023-08-21T13:39:38.418Z"
   },
   {
    "duration": 0,
    "start_time": "2023-08-21T13:39:38.419Z"
   },
   {
    "duration": 0,
    "start_time": "2023-08-21T13:39:38.420Z"
   },
   {
    "duration": 77,
    "start_time": "2023-08-21T13:39:49.473Z"
   },
   {
    "duration": 80,
    "start_time": "2023-08-21T13:39:53.121Z"
   },
   {
    "duration": 183,
    "start_time": "2023-08-21T13:40:08.090Z"
   },
   {
    "duration": 81,
    "start_time": "2023-08-21T13:44:13.328Z"
   },
   {
    "duration": 4944,
    "start_time": "2023-08-21T13:44:26.548Z"
   },
   {
    "duration": 2280,
    "start_time": "2023-08-21T13:44:36.887Z"
   },
   {
    "duration": 4,
    "start_time": "2023-08-21T13:44:46.125Z"
   },
   {
    "duration": 4,
    "start_time": "2023-08-21T13:44:48.456Z"
   },
   {
    "duration": 88,
    "start_time": "2023-08-21T13:45:04.625Z"
   },
   {
    "duration": 0,
    "start_time": "2023-08-21T13:45:11.598Z"
   },
   {
    "duration": 14,
    "start_time": "2023-08-21T13:51:18.020Z"
   },
   {
    "duration": 14,
    "start_time": "2023-08-21T13:51:21.188Z"
   },
   {
    "duration": 1527,
    "start_time": "2023-08-21T13:51:26.718Z"
   },
   {
    "duration": 1140,
    "start_time": "2023-08-21T13:51:28.247Z"
   },
   {
    "duration": 17,
    "start_time": "2023-08-21T13:51:29.389Z"
   },
   {
    "duration": 136,
    "start_time": "2023-08-21T13:51:29.407Z"
   },
   {
    "duration": 99,
    "start_time": "2023-08-21T13:51:29.546Z"
   },
   {
    "duration": 122,
    "start_time": "2023-08-21T13:51:29.647Z"
   },
   {
    "duration": 446,
    "start_time": "2023-08-21T13:51:29.771Z"
   },
   {
    "duration": 489,
    "start_time": "2023-08-21T13:51:30.219Z"
   },
   {
    "duration": 114,
    "start_time": "2023-08-21T13:51:30.710Z"
   },
   {
    "duration": 8,
    "start_time": "2023-08-21T13:51:30.826Z"
   },
   {
    "duration": 74,
    "start_time": "2023-08-21T13:51:30.835Z"
   },
   {
    "duration": 25,
    "start_time": "2023-08-21T13:51:30.911Z"
   },
   {
    "duration": 275,
    "start_time": "2023-08-21T13:51:30.938Z"
   },
   {
    "duration": 3,
    "start_time": "2023-08-21T13:51:31.216Z"
   },
   {
    "duration": 58,
    "start_time": "2023-08-21T13:51:31.220Z"
   },
   {
    "duration": 65,
    "start_time": "2023-08-21T13:51:31.279Z"
   },
   {
    "duration": 74,
    "start_time": "2023-08-21T13:51:31.346Z"
   },
   {
    "duration": 306,
    "start_time": "2023-08-21T13:51:31.422Z"
   },
   {
    "duration": 9,
    "start_time": "2023-08-21T13:51:31.729Z"
   },
   {
    "duration": 39,
    "start_time": "2023-08-21T13:51:31.739Z"
   },
   {
    "duration": 31,
    "start_time": "2023-08-21T13:51:31.780Z"
   },
   {
    "duration": 68,
    "start_time": "2023-08-21T13:51:31.812Z"
   },
   {
    "duration": 56,
    "start_time": "2023-08-21T13:51:31.882Z"
   },
   {
    "duration": 56,
    "start_time": "2023-08-21T13:51:31.940Z"
   },
   {
    "duration": 72,
    "start_time": "2023-08-21T13:51:31.997Z"
   },
   {
    "duration": 36,
    "start_time": "2023-08-21T13:51:32.071Z"
   },
   {
    "duration": 34,
    "start_time": "2023-08-21T13:51:32.109Z"
   },
   {
    "duration": 50,
    "start_time": "2023-08-21T13:51:32.144Z"
   },
   {
    "duration": 94,
    "start_time": "2023-08-21T13:51:32.196Z"
   },
   {
    "duration": 105,
    "start_time": "2023-08-21T13:51:32.292Z"
   },
   {
    "duration": 43,
    "start_time": "2023-08-21T13:51:32.400Z"
   },
   {
    "duration": 34,
    "start_time": "2023-08-21T13:51:32.445Z"
   },
   {
    "duration": 43,
    "start_time": "2023-08-21T13:51:32.481Z"
   },
   {
    "duration": 46,
    "start_time": "2023-08-21T13:51:32.527Z"
   },
   {
    "duration": 50,
    "start_time": "2023-08-21T13:51:32.575Z"
   },
   {
    "duration": 34,
    "start_time": "2023-08-21T13:51:32.627Z"
   },
   {
    "duration": 94,
    "start_time": "2023-08-21T13:51:32.663Z"
   },
   {
    "duration": 25,
    "start_time": "2023-08-21T13:51:32.759Z"
   },
   {
    "duration": 106,
    "start_time": "2023-08-21T13:51:32.786Z"
   },
   {
    "duration": 55,
    "start_time": "2023-08-21T13:51:32.894Z"
   },
   {
    "duration": 4,
    "start_time": "2023-08-21T13:51:32.955Z"
   },
   {
    "duration": 145,
    "start_time": "2023-08-21T13:51:32.960Z"
   },
   {
    "duration": 0,
    "start_time": "2023-08-21T13:51:33.109Z"
   },
   {
    "duration": 0,
    "start_time": "2023-08-21T13:51:33.111Z"
   },
   {
    "duration": 0,
    "start_time": "2023-08-21T13:51:33.112Z"
   },
   {
    "duration": 0,
    "start_time": "2023-08-21T13:51:33.113Z"
   },
   {
    "duration": 0,
    "start_time": "2023-08-21T13:51:33.114Z"
   },
   {
    "duration": 0,
    "start_time": "2023-08-21T13:51:33.115Z"
   },
   {
    "duration": 0,
    "start_time": "2023-08-21T13:51:33.116Z"
   },
   {
    "duration": 0,
    "start_time": "2023-08-21T13:51:33.117Z"
   },
   {
    "duration": 0,
    "start_time": "2023-08-21T13:51:33.118Z"
   },
   {
    "duration": 0,
    "start_time": "2023-08-21T13:51:33.119Z"
   },
   {
    "duration": 0,
    "start_time": "2023-08-21T13:51:33.120Z"
   },
   {
    "duration": 0,
    "start_time": "2023-08-21T13:51:33.121Z"
   },
   {
    "duration": 0,
    "start_time": "2023-08-21T13:51:33.122Z"
   },
   {
    "duration": 0,
    "start_time": "2023-08-21T13:51:33.124Z"
   },
   {
    "duration": 0,
    "start_time": "2023-08-21T13:51:33.125Z"
   },
   {
    "duration": 0,
    "start_time": "2023-08-21T13:51:33.126Z"
   },
   {
    "duration": 0,
    "start_time": "2023-08-21T13:51:33.127Z"
   },
   {
    "duration": 0,
    "start_time": "2023-08-21T13:51:33.128Z"
   },
   {
    "duration": 0,
    "start_time": "2023-08-21T13:51:33.129Z"
   },
   {
    "duration": 0,
    "start_time": "2023-08-21T13:51:33.130Z"
   },
   {
    "duration": 0,
    "start_time": "2023-08-21T13:51:33.131Z"
   },
   {
    "duration": 0,
    "start_time": "2023-08-21T13:51:33.132Z"
   },
   {
    "duration": 0,
    "start_time": "2023-08-21T13:51:33.133Z"
   },
   {
    "duration": 0,
    "start_time": "2023-08-21T13:51:33.134Z"
   },
   {
    "duration": 0,
    "start_time": "2023-08-21T13:51:33.135Z"
   },
   {
    "duration": 0,
    "start_time": "2023-08-21T13:51:33.136Z"
   },
   {
    "duration": 0,
    "start_time": "2023-08-21T13:51:33.137Z"
   },
   {
    "duration": 0,
    "start_time": "2023-08-21T13:51:33.138Z"
   },
   {
    "duration": 0,
    "start_time": "2023-08-21T13:51:33.139Z"
   },
   {
    "duration": 0,
    "start_time": "2023-08-21T13:51:33.140Z"
   },
   {
    "duration": 0,
    "start_time": "2023-08-21T13:51:33.141Z"
   },
   {
    "duration": 0,
    "start_time": "2023-08-21T13:51:33.142Z"
   },
   {
    "duration": 0,
    "start_time": "2023-08-21T13:51:33.143Z"
   },
   {
    "duration": 0,
    "start_time": "2023-08-21T13:51:33.144Z"
   },
   {
    "duration": 0,
    "start_time": "2023-08-21T13:51:33.146Z"
   },
   {
    "duration": 0,
    "start_time": "2023-08-21T13:51:33.147Z"
   },
   {
    "duration": 0,
    "start_time": "2023-08-21T13:51:33.148Z"
   },
   {
    "duration": 0,
    "start_time": "2023-08-21T13:51:33.148Z"
   },
   {
    "duration": 0,
    "start_time": "2023-08-21T13:51:33.210Z"
   },
   {
    "duration": 4,
    "start_time": "2023-08-21T13:51:36.672Z"
   },
   {
    "duration": 12,
    "start_time": "2023-08-21T13:52:10.471Z"
   },
   {
    "duration": 483,
    "start_time": "2023-08-21T13:52:39.247Z"
   },
   {
    "duration": 464,
    "start_time": "2023-08-21T13:52:49.846Z"
   },
   {
    "duration": 502,
    "start_time": "2023-08-21T13:56:45.334Z"
   },
   {
    "duration": 440,
    "start_time": "2023-08-21T13:56:59.726Z"
   },
   {
    "duration": 5,
    "start_time": "2023-08-21T13:57:20.441Z"
   },
   {
    "duration": 488,
    "start_time": "2023-08-21T14:13:16.226Z"
   },
   {
    "duration": 2280,
    "start_time": "2023-08-21T14:18:04.907Z"
   },
   {
    "duration": 471,
    "start_time": "2023-08-21T14:18:19.442Z"
   },
   {
    "duration": 19,
    "start_time": "2023-08-21T14:22:56.262Z"
   },
   {
    "duration": 14,
    "start_time": "2023-08-21T14:23:08.736Z"
   },
   {
    "duration": 43,
    "start_time": "2023-08-21T14:23:09.346Z"
   },
   {
    "duration": 20,
    "start_time": "2023-08-21T14:23:33.291Z"
   },
   {
    "duration": 102,
    "start_time": "2023-08-21T14:23:37.474Z"
   },
   {
    "duration": 79,
    "start_time": "2023-08-21T14:35:20.982Z"
   },
   {
    "duration": 75,
    "start_time": "2023-08-21T14:35:43.180Z"
   },
   {
    "duration": 13,
    "start_time": "2023-08-21T14:37:07.823Z"
   },
   {
    "duration": 10,
    "start_time": "2023-08-21T14:37:10.749Z"
   },
   {
    "duration": 12,
    "start_time": "2023-08-21T14:38:30.371Z"
   },
   {
    "duration": 11,
    "start_time": "2023-08-21T14:40:52.364Z"
   },
   {
    "duration": 79,
    "start_time": "2023-08-21T14:41:45.087Z"
   },
   {
    "duration": 14,
    "start_time": "2023-08-21T14:46:55.833Z"
   },
   {
    "duration": 13,
    "start_time": "2023-08-21T14:47:40.096Z"
   },
   {
    "duration": 16,
    "start_time": "2023-08-21T14:48:07.555Z"
   },
   {
    "duration": 15,
    "start_time": "2023-08-21T14:49:32.707Z"
   },
   {
    "duration": 81,
    "start_time": "2023-08-21T14:49:54.812Z"
   },
   {
    "duration": 72,
    "start_time": "2023-08-21T14:50:12.700Z"
   },
   {
    "duration": 71,
    "start_time": "2023-08-21T14:51:43.496Z"
   },
   {
    "duration": 67,
    "start_time": "2023-08-21T15:05:20.607Z"
   },
   {
    "duration": 84,
    "start_time": "2023-08-21T15:11:24.477Z"
   },
   {
    "duration": 75,
    "start_time": "2023-08-21T15:12:37.515Z"
   },
   {
    "duration": 81,
    "start_time": "2023-08-21T15:12:48.221Z"
   },
   {
    "duration": 132,
    "start_time": "2023-08-21T15:19:34.846Z"
   },
   {
    "duration": 3,
    "start_time": "2023-08-21T15:19:50.311Z"
   },
   {
    "duration": 131,
    "start_time": "2023-08-21T15:20:09.204Z"
   },
   {
    "duration": 18,
    "start_time": "2023-08-21T15:22:11.483Z"
   },
   {
    "duration": 21,
    "start_time": "2023-08-21T15:22:58.720Z"
   },
   {
    "duration": 4,
    "start_time": "2023-08-21T15:24:29.440Z"
   },
   {
    "duration": 19,
    "start_time": "2023-08-21T15:34:02.156Z"
   },
   {
    "duration": 3884,
    "start_time": "2023-08-21T15:34:14.204Z"
   },
   {
    "duration": 812,
    "start_time": "2023-08-21T15:34:18.090Z"
   },
   {
    "duration": 20,
    "start_time": "2023-08-21T15:34:18.903Z"
   },
   {
    "duration": 144,
    "start_time": "2023-08-21T15:34:18.925Z"
   },
   {
    "duration": 103,
    "start_time": "2023-08-21T15:34:19.072Z"
   },
   {
    "duration": 126,
    "start_time": "2023-08-21T15:34:19.176Z"
   },
   {
    "duration": 430,
    "start_time": "2023-08-21T15:34:19.309Z"
   },
   {
    "duration": 476,
    "start_time": "2023-08-21T15:34:19.741Z"
   },
   {
    "duration": 124,
    "start_time": "2023-08-21T15:34:20.219Z"
   },
   {
    "duration": 7,
    "start_time": "2023-08-21T15:34:20.345Z"
   },
   {
    "duration": 38,
    "start_time": "2023-08-21T15:34:20.354Z"
   },
   {
    "duration": 25,
    "start_time": "2023-08-21T15:34:20.409Z"
   },
   {
    "duration": 205,
    "start_time": "2023-08-21T15:34:20.435Z"
   },
   {
    "duration": 2,
    "start_time": "2023-08-21T15:34:20.643Z"
   },
   {
    "duration": 11,
    "start_time": "2023-08-21T15:34:20.647Z"
   },
   {
    "duration": 16,
    "start_time": "2023-08-21T15:34:20.659Z"
   },
   {
    "duration": 46,
    "start_time": "2023-08-21T15:34:20.677Z"
   },
   {
    "duration": 312,
    "start_time": "2023-08-21T15:34:20.725Z"
   },
   {
    "duration": 9,
    "start_time": "2023-08-21T15:34:21.039Z"
   },
   {
    "duration": 57,
    "start_time": "2023-08-21T15:34:21.050Z"
   },
   {
    "duration": 36,
    "start_time": "2023-08-21T15:34:21.108Z"
   },
   {
    "duration": 38,
    "start_time": "2023-08-21T15:34:21.145Z"
   },
   {
    "duration": 20,
    "start_time": "2023-08-21T15:34:21.185Z"
   },
   {
    "duration": 39,
    "start_time": "2023-08-21T15:34:21.206Z"
   },
   {
    "duration": 34,
    "start_time": "2023-08-21T15:34:21.247Z"
   },
   {
    "duration": 44,
    "start_time": "2023-08-21T15:34:21.283Z"
   },
   {
    "duration": 14,
    "start_time": "2023-08-21T15:34:21.329Z"
   },
   {
    "duration": 32,
    "start_time": "2023-08-21T15:34:21.344Z"
   },
   {
    "duration": 53,
    "start_time": "2023-08-21T15:34:21.378Z"
   },
   {
    "duration": 30,
    "start_time": "2023-08-21T15:34:21.432Z"
   },
   {
    "duration": 18,
    "start_time": "2023-08-21T15:34:21.463Z"
   },
   {
    "duration": 36,
    "start_time": "2023-08-21T15:34:21.483Z"
   },
   {
    "duration": 25,
    "start_time": "2023-08-21T15:34:21.520Z"
   },
   {
    "duration": 17,
    "start_time": "2023-08-21T15:34:21.547Z"
   },
   {
    "duration": 21,
    "start_time": "2023-08-21T15:34:21.565Z"
   },
   {
    "duration": 28,
    "start_time": "2023-08-21T15:34:21.587Z"
   },
   {
    "duration": 75,
    "start_time": "2023-08-21T15:34:21.617Z"
   },
   {
    "duration": 24,
    "start_time": "2023-08-21T15:34:21.694Z"
   },
   {
    "duration": 124,
    "start_time": "2023-08-21T15:34:21.720Z"
   },
   {
    "duration": 56,
    "start_time": "2023-08-21T15:34:21.846Z"
   },
   {
    "duration": 3,
    "start_time": "2023-08-21T15:34:21.909Z"
   },
   {
    "duration": 126,
    "start_time": "2023-08-21T15:34:21.914Z"
   },
   {
    "duration": 0,
    "start_time": "2023-08-21T15:34:22.042Z"
   },
   {
    "duration": 0,
    "start_time": "2023-08-21T15:34:22.042Z"
   },
   {
    "duration": 0,
    "start_time": "2023-08-21T15:34:22.043Z"
   },
   {
    "duration": 0,
    "start_time": "2023-08-21T15:34:22.045Z"
   },
   {
    "duration": 0,
    "start_time": "2023-08-21T15:34:22.045Z"
   },
   {
    "duration": 0,
    "start_time": "2023-08-21T15:34:22.046Z"
   },
   {
    "duration": 0,
    "start_time": "2023-08-21T15:34:22.047Z"
   },
   {
    "duration": 0,
    "start_time": "2023-08-21T15:34:22.048Z"
   },
   {
    "duration": 0,
    "start_time": "2023-08-21T15:34:22.049Z"
   },
   {
    "duration": 0,
    "start_time": "2023-08-21T15:34:22.050Z"
   },
   {
    "duration": 0,
    "start_time": "2023-08-21T15:34:22.052Z"
   },
   {
    "duration": 0,
    "start_time": "2023-08-21T15:34:22.052Z"
   },
   {
    "duration": 0,
    "start_time": "2023-08-21T15:34:22.053Z"
   },
   {
    "duration": 0,
    "start_time": "2023-08-21T15:34:22.055Z"
   },
   {
    "duration": 0,
    "start_time": "2023-08-21T15:34:22.056Z"
   },
   {
    "duration": 0,
    "start_time": "2023-08-21T15:34:22.057Z"
   },
   {
    "duration": 0,
    "start_time": "2023-08-21T15:34:22.058Z"
   },
   {
    "duration": 0,
    "start_time": "2023-08-21T15:34:22.059Z"
   },
   {
    "duration": 0,
    "start_time": "2023-08-21T15:34:22.060Z"
   },
   {
    "duration": 0,
    "start_time": "2023-08-21T15:34:22.061Z"
   },
   {
    "duration": 0,
    "start_time": "2023-08-21T15:34:22.062Z"
   },
   {
    "duration": 0,
    "start_time": "2023-08-21T15:34:22.064Z"
   },
   {
    "duration": 0,
    "start_time": "2023-08-21T15:34:22.065Z"
   },
   {
    "duration": 0,
    "start_time": "2023-08-21T15:34:22.066Z"
   },
   {
    "duration": 0,
    "start_time": "2023-08-21T15:34:22.110Z"
   },
   {
    "duration": 0,
    "start_time": "2023-08-21T15:34:22.111Z"
   },
   {
    "duration": 0,
    "start_time": "2023-08-21T15:34:22.112Z"
   },
   {
    "duration": 0,
    "start_time": "2023-08-21T15:34:22.113Z"
   },
   {
    "duration": 0,
    "start_time": "2023-08-21T15:34:22.114Z"
   },
   {
    "duration": 0,
    "start_time": "2023-08-21T15:34:22.115Z"
   },
   {
    "duration": 0,
    "start_time": "2023-08-21T15:34:22.117Z"
   },
   {
    "duration": 0,
    "start_time": "2023-08-21T15:34:22.118Z"
   },
   {
    "duration": 0,
    "start_time": "2023-08-21T15:34:22.119Z"
   },
   {
    "duration": 0,
    "start_time": "2023-08-21T15:34:22.121Z"
   },
   {
    "duration": 0,
    "start_time": "2023-08-21T15:34:22.122Z"
   },
   {
    "duration": 0,
    "start_time": "2023-08-21T15:34:22.123Z"
   },
   {
    "duration": 0,
    "start_time": "2023-08-21T15:34:22.125Z"
   },
   {
    "duration": 0,
    "start_time": "2023-08-21T15:34:22.126Z"
   },
   {
    "duration": 537,
    "start_time": "2023-08-21T15:36:15.215Z"
   },
   {
    "duration": 4,
    "start_time": "2023-08-21T15:36:18.726Z"
   },
   {
    "duration": 17,
    "start_time": "2023-08-21T15:36:21.780Z"
   },
   {
    "duration": 138,
    "start_time": "2023-08-21T15:36:28.348Z"
   },
   {
    "duration": 138,
    "start_time": "2023-08-21T15:36:35.442Z"
   },
   {
    "duration": 4,
    "start_time": "2023-08-21T15:37:00.625Z"
   },
   {
    "duration": 4,
    "start_time": "2023-08-21T15:37:03.801Z"
   },
   {
    "duration": 15,
    "start_time": "2023-08-21T15:37:19.445Z"
   },
   {
    "duration": 247,
    "start_time": "2023-08-21T15:37:42.466Z"
   },
   {
    "duration": 204,
    "start_time": "2023-08-21T15:37:47.681Z"
   },
   {
    "duration": 16,
    "start_time": "2023-08-21T15:37:54.308Z"
   },
   {
    "duration": 207,
    "start_time": "2023-08-21T15:39:31.899Z"
   },
   {
    "duration": 76,
    "start_time": "2023-08-21T15:42:42.695Z"
   },
   {
    "duration": 72,
    "start_time": "2023-08-21T16:07:52.579Z"
   },
   {
    "duration": 4,
    "start_time": "2023-08-21T16:07:55.099Z"
   },
   {
    "duration": 208,
    "start_time": "2023-08-21T16:08:08.716Z"
   },
   {
    "duration": 3,
    "start_time": "2023-08-21T16:08:12.842Z"
   },
   {
    "duration": 70,
    "start_time": "2023-08-21T16:12:19.753Z"
   },
   {
    "duration": 3,
    "start_time": "2023-08-21T16:12:22.047Z"
   },
   {
    "duration": 101,
    "start_time": "2023-08-21T16:14:57.362Z"
   },
   {
    "duration": 73,
    "start_time": "2023-08-21T16:15:15.106Z"
   },
   {
    "duration": 4,
    "start_time": "2023-08-21T16:15:20.351Z"
   },
   {
    "duration": 4,
    "start_time": "2023-08-21T16:17:06.478Z"
   },
   {
    "duration": 61,
    "start_time": "2023-08-21T16:20:36.692Z"
   },
   {
    "duration": 5,
    "start_time": "2023-08-21T16:20:39.267Z"
   },
   {
    "duration": 60,
    "start_time": "2023-08-21T16:30:54.149Z"
   },
   {
    "duration": 4,
    "start_time": "2023-08-21T16:30:54.247Z"
   },
   {
    "duration": 4,
    "start_time": "2023-08-21T16:30:56.632Z"
   },
   {
    "duration": 401,
    "start_time": "2023-08-21T16:31:47.750Z"
   },
   {
    "duration": 5,
    "start_time": "2023-08-21T16:31:50.841Z"
   },
   {
    "duration": 29,
    "start_time": "2023-08-21T16:31:53.067Z"
   },
   {
    "duration": 172,
    "start_time": "2023-08-21T16:31:59.919Z"
   },
   {
    "duration": 17,
    "start_time": "2023-08-21T16:32:03.330Z"
   },
   {
    "duration": 144,
    "start_time": "2023-08-21T16:32:48.822Z"
   },
   {
    "duration": 3,
    "start_time": "2023-08-21T16:40:27.220Z"
   },
   {
    "duration": 3,
    "start_time": "2023-08-21T16:43:14.121Z"
   },
   {
    "duration": 3,
    "start_time": "2023-08-21T17:08:14.021Z"
   },
   {
    "duration": 4,
    "start_time": "2023-08-21T17:16:24.822Z"
   },
   {
    "duration": 2,
    "start_time": "2023-08-21T17:39:12.068Z"
   },
   {
    "duration": 11,
    "start_time": "2023-08-21T17:39:53.536Z"
   },
   {
    "duration": 12,
    "start_time": "2023-08-21T17:40:00.866Z"
   },
   {
    "duration": 10,
    "start_time": "2023-08-21T17:40:04.715Z"
   },
   {
    "duration": 76,
    "start_time": "2023-08-21T17:48:16.495Z"
   },
   {
    "duration": 335,
    "start_time": "2023-08-21T17:49:23.676Z"
   },
   {
    "duration": 12,
    "start_time": "2023-08-21T17:50:58.019Z"
   },
   {
    "duration": 10,
    "start_time": "2023-08-21T18:13:20.516Z"
   },
   {
    "duration": 3,
    "start_time": "2023-08-21T18:15:16.537Z"
   },
   {
    "duration": 10,
    "start_time": "2023-08-21T18:15:37.058Z"
   },
   {
    "duration": 2322,
    "start_time": "2023-08-21T18:18:39.606Z"
   },
   {
    "duration": 16,
    "start_time": "2023-08-21T18:18:48.903Z"
   },
   {
    "duration": 14,
    "start_time": "2023-08-21T18:19:15.038Z"
   },
   {
    "duration": 6,
    "start_time": "2023-08-21T18:19:25.875Z"
   },
   {
    "duration": 118,
    "start_time": "2023-08-21T18:27:50.900Z"
   },
   {
    "duration": 14,
    "start_time": "2023-08-21T18:28:22.126Z"
   },
   {
    "duration": 2174,
    "start_time": "2023-08-21T18:29:23.311Z"
   },
   {
    "duration": 56392,
    "start_time": "2023-08-21T18:29:35.343Z"
   },
   {
    "duration": 59214,
    "start_time": "2023-08-21T18:31:06.473Z"
   },
   {
    "duration": 97,
    "start_time": "2023-08-21T18:32:09.103Z"
   },
   {
    "duration": 210,
    "start_time": "2023-08-21T18:32:42.458Z"
   },
   {
    "duration": 143,
    "start_time": "2023-08-21T18:33:10.018Z"
   },
   {
    "duration": 19,
    "start_time": "2023-08-21T18:33:14.972Z"
   },
   {
    "duration": 135,
    "start_time": "2023-08-21T18:34:18.640Z"
   },
   {
    "duration": 2680,
    "start_time": "2023-08-21T18:34:29.058Z"
   },
   {
    "duration": 56499,
    "start_time": "2023-08-21T18:35:38.186Z"
   },
   {
    "duration": 2277,
    "start_time": "2023-08-21T18:36:34.687Z"
   },
   {
    "duration": 131,
    "start_time": "2023-08-21T18:56:28.409Z"
   },
   {
    "duration": 129,
    "start_time": "2023-08-21T18:57:08.025Z"
   },
   {
    "duration": 68,
    "start_time": "2023-08-21T18:57:34.301Z"
   },
   {
    "duration": 119,
    "start_time": "2023-08-21T18:57:48.114Z"
   },
   {
    "duration": 118,
    "start_time": "2023-08-21T18:59:35.453Z"
   },
   {
    "duration": 97,
    "start_time": "2023-08-21T19:01:47.527Z"
   },
   {
    "duration": 111,
    "start_time": "2023-08-21T19:03:20.613Z"
   },
   {
    "duration": 102,
    "start_time": "2023-08-21T19:03:44.793Z"
   },
   {
    "duration": 387,
    "start_time": "2023-08-21T19:05:53.375Z"
   },
   {
    "duration": 379,
    "start_time": "2023-08-21T19:06:55.747Z"
   },
   {
    "duration": 375,
    "start_time": "2023-08-21T19:08:34.753Z"
   },
   {
    "duration": 98,
    "start_time": "2023-08-21T19:09:58.654Z"
   },
   {
    "duration": 83,
    "start_time": "2023-08-21T19:10:21.274Z"
   },
   {
    "duration": 116,
    "start_time": "2023-08-21T19:10:50.654Z"
   },
   {
    "duration": 381,
    "start_time": "2023-08-21T19:16:03.800Z"
   },
   {
    "duration": 100,
    "start_time": "2023-08-21T19:17:44.009Z"
   },
   {
    "duration": 366,
    "start_time": "2023-08-21T19:20:13.029Z"
   },
   {
    "duration": 91,
    "start_time": "2023-08-21T19:20:48.328Z"
   },
   {
    "duration": 2,
    "start_time": "2023-08-21T19:21:10.297Z"
   },
   {
    "duration": 289,
    "start_time": "2023-08-21T19:27:46.321Z"
   },
   {
    "duration": 111,
    "start_time": "2023-08-21T19:28:30.677Z"
   },
   {
    "duration": 145,
    "start_time": "2023-08-21T19:28:46.229Z"
   },
   {
    "duration": 105,
    "start_time": "2023-08-21T19:29:03.606Z"
   },
   {
    "duration": 12,
    "start_time": "2023-08-21T19:31:17.966Z"
   },
   {
    "duration": 11,
    "start_time": "2023-08-21T19:31:33.051Z"
   },
   {
    "duration": 2572,
    "start_time": "2023-08-21T19:31:55.313Z"
   },
   {
    "duration": 71,
    "start_time": "2023-08-21T19:32:21.150Z"
   },
   {
    "duration": 66,
    "start_time": "2023-08-21T19:32:27.668Z"
   },
   {
    "duration": 4300,
    "start_time": "2023-08-21T19:32:35.700Z"
   },
   {
    "duration": 1067,
    "start_time": "2023-08-21T19:32:40.002Z"
   },
   {
    "duration": 19,
    "start_time": "2023-08-21T19:32:41.071Z"
   },
   {
    "duration": 168,
    "start_time": "2023-08-21T19:32:41.092Z"
   },
   {
    "duration": 110,
    "start_time": "2023-08-21T19:32:41.263Z"
   },
   {
    "duration": 143,
    "start_time": "2023-08-21T19:32:41.375Z"
   },
   {
    "duration": 526,
    "start_time": "2023-08-21T19:32:41.520Z"
   },
   {
    "duration": 629,
    "start_time": "2023-08-21T19:32:42.047Z"
   },
   {
    "duration": 131,
    "start_time": "2023-08-21T19:32:42.678Z"
   },
   {
    "duration": 9,
    "start_time": "2023-08-21T19:32:42.811Z"
   },
   {
    "duration": 38,
    "start_time": "2023-08-21T19:32:42.822Z"
   },
   {
    "duration": 52,
    "start_time": "2023-08-21T19:32:42.862Z"
   },
   {
    "duration": 212,
    "start_time": "2023-08-21T19:32:42.916Z"
   },
   {
    "duration": 3,
    "start_time": "2023-08-21T19:32:43.132Z"
   },
   {
    "duration": 11,
    "start_time": "2023-08-21T19:32:43.137Z"
   },
   {
    "duration": 18,
    "start_time": "2023-08-21T19:32:43.150Z"
   },
   {
    "duration": 154,
    "start_time": "2023-08-21T19:32:43.170Z"
   },
   {
    "duration": 243,
    "start_time": "2023-08-21T19:32:43.326Z"
   },
   {
    "duration": 9,
    "start_time": "2023-08-21T19:32:43.572Z"
   },
   {
    "duration": 40,
    "start_time": "2023-08-21T19:32:43.583Z"
   },
   {
    "duration": 6,
    "start_time": "2023-08-21T19:32:43.626Z"
   },
   {
    "duration": 41,
    "start_time": "2023-08-21T19:32:43.634Z"
   },
   {
    "duration": 19,
    "start_time": "2023-08-21T19:32:43.677Z"
   },
   {
    "duration": 31,
    "start_time": "2023-08-21T19:32:43.710Z"
   },
   {
    "duration": 35,
    "start_time": "2023-08-21T19:32:43.743Z"
   },
   {
    "duration": 54,
    "start_time": "2023-08-21T19:32:43.779Z"
   },
   {
    "duration": 14,
    "start_time": "2023-08-21T19:32:43.834Z"
   },
   {
    "duration": 32,
    "start_time": "2023-08-21T19:32:43.849Z"
   },
   {
    "duration": 62,
    "start_time": "2023-08-21T19:32:43.883Z"
   },
   {
    "duration": 30,
    "start_time": "2023-08-21T19:32:43.947Z"
   },
   {
    "duration": 31,
    "start_time": "2023-08-21T19:32:43.979Z"
   },
   {
    "duration": 17,
    "start_time": "2023-08-21T19:32:44.012Z"
   },
   {
    "duration": 21,
    "start_time": "2023-08-21T19:32:44.031Z"
   },
   {
    "duration": 18,
    "start_time": "2023-08-21T19:32:44.053Z"
   },
   {
    "duration": 44,
    "start_time": "2023-08-21T19:32:44.074Z"
   },
   {
    "duration": 19,
    "start_time": "2023-08-21T19:32:44.120Z"
   },
   {
    "duration": 92,
    "start_time": "2023-08-21T19:32:44.141Z"
   },
   {
    "duration": 14,
    "start_time": "2023-08-21T19:32:44.235Z"
   },
   {
    "duration": 132,
    "start_time": "2023-08-21T19:32:44.250Z"
   },
   {
    "duration": 83,
    "start_time": "2023-08-21T19:32:44.384Z"
   },
   {
    "duration": 4,
    "start_time": "2023-08-21T19:32:44.472Z"
   },
   {
    "duration": 461,
    "start_time": "2023-08-21T19:32:44.478Z"
   },
   {
    "duration": 4,
    "start_time": "2023-08-21T19:32:44.941Z"
   },
   {
    "duration": 27,
    "start_time": "2023-08-21T19:32:44.947Z"
   },
   {
    "duration": 262,
    "start_time": "2023-08-21T19:32:44.976Z"
   },
   {
    "duration": 20,
    "start_time": "2023-08-21T19:32:45.240Z"
   },
   {
    "duration": 7,
    "start_time": "2023-08-21T19:32:45.263Z"
   },
   {
    "duration": 11,
    "start_time": "2023-08-21T19:32:45.272Z"
   },
   {
    "duration": 29,
    "start_time": "2023-08-21T19:32:45.285Z"
   },
   {
    "duration": 307,
    "start_time": "2023-08-21T19:32:45.318Z"
   },
   {
    "duration": 182,
    "start_time": "2023-08-21T19:32:45.627Z"
   },
   {
    "duration": 10,
    "start_time": "2023-08-21T19:32:45.813Z"
   },
   {
    "duration": 1818,
    "start_time": "2023-08-21T19:32:45.909Z"
   },
   {
    "duration": 3,
    "start_time": "2023-08-21T19:32:47.811Z"
   },
   {
    "duration": 61605,
    "start_time": "2023-08-21T19:32:47.819Z"
   },
   {
    "duration": 2596,
    "start_time": "2023-08-21T19:33:49.426Z"
   },
   {
    "duration": 148,
    "start_time": "2023-08-21T19:33:52.023Z"
   },
   {
    "duration": 0,
    "start_time": "2023-08-21T19:33:52.173Z"
   },
   {
    "duration": 0,
    "start_time": "2023-08-21T19:33:52.176Z"
   },
   {
    "duration": 0,
    "start_time": "2023-08-21T19:33:52.177Z"
   },
   {
    "duration": 0,
    "start_time": "2023-08-21T19:33:52.178Z"
   },
   {
    "duration": 0,
    "start_time": "2023-08-21T19:33:52.180Z"
   },
   {
    "duration": 0,
    "start_time": "2023-08-21T19:33:52.183Z"
   },
   {
    "duration": 0,
    "start_time": "2023-08-21T19:33:52.185Z"
   },
   {
    "duration": 0,
    "start_time": "2023-08-21T19:33:52.187Z"
   },
   {
    "duration": 0,
    "start_time": "2023-08-21T19:33:52.189Z"
   },
   {
    "duration": 0,
    "start_time": "2023-08-21T19:33:52.190Z"
   },
   {
    "duration": 0,
    "start_time": "2023-08-21T19:33:52.210Z"
   },
   {
    "duration": 0,
    "start_time": "2023-08-21T19:33:52.211Z"
   },
   {
    "duration": 0,
    "start_time": "2023-08-21T19:33:52.213Z"
   },
   {
    "duration": 0,
    "start_time": "2023-08-21T19:33:52.214Z"
   },
   {
    "duration": 0,
    "start_time": "2023-08-21T19:33:52.216Z"
   },
   {
    "duration": 0,
    "start_time": "2023-08-21T19:33:52.217Z"
   },
   {
    "duration": 0,
    "start_time": "2023-08-21T19:33:52.219Z"
   },
   {
    "duration": 0,
    "start_time": "2023-08-21T19:33:52.220Z"
   },
   {
    "duration": 0,
    "start_time": "2023-08-21T19:33:52.222Z"
   },
   {
    "duration": 0,
    "start_time": "2023-08-21T19:33:52.223Z"
   },
   {
    "duration": 0,
    "start_time": "2023-08-21T19:33:52.224Z"
   },
   {
    "duration": 0,
    "start_time": "2023-08-21T19:33:52.226Z"
   },
   {
    "duration": 0,
    "start_time": "2023-08-21T19:33:52.228Z"
   },
   {
    "duration": 0,
    "start_time": "2023-08-21T19:33:52.229Z"
   },
   {
    "duration": 0,
    "start_time": "2023-08-21T19:33:52.230Z"
   },
   {
    "duration": 0,
    "start_time": "2023-08-21T19:33:52.231Z"
   },
   {
    "duration": 0,
    "start_time": "2023-08-21T19:33:52.232Z"
   },
   {
    "duration": 0,
    "start_time": "2023-08-21T19:33:52.233Z"
   },
   {
    "duration": 0,
    "start_time": "2023-08-21T19:33:52.235Z"
   },
   {
    "duration": 198,
    "start_time": "2023-08-21T19:34:38.568Z"
   },
   {
    "duration": 6,
    "start_time": "2023-08-21T19:34:55.705Z"
   },
   {
    "duration": 297,
    "start_time": "2023-08-21T19:35:01.928Z"
   },
   {
    "duration": 121,
    "start_time": "2023-08-21T19:35:06.700Z"
   },
   {
    "duration": 317,
    "start_time": "2023-08-21T19:35:37.393Z"
   },
   {
    "duration": 9,
    "start_time": "2023-08-21T19:35:42.064Z"
   },
   {
    "duration": 1845,
    "start_time": "2023-08-21T19:36:05.367Z"
   },
   {
    "duration": 85,
    "start_time": "2023-08-21T19:36:43.163Z"
   },
   {
    "duration": 1944,
    "start_time": "2023-08-21T19:38:09.775Z"
   },
   {
    "duration": 2,
    "start_time": "2023-08-21T19:39:01.393Z"
   },
   {
    "duration": 100197,
    "start_time": "2023-08-21T19:41:22.126Z"
   },
   {
    "duration": 66583,
    "start_time": "2023-08-21T19:43:36.343Z"
   },
   {
    "duration": 14156,
    "start_time": "2023-08-21T19:45:03.061Z"
   },
   {
    "duration": 12,
    "start_time": "2023-08-21T19:45:21.305Z"
   },
   {
    "duration": 2501,
    "start_time": "2023-08-21T19:46:14.792Z"
   },
   {
    "duration": 4,
    "start_time": "2023-08-21T19:46:29.436Z"
   },
   {
    "duration": 19,
    "start_time": "2023-08-21T19:46:57.964Z"
   },
   {
    "duration": 470547,
    "start_time": "2023-08-21T19:48:29.183Z"
   },
   {
    "duration": 0,
    "start_time": "2023-08-21T19:56:19.733Z"
   },
   {
    "duration": 111,
    "start_time": "2023-08-21T20:02:10.528Z"
   },
   {
    "duration": 1350,
    "start_time": "2023-08-21T20:02:42.072Z"
   },
   {
    "duration": 37710,
    "start_time": "2023-08-21T20:03:12.992Z"
   },
   {
    "duration": 631899,
    "start_time": "2023-08-21T20:06:30.645Z"
   },
   {
    "duration": 5701,
    "start_time": "2023-08-23T19:12:58.156Z"
   },
   {
    "duration": 1248,
    "start_time": "2023-08-23T19:13:03.859Z"
   },
   {
    "duration": 19,
    "start_time": "2023-08-23T19:13:05.109Z"
   },
   {
    "duration": 180,
    "start_time": "2023-08-23T19:13:05.130Z"
   },
   {
    "duration": 113,
    "start_time": "2023-08-23T19:13:05.312Z"
   },
   {
    "duration": 138,
    "start_time": "2023-08-23T19:13:05.427Z"
   },
   {
    "duration": 527,
    "start_time": "2023-08-23T19:13:05.566Z"
   },
   {
    "duration": 586,
    "start_time": "2023-08-23T19:13:06.096Z"
   },
   {
    "duration": 153,
    "start_time": "2023-08-23T19:13:06.684Z"
   },
   {
    "duration": 8,
    "start_time": "2023-08-23T19:13:06.840Z"
   },
   {
    "duration": 52,
    "start_time": "2023-08-23T19:13:06.849Z"
   },
   {
    "duration": 27,
    "start_time": "2023-08-23T19:13:06.903Z"
   },
   {
    "duration": 217,
    "start_time": "2023-08-23T19:13:06.932Z"
   },
   {
    "duration": 3,
    "start_time": "2023-08-23T19:13:07.150Z"
   },
   {
    "duration": 32,
    "start_time": "2023-08-23T19:13:07.155Z"
   },
   {
    "duration": 22,
    "start_time": "2023-08-23T19:13:07.190Z"
   },
   {
    "duration": 38,
    "start_time": "2023-08-23T19:13:07.214Z"
   },
   {
    "duration": 373,
    "start_time": "2023-08-23T19:13:07.254Z"
   },
   {
    "duration": 10,
    "start_time": "2023-08-23T19:13:07.629Z"
   },
   {
    "duration": 43,
    "start_time": "2023-08-23T19:13:07.641Z"
   },
   {
    "duration": 7,
    "start_time": "2023-08-23T19:13:07.686Z"
   },
   {
    "duration": 32,
    "start_time": "2023-08-23T19:13:07.695Z"
   },
   {
    "duration": 19,
    "start_time": "2023-08-23T19:13:07.729Z"
   },
   {
    "duration": 57,
    "start_time": "2023-08-23T19:13:07.750Z"
   },
   {
    "duration": 41,
    "start_time": "2023-08-23T19:13:07.809Z"
   },
   {
    "duration": 58,
    "start_time": "2023-08-23T19:13:07.852Z"
   },
   {
    "duration": 14,
    "start_time": "2023-08-23T19:13:07.912Z"
   },
   {
    "duration": 51,
    "start_time": "2023-08-23T19:13:07.931Z"
   },
   {
    "duration": 47,
    "start_time": "2023-08-23T19:13:07.984Z"
   },
   {
    "duration": 54,
    "start_time": "2023-08-23T19:13:08.034Z"
   },
   {
    "duration": 37,
    "start_time": "2023-08-23T19:13:08.089Z"
   },
   {
    "duration": 32,
    "start_time": "2023-08-23T19:13:08.128Z"
   },
   {
    "duration": 27,
    "start_time": "2023-08-23T19:13:08.162Z"
   },
   {
    "duration": 32,
    "start_time": "2023-08-23T19:13:08.191Z"
   },
   {
    "duration": 22,
    "start_time": "2023-08-23T19:13:08.225Z"
   },
   {
    "duration": 44,
    "start_time": "2023-08-23T19:13:08.249Z"
   },
   {
    "duration": 140,
    "start_time": "2023-08-23T19:13:08.295Z"
   },
   {
    "duration": 14,
    "start_time": "2023-08-23T19:13:08.437Z"
   },
   {
    "duration": 128,
    "start_time": "2023-08-23T19:13:08.452Z"
   },
   {
    "duration": 71,
    "start_time": "2023-08-23T19:13:08.583Z"
   },
   {
    "duration": 4,
    "start_time": "2023-08-23T19:13:08.656Z"
   },
   {
    "duration": 455,
    "start_time": "2023-08-23T19:13:08.661Z"
   },
   {
    "duration": 5,
    "start_time": "2023-08-23T19:13:09.118Z"
   },
   {
    "duration": 33,
    "start_time": "2023-08-23T19:13:09.126Z"
   },
   {
    "duration": 246,
    "start_time": "2023-08-23T19:13:09.162Z"
   },
   {
    "duration": 20,
    "start_time": "2023-08-23T19:13:09.410Z"
   },
   {
    "duration": 5,
    "start_time": "2023-08-23T19:13:09.432Z"
   },
   {
    "duration": 4,
    "start_time": "2023-08-23T19:13:09.438Z"
   },
   {
    "duration": 3,
    "start_time": "2023-08-23T19:13:09.445Z"
   },
   {
    "duration": 436,
    "start_time": "2023-08-23T19:13:09.451Z"
   },
   {
    "duration": 99,
    "start_time": "2023-08-23T19:13:09.889Z"
   },
   {
    "duration": 95,
    "start_time": "2023-08-23T19:13:09.990Z"
   },
   {
    "duration": 2292,
    "start_time": "2023-08-23T19:13:10.088Z"
   },
   {
    "duration": 2,
    "start_time": "2023-08-23T19:13:12.383Z"
   },
   {
    "duration": 60862,
    "start_time": "2023-08-23T19:13:12.387Z"
   },
   {
    "duration": 2490,
    "start_time": "2023-08-23T19:14:13.250Z"
   },
   {
    "duration": 237494,
    "start_time": "2023-08-23T19:14:15.742Z"
   },
   {
    "duration": 547249,
    "start_time": "2023-08-23T19:18:13.238Z"
   },
   {
    "duration": 4,
    "start_time": "2023-08-23T19:27:20.489Z"
   },
   {
    "duration": 29300,
    "start_time": "2023-08-23T19:27:20.494Z"
   },
   {
    "duration": 2,
    "start_time": "2023-08-23T19:27:49.796Z"
   },
   {
    "duration": 54,
    "start_time": "2023-08-23T19:27:49.800Z"
   },
   {
    "duration": 221,
    "start_time": "2023-08-23T19:27:49.856Z"
   },
   {
    "duration": 3,
    "start_time": "2023-08-23T19:27:50.079Z"
   },
   {
    "duration": 10,
    "start_time": "2023-08-23T19:27:50.083Z"
   },
   {
    "duration": 5,
    "start_time": "2023-08-23T19:27:50.094Z"
   },
   {
    "duration": 17,
    "start_time": "2023-08-23T19:27:50.100Z"
   },
   {
    "duration": 11,
    "start_time": "2023-08-23T19:27:50.118Z"
   },
   {
    "duration": 12,
    "start_time": "2023-08-23T19:27:50.130Z"
   },
   {
    "duration": 4,
    "start_time": "2023-08-23T19:27:50.143Z"
   },
   {
    "duration": 4,
    "start_time": "2023-08-23T19:27:50.149Z"
   },
   {
    "duration": 4,
    "start_time": "2023-08-23T19:27:50.155Z"
   },
   {
    "duration": 6,
    "start_time": "2023-08-23T19:27:50.161Z"
   },
   {
    "duration": 11,
    "start_time": "2023-08-23T19:27:50.168Z"
   },
   {
    "duration": 9,
    "start_time": "2023-08-23T19:27:50.180Z"
   },
   {
    "duration": 7,
    "start_time": "2023-08-23T19:27:50.191Z"
   },
   {
    "duration": 5,
    "start_time": "2023-08-23T19:27:50.200Z"
   },
   {
    "duration": 13,
    "start_time": "2023-08-23T19:27:50.207Z"
   },
   {
    "duration": 0,
    "start_time": "2023-08-23T19:27:50.222Z"
   },
   {
    "duration": 0,
    "start_time": "2023-08-23T19:27:50.223Z"
   },
   {
    "duration": 0,
    "start_time": "2023-08-23T19:27:50.225Z"
   },
   {
    "duration": 0,
    "start_time": "2023-08-23T19:27:50.227Z"
   },
   {
    "duration": 0,
    "start_time": "2023-08-23T19:27:50.228Z"
   },
   {
    "duration": 0,
    "start_time": "2023-08-23T19:27:50.230Z"
   },
   {
    "duration": 2048,
    "start_time": "2023-08-23T19:34:58.032Z"
   },
   {
    "duration": 2358,
    "start_time": "2023-08-23T19:36:05.831Z"
   },
   {
    "duration": 2084,
    "start_time": "2023-08-23T19:36:21.000Z"
   },
   {
    "duration": 92,
    "start_time": "2023-08-23T19:57:51.932Z"
   },
   {
    "duration": 87,
    "start_time": "2023-08-23T19:58:09.349Z"
   },
   {
    "duration": 97,
    "start_time": "2023-08-23T20:09:14.387Z"
   },
   {
    "duration": 61,
    "start_time": "2023-08-23T20:09:52.089Z"
   },
   {
    "duration": 4,
    "start_time": "2023-08-23T20:09:54.934Z"
   },
   {
    "duration": 85,
    "start_time": "2023-08-23T20:10:06.213Z"
   },
   {
    "duration": 13,
    "start_time": "2023-08-23T20:13:43.114Z"
   },
   {
    "duration": 12,
    "start_time": "2023-08-23T20:13:46.125Z"
   },
   {
    "duration": 13,
    "start_time": "2023-08-23T20:14:57.964Z"
   },
   {
    "duration": 12,
    "start_time": "2023-08-23T20:20:30.599Z"
   },
   {
    "duration": 165,
    "start_time": "2023-08-23T20:23:49.830Z"
   },
   {
    "duration": 161,
    "start_time": "2023-08-23T20:23:53.674Z"
   },
   {
    "duration": 166,
    "start_time": "2023-08-23T20:24:00.174Z"
   },
   {
    "duration": 3755,
    "start_time": "2023-08-23T20:24:06.872Z"
   },
   {
    "duration": 808,
    "start_time": "2023-08-23T20:24:10.629Z"
   },
   {
    "duration": 17,
    "start_time": "2023-08-23T20:24:11.439Z"
   },
   {
    "duration": 142,
    "start_time": "2023-08-23T20:24:11.459Z"
   },
   {
    "duration": 100,
    "start_time": "2023-08-23T20:24:11.602Z"
   },
   {
    "duration": 154,
    "start_time": "2023-08-23T20:24:11.704Z"
   },
   {
    "duration": 484,
    "start_time": "2023-08-23T20:24:11.860Z"
   },
   {
    "duration": 516,
    "start_time": "2023-08-23T20:24:12.346Z"
   },
   {
    "duration": 140,
    "start_time": "2023-08-23T20:24:12.863Z"
   },
   {
    "duration": 8,
    "start_time": "2023-08-23T20:24:13.006Z"
   },
   {
    "duration": 38,
    "start_time": "2023-08-23T20:24:13.016Z"
   },
   {
    "duration": 51,
    "start_time": "2023-08-23T20:24:13.056Z"
   },
   {
    "duration": 210,
    "start_time": "2023-08-23T20:24:13.109Z"
   },
   {
    "duration": 3,
    "start_time": "2023-08-23T20:24:13.320Z"
   },
   {
    "duration": 12,
    "start_time": "2023-08-23T20:24:13.324Z"
   },
   {
    "duration": 21,
    "start_time": "2023-08-23T20:24:13.338Z"
   },
   {
    "duration": 30,
    "start_time": "2023-08-23T20:24:13.381Z"
   },
   {
    "duration": 320,
    "start_time": "2023-08-23T20:24:13.413Z"
   },
   {
    "duration": 10,
    "start_time": "2023-08-23T20:24:13.734Z"
   },
   {
    "duration": 36,
    "start_time": "2023-08-23T20:24:13.745Z"
   },
   {
    "duration": 6,
    "start_time": "2023-08-23T20:24:13.783Z"
   },
   {
    "duration": 37,
    "start_time": "2023-08-23T20:24:13.790Z"
   },
   {
    "duration": 45,
    "start_time": "2023-08-23T20:24:13.829Z"
   },
   {
    "duration": 33,
    "start_time": "2023-08-23T20:24:13.876Z"
   },
   {
    "duration": 35,
    "start_time": "2023-08-23T20:24:13.911Z"
   },
   {
    "duration": 43,
    "start_time": "2023-08-23T20:24:13.947Z"
   },
   {
    "duration": 13,
    "start_time": "2023-08-23T20:24:13.992Z"
   },
   {
    "duration": 32,
    "start_time": "2023-08-23T20:24:14.009Z"
   },
   {
    "duration": 58,
    "start_time": "2023-08-23T20:24:14.043Z"
   },
   {
    "duration": 28,
    "start_time": "2023-08-23T20:24:14.103Z"
   },
   {
    "duration": 15,
    "start_time": "2023-08-23T20:24:14.133Z"
   },
   {
    "duration": 39,
    "start_time": "2023-08-23T20:24:14.149Z"
   },
   {
    "duration": 22,
    "start_time": "2023-08-23T20:24:14.190Z"
   },
   {
    "duration": 16,
    "start_time": "2023-08-23T20:24:14.214Z"
   },
   {
    "duration": 17,
    "start_time": "2023-08-23T20:24:14.232Z"
   },
   {
    "duration": 42,
    "start_time": "2023-08-23T20:24:14.251Z"
   },
   {
    "duration": 68,
    "start_time": "2023-08-23T20:24:14.295Z"
   },
   {
    "duration": 25,
    "start_time": "2023-08-23T20:24:14.365Z"
   },
   {
    "duration": 113,
    "start_time": "2023-08-23T20:24:14.392Z"
   },
   {
    "duration": 77,
    "start_time": "2023-08-23T20:24:14.507Z"
   },
   {
    "duration": 4,
    "start_time": "2023-08-23T20:24:14.586Z"
   },
   {
    "duration": 421,
    "start_time": "2023-08-23T20:24:14.591Z"
   },
   {
    "duration": 4,
    "start_time": "2023-08-23T20:24:15.014Z"
   },
   {
    "duration": 54,
    "start_time": "2023-08-23T20:24:15.020Z"
   },
   {
    "duration": 201,
    "start_time": "2023-08-23T20:24:15.075Z"
   },
   {
    "duration": 16,
    "start_time": "2023-08-23T20:24:15.280Z"
   },
   {
    "duration": 4,
    "start_time": "2023-08-23T20:24:15.298Z"
   },
   {
    "duration": 4,
    "start_time": "2023-08-23T20:24:15.303Z"
   },
   {
    "duration": 4,
    "start_time": "2023-08-23T20:24:15.308Z"
   },
   {
    "duration": 368,
    "start_time": "2023-08-23T20:24:15.313Z"
   },
   {
    "duration": 99,
    "start_time": "2023-08-23T20:24:15.683Z"
   },
   {
    "duration": 249,
    "start_time": "2023-08-23T20:24:15.784Z"
   },
   {
    "duration": 0,
    "start_time": "2023-08-23T20:24:16.035Z"
   },
   {
    "duration": 0,
    "start_time": "2023-08-23T20:24:16.036Z"
   },
   {
    "duration": 0,
    "start_time": "2023-08-23T20:24:16.037Z"
   },
   {
    "duration": 0,
    "start_time": "2023-08-23T20:24:16.038Z"
   },
   {
    "duration": 0,
    "start_time": "2023-08-23T20:24:16.039Z"
   },
   {
    "duration": 0,
    "start_time": "2023-08-23T20:24:16.040Z"
   },
   {
    "duration": 0,
    "start_time": "2023-08-23T20:24:16.041Z"
   },
   {
    "duration": 0,
    "start_time": "2023-08-23T20:24:16.042Z"
   },
   {
    "duration": 0,
    "start_time": "2023-08-23T20:24:16.042Z"
   },
   {
    "duration": 0,
    "start_time": "2023-08-23T20:24:16.043Z"
   },
   {
    "duration": 0,
    "start_time": "2023-08-23T20:24:16.044Z"
   },
   {
    "duration": 0,
    "start_time": "2023-08-23T20:24:16.046Z"
   },
   {
    "duration": 0,
    "start_time": "2023-08-23T20:24:16.047Z"
   },
   {
    "duration": 0,
    "start_time": "2023-08-23T20:24:16.048Z"
   },
   {
    "duration": 0,
    "start_time": "2023-08-23T20:24:16.050Z"
   },
   {
    "duration": 0,
    "start_time": "2023-08-23T20:24:16.051Z"
   },
   {
    "duration": 0,
    "start_time": "2023-08-23T20:24:16.081Z"
   },
   {
    "duration": 0,
    "start_time": "2023-08-23T20:24:16.082Z"
   },
   {
    "duration": 0,
    "start_time": "2023-08-23T20:24:16.083Z"
   },
   {
    "duration": 0,
    "start_time": "2023-08-23T20:24:16.084Z"
   },
   {
    "duration": 0,
    "start_time": "2023-08-23T20:24:16.085Z"
   },
   {
    "duration": 0,
    "start_time": "2023-08-23T20:24:16.086Z"
   },
   {
    "duration": 0,
    "start_time": "2023-08-23T20:24:16.087Z"
   },
   {
    "duration": 0,
    "start_time": "2023-08-23T20:24:16.088Z"
   },
   {
    "duration": 0,
    "start_time": "2023-08-23T20:24:16.089Z"
   },
   {
    "duration": 0,
    "start_time": "2023-08-23T20:24:16.090Z"
   },
   {
    "duration": 0,
    "start_time": "2023-08-23T20:24:16.091Z"
   },
   {
    "duration": 0,
    "start_time": "2023-08-23T20:24:16.092Z"
   },
   {
    "duration": 0,
    "start_time": "2023-08-23T20:24:16.092Z"
   },
   {
    "duration": 0,
    "start_time": "2023-08-23T20:24:16.093Z"
   },
   {
    "duration": 0,
    "start_time": "2023-08-23T20:24:16.094Z"
   },
   {
    "duration": 0,
    "start_time": "2023-08-23T20:24:16.096Z"
   },
   {
    "duration": 1,
    "start_time": "2023-08-23T20:24:16.096Z"
   },
   {
    "duration": 290,
    "start_time": "2023-08-23T20:26:34.704Z"
   },
   {
    "duration": 50,
    "start_time": "2023-08-23T20:26:39.437Z"
   },
   {
    "duration": 10,
    "start_time": "2023-08-23T20:26:42.484Z"
   },
   {
    "duration": 39,
    "start_time": "2023-08-23T20:26:46.504Z"
   },
   {
    "duration": 380,
    "start_time": "2023-08-23T20:28:21.964Z"
   },
   {
    "duration": 40,
    "start_time": "2023-08-23T20:28:30.431Z"
   },
   {
    "duration": 2,
    "start_time": "2023-08-23T20:30:58.072Z"
   },
   {
    "duration": 7,
    "start_time": "2023-08-23T20:31:02.413Z"
   },
   {
    "duration": 1840,
    "start_time": "2023-08-23T20:31:22.345Z"
   },
   {
    "duration": 2,
    "start_time": "2023-08-23T20:32:19.596Z"
   },
   {
    "duration": 53169,
    "start_time": "2023-08-23T20:32:30.817Z"
   },
   {
    "duration": 2159,
    "start_time": "2023-08-23T20:37:38.454Z"
   },
   {
    "duration": 217267,
    "start_time": "2023-08-23T20:37:52.865Z"
   },
   {
    "duration": 2,
    "start_time": "2023-08-23T20:42:59.773Z"
   },
   {
    "duration": 376146,
    "start_time": "2023-08-23T20:43:09.843Z"
   },
   {
    "duration": 22308,
    "start_time": "2023-08-23T20:52:23.594Z"
   },
   {
    "duration": 66,
    "start_time": "2023-08-23T20:53:21.760Z"
   },
   {
    "duration": 3589,
    "start_time": "2023-08-23T20:53:44.921Z"
   },
   {
    "duration": 2,
    "start_time": "2023-08-23T20:54:19.868Z"
   },
   {
    "duration": 4,
    "start_time": "2023-08-23T20:59:21.916Z"
   },
   {
    "duration": 4,
    "start_time": "2023-08-23T20:59:26.813Z"
   },
   {
    "duration": 5,
    "start_time": "2023-08-23T21:00:03.928Z"
   },
   {
    "duration": 10,
    "start_time": "2023-08-23T21:06:13.912Z"
   },
   {
    "duration": 132,
    "start_time": "2023-08-23T21:06:21.256Z"
   },
   {
    "duration": 55788,
    "start_time": "2023-08-23T21:06:28.095Z"
   },
   {
    "duration": 2210,
    "start_time": "2023-08-23T21:07:40.030Z"
   },
   {
    "duration": 11,
    "start_time": "2023-08-23T21:07:46.743Z"
   },
   {
    "duration": 7,
    "start_time": "2023-08-23T21:08:01.241Z"
   },
   {
    "duration": 11860,
    "start_time": "2023-08-23T21:12:18.335Z"
   },
   {
    "duration": 111,
    "start_time": "2023-08-23T21:17:54.168Z"
   },
   {
    "duration": 120,
    "start_time": "2023-08-23T21:18:03.265Z"
   },
   {
    "duration": 121,
    "start_time": "2023-08-23T21:18:07.324Z"
   },
   {
    "duration": 49,
    "start_time": "2023-08-23T21:21:09.624Z"
   },
   {
    "duration": 3,
    "start_time": "2023-08-23T21:21:26.317Z"
   },
   {
    "duration": 90,
    "start_time": "2023-08-23T21:22:02.774Z"
   },
   {
    "duration": 15,
    "start_time": "2023-08-23T21:22:24.129Z"
   },
   {
    "duration": 2,
    "start_time": "2023-08-23T21:22:29.959Z"
   },
   {
    "duration": 3629,
    "start_time": "2023-08-23T21:30:24.423Z"
   },
   {
    "duration": 3,
    "start_time": "2023-08-23T21:32:38.074Z"
   },
   {
    "duration": 248,
    "start_time": "2023-08-23T21:41:09.893Z"
   },
   {
    "duration": 93,
    "start_time": "2023-08-23T21:45:33.141Z"
   },
   {
    "duration": 85,
    "start_time": "2023-08-23T21:45:40.700Z"
   },
   {
    "duration": 866054,
    "start_time": "2023-08-23T21:57:49.738Z"
   },
   {
    "duration": 896614,
    "start_time": "2023-08-23T22:12:19.238Z"
   },
   {
    "duration": 6227,
    "start_time": "2023-08-24T04:46:35.552Z"
   },
   {
    "duration": 2884,
    "start_time": "2023-08-24T04:46:41.781Z"
   },
   {
    "duration": 20,
    "start_time": "2023-08-24T04:46:44.666Z"
   },
   {
    "duration": 125,
    "start_time": "2023-08-24T04:46:44.688Z"
   },
   {
    "duration": 104,
    "start_time": "2023-08-24T04:46:44.816Z"
   },
   {
    "duration": 113,
    "start_time": "2023-08-24T04:46:44.922Z"
   },
   {
    "duration": 457,
    "start_time": "2023-08-24T04:46:45.037Z"
   },
   {
    "duration": 489,
    "start_time": "2023-08-24T04:46:45.495Z"
   },
   {
    "duration": 126,
    "start_time": "2023-08-24T04:46:45.985Z"
   },
   {
    "duration": 9,
    "start_time": "2023-08-24T04:46:46.113Z"
   },
   {
    "duration": 50,
    "start_time": "2023-08-24T04:46:46.123Z"
   },
   {
    "duration": 29,
    "start_time": "2023-08-24T04:46:46.175Z"
   },
   {
    "duration": 191,
    "start_time": "2023-08-24T04:46:46.206Z"
   },
   {
    "duration": 2,
    "start_time": "2023-08-24T04:46:46.400Z"
   },
   {
    "duration": 13,
    "start_time": "2023-08-24T04:46:46.403Z"
   },
   {
    "duration": 18,
    "start_time": "2023-08-24T04:46:46.417Z"
   },
   {
    "duration": 118,
    "start_time": "2023-08-24T04:46:46.460Z"
   },
   {
    "duration": 217,
    "start_time": "2023-08-24T04:46:46.580Z"
   },
   {
    "duration": 9,
    "start_time": "2023-08-24T04:46:46.799Z"
   },
   {
    "duration": 26,
    "start_time": "2023-08-24T04:46:46.809Z"
   },
   {
    "duration": 23,
    "start_time": "2023-08-24T04:46:46.837Z"
   },
   {
    "duration": 25,
    "start_time": "2023-08-24T04:46:46.862Z"
   },
   {
    "duration": 21,
    "start_time": "2023-08-24T04:46:46.889Z"
   },
   {
    "duration": 34,
    "start_time": "2023-08-24T04:46:46.911Z"
   },
   {
    "duration": 41,
    "start_time": "2023-08-24T04:46:46.947Z"
   },
   {
    "duration": 32,
    "start_time": "2023-08-24T04:46:46.989Z"
   },
   {
    "duration": 12,
    "start_time": "2023-08-24T04:46:47.023Z"
   },
   {
    "duration": 49,
    "start_time": "2023-08-24T04:46:47.037Z"
   },
   {
    "duration": 31,
    "start_time": "2023-08-24T04:46:47.087Z"
   },
   {
    "duration": 40,
    "start_time": "2023-08-24T04:46:47.120Z"
   },
   {
    "duration": 12,
    "start_time": "2023-08-24T04:46:47.162Z"
   },
   {
    "duration": 15,
    "start_time": "2023-08-24T04:46:47.176Z"
   },
   {
    "duration": 22,
    "start_time": "2023-08-24T04:46:47.193Z"
   },
   {
    "duration": 15,
    "start_time": "2023-08-24T04:46:47.216Z"
   },
   {
    "duration": 13,
    "start_time": "2023-08-24T04:46:47.260Z"
   },
   {
    "duration": 18,
    "start_time": "2023-08-24T04:46:47.274Z"
   },
   {
    "duration": 75,
    "start_time": "2023-08-24T04:46:47.293Z"
   },
   {
    "duration": 14,
    "start_time": "2023-08-24T04:46:47.370Z"
   },
   {
    "duration": 117,
    "start_time": "2023-08-24T04:46:47.385Z"
   },
   {
    "duration": 88,
    "start_time": "2023-08-24T04:46:47.504Z"
   },
   {
    "duration": 3,
    "start_time": "2023-08-24T04:46:47.597Z"
   },
   {
    "duration": 388,
    "start_time": "2023-08-24T04:46:47.602Z"
   },
   {
    "duration": 4,
    "start_time": "2023-08-24T04:46:47.992Z"
   },
   {
    "duration": 17,
    "start_time": "2023-08-24T04:46:47.998Z"
   },
   {
    "duration": 202,
    "start_time": "2023-08-24T04:46:48.017Z"
   },
   {
    "duration": 19,
    "start_time": "2023-08-24T04:46:48.221Z"
   },
   {
    "duration": 4,
    "start_time": "2023-08-24T04:46:48.260Z"
   },
   {
    "duration": 3,
    "start_time": "2023-08-24T04:46:48.266Z"
   },
   {
    "duration": 306,
    "start_time": "2023-08-24T04:46:48.271Z"
   },
   {
    "duration": 93,
    "start_time": "2023-08-24T04:46:48.579Z"
   },
   {
    "duration": 86,
    "start_time": "2023-08-24T04:46:48.674Z"
   },
   {
    "duration": 6,
    "start_time": "2023-08-24T04:46:48.762Z"
   },
   {
    "duration": 218,
    "start_time": "2023-08-24T04:46:48.771Z"
   },
   {
    "duration": 0,
    "start_time": "2023-08-24T04:46:48.991Z"
   },
   {
    "duration": 0,
    "start_time": "2023-08-24T04:46:48.992Z"
   },
   {
    "duration": 0,
    "start_time": "2023-08-24T04:46:48.993Z"
   },
   {
    "duration": 0,
    "start_time": "2023-08-24T04:46:48.994Z"
   },
   {
    "duration": 0,
    "start_time": "2023-08-24T04:46:48.995Z"
   },
   {
    "duration": 0,
    "start_time": "2023-08-24T04:46:48.996Z"
   },
   {
    "duration": 0,
    "start_time": "2023-08-24T04:46:48.997Z"
   },
   {
    "duration": 0,
    "start_time": "2023-08-24T04:46:48.999Z"
   },
   {
    "duration": 0,
    "start_time": "2023-08-24T04:46:49.000Z"
   },
   {
    "duration": 0,
    "start_time": "2023-08-24T04:46:49.001Z"
   },
   {
    "duration": 0,
    "start_time": "2023-08-24T04:46:49.002Z"
   },
   {
    "duration": 0,
    "start_time": "2023-08-24T04:46:49.003Z"
   },
   {
    "duration": 0,
    "start_time": "2023-08-24T04:46:49.004Z"
   },
   {
    "duration": 50,
    "start_time": "2023-08-24T19:09:59.738Z"
   },
   {
    "duration": 8,
    "start_time": "2023-08-24T19:10:03.251Z"
   },
   {
    "duration": 4777,
    "start_time": "2023-08-24T19:10:14.540Z"
   },
   {
    "duration": 97,
    "start_time": "2023-08-24T19:10:30.464Z"
   },
   {
    "duration": 11,
    "start_time": "2023-08-24T19:10:36.515Z"
   },
   {
    "duration": 9,
    "start_time": "2023-08-24T19:10:42.061Z"
   },
   {
    "duration": 9,
    "start_time": "2023-08-24T19:10:47.119Z"
   },
   {
    "duration": 3527,
    "start_time": "2023-08-24T19:10:54.355Z"
   },
   {
    "duration": 1180,
    "start_time": "2023-08-24T19:10:57.885Z"
   },
   {
    "duration": 17,
    "start_time": "2023-08-24T19:10:59.067Z"
   },
   {
    "duration": 131,
    "start_time": "2023-08-24T19:10:59.086Z"
   },
   {
    "duration": 91,
    "start_time": "2023-08-24T19:10:59.219Z"
   },
   {
    "duration": 124,
    "start_time": "2023-08-24T19:10:59.312Z"
   },
   {
    "duration": 424,
    "start_time": "2023-08-24T19:10:59.437Z"
   },
   {
    "duration": 463,
    "start_time": "2023-08-24T19:10:59.862Z"
   },
   {
    "duration": 111,
    "start_time": "2023-08-24T19:11:00.327Z"
   },
   {
    "duration": 14,
    "start_time": "2023-08-24T19:11:00.440Z"
   },
   {
    "duration": 63,
    "start_time": "2023-08-24T19:11:00.455Z"
   },
   {
    "duration": 47,
    "start_time": "2023-08-24T19:11:00.520Z"
   },
   {
    "duration": 191,
    "start_time": "2023-08-24T19:11:00.568Z"
   },
   {
    "duration": 3,
    "start_time": "2023-08-24T19:11:00.760Z"
   },
   {
    "duration": 31,
    "start_time": "2023-08-24T19:11:00.764Z"
   },
   {
    "duration": 36,
    "start_time": "2023-08-24T19:11:00.797Z"
   },
   {
    "duration": 34,
    "start_time": "2023-08-24T19:11:00.835Z"
   },
   {
    "duration": 271,
    "start_time": "2023-08-24T19:11:00.871Z"
   },
   {
    "duration": 13,
    "start_time": "2023-08-24T19:11:01.144Z"
   },
   {
    "duration": 43,
    "start_time": "2023-08-24T19:11:01.158Z"
   },
   {
    "duration": 21,
    "start_time": "2023-08-24T19:11:01.203Z"
   },
   {
    "duration": 51,
    "start_time": "2023-08-24T19:11:01.225Z"
   },
   {
    "duration": 61,
    "start_time": "2023-08-24T19:11:01.278Z"
   },
   {
    "duration": 44,
    "start_time": "2023-08-24T19:11:01.341Z"
   },
   {
    "duration": 69,
    "start_time": "2023-08-24T19:11:01.386Z"
   },
   {
    "duration": 51,
    "start_time": "2023-08-24T19:11:01.457Z"
   },
   {
    "duration": 12,
    "start_time": "2023-08-24T19:11:01.510Z"
   },
   {
    "duration": 55,
    "start_time": "2023-08-24T19:11:01.525Z"
   },
   {
    "duration": 30,
    "start_time": "2023-08-24T19:11:01.582Z"
   },
   {
    "duration": 36,
    "start_time": "2023-08-24T19:11:01.613Z"
   },
   {
    "duration": 43,
    "start_time": "2023-08-24T19:11:01.653Z"
   },
   {
    "duration": 28,
    "start_time": "2023-08-24T19:11:01.697Z"
   },
   {
    "duration": 42,
    "start_time": "2023-08-24T19:11:01.727Z"
   },
   {
    "duration": 33,
    "start_time": "2023-08-24T19:11:01.771Z"
   },
   {
    "duration": 38,
    "start_time": "2023-08-24T19:11:01.806Z"
   },
   {
    "duration": 40,
    "start_time": "2023-08-24T19:11:01.845Z"
   },
   {
    "duration": 86,
    "start_time": "2023-08-24T19:11:01.887Z"
   },
   {
    "duration": 22,
    "start_time": "2023-08-24T19:11:01.975Z"
   },
   {
    "duration": 101,
    "start_time": "2023-08-24T19:11:01.999Z"
   },
   {
    "duration": 66,
    "start_time": "2023-08-24T19:11:02.102Z"
   },
   {
    "duration": 4,
    "start_time": "2023-08-24T19:11:02.170Z"
   },
   {
    "duration": 555,
    "start_time": "2023-08-24T19:11:02.175Z"
   },
   {
    "duration": 0,
    "start_time": "2023-08-24T19:11:02.732Z"
   },
   {
    "duration": 0,
    "start_time": "2023-08-24T19:11:02.733Z"
   },
   {
    "duration": 0,
    "start_time": "2023-08-24T19:11:02.734Z"
   },
   {
    "duration": 0,
    "start_time": "2023-08-24T19:11:02.735Z"
   },
   {
    "duration": 0,
    "start_time": "2023-08-24T19:11:02.737Z"
   },
   {
    "duration": 0,
    "start_time": "2023-08-24T19:11:02.738Z"
   },
   {
    "duration": 0,
    "start_time": "2023-08-24T19:11:02.752Z"
   },
   {
    "duration": 0,
    "start_time": "2023-08-24T19:11:02.753Z"
   },
   {
    "duration": 0,
    "start_time": "2023-08-24T19:11:02.754Z"
   },
   {
    "duration": 0,
    "start_time": "2023-08-24T19:11:02.755Z"
   },
   {
    "duration": 0,
    "start_time": "2023-08-24T19:11:02.757Z"
   },
   {
    "duration": 0,
    "start_time": "2023-08-24T19:11:02.757Z"
   },
   {
    "duration": 0,
    "start_time": "2023-08-24T19:11:02.759Z"
   },
   {
    "duration": 0,
    "start_time": "2023-08-24T19:11:02.760Z"
   },
   {
    "duration": 0,
    "start_time": "2023-08-24T19:11:02.762Z"
   },
   {
    "duration": 0,
    "start_time": "2023-08-24T19:11:02.763Z"
   },
   {
    "duration": 0,
    "start_time": "2023-08-24T19:11:02.765Z"
   },
   {
    "duration": 0,
    "start_time": "2023-08-24T19:11:02.767Z"
   },
   {
    "duration": 0,
    "start_time": "2023-08-24T19:11:02.768Z"
   },
   {
    "duration": 0,
    "start_time": "2023-08-24T19:11:02.769Z"
   },
   {
    "duration": 0,
    "start_time": "2023-08-24T19:11:02.771Z"
   },
   {
    "duration": 0,
    "start_time": "2023-08-24T19:11:02.772Z"
   },
   {
    "duration": 0,
    "start_time": "2023-08-24T19:11:02.773Z"
   },
   {
    "duration": 0,
    "start_time": "2023-08-24T19:11:02.775Z"
   },
   {
    "duration": 358,
    "start_time": "2023-08-24T19:11:27.133Z"
   },
   {
    "duration": 62,
    "start_time": "2023-08-24T19:11:40.635Z"
   },
   {
    "duration": 382,
    "start_time": "2023-08-24T19:11:47.547Z"
   },
   {
    "duration": 366,
    "start_time": "2023-08-24T19:12:27.645Z"
   },
   {
    "duration": 17,
    "start_time": "2023-08-24T19:12:39.891Z"
   },
   {
    "duration": 93,
    "start_time": "2023-08-24T19:12:42.753Z"
   },
   {
    "duration": 62,
    "start_time": "2023-08-24T19:12:47.569Z"
   },
   {
    "duration": 3,
    "start_time": "2023-08-24T19:12:50.239Z"
   },
   {
    "duration": 376,
    "start_time": "2023-08-24T19:12:54.314Z"
   },
   {
    "duration": 352,
    "start_time": "2023-08-24T19:13:37.376Z"
   },
   {
    "duration": 376,
    "start_time": "2023-08-24T19:13:41.354Z"
   },
   {
    "duration": 394,
    "start_time": "2023-08-24T19:14:30.219Z"
   },
   {
    "duration": 4,
    "start_time": "2023-08-24T19:14:39.419Z"
   },
   {
    "duration": 16,
    "start_time": "2023-08-24T19:14:41.808Z"
   },
   {
    "duration": 191,
    "start_time": "2023-08-24T19:15:19.326Z"
   },
   {
    "duration": 200,
    "start_time": "2023-08-24T19:15:26.164Z"
   },
   {
    "duration": 16,
    "start_time": "2023-08-24T19:15:31.507Z"
   },
   {
    "duration": 4,
    "start_time": "2023-08-24T19:15:38.518Z"
   },
   {
    "duration": 9,
    "start_time": "2023-08-24T19:19:41.460Z"
   },
   {
    "duration": 262,
    "start_time": "2023-08-24T19:19:46.599Z"
   },
   {
    "duration": 15,
    "start_time": "2023-08-24T19:19:49.411Z"
   },
   {
    "duration": 8,
    "start_time": "2023-08-24T19:19:52.123Z"
   },
   {
    "duration": 8,
    "start_time": "2023-08-24T19:20:02.400Z"
   },
   {
    "duration": 8,
    "start_time": "2023-08-24T19:20:25.843Z"
   },
   {
    "duration": 98,
    "start_time": "2023-08-24T19:20:54.420Z"
   },
   {
    "duration": 3,
    "start_time": "2023-08-24T19:21:06.535Z"
   },
   {
    "duration": 6,
    "start_time": "2023-08-24T19:21:18.617Z"
   },
   {
    "duration": 6,
    "start_time": "2023-08-24T19:22:04.525Z"
   },
   {
    "duration": 51838,
    "start_time": "2023-08-24T19:22:09.835Z"
   },
   {
    "duration": 2194,
    "start_time": "2023-08-24T19:24:37.303Z"
   },
   {
    "duration": 1435,
    "start_time": "2023-08-24T19:24:54.607Z"
   },
   {
    "duration": 10,
    "start_time": "2023-08-24T19:25:24.138Z"
   },
   {
    "duration": 11,
    "start_time": "2023-08-24T19:26:16.403Z"
   },
   {
    "duration": 6,
    "start_time": "2023-08-24T19:27:27.748Z"
   },
   {
    "duration": 6,
    "start_time": "2023-08-24T19:28:13.463Z"
   },
   {
    "duration": 214826,
    "start_time": "2023-08-24T19:28:39.017Z"
   },
   {
    "duration": 205379,
    "start_time": "2023-08-24T19:33:19.005Z"
   },
   {
    "duration": 208114,
    "start_time": "2023-08-24T19:37:10.734Z"
   },
   {
    "duration": 2,
    "start_time": "2023-08-24T19:43:28.594Z"
   },
   {
    "duration": 124,
    "start_time": "2023-08-24T19:43:51.431Z"
   },
   {
    "duration": 362089,
    "start_time": "2023-08-24T19:43:58.765Z"
   },
   {
    "duration": 9704,
    "start_time": "2023-08-24T19:50:39.858Z"
   },
   {
    "duration": 127,
    "start_time": "2023-08-24T19:51:17.599Z"
   },
   {
    "duration": 497,
    "start_time": "2023-08-24T19:51:50.356Z"
   },
   {
    "duration": 411,
    "start_time": "2023-08-24T19:52:48.244Z"
   },
   {
    "duration": 25245,
    "start_time": "2023-08-24T19:55:14.315Z"
   },
   {
    "duration": 416,
    "start_time": "2023-08-24T19:55:58.948Z"
   },
   {
    "duration": 15,
    "start_time": "2023-08-24T19:59:56.258Z"
   },
   {
    "duration": 15,
    "start_time": "2023-08-24T20:00:47.653Z"
   },
   {
    "duration": 595,
    "start_time": "2023-08-24T20:08:10.533Z"
   },
   {
    "duration": 139,
    "start_time": "2023-08-24T20:10:17.026Z"
   },
   {
    "duration": 659,
    "start_time": "2023-08-24T20:15:50.232Z"
   },
   {
    "duration": 105,
    "start_time": "2023-08-24T20:18:42.311Z"
   },
   {
    "duration": 80,
    "start_time": "2023-08-24T20:19:16.842Z"
   },
   {
    "duration": 31943,
    "start_time": "2023-08-24T20:20:38.737Z"
   },
   {
    "duration": 351744,
    "start_time": "2023-08-24T20:25:04.511Z"
   },
   {
    "duration": 61737,
    "start_time": "2023-08-24T20:36:07.718Z"
   },
   {
    "duration": 352,
    "start_time": "2023-08-24T20:44:05.022Z"
   },
   {
    "duration": 14,
    "start_time": "2023-08-24T20:44:07.802Z"
   },
   {
    "duration": 11,
    "start_time": "2023-08-24T20:45:58.950Z"
   },
   {
    "duration": 692,
    "start_time": "2023-08-24T20:47:42.362Z"
   },
   {
    "duration": 636,
    "start_time": "2023-08-24T20:48:02.018Z"
   },
   {
    "duration": 5447,
    "start_time": "2023-08-26T16:59:21.474Z"
   },
   {
    "duration": 3286,
    "start_time": "2023-08-26T16:59:26.924Z"
   },
   {
    "duration": 21,
    "start_time": "2023-08-26T16:59:30.212Z"
   },
   {
    "duration": 169,
    "start_time": "2023-08-26T16:59:30.235Z"
   },
   {
    "duration": 112,
    "start_time": "2023-08-26T16:59:30.406Z"
   },
   {
    "duration": 130,
    "start_time": "2023-08-26T16:59:30.519Z"
   },
   {
    "duration": 579,
    "start_time": "2023-08-26T16:59:30.650Z"
   },
   {
    "duration": 670,
    "start_time": "2023-08-26T16:59:31.231Z"
   },
   {
    "duration": 123,
    "start_time": "2023-08-26T16:59:31.903Z"
   },
   {
    "duration": 9,
    "start_time": "2023-08-26T16:59:32.028Z"
   },
   {
    "duration": 72,
    "start_time": "2023-08-26T16:59:32.039Z"
   },
   {
    "duration": 28,
    "start_time": "2023-08-26T16:59:32.113Z"
   },
   {
    "duration": 235,
    "start_time": "2023-08-26T16:59:32.143Z"
   },
   {
    "duration": 4,
    "start_time": "2023-08-26T16:59:32.382Z"
   },
   {
    "duration": 17,
    "start_time": "2023-08-26T16:59:32.388Z"
   },
   {
    "duration": 34,
    "start_time": "2023-08-26T16:59:32.407Z"
   },
   {
    "duration": 164,
    "start_time": "2023-08-26T16:59:32.443Z"
   },
   {
    "duration": 268,
    "start_time": "2023-08-26T16:59:32.609Z"
   },
   {
    "duration": 17,
    "start_time": "2023-08-26T16:59:32.879Z"
   },
   {
    "duration": 23,
    "start_time": "2023-08-26T16:59:32.898Z"
   },
   {
    "duration": 6,
    "start_time": "2023-08-26T16:59:32.923Z"
   },
   {
    "duration": 60,
    "start_time": "2023-08-26T16:59:32.931Z"
   },
   {
    "duration": 18,
    "start_time": "2023-08-26T16:59:32.994Z"
   },
   {
    "duration": 35,
    "start_time": "2023-08-26T16:59:33.013Z"
   },
   {
    "duration": 62,
    "start_time": "2023-08-26T16:59:33.050Z"
   },
   {
    "duration": 36,
    "start_time": "2023-08-26T16:59:33.115Z"
   },
   {
    "duration": 19,
    "start_time": "2023-08-26T16:59:33.153Z"
   },
   {
    "duration": 38,
    "start_time": "2023-08-26T16:59:33.176Z"
   },
   {
    "duration": 58,
    "start_time": "2023-08-26T16:59:33.215Z"
   },
   {
    "duration": 32,
    "start_time": "2023-08-26T16:59:33.275Z"
   },
   {
    "duration": 15,
    "start_time": "2023-08-26T16:59:33.309Z"
   },
   {
    "duration": 35,
    "start_time": "2023-08-26T16:59:33.327Z"
   },
   {
    "duration": 34,
    "start_time": "2023-08-26T16:59:33.365Z"
   },
   {
    "duration": 18,
    "start_time": "2023-08-26T16:59:33.401Z"
   },
   {
    "duration": 25,
    "start_time": "2023-08-26T16:59:33.421Z"
   },
   {
    "duration": 42,
    "start_time": "2023-08-26T16:59:33.448Z"
   },
   {
    "duration": 78,
    "start_time": "2023-08-26T16:59:33.492Z"
   },
   {
    "duration": 16,
    "start_time": "2023-08-26T16:59:33.572Z"
   },
   {
    "duration": 131,
    "start_time": "2023-08-26T16:59:33.590Z"
   },
   {
    "duration": 85,
    "start_time": "2023-08-26T16:59:33.723Z"
   },
   {
    "duration": 5,
    "start_time": "2023-08-26T16:59:33.813Z"
   },
   {
    "duration": 685,
    "start_time": "2023-08-26T16:59:33.820Z"
   },
   {
    "duration": 6,
    "start_time": "2023-08-26T16:59:34.507Z"
   },
   {
    "duration": 19,
    "start_time": "2023-08-26T16:59:34.515Z"
   },
   {
    "duration": 259,
    "start_time": "2023-08-26T16:59:34.559Z"
   },
   {
    "duration": 20,
    "start_time": "2023-08-26T16:59:34.820Z"
   },
   {
    "duration": 49,
    "start_time": "2023-08-26T16:59:34.842Z"
   },
   {
    "duration": 48,
    "start_time": "2023-08-26T16:59:34.893Z"
   },
   {
    "duration": 427,
    "start_time": "2023-08-26T16:59:34.943Z"
   },
   {
    "duration": 28,
    "start_time": "2023-08-26T16:59:35.372Z"
   },
   {
    "duration": 97,
    "start_time": "2023-08-26T16:59:35.464Z"
   },
   {
    "duration": 13,
    "start_time": "2023-08-26T16:59:35.569Z"
   },
   {
    "duration": 95,
    "start_time": "2023-08-26T16:59:35.596Z"
   },
   {
    "duration": 69808,
    "start_time": "2023-08-26T16:59:35.693Z"
   },
   {
    "duration": 2674,
    "start_time": "2023-08-26T17:00:45.503Z"
   },
   {
    "duration": 2734,
    "start_time": "2023-08-26T17:00:48.179Z"
   },
   {
    "duration": 3,
    "start_time": "2023-08-26T17:00:50.915Z"
   },
   {
    "duration": 38,
    "start_time": "2023-08-26T17:00:50.920Z"
   },
   {
    "duration": 3871,
    "start_time": "2023-08-26T17:20:19.773Z"
   },
   {
    "duration": 1002,
    "start_time": "2023-08-26T17:20:23.646Z"
   },
   {
    "duration": 28,
    "start_time": "2023-08-26T17:20:24.650Z"
   },
   {
    "duration": 148,
    "start_time": "2023-08-26T17:20:24.680Z"
   },
   {
    "duration": 106,
    "start_time": "2023-08-26T17:20:24.831Z"
   },
   {
    "duration": 133,
    "start_time": "2023-08-26T17:20:24.940Z"
   },
   {
    "duration": 526,
    "start_time": "2023-08-26T17:20:25.075Z"
   },
   {
    "duration": 562,
    "start_time": "2023-08-26T17:20:25.604Z"
   },
   {
    "duration": 136,
    "start_time": "2023-08-26T17:20:26.167Z"
   },
   {
    "duration": 8,
    "start_time": "2023-08-26T17:20:26.305Z"
   },
   {
    "duration": 61,
    "start_time": "2023-08-26T17:20:26.314Z"
   },
   {
    "duration": 30,
    "start_time": "2023-08-26T17:20:26.377Z"
   },
   {
    "duration": 195,
    "start_time": "2023-08-26T17:20:26.409Z"
   },
   {
    "duration": 2,
    "start_time": "2023-08-26T17:20:26.608Z"
   },
   {
    "duration": 23,
    "start_time": "2023-08-26T17:20:26.611Z"
   },
   {
    "duration": 30,
    "start_time": "2023-08-26T17:20:26.635Z"
   },
   {
    "duration": 140,
    "start_time": "2023-08-26T17:20:26.670Z"
   },
   {
    "duration": 257,
    "start_time": "2023-08-26T17:20:26.812Z"
   },
   {
    "duration": 9,
    "start_time": "2023-08-26T17:20:27.078Z"
   },
   {
    "duration": 29,
    "start_time": "2023-08-26T17:20:27.089Z"
   },
   {
    "duration": 7,
    "start_time": "2023-08-26T17:20:27.120Z"
   },
   {
    "duration": 51,
    "start_time": "2023-08-26T17:20:27.129Z"
   },
   {
    "duration": 16,
    "start_time": "2023-08-26T17:20:27.182Z"
   },
   {
    "duration": 30,
    "start_time": "2023-08-26T17:20:27.200Z"
   },
   {
    "duration": 65,
    "start_time": "2023-08-26T17:20:27.233Z"
   },
   {
    "duration": 34,
    "start_time": "2023-08-26T17:20:27.300Z"
   },
   {
    "duration": 35,
    "start_time": "2023-08-26T17:20:27.336Z"
   },
   {
    "duration": 47,
    "start_time": "2023-08-26T17:20:27.377Z"
   },
   {
    "duration": 56,
    "start_time": "2023-08-26T17:20:27.426Z"
   },
   {
    "duration": 27,
    "start_time": "2023-08-26T17:20:27.484Z"
   },
   {
    "duration": 52,
    "start_time": "2023-08-26T17:20:27.514Z"
   },
   {
    "duration": 26,
    "start_time": "2023-08-26T17:20:27.568Z"
   },
   {
    "duration": 77,
    "start_time": "2023-08-26T17:20:27.596Z"
   },
   {
    "duration": 23,
    "start_time": "2023-08-26T17:20:27.676Z"
   },
   {
    "duration": 16,
    "start_time": "2023-08-26T17:20:27.701Z"
   },
   {
    "duration": 22,
    "start_time": "2023-08-26T17:20:27.719Z"
   },
   {
    "duration": 77,
    "start_time": "2023-08-26T17:20:27.759Z"
   },
   {
    "duration": 35,
    "start_time": "2023-08-26T17:20:27.838Z"
   },
   {
    "duration": 120,
    "start_time": "2023-08-26T17:20:27.874Z"
   },
   {
    "duration": 96,
    "start_time": "2023-08-26T17:20:27.996Z"
   },
   {
    "duration": 4,
    "start_time": "2023-08-26T17:20:28.097Z"
   },
   {
    "duration": 526,
    "start_time": "2023-08-26T17:20:28.103Z"
   },
   {
    "duration": 4,
    "start_time": "2023-08-26T17:20:28.631Z"
   },
   {
    "duration": 39,
    "start_time": "2023-08-26T17:20:28.637Z"
   },
   {
    "duration": 254,
    "start_time": "2023-08-26T17:20:28.678Z"
   },
   {
    "duration": 43,
    "start_time": "2023-08-26T17:20:28.934Z"
   },
   {
    "duration": 5,
    "start_time": "2023-08-26T17:20:28.979Z"
   },
   {
    "duration": 25,
    "start_time": "2023-08-26T17:20:28.985Z"
   },
   {
    "duration": 370,
    "start_time": "2023-08-26T17:20:29.012Z"
   },
   {
    "duration": 102,
    "start_time": "2023-08-26T17:20:29.384Z"
   },
   {
    "duration": 78,
    "start_time": "2023-08-26T17:20:29.489Z"
   },
   {
    "duration": 2,
    "start_time": "2023-08-26T17:20:29.570Z"
   },
   {
    "duration": 91,
    "start_time": "2023-08-26T17:20:29.575Z"
   },
   {
    "duration": 63430,
    "start_time": "2023-08-26T17:20:29.679Z"
   },
   {
    "duration": 2671,
    "start_time": "2023-08-26T17:21:33.112Z"
   },
   {
    "duration": 2561,
    "start_time": "2023-08-26T17:21:35.785Z"
   },
   {
    "duration": 2,
    "start_time": "2023-08-26T17:21:38.348Z"
   },
   {
    "duration": 13,
    "start_time": "2023-08-26T17:21:38.359Z"
   },
   {
    "duration": 3046282,
    "start_time": "2023-08-26T17:21:38.374Z"
   },
   {
    "duration": 8483,
    "start_time": "2023-08-26T18:12:24.657Z"
   },
   {
    "duration": 68,
    "start_time": "2023-08-26T18:12:33.141Z"
   },
   {
    "duration": 16,
    "start_time": "2023-08-26T18:12:33.210Z"
   },
   {
    "duration": 0,
    "start_time": "2023-08-26T18:12:33.228Z"
   },
   {
    "duration": 0,
    "start_time": "2023-08-26T18:12:33.229Z"
   },
   {
    "duration": 0,
    "start_time": "2023-08-26T18:12:33.230Z"
   },
   {
    "duration": 0,
    "start_time": "2023-08-26T18:12:33.231Z"
   },
   {
    "duration": 5857,
    "start_time": "2023-08-26T20:40:29.660Z"
   },
   {
    "duration": 2958,
    "start_time": "2023-08-26T20:40:35.519Z"
   },
   {
    "duration": 19,
    "start_time": "2023-08-26T20:40:38.480Z"
   },
   {
    "duration": 104,
    "start_time": "2023-08-26T20:40:38.501Z"
   },
   {
    "duration": 124,
    "start_time": "2023-08-26T20:40:38.607Z"
   },
   {
    "duration": 123,
    "start_time": "2023-08-26T20:40:38.733Z"
   },
   {
    "duration": 492,
    "start_time": "2023-08-26T20:40:38.858Z"
   },
   {
    "duration": 472,
    "start_time": "2023-08-26T20:40:39.356Z"
   },
   {
    "duration": 140,
    "start_time": "2023-08-26T20:40:39.830Z"
   },
   {
    "duration": 9,
    "start_time": "2023-08-26T20:40:39.974Z"
   },
   {
    "duration": 36,
    "start_time": "2023-08-26T20:40:39.984Z"
   },
   {
    "duration": 50,
    "start_time": "2023-08-26T20:40:40.021Z"
   },
   {
    "duration": 177,
    "start_time": "2023-08-26T20:40:40.073Z"
   },
   {
    "duration": 2,
    "start_time": "2023-08-26T20:40:40.256Z"
   },
   {
    "duration": 80,
    "start_time": "2023-08-26T20:40:40.259Z"
   },
   {
    "duration": 16,
    "start_time": "2023-08-26T20:40:40.341Z"
   },
   {
    "duration": 28,
    "start_time": "2023-08-26T20:40:40.358Z"
   },
   {
    "duration": 299,
    "start_time": "2023-08-26T20:40:40.387Z"
   },
   {
    "duration": 8,
    "start_time": "2023-08-26T20:40:40.688Z"
   },
   {
    "duration": 24,
    "start_time": "2023-08-26T20:40:40.698Z"
   },
   {
    "duration": 5,
    "start_time": "2023-08-26T20:40:40.724Z"
   },
   {
    "duration": 24,
    "start_time": "2023-08-26T20:40:40.755Z"
   },
   {
    "duration": 23,
    "start_time": "2023-08-26T20:40:40.781Z"
   },
   {
    "duration": 34,
    "start_time": "2023-08-26T20:40:40.805Z"
   },
   {
    "duration": 45,
    "start_time": "2023-08-26T20:40:40.841Z"
   },
   {
    "duration": 34,
    "start_time": "2023-08-26T20:40:40.888Z"
   },
   {
    "duration": 32,
    "start_time": "2023-08-26T20:40:40.925Z"
   },
   {
    "duration": 30,
    "start_time": "2023-08-26T20:40:40.961Z"
   },
   {
    "duration": 34,
    "start_time": "2023-08-26T20:40:40.993Z"
   },
   {
    "duration": 42,
    "start_time": "2023-08-26T20:40:41.029Z"
   },
   {
    "duration": 19,
    "start_time": "2023-08-26T20:40:41.072Z"
   },
   {
    "duration": 30,
    "start_time": "2023-08-26T20:40:41.093Z"
   },
   {
    "duration": 18,
    "start_time": "2023-08-26T20:40:41.125Z"
   },
   {
    "duration": 25,
    "start_time": "2023-08-26T20:40:41.144Z"
   },
   {
    "duration": 15,
    "start_time": "2023-08-26T20:40:41.171Z"
   },
   {
    "duration": 15,
    "start_time": "2023-08-26T20:40:41.188Z"
   },
   {
    "duration": 98,
    "start_time": "2023-08-26T20:40:41.205Z"
   },
   {
    "duration": 16,
    "start_time": "2023-08-26T20:40:41.305Z"
   },
   {
    "duration": 113,
    "start_time": "2023-08-26T20:40:41.323Z"
   },
   {
    "duration": 78,
    "start_time": "2023-08-26T20:40:41.437Z"
   },
   {
    "duration": 4,
    "start_time": "2023-08-26T20:40:41.517Z"
   },
   {
    "duration": 399,
    "start_time": "2023-08-26T20:40:41.522Z"
   },
   {
    "duration": 4,
    "start_time": "2023-08-26T20:40:41.923Z"
   },
   {
    "duration": 34,
    "start_time": "2023-08-26T20:40:41.929Z"
   },
   {
    "duration": 228,
    "start_time": "2023-08-26T20:40:41.965Z"
   },
   {
    "duration": 20,
    "start_time": "2023-08-26T20:40:42.195Z"
   },
   {
    "duration": 3,
    "start_time": "2023-08-26T20:40:42.217Z"
   },
   {
    "duration": 8,
    "start_time": "2023-08-26T20:40:42.221Z"
   },
   {
    "duration": 332,
    "start_time": "2023-08-26T20:40:42.231Z"
   },
   {
    "duration": 101,
    "start_time": "2023-08-26T20:40:42.565Z"
   },
   {
    "duration": 101,
    "start_time": "2023-08-26T20:40:42.667Z"
   },
   {
    "duration": 4,
    "start_time": "2023-08-26T20:40:42.857Z"
   },
   {
    "duration": 95,
    "start_time": "2023-08-26T20:40:42.864Z"
   },
   {
    "duration": 53604,
    "start_time": "2023-08-26T20:40:42.960Z"
   },
   {
    "duration": 2383,
    "start_time": "2023-08-26T20:41:36.567Z"
   },
   {
    "duration": 2371,
    "start_time": "2023-08-26T20:41:38.952Z"
   },
   {
    "duration": 3,
    "start_time": "2023-08-26T20:41:41.325Z"
   },
   {
    "duration": 9,
    "start_time": "2023-08-26T20:41:41.330Z"
   },
   {
    "duration": 473708,
    "start_time": "2023-08-26T20:41:41.357Z"
   },
   {
    "duration": 8692,
    "start_time": "2023-08-26T20:49:35.066Z"
   },
   {
    "duration": 414,
    "start_time": "2023-08-26T20:49:43.759Z"
   },
   {
    "duration": 695,
    "start_time": "2023-08-26T20:49:44.174Z"
   },
   {
    "duration": 2478,
    "start_time": "2023-08-26T20:49:44.871Z"
   },
   {
    "duration": 78,
    "start_time": "2023-08-26T20:49:47.351Z"
   },
   {
    "duration": 10,
    "start_time": "2023-08-26T20:49:47.430Z"
   },
   {
    "duration": 0,
    "start_time": "2023-08-26T20:49:47.442Z"
   },
   {
    "duration": 2397,
    "start_time": "2023-08-26T20:50:27.643Z"
   },
   {
    "duration": 283402,
    "start_time": "2023-08-26T20:53:34.336Z"
   },
   {
    "duration": 81,
    "start_time": "2023-08-26T21:02:20.219Z"
   },
   {
    "duration": 89,
    "start_time": "2023-08-26T21:02:23.515Z"
   },
   {
    "duration": 73,
    "start_time": "2023-08-26T21:02:27.062Z"
   },
   {
    "duration": 64,
    "start_time": "2023-08-26T21:02:39.397Z"
   },
   {
    "duration": 4,
    "start_time": "2023-08-26T21:02:40.028Z"
   },
   {
    "duration": 17,
    "start_time": "2023-08-26T21:02:44.032Z"
   },
   {
    "duration": 14,
    "start_time": "2023-08-26T21:02:48.513Z"
   },
   {
    "duration": 17,
    "start_time": "2023-08-26T21:02:50.870Z"
   },
   {
    "duration": 23,
    "start_time": "2023-08-26T21:02:53.844Z"
   },
   {
    "duration": 88,
    "start_time": "2023-08-26T21:02:56.693Z"
   },
   {
    "duration": 78,
    "start_time": "2023-08-26T21:03:05.638Z"
   },
   {
    "duration": 80,
    "start_time": "2023-08-26T21:03:22.274Z"
   },
   {
    "duration": 70,
    "start_time": "2023-08-26T21:03:26.219Z"
   },
   {
    "duration": 81,
    "start_time": "2023-08-26T21:03:43.343Z"
   },
   {
    "duration": 81,
    "start_time": "2023-08-26T21:03:48.889Z"
   },
   {
    "duration": 2753,
    "start_time": "2023-08-26T21:04:17.282Z"
   },
   {
    "duration": 2656,
    "start_time": "2023-08-26T21:04:49.942Z"
   },
   {
    "duration": 2468,
    "start_time": "2023-08-26T21:07:07.064Z"
   },
   {
    "duration": 70,
    "start_time": "2023-08-26T21:08:27.046Z"
   },
   {
    "duration": 75,
    "start_time": "2023-08-26T21:08:30.457Z"
   },
   {
    "duration": 73,
    "start_time": "2023-08-26T21:08:33.579Z"
   },
   {
    "duration": 75,
    "start_time": "2023-08-26T21:08:37.683Z"
   },
   {
    "duration": 87,
    "start_time": "2023-08-26T21:08:43.933Z"
   },
   {
    "duration": 15,
    "start_time": "2023-08-26T21:09:02.923Z"
   },
   {
    "duration": 91,
    "start_time": "2023-08-26T21:09:03.542Z"
   },
   {
    "duration": 84,
    "start_time": "2023-08-26T21:09:04.354Z"
   },
   {
    "duration": 4,
    "start_time": "2023-08-26T21:09:05.063Z"
   },
   {
    "duration": 80,
    "start_time": "2023-08-26T21:09:40.477Z"
   },
   {
    "duration": 83,
    "start_time": "2023-08-26T21:09:50.767Z"
   },
   {
    "duration": 86,
    "start_time": "2023-08-26T21:11:02.768Z"
   },
   {
    "duration": 84,
    "start_time": "2023-08-26T21:11:09.079Z"
   },
   {
    "duration": 70,
    "start_time": "2023-08-26T21:11:24.714Z"
   },
   {
    "duration": 2637,
    "start_time": "2023-08-26T21:17:10.360Z"
   },
   {
    "duration": 418,
    "start_time": "2023-08-26T21:19:50.873Z"
   },
   {
    "duration": 417,
    "start_time": "2023-08-26T21:19:54.201Z"
   },
   {
    "duration": 201,
    "start_time": "2023-08-26T21:19:58.772Z"
   },
   {
    "duration": 59,
    "start_time": "2023-08-26T21:20:09.964Z"
   },
   {
    "duration": 55,
    "start_time": "2023-08-26T21:20:40.457Z"
   },
   {
    "duration": 84,
    "start_time": "2023-08-26T21:21:09.185Z"
   },
   {
    "duration": 57,
    "start_time": "2023-08-26T21:21:35.377Z"
   },
   {
    "duration": 22,
    "start_time": "2023-08-26T21:21:48.981Z"
   },
   {
    "duration": 16,
    "start_time": "2023-08-26T21:25:33.764Z"
   },
   {
    "duration": 6,
    "start_time": "2023-08-26T21:26:30.762Z"
   },
   {
    "duration": 78,
    "start_time": "2023-08-26T21:28:57.275Z"
   },
   {
    "duration": 71,
    "start_time": "2023-08-26T21:29:35.548Z"
   },
   {
    "duration": 62,
    "start_time": "2023-08-26T21:29:55.348Z"
   },
   {
    "duration": 14,
    "start_time": "2023-08-26T21:31:15.877Z"
   },
   {
    "duration": 56307,
    "start_time": "2023-08-26T21:39:31.394Z"
   },
   {
    "duration": 13,
    "start_time": "2023-08-26T21:41:49.594Z"
   },
   {
    "duration": 16,
    "start_time": "2023-08-26T21:42:54.400Z"
   },
   {
    "duration": 620,
    "start_time": "2023-08-26T21:43:36.345Z"
   },
   {
    "duration": 14,
    "start_time": "2023-08-26T21:46:20.244Z"
   },
   {
    "duration": 2601,
    "start_time": "2023-08-26T21:48:30.995Z"
   },
   {
    "duration": 283296,
    "start_time": "2023-08-26T22:03:16.239Z"
   },
   {
    "duration": 15,
    "start_time": "2023-08-26T22:09:51.705Z"
   },
   {
    "duration": 327941,
    "start_time": "2023-08-26T22:15:03.030Z"
   },
   {
    "duration": 9314,
    "start_time": "2023-08-26T22:27:54.058Z"
   },
   {
    "duration": 15,
    "start_time": "2023-08-26T22:28:11.374Z"
   },
   {
    "duration": 15,
    "start_time": "2023-08-26T22:29:29.455Z"
   },
   {
    "duration": 15,
    "start_time": "2023-08-26T22:29:35.108Z"
   },
   {
    "duration": 15,
    "start_time": "2023-08-26T22:30:41.850Z"
   },
   {
    "duration": 48,
    "start_time": "2023-08-26T22:30:48.486Z"
   },
   {
    "duration": 11,
    "start_time": "2023-08-26T22:30:52.239Z"
   },
   {
    "duration": 16,
    "start_time": "2023-08-26T22:30:58.267Z"
   },
   {
    "duration": 10,
    "start_time": "2023-08-26T22:33:19.466Z"
   },
   {
    "duration": 10,
    "start_time": "2023-08-26T22:33:22.597Z"
   },
   {
    "duration": 15,
    "start_time": "2023-08-26T22:33:30.915Z"
   },
   {
    "duration": 69,
    "start_time": "2023-08-26T22:36:55.470Z"
   },
   {
    "duration": 16,
    "start_time": "2023-08-26T22:37:08.211Z"
   },
   {
    "duration": 11,
    "start_time": "2023-08-26T22:42:33.173Z"
   },
   {
    "duration": 10,
    "start_time": "2023-08-26T22:42:35.782Z"
   },
   {
    "duration": 12,
    "start_time": "2023-08-26T22:42:58.817Z"
   },
   {
    "duration": 17,
    "start_time": "2023-08-26T22:45:23.569Z"
   },
   {
    "duration": 12,
    "start_time": "2023-08-26T22:46:55.118Z"
   },
   {
    "duration": 10355,
    "start_time": "2023-08-26T22:57:49.704Z"
   },
   {
    "duration": 14374,
    "start_time": "2023-08-26T22:58:45.680Z"
   },
   {
    "duration": 16139,
    "start_time": "2023-08-26T22:59:44.198Z"
   },
   {
    "duration": 5,
    "start_time": "2023-08-26T23:00:43.999Z"
   },
   {
    "duration": 16422,
    "start_time": "2023-08-26T23:03:42.073Z"
   },
   {
    "duration": 167,
    "start_time": "2023-08-26T23:05:17.025Z"
   },
   {
    "duration": 166,
    "start_time": "2023-08-26T23:05:25.191Z"
   },
   {
    "duration": 2405,
    "start_time": "2023-08-26T23:05:31.540Z"
   },
   {
    "duration": 7082,
    "start_time": "2023-08-27T12:20:24.859Z"
   },
   {
    "duration": 1350,
    "start_time": "2023-08-27T12:20:31.944Z"
   },
   {
    "duration": 20,
    "start_time": "2023-08-27T12:20:33.296Z"
   },
   {
    "duration": 151,
    "start_time": "2023-08-27T12:20:33.318Z"
   },
   {
    "duration": 117,
    "start_time": "2023-08-27T12:20:33.472Z"
   },
   {
    "duration": 146,
    "start_time": "2023-08-27T12:20:33.591Z"
   },
   {
    "duration": 519,
    "start_time": "2023-08-27T12:20:33.739Z"
   },
   {
    "duration": 617,
    "start_time": "2023-08-27T12:20:34.260Z"
   },
   {
    "duration": 126,
    "start_time": "2023-08-27T12:20:34.879Z"
   },
   {
    "duration": 9,
    "start_time": "2023-08-27T12:20:35.007Z"
   },
   {
    "duration": 39,
    "start_time": "2023-08-27T12:20:35.018Z"
   },
   {
    "duration": 59,
    "start_time": "2023-08-27T12:20:35.058Z"
   },
   {
    "duration": 199,
    "start_time": "2023-08-27T12:20:35.120Z"
   },
   {
    "duration": 4,
    "start_time": "2023-08-27T12:20:35.323Z"
   },
   {
    "duration": 22,
    "start_time": "2023-08-27T12:20:35.330Z"
   },
   {
    "duration": 47,
    "start_time": "2023-08-27T12:20:35.354Z"
   },
   {
    "duration": 124,
    "start_time": "2023-08-27T12:20:35.403Z"
   },
   {
    "duration": 250,
    "start_time": "2023-08-27T12:20:35.530Z"
   },
   {
    "duration": 22,
    "start_time": "2023-08-27T12:20:35.782Z"
   },
   {
    "duration": 37,
    "start_time": "2023-08-27T12:20:35.806Z"
   },
   {
    "duration": 7,
    "start_time": "2023-08-27T12:20:35.848Z"
   },
   {
    "duration": 91,
    "start_time": "2023-08-27T12:20:35.857Z"
   },
   {
    "duration": 68,
    "start_time": "2023-08-27T12:20:35.950Z"
   },
   {
    "duration": 110,
    "start_time": "2023-08-27T12:20:36.021Z"
   },
   {
    "duration": 54,
    "start_time": "2023-08-27T12:20:36.133Z"
   },
   {
    "duration": 50,
    "start_time": "2023-08-27T12:20:36.201Z"
   },
   {
    "duration": 18,
    "start_time": "2023-08-27T12:20:36.254Z"
   },
   {
    "duration": 66,
    "start_time": "2023-08-27T12:20:36.274Z"
   },
   {
    "duration": 34,
    "start_time": "2023-08-27T12:20:36.343Z"
   },
   {
    "duration": 48,
    "start_time": "2023-08-27T12:20:36.379Z"
   },
   {
    "duration": 24,
    "start_time": "2023-08-27T12:20:36.429Z"
   },
   {
    "duration": 19,
    "start_time": "2023-08-27T12:20:36.455Z"
   },
   {
    "duration": 41,
    "start_time": "2023-08-27T12:20:36.476Z"
   },
   {
    "duration": 47,
    "start_time": "2023-08-27T12:20:36.519Z"
   },
   {
    "duration": 72,
    "start_time": "2023-08-27T12:20:36.568Z"
   },
   {
    "duration": 31,
    "start_time": "2023-08-27T12:20:36.642Z"
   },
   {
    "duration": 89,
    "start_time": "2023-08-27T12:20:36.676Z"
   },
   {
    "duration": 14,
    "start_time": "2023-08-27T12:20:36.768Z"
   },
   {
    "duration": 143,
    "start_time": "2023-08-27T12:20:36.784Z"
   },
   {
    "duration": 85,
    "start_time": "2023-08-27T12:20:36.929Z"
   },
   {
    "duration": 5,
    "start_time": "2023-08-27T12:20:37.018Z"
   },
   {
    "duration": 510,
    "start_time": "2023-08-27T12:20:37.025Z"
   },
   {
    "duration": 5,
    "start_time": "2023-08-27T12:20:37.538Z"
   },
   {
    "duration": 54,
    "start_time": "2023-08-27T12:20:37.545Z"
   },
   {
    "duration": 257,
    "start_time": "2023-08-27T12:20:37.601Z"
   },
   {
    "duration": 19,
    "start_time": "2023-08-27T12:20:37.860Z"
   },
   {
    "duration": 22,
    "start_time": "2023-08-27T12:20:37.881Z"
   },
   {
    "duration": 13,
    "start_time": "2023-08-27T12:20:37.905Z"
   },
   {
    "duration": 394,
    "start_time": "2023-08-27T12:20:37.921Z"
   },
   {
    "duration": 91,
    "start_time": "2023-08-27T12:20:38.320Z"
   },
   {
    "duration": 209,
    "start_time": "2023-08-27T12:20:38.413Z"
   },
   {
    "duration": 6,
    "start_time": "2023-08-27T12:20:38.703Z"
   },
   {
    "duration": 8,
    "start_time": "2023-08-27T12:20:38.800Z"
   },
   {
    "duration": 66009,
    "start_time": "2023-08-27T12:20:38.811Z"
   },
   {
    "duration": 2534,
    "start_time": "2023-08-27T12:21:44.822Z"
   },
   {
    "duration": 2532,
    "start_time": "2023-08-27T12:21:47.358Z"
   },
   {
    "duration": 10,
    "start_time": "2023-08-27T12:21:49.892Z"
   },
   {
    "duration": 32,
    "start_time": "2023-08-27T12:21:49.903Z"
   },
   {
    "duration": 246033,
    "start_time": "2023-08-27T12:21:49.937Z"
   },
   {
    "duration": 0,
    "start_time": "2023-08-27T12:25:55.973Z"
   },
   {
    "duration": 0,
    "start_time": "2023-08-27T12:25:55.975Z"
   },
   {
    "duration": 0,
    "start_time": "2023-08-27T12:25:55.976Z"
   },
   {
    "duration": 0,
    "start_time": "2023-08-27T12:25:55.977Z"
   },
   {
    "duration": 0,
    "start_time": "2023-08-27T12:25:55.978Z"
   },
   {
    "duration": 0,
    "start_time": "2023-08-27T12:25:55.980Z"
   },
   {
    "duration": 0,
    "start_time": "2023-08-27T12:25:55.981Z"
   },
   {
    "duration": 0,
    "start_time": "2023-08-27T12:25:55.982Z"
   }
  ],
  "kernelspec": {
   "display_name": "Python 3 (ipykernel)",
   "language": "python",
   "name": "python3"
  },
  "language_info": {
   "codemirror_mode": {
    "name": "ipython",
    "version": 3
   },
   "file_extension": ".py",
   "mimetype": "text/x-python",
   "name": "python",
   "nbconvert_exporter": "python",
   "pygments_lexer": "ipython3",
   "version": "3.9.5"
  },
  "toc": {
   "base_numbering": 1,
   "nav_menu": {},
   "number_sections": true,
   "sideBar": true,
   "skip_h1_title": true,
   "title_cell": "Table of Contents",
   "title_sidebar": "Contents",
   "toc_cell": false,
   "toc_position": {},
   "toc_section_display": true,
   "toc_window_display": true
  }
 },
 "nbformat": 4,
 "nbformat_minor": 2
}
